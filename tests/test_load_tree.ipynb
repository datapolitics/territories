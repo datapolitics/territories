{
 "cells": [
  {
   "cell_type": "code",
   "execution_count": 5,
   "metadata": {},
   "outputs": [],
   "source": [
    "from territories import Territory, MissingTreeCache\n",
    "from territories.database import create_connection, stream_tu_table\n",
    "\n",
    "try:\n",
    "    Territory.load_tree()\n",
    "except MissingTreeCache:\n",
    "    with create_connection(\"crawling\") as cnx:\n",
    "        Territory.build_tree(data_stream=stream_tu_table(cnx))"
   ]
  },
  {
   "cell_type": "code",
   "execution_count": 6,
   "metadata": {},
   "outputs": [
    {
     "data": {
      "text/plain": [
       "(100, 10)"
      ]
     },
     "execution_count": 6,
     "metadata": {},
     "output_type": "execute_result"
    }
   ],
   "source": [
    "Territory.hash('COM:01149'), Territory.hash('COM:01044')"
   ]
  },
  {
   "cell_type": "code",
   "execution_count": 7,
   "metadata": {},
   "outputs": [
    {
     "data": {
      "text/plain": [
       "France"
      ]
     },
     "execution_count": 7,
     "metadata": {},
     "output_type": "execute_result"
    }
   ],
   "source": [
    "Territory.from_name('CNTRY:F')"
   ]
  },
  {
   "cell_type": "code",
   "execution_count": 14,
   "metadata": {},
   "outputs": [
    {
     "data": {
      "text/plain": [
       "PosixPath('/tmp/some_file.csv')"
      ]
     },
     "execution_count": 14,
     "metadata": {},
     "output_type": "execute_result"
    }
   ],
   "source": [
    "import os\n",
    "from pathlib import Path\n",
    "\n",
    "Path('/tmp', 'some_file.csv')"
   ]
  },
  {
   "cell_type": "code",
   "execution_count": 11,
   "metadata": {},
   "outputs": [
    {
     "name": "stdout",
     "output_type": "stream",
     "text": [
      "(Billiat, Douvres)\n"
     ]
    },
    {
     "data": {
      "text/plain": [
       "Douvres|Billiat"
      ]
     },
     "execution_count": 11,
     "metadata": {},
     "output_type": "execute_result"
    }
   ],
   "source": [
    "t = Territory.from_names('COM:01044', 'COM:01149')\n",
    "t"
   ]
  },
  {
   "cell_type": "code",
   "execution_count": 8,
   "metadata": {},
   "outputs": [
    {
     "data": {
      "text/plain": [
       "France"
      ]
     },
     "execution_count": 8,
     "metadata": {},
     "output_type": "execute_result"
    }
   ],
   "source": [
    "Territory.tree.get_node_data(Territory.root_index)"
   ]
  },
  {
   "cell_type": "code",
   "execution_count": 9,
   "metadata": {},
   "outputs": [
    {
     "name": "stdout",
     "output_type": "stream",
     "text": [
      "REG:06 | Mayotte\n",
      "REG:04 | La Réunion\n",
      "REG:03 | Guyane\n",
      "REG:28 | Normandie\n",
      "REG:32 | Hauts-de-France\n",
      "REG:93 | Provence-Alpes-Côte d'Azur\n",
      "REG:53 | Bretagne\n",
      "REG:94 | Corse\n",
      "REG:76 | Occitanie\n",
      "REG:44 | Grand Est\n",
      "REG:52 | Pays de la Loire\n",
      "REG:11 | Île-de-France\n",
      "REG:27 | Bourgogne-Franche-Comté\n",
      "REG:84 | Auvergne-Rhône-Alpes\n",
      "REG:75 | Nouvelle-Aquitaine\n",
      "REG:24 | Centre-Val de Loire\n",
      "REG:02 | Martinique\n",
      "REG:01 | Guadeloupe\n"
     ]
    }
   ],
   "source": [
    "for reg in Territory.tree.successors(26880):\n",
    "    print(f\"{reg.es_code} | {reg}\")"
   ]
  },
  {
   "cell_type": "code",
   "execution_count": 7,
   "metadata": {},
   "outputs": [
    {
     "data": {
      "text/plain": [
       "[Haut-Rhin,\n",
       " Bas-Rhin,\n",
       " Moselle,\n",
       " Meuse,\n",
       " Meurthe-et-Moselle,\n",
       " Haute-Marne,\n",
       " Marne,\n",
       " Aube,\n",
       " Ardennes,\n",
       " Vosges]"
      ]
     },
     "execution_count": 7,
     "metadata": {},
     "output_type": "execute_result"
    }
   ],
   "source": [
    "Territory.tree.successors(Territory.hash(\"REG:44\"))"
   ]
  }
 ],
 "metadata": {
  "kernelspec": {
   "display_name": ".venv",
   "language": "python",
   "name": "python3"
  },
  "language_info": {
   "codemirror_mode": {
    "name": "ipython",
    "version": 3
   },
   "file_extension": ".py",
   "mimetype": "text/x-python",
   "name": "python",
   "nbconvert_exporter": "python",
   "pygments_lexer": "ipython3",
   "version": "3.12.3"
  }
 },
 "nbformat": 4,
 "nbformat_minor": 2
}
