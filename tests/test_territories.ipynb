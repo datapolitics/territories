{
 "cells": [
  {
   "cell_type": "code",
   "execution_count": 5,
   "metadata": {},
   "outputs": [],
   "source": [
    "import rustworkx as rx\n",
    "\n",
    "from itertools import product\n",
    "\n",
    "from territories import Territory\n",
    "from territories.partitions import TerritorialUnit, Partition\n",
    "\n",
    "\n",
    "lyon = TerritorialUnit(\"Lyon\")\n",
    "marseille = TerritorialUnit(\"Marseille\", es_code=\"COM:2909\") # you can specify an ElasticSearch code\n",
    "paris = TerritorialUnit(\"Paris\")\n",
    "nogent = TerritorialUnit(\"Nogent\")\n",
    "pantin = TerritorialUnit(\"Pantin\")\n",
    "villeurbane = TerritorialUnit(\"Villeurbane\")\n",
    "sté = TerritorialUnit(\"Saint Etienne\")\n",
    "\n",
    "metropole = TerritorialUnit(\"Grand Lyon\", False, Partition.DEP)\n",
    "\n",
    "sud = TerritorialUnit(\"Sud\", False, Partition.REG)\n",
    "idf = TerritorialUnit(\"Île-de-France\", False, Partition.REG)\n",
    "rhone = TerritorialUnit(\"Rhône\", False, Partition.DEP)\n",
    "\n",
    "france = TerritorialUnit(\"France\", False, Partition.CNTRY)\n",
    "\n",
    "\n",
    "\n",
    "entities = (france, sud, idf, rhone, metropole, nogent, pantin, paris, marseille, sté, villeurbane, lyon)\n",
    "\n",
    "tree = rx.PyDiGraph()\n",
    "entities_indices = tree.add_nodes_from(entities)\n",
    "\n",
    "mapper = {o : idx for o, idx in zip(entities, entities_indices)}\n",
    "edges = [\n",
    "    (france, idf),\n",
    "    (france, sud),\n",
    "    \n",
    "    (idf, nogent),\n",
    "    (idf, pantin),\n",
    "    (idf, paris),\n",
    "\n",
    "    (sud, marseille),\n",
    "    (sud, rhone),\n",
    "\n",
    "    (rhone, metropole),\n",
    "    (rhone, sté),\n",
    "\n",
    "    (metropole, villeurbane),\n",
    "    (metropole, lyon),\n",
    "    ]\n",
    "\n",
    "tree.add_edges_from([\n",
    "    (mapper[parent], mapper[child], None) for parent, child in edges\n",
    "])\n",
    "\n",
    "Territory.assign_tree(tree)\n",
    "\n",
    "a = Territory(sté, marseille)\n",
    "b = Territory(lyon, france)\n",
    "c = Territory(paris, nogent, pantin, lyon, lyon, metropole)\n",
    "d = Territory(lyon, villeurbane, marseille)\n",
    "e = Territory(rhone, idf)\n",
    "f = Territory(idf, marseille, metropole)\n",
    "\n",
    "exemples = (a, b, c, d, e, f)"
   ]
  },
  {
   "cell_type": "code",
   "execution_count": 1,
   "metadata": {},
   "outputs": [],
   "source": [
    "import os\n",
    "import pickle\n",
    "import rustworkx as rx\n",
    "\n",
    "from territories import Partition\n",
    "\n",
    "from pathlib import Path\n",
    "\n",
    "\n",
    "path = Path(os.environ[\"API_CACHE_DIR\"], \"territorial_tree_state.pickle\")\n",
    "\n",
    "with open(path, \"rb\") as file:\n",
    "    _, tree = pickle.load(file)\n",
    "\n",
    "# comms = [t.es_code + '\\n' for t in tree.nodes() if t.partition_type == Partition.COM]\n",
    "\n",
    "# with open(\"comms.txt\", \"w\") as file:\n",
    "#     file.writelines(comms)"
   ]
  },
  {
   "cell_type": "code",
   "execution_count": 3,
   "metadata": {},
   "outputs": [
    {
     "data": {
      "text/plain": [
       "['CNTRY',\n",
       " 'REG',\n",
       " 'REG',\n",
       " 'DEP',\n",
       " 'DEP',\n",
       " 'COM',\n",
       " 'COM',\n",
       " 'COM',\n",
       " 'COM',\n",
       " 'COM',\n",
       " 'COM',\n",
       " 'COM']"
      ]
     },
     "execution_count": 3,
     "metadata": {},
     "output_type": "execute_result"
    }
   ],
   "source": [
    "[str(node.partition_type )for node in tree.nodes()]"
   ]
  },
  {
   "cell_type": "code",
   "execution_count": 4,
   "metadata": {},
   "outputs": [],
   "source": [
    "cols = ('id', 'parent_id', 'label', 'level')\n",
    "\n",
    "extract = lambda x: 'null' if len(x) < 1 else x[0].es_code\n",
    "format_line = lambda x: '; '.join(x) + '\\n'\n",
    "\n",
    "with open(\"tree.txt\", \"w\") as file:\n",
    "    gen = ((n.es_code, extract(tree.predecessors(n.tree_id)), n.name, str(n.partition_type)) for n in tree.nodes())\n",
    "    file.writelines((format_line(line) for line in gen))"
   ]
  }
 ],
 "metadata": {
  "kernelspec": {
   "display_name": ".venv",
   "language": "python",
   "name": "python3"
  },
  "language_info": {
   "codemirror_mode": {
    "name": "ipython",
    "version": 3
   },
   "file_extension": ".py",
   "mimetype": "text/x-python",
   "name": "python",
   "nbconvert_exporter": "python",
   "pygments_lexer": "ipython3",
   "version": "3.12.3"
  }
 },
 "nbformat": 4,
 "nbformat_minor": 2
}
