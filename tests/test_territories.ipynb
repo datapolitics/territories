{
 "cells": [
  {
   "cell_type": "code",
   "execution_count": 1,
   "metadata": {},
   "outputs": [],
   "source": [
    "import rustworkx as rx\n",
    "\n",
    "from itertools import product\n",
    "\n",
    "from territories import Territory\n",
    "from territories.partitions import Part, Partition\n",
    "\n",
    "\n",
    "lyon = Part(\"Lyon\")\n",
    "marseille = Part(\"Marseille\", es_code=\"COM:2909\") # you can specify an ElasticSearch code\n",
    "paris = Part(\"Paris\")\n",
    "nogent = Part(\"Nogent\")\n",
    "pantin = Part(\"Pantin\")\n",
    "villeurbane = Part(\"Villeurbane\")\n",
    "sté = Part(\"Saint Etienne\")\n",
    "\n",
    "metropole = Part(\"Grand Lyon\", False, Partition.DEP)\n",
    "\n",
    "sud = Part(\"Sud\", False, Partition.REGION)\n",
    "idf = Part(\"Île-de-France\", False, Partition.REGION)\n",
    "rhone = Part(\"Rhône\", False, Partition.DEP)\n",
    "\n",
    "france = Part(\"France\", False, Partition.COUNTRY)\n",
    "\n",
    "\n",
    "\n",
    "entities = (france, sud, idf, rhone, metropole, nogent, pantin, paris, marseille, sté, villeurbane, lyon)\n",
    "\n",
    "tree = rx.PyDiGraph()\n",
    "entities_indices = tree.add_nodes_from(entities)\n",
    "\n",
    "mapper = {o : idx for o, idx in zip(entities, entities_indices)}\n",
    "edges = [\n",
    "    (france, idf),\n",
    "    (france, sud),\n",
    "    \n",
    "    (idf, nogent),\n",
    "    (idf, pantin),\n",
    "    (idf, paris),\n",
    "\n",
    "    (sud, marseille),\n",
    "    (sud, rhone),\n",
    "\n",
    "    (rhone, metropole),\n",
    "    (rhone, sté),\n",
    "\n",
    "    (metropole, villeurbane),\n",
    "    (metropole, lyon),\n",
    "    ]\n",
    "\n",
    "tree.add_edges_from([\n",
    "    (mapper[parent], mapper[child], None) for parent, child in edges\n",
    "])\n",
    "\n",
    "Territory.assign_tree(tree)\n",
    "\n",
    "a = Territory(sté, marseille)\n",
    "b = Territory(lyon, france)\n",
    "c = Territory(paris, nogent, pantin, lyon, lyon, metropole)\n",
    "d = Territory(lyon, villeurbane, marseille)\n",
    "e = Territory(rhone, idf)\n",
    "f = Territory(idf, marseille, metropole)\n",
    "\n",
    "exemples = (a, b, c, d, e, f)"
   ]
  },
  {
   "cell_type": "code",
   "execution_count": 2,
   "metadata": {},
   "outputs": [
    {
     "data": {
      "text/plain": [
       "Sud"
      ]
     },
     "execution_count": 2,
     "metadata": {},
     "output_type": "execute_result"
    }
   ],
   "source": [
    "a.lowest_common_ancestor()"
   ]
  },
  {
   "cell_type": "code",
   "execution_count": 5,
   "metadata": {},
   "outputs": [
    {
     "data": {
      "text/plain": [
       "Grand Lyon|Marseille"
      ]
     },
     "execution_count": 5,
     "metadata": {},
     "output_type": "execute_result"
    }
   ],
   "source": [
    "d"
   ]
  }
 ],
 "metadata": {
  "kernelspec": {
   "display_name": ".venv",
   "language": "python",
   "name": "python3"
  },
  "language_info": {
   "codemirror_mode": {
    "name": "ipython",
    "version": 3
   },
   "file_extension": ".py",
   "mimetype": "text/x-python",
   "name": "python",
   "nbconvert_exporter": "python",
   "pygments_lexer": "ipython3",
   "version": "3.12.3"
  }
 },
 "nbformat": 4,
 "nbformat_minor": 2
}
