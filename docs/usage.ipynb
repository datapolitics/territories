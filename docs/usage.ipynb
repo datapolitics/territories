{
 "cells": [
  {
   "cell_type": "markdown",
   "metadata": {},
   "source": [
    "Usage of the package\n",
    "========\n",
    "\n",
    "First, some imports"
   ]
  },
  {
   "cell_type": "code",
   "execution_count": 1,
   "metadata": {},
   "outputs": [],
   "source": [
    "import gzip\n",
    "import pickle\n",
    "import random\n",
    "from collections import namedtuple\n",
    "\n",
    "from territories import Territory, MissingTreeCache, Partition"
   ]
  },
  {
   "cell_type": "markdown",
   "metadata": {},
   "source": [
    "## Creation of the tree\n",
    "\n",
    "The first step is to create a tree of known entities. This can be a very compute intensive task, depending on the tree size. That is why, by default, once created, the tree is stored on disk.\n",
    "\n",
    "Here we will create a very simple tree out of the **tree.txt** file."
   ]
  },
  {
   "cell_type": "code",
   "execution_count": 2,
   "metadata": {},
   "outputs": [],
   "source": [
    "Node = namedtuple('Node', ('id', 'parent_id', 'label', 'level'))\n",
    "split = lambda x: (arg if arg != 'null' else None for arg in x[:-1].split('; '))\n",
    "\n",
    "try:\n",
    "    Territory.load_tree()\n",
    "except MissingTreeCache:\n",
    "    with open(\"tree.txt\", \"r\") as file:\n",
    "        lines = file.readlines()\n",
    "        stream = ([Node(*split(x) )for x in lines])\n",
    "        Territory.build_tree(data_stream=stream, save_tree=False)"
   ]
  },
  {
   "cell_type": "markdown",
   "metadata": {},
   "source": [
    "Then, you can start to create territories from arbitrary territoiral units."
   ]
  },
  {
   "cell_type": "markdown",
   "metadata": {},
   "source": [
    "Entities associated territories are represented in an efficient way : if all leaves of a parent node are included in the territory, they are simply replaced by their parent node."
   ]
  },
  {
   "cell_type": "code",
   "execution_count": 3,
   "metadata": {},
   "outputs": [
    {
     "name": "stdout",
     "output_type": "stream",
     "text": [
      "Marseille | COM\n",
      "Grand Lyon | DEP\n",
      "Lyon | COM\n",
      "Rhône | DEP\n",
      "Saint Étienne | COM\n",
      "Paris | COM\n",
      "Villeurbane | COM\n",
      "Pantin | COM\n",
      "Sud | REG\n",
      "France | CNTRY\n",
      "Nogent | COM\n",
      "île-de-france | REG\n"
     ]
    }
   ],
   "source": [
    "# some node of the tree\n",
    "print('\\n'.join([f\"{e.name} | {e.level}\" for e in random.sample(Territory.tree.nodes(), 12)]))"
   ]
  },
  {
   "cell_type": "code",
   "execution_count": 5,
   "metadata": {},
   "outputs": [],
   "source": [
    "with open(\"tree_large.gzip\", \"rb\") as file:\n",
    "    lines = pickle.loads(gzip.decompress(file.read()))\n",
    "\n",
    "stream = ([Node(*split(x) )for x in lines])\n",
    "Territory.build_tree(data_stream=stream, save_tree=False)\n",
    "\n",
    "a = Territory.from_names(\"COM:69123\", \"COM:93055\", \"COM:94052\")\n",
    "b = Territory.from_names(\"COM:27429\", \"REG:84\", \"DEP:75\")\n",
    "c = Territory.from_names(\"COM:38185\", \"COM:31555\", \"REG:11\")\n",
    "d = Territory.from_names(\"COM:33063\", \"COM:13055\", \"REG:28\")\n",
    "e = Territory.from_names(\"COM:35238\", \"COM:35047\", \"DEP:27\")\n",
    "f = Territory.from_names(\"COM:59350\", \"COM:38442\", \"REG:53\")"
   ]
  },
  {
   "cell_type": "markdown",
   "metadata": {},
   "source": [
    "You can crate a territory with names of territorial units."
   ]
  },
  {
   "cell_type": "code",
   "execution_count": 6,
   "metadata": {},
   "outputs": [
    {
     "data": {
      "text/plain": [
       "Paris 6e|Lille|Rhône"
      ]
     },
     "execution_count": 6,
     "metadata": {},
     "output_type": "execute_result"
    }
   ],
   "source": [
    "ter = Territory.from_names(\"DEP:69\", \"COM:59350\", \"ARR:75106\")\n",
    "ter"
   ]
  },
  {
   "cell_type": "markdown",
   "metadata": {},
   "source": [
    "If names are invalid, an `NotOnTree` exception will be raised."
   ]
  },
  {
   "cell_type": "code",
   "execution_count": 7,
   "metadata": {},
   "outputs": [
    {
     "name": "stdout",
     "output_type": "stream",
     "text": [
      "do not exist, garbage where not found in the territorial tree\n"
     ]
    }
   ],
   "source": [
    "try:\n",
    "    Territory.from_names(\"DEP:69\", \"do not exist\", \"garbage\")\n",
    "except Exception as e:\n",
    "    print(e)"
   ]
  },
  {
   "cell_type": "markdown",
   "metadata": {},
   "source": [
    "Territories are jsons serializable, you can simply return them from an API endpoint"
   ]
  },
  {
   "cell_type": "code",
   "execution_count": 8,
   "metadata": {},
   "outputs": [
    {
     "name": "stdout",
     "output_type": "stream",
     "text": [
      "[\n",
      "    {\n",
      "        \"name\": \"Lille\",\n",
      "        \"tu_id\": \"COM:59350\",\n",
      "        \"atomic\": true,\n",
      "        \"level\": \"COM\",\n",
      "        \"postal_code\": null,\n",
      "        \"inhabitants\": null\n",
      "    },\n",
      "    {\n",
      "        \"name\": \"Paris 6e\",\n",
      "        \"tu_id\": \"ARR:75106\",\n",
      "        \"atomic\": true,\n",
      "        \"level\": \"ARR\",\n",
      "        \"postal_code\": null,\n",
      "        \"inhabitants\": null\n",
      "    },\n",
      "    {\n",
      "        \"name\": \"Rh\\u00f4ne\",\n",
      "        \"tu_id\": \"DEP:69\",\n",
      "        \"atomic\": false,\n",
      "        \"level\": \"DEP\",\n",
      "        \"postal_code\": null,\n",
      "        \"inhabitants\": null\n",
      "    }\n",
      "]\n"
     ]
    }
   ],
   "source": [
    "import json\n",
    "\n",
    "print(json.dumps(ter, indent=4))"
   ]
  },
  {
   "cell_type": "markdown",
   "metadata": {},
   "source": [
    "## Operations on territories\n",
    "\n",
    "\n",
    "Usual operation on territories works as expected :"
   ]
  },
  {
   "cell_type": "code",
   "execution_count": 9,
   "metadata": {},
   "outputs": [
    {
     "name": "stdout",
     "output_type": "stream",
     "text": [
      "Lyon|Nogent-sur-Marne|Pantin Grenoble|Toulouse|Île-de-France\n",
      "Grenoble|Lyon|Toulouse|Île-de-France\n"
     ]
    }
   ],
   "source": [
    "# addition\n",
    "\n",
    "print(a, c)\n",
    "print(a + c)"
   ]
  },
  {
   "cell_type": "code",
   "execution_count": 10,
   "metadata": {},
   "outputs": [
    {
     "name": "stdout",
     "output_type": "stream",
     "text": [
      "Lyon|Nogent-sur-Marne|Pantin Bordeaux|Marseille|Normandie\n",
      "Lyon|Nogent-sur-Marne|Pantin\n"
     ]
    }
   ],
   "source": [
    "# substraction\n",
    "\n",
    "print(a, d)\n",
    "print(a - d)"
   ]
  },
  {
   "cell_type": "markdown",
   "metadata": {},
   "source": [
    "More importantly, sets operations are also supported :"
   ]
  },
  {
   "cell_type": "code",
   "execution_count": 11,
   "metadata": {},
   "outputs": [
    {
     "name": "stdout",
     "output_type": "stream",
     "text": [
      "Intersection of Lyon|Nogent-sur-Marne|Pantin and Bordeaux|Marseille|Normandie is {}\n",
      "Union of Grenoble|Toulouse|Île-de-France and Lille|Saint-Pierre-de-Chartreuse|Bretagne is Grenoble|Lille|Saint-Pierre-de-Chartreuse|Toulouse|Bretagne|Île-de-France\n"
     ]
    }
   ],
   "source": [
    "# intersection\n",
    "print(f\"Intersection of {a} and {d} is {a & d}\")\n",
    "\n",
    "# union\n",
    "print(f\"Union of {c} and {f} is {f | c}\")"
   ]
  },
  {
   "cell_type": "markdown",
   "metadata": {},
   "source": [
    "Territorial units may have parents or children, but Territory do not. As a territory may be formed of several territorial units, it has a LCA, a Lowest Common Ancestor."
   ]
  },
  {
   "cell_type": "code",
   "execution_count": 12,
   "metadata": {},
   "outputs": [
    {
     "name": "stdout",
     "output_type": "stream",
     "text": [
      "ancestors : {26880, 26869}\n"
     ]
    },
    {
     "data": {
      "text/plain": [
       "Auvergne-Rhône-Alpes"
      ]
     },
     "execution_count": 12,
     "metadata": {},
     "output_type": "execute_result"
    }
   ],
   "source": [
    "lyon_and_grenoble = Territory.from_names(\"COM:38185\", \"COM:69123\")\n",
    "\n",
    "lyon_and_grenoble.lowest_common_ancestor()"
   ]
  },
  {
   "cell_type": "markdown",
   "metadata": {},
   "source": [
    "You can easily retrieve all ancestors of a territory with the `.ancestors()` method, and respectively all of its descendants with the `.descendants()` method :"
   ]
  },
  {
   "cell_type": "code",
   "execution_count": 13,
   "metadata": {},
   "outputs": [
    {
     "data": {
      "text/plain": [
       "{France,\n",
       " Île-de-France,\n",
       " Auvergne-Rhône-Alpes,\n",
       " Val-de-Marne,\n",
       " Seine-Saint-Denis,\n",
       " Rhône}"
      ]
     },
     "execution_count": 13,
     "metadata": {},
     "output_type": "execute_result"
    }
   ],
   "source": [
    "a.ancestors()"
   ]
  },
  {
   "cell_type": "code",
   "execution_count": 14,
   "metadata": {},
   "outputs": [
    {
     "name": "stdout",
     "output_type": "stream",
     "text": [
      "Lyon|Nogent-sur-Marne|Pantin\n"
     ]
    },
    {
     "data": {
      "text/plain": [
       "{Pantin,\n",
       " Nogent-sur-Marne,\n",
       " Lyon,\n",
       " Lyon 9e,\n",
       " Lyon 8e,\n",
       " Lyon 7e,\n",
       " Lyon 6e,\n",
       " Lyon 5e,\n",
       " Lyon 4e,\n",
       " Lyon 3e,\n",
       " Lyon 2e,\n",
       " Lyon 1er}"
      ]
     },
     "execution_count": 14,
     "metadata": {},
     "output_type": "execute_result"
    }
   ],
   "source": [
    "print(a)\n",
    "a.descendants(include_itself=True)"
   ]
  },
  {
   "cell_type": "markdown",
   "metadata": {},
   "source": [
    "Territories are `True` if they are not empty, but you should probably use the `is_empty()` method for clarity."
   ]
  },
  {
   "cell_type": "code",
   "execution_count": 15,
   "metadata": {},
   "outputs": [
    {
     "name": "stdout",
     "output_type": "stream",
     "text": [
      "not empty\n",
      "empty\n"
     ]
    }
   ],
   "source": [
    "if Territory.from_names(\"DEP:69\"):\n",
    "    print(\"not empty\")\n",
    "\n",
    "if Territory.from_names():\n",
    "    print(\"empty\")\n",
    "\n",
    "if Territory.from_names().is_empty():\n",
    "    print(\"empty\")"
   ]
  },
  {
   "cell_type": "code",
   "execution_count": 16,
   "metadata": {},
   "outputs": [
    {
     "data": {
      "text/plain": [
       "<Partition.DEP: 3>"
      ]
     },
     "execution_count": 16,
     "metadata": {},
     "output_type": "execute_result"
    }
   ],
   "source": [
    "min(ter).level"
   ]
  },
  {
   "cell_type": "code",
   "execution_count": 17,
   "metadata": {},
   "outputs": [
    {
     "data": {
      "text/plain": [
       "True"
      ]
     },
     "execution_count": 17,
     "metadata": {},
     "output_type": "execute_result"
    }
   ],
   "source": [
    "from territories import Partition\n",
    "\n",
    "\n",
    "Partition.DEP > Partition.ARR"
   ]
  },
  {
   "cell_type": "code",
   "execution_count": 18,
   "metadata": {},
   "outputs": [
    {
     "data": {
      "text/plain": [
       "2571"
      ]
     },
     "execution_count": 18,
     "metadata": {},
     "output_type": "execute_result"
    }
   ],
   "source": [
    "from territories import Partition\n",
    "\n",
    "s = random.sample(Territory.tree.nodes(), 1000)\n",
    "ter = Territory.from_names(*(ter.tu_id for ter in s))\n",
    "\n",
    "len([tu.tu_id for tu in ter.descendants(include_itself=True) if tu.level == Partition.COM])"
   ]
  },
  {
   "cell_type": "code",
   "execution_count": 7,
   "metadata": {},
   "outputs": [
    {
     "data": {
      "text/plain": [
       "['video-paragraph-local-v1', 'scAhLgPWxDc_2']"
      ]
     },
     "execution_count": 7,
     "metadata": {},
     "output_type": "execute_result"
    }
   ],
   "source": [
    "import base64\n",
    "\n",
    "enc = lambda s : \"https://platform.datapolitics.fr/territoires/\" + base64.b64encode(s.encode('utf-8')).decode('utf-8')\n",
    "dec = lambda x: base64.b64decode(x.encode()).decode('utf-8').split(':')\n",
    "\n",
    "hid = 'dmlkZW8tcGFyYWdyYXBoLWxvY2FsLXYxOnNjQWhMZ1BXeERjXzI='\n",
    "\n",
    "dec(hid)"
   ]
  },
  {
   "cell_type": "code",
   "execution_count": 4,
   "metadata": {},
   "outputs": [
    {
     "data": {
      "text/plain": [
       "'c3BlZWNoLXBhcmFncmFwaC1sb2NhbC12MTpzMzovL2ZyLmRhdGFwb2xpdGljcy5jb250ZW50LzIxNjgvMTcyYjlfTUdOX3JhcHBvcnRfQ1YtMjAxOS5wZGYjNjg='"
      ]
     },
     "execution_count": 4,
     "metadata": {},
     "output_type": "execute_result"
    }
   ],
   "source": [
    "# eid = \"14a2cfa0-0f54-40d1-805b-db39d76a44fd/03._DCE_AFPA_SaintHerblain_Principe_de_raccordement.pdf#5\"\n",
    "eid = \"s3://fr.datapolitics.content/2168/172b9_MGN_rapport_CV-2019.pdf#68\"\n",
    "# index = \"tender-attachment-private-v1\"\n",
    "index = \"speech-paragraph-local-v1\"\n",
    "\n",
    "base64.b64encode(f\"{index}:{eid}\".encode()).decode('utf-8')"
   ]
  },
  {
   "cell_type": "code",
   "execution_count": 8,
   "metadata": {},
   "outputs": [
    {
     "data": {
      "text/plain": [
       "'Hugu de Maz'"
      ]
     },
     "execution_count": 8,
     "metadata": {},
     "output_type": "execute_result"
    }
   ],
   "source": [
    "import re\n",
    "\n",
    "prepositions = {'de', 'du', 'des', 'le', 'la', 'les', 'd', 'l', 'el', 'von'}\n",
    "capitalize_name = lambda name: ''.join(word.lower() if word.lower() in prepositions else word.capitalize() for word in re.split(r'([-\\']|\\s+)', name) if word)\n",
    "\n",
    "capitalize_name(\"hugu de maz\")\n"
   ]
  },
  {
   "cell_type": "code",
   "execution_count": null,
   "metadata": {},
   "outputs": [],
   "source": [
    "raw_tree = Territory.save_tree(return_bytes=True)\n",
    "\n",
    "with open(\"full_territorial_tree.gzip\", \"wb\") as file:\n",
    "    file.write(gzip.compress(raw_tree))"
   ]
  },
  {
   "cell_type": "code",
   "execution_count": 1,
   "metadata": {},
   "outputs": [],
   "source": [
    "from territories import Territory\n",
    "\n",
    "Territory.load_tree()\n",
    "\n",
    "\n",
    "t = Territory.from_names(\"DEP:69\")"
   ]
  },
  {
   "cell_type": "code",
   "execution_count": 4,
   "metadata": {},
   "outputs": [
    {
     "data": {
      "text/plain": [
       "[('Lyon 3e', None),\n",
       " ('Lyon 9e', None),\n",
       " ('Lyon 2e', None),\n",
       " ('Lyon 8e', None),\n",
       " ('Lyon 7e', None),\n",
       " ('Lyon 4e', None),\n",
       " ('Lyon 6e', None),\n",
       " ('Lyon 5e', None),\n",
       " ('Lyon 1er', None)]"
      ]
     },
     "execution_count": 4,
     "metadata": {},
     "output_type": "execute_result"
    }
   ],
   "source": [
    "[(i.name, i.inhabitants) for i in t.descendants(include_itself=True) if i.inhabitants is None]"
   ]
  }
 ],
 "metadata": {
  "kernelspec": {
   "display_name": ".venv",
   "language": "python",
   "name": "python3"
  },
  "language_info": {
   "codemirror_mode": {
    "name": "ipython",
    "version": 3
   },
   "file_extension": ".py",
   "mimetype": "text/x-python",
   "name": "python",
   "nbconvert_exporter": "python",
   "pygments_lexer": "ipython3",
   "version": "3.12.3"
  }
 },
 "nbformat": 4,
 "nbformat_minor": 2
}
