{
 "cells": [
  {
   "cell_type": "markdown",
   "metadata": {},
   "source": [
    "Usage of the package\n",
    "========\n",
    "\n",
    "First, some imports"
   ]
  },
  {
   "cell_type": "code",
   "execution_count": 1,
   "metadata": {},
   "outputs": [],
   "source": [
    "import gzip\n",
    "import pickle\n",
    "import random\n",
    "from collections import namedtuple\n",
    "\n",
    "from territories import Territory, MissingTreeCache, Partition"
   ]
  },
  {
   "cell_type": "markdown",
   "metadata": {},
   "source": [
    "## Creation of the tree\n",
    "\n",
    "The first step is to create a tree of known entities. This can be a very compute intensive task, depending on the tree size. That is why, by default, once created, the tree is stored on disk.\n",
    "\n",
    "Here we will create a very simple tree out of the **tree.txt** file."
   ]
  },
  {
   "cell_type": "code",
   "execution_count": 2,
   "metadata": {},
   "outputs": [],
   "source": [
    "Node = namedtuple('Node', ('id', 'parent_id', 'label', 'level'))\n",
    "split = lambda x: (arg if arg != 'null' else None for arg in x[:-1].split('; '))\n",
    "\n",
    "try:\n",
    "    Territory.load_tree()\n",
    "except MissingTreeCache:\n",
    "    with open(\"tree.txt\", \"r\") as file:\n",
    "        lines = file.readlines()\n",
    "        stream = ([Node(*split(x) )for x in lines])\n",
    "        Territory.build_tree(data_stream=stream, save_tree=False)"
   ]
  },
  {
   "cell_type": "markdown",
   "metadata": {},
   "source": [
    "Then, you can start to create territories from arbitrary territoiral units."
   ]
  },
  {
   "cell_type": "markdown",
   "metadata": {},
   "source": [
    "Entities associated territories are represented in an efficient way : if all leaves of a parent node are included in the territory, they are simply replaced by their parent node."
   ]
  },
  {
   "cell_type": "code",
   "execution_count": 3,
   "metadata": {},
   "outputs": [
    {
     "name": "stdout",
     "output_type": "stream",
     "text": [
      "Dampierre-Saint-Nicolas | COM\n",
      "Bruys | COM\n",
      "Champcenest | COM\n",
      "Jouancy | COM\n",
      "Mathieu | COM\n",
      "Cuperly | COM\n",
      "Le Fête | COM\n",
      "Saint-Germain | COM\n",
      "Orthevielle | COM\n",
      "Mélicocq | COM\n",
      "Machault | COM\n",
      "Bayenghem-lès-Éperlecques | COM\n"
     ]
    }
   ],
   "source": [
    "# some node of the tree\n",
    "print('\\n'.join([f\"{e.name} | {e.level}\" for e in random.sample(Territory.tree.nodes(), 12)]))"
   ]
  },
  {
   "cell_type": "code",
   "execution_count": null,
   "metadata": {},
   "outputs": [],
   "source": [
    "with open(\"tree_large.gzip\", \"rb\") as file:\n",
    "    lines = pickle.loads(gzip.decompress(file.read()))\n",
    "\n",
    "stream = ([Node(*split(x) )for x in lines])\n",
    "Territory.build_tree(data_stream=stream, save_tree=False)\n",
    "\n",
    "a = Territory.from_tu_ids(\"COM:69123\", \"COM:93055\", \"COM:94052\")\n",
    "b = Territory.from_tu_ids(\"COM:27429\", \"REG:84\", \"DEP:75\")\n",
    "c = Territory.from_tu_ids(\"COM:38185\", \"COM:31555\", \"REG:11\")\n",
    "d = Territory.from_tu_ids(\"COM:33063\", \"COM:13055\", \"REG:28\")\n",
    "e = Territory.from_tu_ids(\"COM:35238\", \"COM:35047\", \"DEP:27\")\n",
    "f = Territory.from_tu_ids(\"COM:59350\", \"COM:38442\", \"REG:53\")"
   ]
  },
  {
   "cell_type": "markdown",
   "metadata": {},
   "source": [
    "You can crate a territory with names of territorial units."
   ]
  },
  {
   "cell_type": "code",
   "execution_count": null,
   "metadata": {},
   "outputs": [
    {
     "data": {
      "text/plain": [
       "Paris 6e|Lille|Rhône"
      ]
     },
     "execution_count": 5,
     "metadata": {},
     "output_type": "execute_result"
    }
   ],
   "source": [
    "ter = Territory.from_tu_ids(\"DEP:69\", \"COM:59350\", \"ARR:75106\")\n",
    "ter"
   ]
  },
  {
   "cell_type": "markdown",
   "metadata": {},
   "source": [
    "If names are invalid, an `NotOnTree` exception will be raised."
   ]
  },
  {
   "cell_type": "code",
   "execution_count": null,
   "metadata": {},
   "outputs": [
    {
     "name": "stdout",
     "output_type": "stream",
     "text": [
      "do not exist, garbage where not found in the territorial tree\n"
     ]
    }
   ],
   "source": [
    "try:\n",
    "    Territory.from_tu_ids(\"DEP:69\", \"do not exist\", \"garbage\")\n",
    "except Exception as e:\n",
    "    print(e)"
   ]
  },
  {
   "cell_type": "markdown",
   "metadata": {},
   "source": [
    "Territories are jsons serializable, you can simply return them from an API endpoint"
   ]
  },
  {
   "cell_type": "code",
   "execution_count": 7,
   "metadata": {},
   "outputs": [
    {
     "name": "stdout",
     "output_type": "stream",
     "text": [
      "[\n",
      "    {\n",
      "        \"name\": \"Paris 6e\",\n",
      "        \"tu_id\": \"ARR:75106\",\n",
      "        \"atomic\": true,\n",
      "        \"level\": \"ARR\",\n",
      "        \"postal_code\": null,\n",
      "        \"inhabitants\": null\n",
      "    },\n",
      "    {\n",
      "        \"name\": \"Rh\\u00f4ne\",\n",
      "        \"tu_id\": \"DEP:69\",\n",
      "        \"atomic\": false,\n",
      "        \"level\": \"DEP\",\n",
      "        \"postal_code\": null,\n",
      "        \"inhabitants\": null\n",
      "    },\n",
      "    {\n",
      "        \"name\": \"Lille\",\n",
      "        \"tu_id\": \"COM:59350\",\n",
      "        \"atomic\": true,\n",
      "        \"level\": \"COM\",\n",
      "        \"postal_code\": null,\n",
      "        \"inhabitants\": null\n",
      "    }\n",
      "]\n"
     ]
    }
   ],
   "source": [
    "import json\n",
    "\n",
    "print(json.dumps(ter, indent=4))"
   ]
  },
  {
   "cell_type": "markdown",
   "metadata": {},
   "source": [
    "## Operations on territories\n",
    "\n",
    "\n",
    "Usual operation on territories works as expected :"
   ]
  },
  {
   "cell_type": "code",
   "execution_count": 8,
   "metadata": {},
   "outputs": [
    {
     "name": "stdout",
     "output_type": "stream",
     "text": [
      "Lyon|Nogent-sur-Marne|Pantin Grenoble|Toulouse|Île-de-France\n",
      "Grenoble|Lyon|Toulouse|Île-de-France\n"
     ]
    }
   ],
   "source": [
    "# addition\n",
    "\n",
    "print(a, c)\n",
    "print(a + c)"
   ]
  },
  {
   "cell_type": "code",
   "execution_count": 9,
   "metadata": {},
   "outputs": [
    {
     "name": "stdout",
     "output_type": "stream",
     "text": [
      "Lyon|Nogent-sur-Marne|Pantin Bordeaux|Marseille|Normandie\n",
      "Lyon|Nogent-sur-Marne|Pantin\n"
     ]
    }
   ],
   "source": [
    "# substraction\n",
    "\n",
    "print(a, d)\n",
    "print(a - d)"
   ]
  },
  {
   "cell_type": "markdown",
   "metadata": {},
   "source": [
    "More importantly, sets operations are also supported :"
   ]
  },
  {
   "cell_type": "code",
   "execution_count": 10,
   "metadata": {},
   "outputs": [
    {
     "name": "stdout",
     "output_type": "stream",
     "text": [
      "Intersection of Lyon|Nogent-sur-Marne|Pantin and Bordeaux|Marseille|Normandie is {}\n",
      "Union of Grenoble|Toulouse|Île-de-France and Lille|Saint-Pierre-de-Chartreuse|Bretagne is Grenoble|Lille|Saint-Pierre-de-Chartreuse|Toulouse|Bretagne|Île-de-France\n"
     ]
    }
   ],
   "source": [
    "# intersection\n",
    "print(f\"Intersection of {a} and {d} is {a & d}\")\n",
    "\n",
    "# union\n",
    "print(f\"Union of {c} and {f} is {f | c}\")"
   ]
  },
  {
   "cell_type": "markdown",
   "metadata": {},
   "source": [
    "Territorial units may have parents or children, but Territory do not. As a territory may be formed of several territorial units, it has a LCA, a Lowest Common Ancestor."
   ]
  },
  {
   "cell_type": "code",
   "execution_count": null,
   "metadata": {},
   "outputs": [
    {
     "data": {
      "text/plain": [
       "Auvergne-Rhône-Alpes"
      ]
     },
     "execution_count": 11,
     "metadata": {},
     "output_type": "execute_result"
    }
   ],
   "source": [
    "lyon_and_grenoble = Territory.from_tu_ids(\"COM:38185\", \"COM:69123\")\n",
    "\n",
    "lyon_and_grenoble.lowest_common_ancestor()"
   ]
  },
  {
   "cell_type": "markdown",
   "metadata": {},
   "source": [
    "You can easily retrieve all ancestors of a territory with the `.ancestors()` method, and respectively all of its descendants with the `.descendants()` method :"
   ]
  },
  {
   "cell_type": "code",
   "execution_count": 12,
   "metadata": {},
   "outputs": [
    {
     "data": {
      "text/plain": [
       "{France,\n",
       " Île-de-France,\n",
       " Auvergne-Rhône-Alpes,\n",
       " Val-de-Marne,\n",
       " Seine-Saint-Denis,\n",
       " Rhône}"
      ]
     },
     "execution_count": 12,
     "metadata": {},
     "output_type": "execute_result"
    }
   ],
   "source": [
    "a.ancestors()"
   ]
  },
  {
   "cell_type": "code",
   "execution_count": 13,
   "metadata": {},
   "outputs": [
    {
     "name": "stdout",
     "output_type": "stream",
     "text": [
      "Lyon|Nogent-sur-Marne|Pantin\n"
     ]
    },
    {
     "data": {
      "text/plain": [
       "{Pantin,\n",
       " Nogent-sur-Marne,\n",
       " Lyon,\n",
       " Lyon 9e,\n",
       " Lyon 8e,\n",
       " Lyon 7e,\n",
       " Lyon 6e,\n",
       " Lyon 5e,\n",
       " Lyon 4e,\n",
       " Lyon 3e,\n",
       " Lyon 2e,\n",
       " Lyon 1er}"
      ]
     },
     "execution_count": 13,
     "metadata": {},
     "output_type": "execute_result"
    }
   ],
   "source": [
    "print(a)\n",
    "a.descendants(include_itself=True)"
   ]
  },
  {
   "cell_type": "markdown",
   "metadata": {},
   "source": [
    "Territories are `True` if they are not empty, but you should probably use the `is_empty()` method for clarity."
   ]
  },
  {
   "cell_type": "code",
   "execution_count": null,
   "metadata": {},
   "outputs": [
    {
     "name": "stdout",
     "output_type": "stream",
     "text": [
      "not empty\n",
      "empty\n"
     ]
    }
   ],
   "source": [
    "if Territory.from_tu_ids(\"DEP:69\"):\n",
    "    print(\"not empty\")\n",
    "\n",
    "if Territory.from_tu_ids():\n",
    "    print(\"empty\")\n",
    "\n",
    "if Territory.from_tu_ids().is_empty():\n",
    "    print(\"empty\")"
   ]
  },
  {
   "cell_type": "code",
   "execution_count": 15,
   "metadata": {},
   "outputs": [
    {
     "data": {
      "text/plain": [
       "<Partition.DEP: 3>"
      ]
     },
     "execution_count": 15,
     "metadata": {},
     "output_type": "execute_result"
    }
   ],
   "source": [
    "min(ter).level"
   ]
  },
  {
   "cell_type": "code",
   "execution_count": 16,
   "metadata": {},
   "outputs": [
    {
     "data": {
      "text/plain": [
       "True"
      ]
     },
     "execution_count": 16,
     "metadata": {},
     "output_type": "execute_result"
    }
   ],
   "source": [
    "from territories import Partition\n",
    "\n",
    "\n",
    "Partition.DEP > Partition.ARR"
   ]
  },
  {
   "cell_type": "code",
   "execution_count": 17,
   "metadata": {},
   "outputs": [
    {
     "data": {
      "text/plain": [
       "3352"
      ]
     },
     "execution_count": 17,
     "metadata": {},
     "output_type": "execute_result"
    }
   ],
   "source": [
    "from territories import Partition\n",
    "\n",
    "s = random.sample(Territory.tree.nodes(), 1000)\n",
    "ter = Territory.from_names(*(ter.tu_id for ter in s))\n",
    "\n",
    "len([tu.tu_id for tu in ter.descendants(include_itself=True) if tu.level == Partition.COM])"
   ]
  },
  {
   "cell_type": "code",
   "execution_count": 6,
   "metadata": {},
   "outputs": [
    {
     "data": {
      "text/plain": [
       "0.165"
      ]
     },
     "execution_count": 6,
     "metadata": {},
     "output_type": "execute_result"
    }
   ],
   "source": [
    "66/400"
   ]
  },
  {
   "cell_type": "code",
   "execution_count": 2,
   "metadata": {},
   "outputs": [
    {
     "data": {
      "text/plain": [
       "['tender-attachment-private-v1',\n",
       " '61b2bccc-2496-4c74-b41c-421c663f886e/CCAS-CCTP-DCE-L4-104-A_ CCTP Lot 04 CVC Plomberie.pdf#23']"
      ]
     },
     "execution_count": 2,
     "metadata": {},
     "output_type": "execute_result"
    }
   ],
   "source": [
    "import base64\n",
    "\n",
    "enc = lambda s : \"https://platform.datapolitics.fr/territoires/\" + base64.b64encode(s.encode('utf-8')).decode('utf-8')\n",
    "dec = lambda x: base64.b64decode(x.encode()).decode('utf-8').split(':')\n",
    "\n",
    "hid = 'dGVuZGVyLWF0dGFjaG1lbnQtcHJpdmF0ZS12MTo2MWIyYmNjYy0yNDk2LTRjNzQtYjQxYy00MjFjNjYzZjg4NmUvQ0NBUy1DQ1RQLURDRS1MNC0xMDQtQV8gQ0NUUCBMb3QgMDQgQ1ZDIFBsb21iZXJpZS5wZGYjMjM='\n",
    "\n",
    "# https://platform.datapolitics.fr/document/==?topicId=1981\n",
    "\n",
    "\n",
    "dec(hid)"
   ]
  },
  {
   "cell_type": "code",
   "execution_count": 8,
   "metadata": {},
   "outputs": [
    {
     "data": {
      "text/plain": [
       "np.float64(0.7071067811865475)"
      ]
     },
     "execution_count": 8,
     "metadata": {},
     "output_type": "execute_result"
    }
   ],
   "source": [
    "import numpy as np\n",
    "\n",
    "np.sin(np.pi/4)"
   ]
  },
  {
   "cell_type": "code",
   "execution_count": 4,
   "metadata": {},
   "outputs": [
    {
     "data": {
      "text/plain": [
       "'c3BlZWNoLXBhcmFncmFwaC1sb2NhbC12MTo4My9iNjE2NWJjNTA0MmNhMDE4Yzg3NjViZGYyZDVkNDBkYmJiN2Y4NThhX2RtMS0yMDI1LWVkaXRpcXUjNTA='"
      ]
     },
     "execution_count": 4,
     "metadata": {},
     "output_type": "execute_result"
    }
   ],
   "source": [
    "# eid = \"14a2cfa0-0f54-40d1-805b-db39d76a44fd/03._DCE_AFPA_SaintHerblain_Principe_de_raccordement.pdf#5\"\n",
    "eid = \"83/b6165bc5042ca018c8765bdf2d5d40dbbb7f858a_dm1-2025-editiqu#50\"\n",
    "# index = \"tender-attachment-private-v1\"\n",
    "index = \"speech-paragraph-local-v1\"\n",
    "\n",
    "base64.b64encode(f\"{index}:{eid}\".encode()).decode('utf-8')"
   ]
  },
  {
   "cell_type": "code",
   "execution_count": 20,
   "metadata": {},
   "outputs": [
    {
     "data": {
      "text/plain": [
       "'Hugu de Maz'"
      ]
     },
     "execution_count": 20,
     "metadata": {},
     "output_type": "execute_result"
    }
   ],
   "source": [
    "import re\n",
    "\n",
    "prepositions = {'de', 'du', 'des', 'le', 'la', 'les', 'd', 'l', 'el', 'von'}\n",
    "capitalize_name = lambda name: ''.join(word.lower() if word.lower() in prepositions else word.capitalize() for word in re.split(r'([-\\']|\\s+)', name) if word)\n",
    "\n",
    "capitalize_name(\"hugu de maz\")\n"
   ]
  },
  {
   "cell_type": "code",
   "execution_count": 21,
   "metadata": {},
   "outputs": [],
   "source": [
    "# raw_tree = Territory.save_tree(return_bytes=True)\n",
    "\n",
    "# with open(\"full_territorial_tree.gzip\", \"wb\") as file:\n",
    "#     file.write(gzip.compress(raw_tree))"
   ]
  },
  {
   "cell_type": "code",
   "execution_count": 1,
   "metadata": {},
   "outputs": [
    {
     "name": "stderr",
     "output_type": "stream",
     "text": [
      "/home/timothee/Documents/territories/src/territories/territories.py:589: UserWarning: This method is deprecated, use from_tu_ids() instead\n",
      "  warnings.warn(\"This method is deprecated, use from_tu_ids() instead\", UserWarning)\n"
     ]
    }
   ],
   "source": [
    "from territories import Territory\n",
    "\n",
    "Territory.load_tree()\n",
    "\n",
    "\n",
    "t = Territory.from_names(\"DEP:69\")"
   ]
  },
  {
   "cell_type": "code",
   "execution_count": 23,
   "metadata": {},
   "outputs": [
    {
     "data": {
      "text/plain": [
       "[('Lyon 6e', None),\n",
       " ('Lyon 7e', None),\n",
       " ('Lyon 3e', None),\n",
       " ('Lyon 9e', None),\n",
       " ('Lyon 1er', None),\n",
       " ('Lyon 5e', None),\n",
       " ('Lyon 8e', None),\n",
       " ('Lyon 2e', None),\n",
       " ('Lyon 4e', None)]"
      ]
     },
     "execution_count": 23,
     "metadata": {},
     "output_type": "execute_result"
    }
   ],
   "source": [
    "[(i.name, i.inhabitants) for i in t.descendants(include_itself=True) if i.inhabitants is None]"
   ]
  },
  {
   "cell_type": "code",
   "execution_count": 24,
   "metadata": {},
   "outputs": [],
   "source": [
    "def format_entity_label(self) -> str:\n",
    "    if self.entity:\n",
    "        return self.entity.name\n",
    "    else:\n",
    "        if self.territory.type < Partition.CNTRY:\n",
    "            if len(self.territory) > 2:\n",
    "                return \", \".join(tu.name for tu in sorted(self.territory)[:2]) + '...'\n",
    "            return \", \".join(tu.name for tu in sorted(self.territory))\n",
    "    return \"\""
   ]
  },
  {
   "cell_type": "code",
   "execution_count": 40,
   "metadata": {},
   "outputs": [
    {
     "data": {
      "text/plain": [
       "Argenteuil|Athis-Mons|Juvisy-sur-Orge|Morangis|Morangis|Paray-Vieille-Poste|Savigny-sur-Orge|Viry-Châtillon|Hauts-de-Seine|Paris|Seine-Saint-Denis|Val-de-Marne"
      ]
     },
     "execution_count": 40,
     "metadata": {},
     "output_type": "execute_result"
    }
   ],
   "source": [
    "c = (\"Argenteuil\",\n",
    "\"Athis-Mons\",\n",
    "\"Juvisy-sur-Orge\",\n",
    "\"Morangis\",\n",
    "\"Paray-Vieille-Poste\",\n",
    "\"Savigny-sur-Orge\",\n",
    "\"Viry-Châtillon\",\n",
    "\"Hauts-de-Seine\",\n",
    "\"Paris\",\n",
    "\"Seine-Saint-Denis\",\n",
    "\"Val-de-Marne\")\n",
    "\n",
    "ter = Territory(*[n for n in Territory.tree.nodes() if n.name in c])\n",
    "ter"
   ]
  },
  {
   "cell_type": "code",
   "execution_count": 26,
   "metadata": {},
   "outputs": [
    {
     "data": {
      "text/plain": [
       "Marne|Île-de-France"
      ]
     },
     "execution_count": 26,
     "metadata": {},
     "output_type": "execute_result"
    }
   ],
   "source": [
    "ter.parent()"
   ]
  },
  {
   "cell_type": "code",
   "execution_count": 29,
   "metadata": {},
   "outputs": [
    {
     "data": {
      "text/plain": [
       "Noisy-le-Sec|Pantin"
      ]
     },
     "execution_count": 29,
     "metadata": {},
     "output_type": "execute_result"
    }
   ],
   "source": [
    "Territory.from_names(\"COM:93055\", \"COM:93053\")"
   ]
  },
  {
   "cell_type": "code",
   "execution_count": 37,
   "metadata": {},
   "outputs": [
    {
     "data": {
      "text/plain": [
       "'Pantin'"
      ]
     },
     "execution_count": 37,
     "metadata": {},
     "output_type": "execute_result"
    }
   ],
   "source": [
    "str(Territory.from_names(\"COM:93055\"))"
   ]
  },
  {
   "cell_type": "code",
   "execution_count": 30,
   "metadata": {},
   "outputs": [
    {
     "data": {
      "text/plain": [
       "[Seine-Saint-Denis]"
      ]
     },
     "execution_count": 30,
     "metadata": {},
     "output_type": "execute_result"
    }
   ],
   "source": [
    "Territory.tree.predecessors(Territory.from_name(\"COM:93055\").tree_id)"
   ]
  },
  {
   "cell_type": "code",
   "execution_count": 33,
   "metadata": {},
   "outputs": [
    {
     "data": {
      "text/plain": [
       "Noisy-le-Sec|Pantin"
      ]
     },
     "execution_count": 33,
     "metadata": {},
     "output_type": "execute_result"
    }
   ],
   "source": [
    "ter = Territory.from_names(\"COM:93055\", \"COM:93053\")\n",
    "ter"
   ]
  },
  {
   "cell_type": "code",
   "execution_count": 35,
   "metadata": {},
   "outputs": [
    {
     "data": {
      "text/plain": [
       "'Pantin (Seine-Saint-Denis), Noisy-le-Sec (Seine-Saint-Denis)'"
      ]
     },
     "execution_count": 35,
     "metadata": {},
     "output_type": "execute_result"
    }
   ],
   "source": [
    "def format_entity_label(ter) -> str:\n",
    "    format_com = lambda t: f\"{t.name} ({Territory.get_parent(t).name})\" if t.level == Partition.COM else t.name\n",
    "\n",
    "    if ter.type < Partition.CNTRY:\n",
    "        if len(ter) > 2:\n",
    "            return \", \".join(format_com(tu) for tu in sorted(ter)[:2]) + '...'\n",
    "        return \", \".join(format_com(tu) for tu in sorted(ter))\n",
    "    return \"\"\n",
    "\n",
    "\n",
    "format_entity_label(ter)"
   ]
  },
  {
   "cell_type": "code",
   "execution_count": 52,
   "metadata": {},
   "outputs": [
    {
     "data": {
      "text/plain": [
       "Rhône|Île-de-France"
      ]
     },
     "execution_count": 52,
     "metadata": {},
     "output_type": "execute_result"
    }
   ],
   "source": [
    "p = Territory.from_names(\"DEP:75\", \"COM:69132\").parent()\n",
    "p"
   ]
  },
  {
   "cell_type": "code",
   "execution_count": 54,
   "metadata": {},
   "outputs": [
    {
     "data": {
      "text/plain": [
       "[(Île-de-France, 'REG:11'), (Rhône, 'DEP:69')]"
      ]
     },
     "execution_count": 54,
     "metadata": {},
     "output_type": "execute_result"
    }
   ],
   "source": [
    "[(d, d.tu_id) for d in p]"
   ]
  },
  {
   "cell_type": "code",
   "execution_count": 12,
   "metadata": {},
   "outputs": [
    {
     "data": {
      "text/plain": [
       "'111111111 je suis 222222222 bb zsdkzpokdzld'"
      ]
     },
     "execution_count": 12,
     "metadata": {},
     "output_type": "execute_result"
    }
   ],
   "source": [
    "import re\n",
    "\n",
    "report = \"@Document-8 je suis @Document-9 bb zsdkzpokdzld\"\n",
    "\n",
    "reverse_id_mapping = {\"8\" : \"111111111\", \"9\" : \"222222222\"}\n",
    "\n",
    "\n",
    "re.sub(r'@Document-(\\d+)', lambda m: f'{reverse_id_mapping[m.group(1)]}', report)\n"
   ]
  },
  {
   "cell_type": "code",
   "execution_count": 6,
   "metadata": {},
   "outputs": [
    {
     "data": {
      "text/plain": [
       "'ArithmeticError\\n\\nje suis une rppport md avec [des](https://platform.datapolitics.fr/territoires/lien)\\n\\n'"
      ]
     },
     "execution_count": 6,
     "metadata": {},
     "output_type": "execute_result"
    }
   ],
   "source": [
    "\n",
    "report = \"\"\"ArithmeticError\n",
    "\n",
    "je suis une rppport md avec [des](lien)\n",
    "\n",
    "\"\"\"\n",
    "\n",
    "\n",
    "prefix = \"https://platform.datapolitics.fr/territoires/\"\n",
    "replacer = lambda m: f'[{m.group(1)}]({prefix}{m.group(2)})' if not m.group(2).startswith(prefix) else m.group(0)\n",
    "re.sub(r'\\[([^\\]]+)\\]\\((?:https?://)?([^)]+)\\)', replacer, report).strip('`')"
   ]
  },
  {
   "cell_type": "code",
   "execution_count": null,
   "metadata": {},
   "outputs": [
    {
     "data": {
      "text/plain": [
       "['vrvfdv ', ' TRUE\\noekodk']"
      ]
     },
     "execution_count": 7,
     "metadata": {},
     "output_type": "execute_result"
    }
   ],
   "source": [
    "import re\n",
    "\n",
    "message = \"vrvfdv <|APPROVED|> TRUE\\noekodk\"\n",
    "\n",
    "\n",
    "message.split(\"<|APPROVED|>\")"
   ]
  },
  {
   "cell_type": "code",
   "execution_count": 28,
   "metadata": {},
   "outputs": [
    {
     "name": "stdout",
     "output_type": "stream",
     "text": [
      "['    TRUE']\n"
     ]
    },
    {
     "data": {
      "text/plain": [
       "True"
      ]
     },
     "execution_count": 28,
     "metadata": {},
     "output_type": "execute_result"
    }
   ],
   "source": [
    "import re\n",
    "\n",
    "message = \"vrvfdv \\n<|APPROVED|>    TRUE\"\n",
    "\n",
    "\n",
    "m = re.findall(r\"<\\|APPROVED\\|>([ a-zA-Z]+|$)\", message, re.MULTILINE)\n",
    "print(m)\n",
    "any(\"TRUE\" == matched.strip() for matched in m)"
   ]
  },
  {
   "cell_type": "code",
   "execution_count": null,
   "metadata": {},
   "outputs": [
    {
     "data": {
      "text/plain": [
       "['', '', ' YES ', '', '']"
      ]
     },
     "execution_count": 21,
     "metadata": {},
     "output_type": "execute_result"
    }
   ],
   "source": [
    "re.findall(r\"<|APPROVED|>([ a-zA-Z]+)<|APPROVED|>\", \"<|APPROVED|> YES <|APPROVED|>\")"
   ]
  }
 ],
 "metadata": {
  "kernelspec": {
   "display_name": ".venv",
   "language": "python",
   "name": "python3"
  },
  "language_info": {
   "codemirror_mode": {
    "name": "ipython",
    "version": 3
   },
   "file_extension": ".py",
   "mimetype": "text/x-python",
   "name": "python",
   "nbconvert_exporter": "python",
   "pygments_lexer": "ipython3",
   "version": "3.12.3"
  }
 },
 "nbformat": 4,
 "nbformat_minor": 2
}
