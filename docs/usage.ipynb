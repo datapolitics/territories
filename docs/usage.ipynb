{
 "cells": [
  {
   "cell_type": "markdown",
   "metadata": {},
   "source": [
    "Usage of the package\n",
    "========\n",
    "\n",
    "First, some imports"
   ]
  },
  {
   "cell_type": "code",
   "execution_count": 1,
   "metadata": {},
   "outputs": [],
   "source": [
    "import gzip\n",
    "import pickle\n",
    "import random\n",
    "from collections import namedtuple\n",
    "\n",
    "from territories import Territory, MissingTreeCache"
   ]
  },
  {
   "cell_type": "markdown",
   "metadata": {},
   "source": [
    "## Creation of the tree\n",
    "\n",
    "The first step is to create a tree of known entities. This can be a very compute intensive task, depending on the tree size. That is why, by default, once created, the tree is stored on disk.\n",
    "\n",
    "Here we will create a very simple tree out of the **tree.txt** file."
   ]
  },
  {
   "cell_type": "code",
   "execution_count": 2,
   "metadata": {},
   "outputs": [],
   "source": [
    "Node = namedtuple('Node', ('id', 'parent_id', 'label', 'level'))\n",
    "split = lambda x: (arg if arg != 'null' else None for arg in x[:-1].split('; '))\n",
    "\n",
    "try:\n",
    "    Territory.load_tree()\n",
    "except MissingTreeCache:\n",
    "    with open(\"tree.txt\", \"r\") as file:\n",
    "        lines = file.readlines()\n",
    "        stream = ([Node(*split(x) )for x in lines])\n",
    "        Territory.build_tree(data_stream=stream, save_tree=False)"
   ]
  },
  {
   "cell_type": "markdown",
   "metadata": {},
   "source": [
    "Then, you can start to create territories from arbitrary territoiral units."
   ]
  },
  {
   "cell_type": "markdown",
   "metadata": {},
   "source": [
    "Entities associated territories are represented in an efficient way : if all leaves of a parent node are included in the territory, they are simply replaced by their parent node."
   ]
  },
  {
   "cell_type": "code",
   "execution_count": 3,
   "metadata": {},
   "outputs": [
    {
     "name": "stdout",
     "output_type": "stream",
     "text": [
      "Caveirac | COM\n",
      "Saint-Molf | COM\n",
      "Fieulaine | COM\n",
      "Vic-sous-Thil | COM\n",
      "Biron | COM\n",
      "Verclause | COM\n",
      "Vaux | COM\n",
      "Santilly | COM\n",
      "Courçon | COM\n",
      "Stutzheim-Offenheim | COM\n",
      "Laronxe | COM\n",
      "Valay | COM\n"
     ]
    }
   ],
   "source": [
    "# some node of the tree\n",
    "print('\\n'.join([f\"{e.name} | {e.partition_type}\" for e in random.sample(Territory.tree.nodes(), 12)]))"
   ]
  },
  {
   "cell_type": "code",
   "execution_count": 4,
   "metadata": {},
   "outputs": [],
   "source": [
    "with open(\"tree_large.gzip\", \"rb\") as file:\n",
    "    lines = pickle.loads(gzip.decompress(file.read()))\n",
    "\n",
    "stream = ([Node(*split(x) )for x in lines])\n",
    "Territory.build_tree(data_stream=stream)\n",
    "\n",
    "a = Territory.from_names(\"COM:69123\", \"COM:93055\", \"COM:94052\")\n",
    "b = Territory.from_names(\"COM:27429\", \"REG:84\", \"DEP:75\")\n",
    "c = Territory.from_names(\"COM:38185\", \"COM:31555\", \"REG:11\")\n",
    "d = Territory.from_names(\"COM:33063\", \"COM:13055\", \"REG:28\")\n",
    "e = Territory.from_names(\"COM:35238\", \"COM:35047\", \"DEP:27\")\n",
    "f = Territory.from_names(\"COM:59350\", \"COM:38442\", \"REG:53\")"
   ]
  },
  {
   "cell_type": "markdown",
   "metadata": {},
   "source": [
    "You can crate a territory with names of territorial units."
   ]
  },
  {
   "cell_type": "code",
   "execution_count": 5,
   "metadata": {},
   "outputs": [
    {
     "data": {
      "text/plain": [
       "Paris 6e|Rhône|Lille"
      ]
     },
     "execution_count": 5,
     "metadata": {},
     "output_type": "execute_result"
    }
   ],
   "source": [
    "ter = Territory.from_names(\"DEP:69\", \"COM:59350\", \"ARR:75106\")\n",
    "ter"
   ]
  },
  {
   "cell_type": "markdown",
   "metadata": {},
   "source": [
    "If names are invalid, an `NotOnTree` exception will be raised."
   ]
  },
  {
   "cell_type": "code",
   "execution_count": 6,
   "metadata": {},
   "outputs": [
    {
     "name": "stdout",
     "output_type": "stream",
     "text": [
      "garbage, do not exist where not found in the territorial tree\n"
     ]
    }
   ],
   "source": [
    "try:\n",
    "    Territory.from_names(\"DEP:69\", \"do not exist\", \"garbage\")\n",
    "except Exception as e:\n",
    "    print(e)"
   ]
  },
  {
   "cell_type": "markdown",
   "metadata": {},
   "source": [
    "Territories are jsons serializable, you can simply return them from an API endpoint"
   ]
  },
  {
   "cell_type": "code",
   "execution_count": 7,
   "metadata": {},
   "outputs": [
    {
     "name": "stdout",
     "output_type": "stream",
     "text": [
      "[\n",
      "    {\n",
      "        \"name\": \"Paris 6e\",\n",
      "        \"atomic\": true,\n",
      "        \"partition_type\": \"ARR\",\n",
      "        \"tu_id\": \"ARR:75106\",\n",
      "        \"postal_code\": null\n",
      "    },\n",
      "    {\n",
      "        \"name\": \"Rh\\u00f4ne\",\n",
      "        \"atomic\": false,\n",
      "        \"partition_type\": \"DEP\",\n",
      "        \"tu_id\": \"DEP:69\",\n",
      "        \"postal_code\": null\n",
      "    },\n",
      "    {\n",
      "        \"name\": \"Lille\",\n",
      "        \"atomic\": true,\n",
      "        \"partition_type\": \"COM\",\n",
      "        \"tu_id\": \"COM:59350\",\n",
      "        \"postal_code\": null\n",
      "    }\n",
      "]\n"
     ]
    }
   ],
   "source": [
    "import json\n",
    "\n",
    "print(json.dumps(ter, indent=4))"
   ]
  },
  {
   "cell_type": "markdown",
   "metadata": {},
   "source": [
    "## Operations on territories\n",
    "\n",
    "\n",
    "Usual operation on territories works as expected :"
   ]
  },
  {
   "cell_type": "code",
   "execution_count": 8,
   "metadata": {},
   "outputs": [
    {
     "name": "stdout",
     "output_type": "stream",
     "text": [
      "Nogent-sur-Marne|Lyon|Pantin Toulouse|Grenoble|Île-de-France\n",
      "Toulouse|Grenoble|Île-de-France|Lyon\n"
     ]
    }
   ],
   "source": [
    "# addition\n",
    "\n",
    "print(a, c)\n",
    "print(a + c) # This simplify to France"
   ]
  },
  {
   "cell_type": "code",
   "execution_count": 9,
   "metadata": {},
   "outputs": [
    {
     "name": "stdout",
     "output_type": "stream",
     "text": [
      "Nogent-sur-Marne|Lyon|Pantin Marseille|Normandie|Bordeaux\n",
      "Nogent-sur-Marne|Lyon|Pantin\n"
     ]
    }
   ],
   "source": [
    "# substraction\n",
    "\n",
    "print(a, d)\n",
    "print(a - d) # only Saint Etienne remains"
   ]
  },
  {
   "cell_type": "markdown",
   "metadata": {},
   "source": [
    "More importantly, sets operations are also supported :"
   ]
  },
  {
   "cell_type": "code",
   "execution_count": 10,
   "metadata": {},
   "outputs": [
    {
     "name": "stdout",
     "output_type": "stream",
     "text": [
      "Intersection of Nogent-sur-Marne|Lyon|Pantin and Marseille|Normandie|Bordeaux is {}\n",
      "Union of Toulouse|Grenoble|Île-de-France and Saint-Pierre-de-Chartreuse|Bretagne|Lille is Grenoble|Lille|Toulouse|Île-de-France|Bretagne|Saint-Pierre-de-Chartreuse\n"
     ]
    }
   ],
   "source": [
    "# intersection\n",
    "print(f\"Intersection of {a} and {d} is {a & d}\")\n",
    "\n",
    "# union\n",
    "print(f\"Union of {c} and {f} is {f | c}\")"
   ]
  },
  {
   "cell_type": "markdown",
   "metadata": {},
   "source": [
    "Territorial units may have parents or children, but Territory do not. As a territory may be formed of several territorial units, it has a LCA, a Lowest Common Ancestor."
   ]
  },
  {
   "cell_type": "code",
   "execution_count": 11,
   "metadata": {},
   "outputs": [
    {
     "data": {
      "text/plain": [
       "Auvergne-Rhône-Alpes"
      ]
     },
     "execution_count": 11,
     "metadata": {},
     "output_type": "execute_result"
    }
   ],
   "source": [
    "lyon_and_grenoble = Territory.from_names(\"COM:38185\", \"COM:69123\")\n",
    "\n",
    "lyon_and_grenoble.lowest_common_ancestor()"
   ]
  },
  {
   "cell_type": "markdown",
   "metadata": {},
   "source": [
    "You can easily retrieve all ancestors of a territory with the `.ancestors()` method, and respectively all of its descendants with the `.descendants()` method :"
   ]
  },
  {
   "cell_type": "code",
   "execution_count": 12,
   "metadata": {},
   "outputs": [
    {
     "data": {
      "text/plain": [
       "{Auvergne-Rhône-Alpes,\n",
       " France,\n",
       " Rhône,\n",
       " Seine-Saint-Denis,\n",
       " Val-de-Marne,\n",
       " Île-de-France}"
      ]
     },
     "execution_count": 12,
     "metadata": {},
     "output_type": "execute_result"
    }
   ],
   "source": [
    "a.ancestors()"
   ]
  },
  {
   "cell_type": "code",
   "execution_count": 13,
   "metadata": {},
   "outputs": [
    {
     "data": {
      "text/plain": [
       "{Lyon 1er,\n",
       " Lyon 2e,\n",
       " Lyon 3e,\n",
       " Lyon 4e,\n",
       " Lyon 5e,\n",
       " Lyon 6e,\n",
       " Lyon 7e,\n",
       " Lyon 8e,\n",
       " Lyon 9e}"
      ]
     },
     "execution_count": 13,
     "metadata": {},
     "output_type": "execute_result"
    }
   ],
   "source": [
    "a.descendants()"
   ]
  },
  {
   "cell_type": "markdown",
   "metadata": {},
   "source": [
    "Territories are `True` if they are not empty, but you should probably use the `is_empty()` method for clarity."
   ]
  },
  {
   "cell_type": "code",
   "execution_count": 14,
   "metadata": {},
   "outputs": [
    {
     "name": "stdout",
     "output_type": "stream",
     "text": [
      "not empty\n",
      "empty\n"
     ]
    }
   ],
   "source": [
    "if Territory.from_names(\"DEP:69\"):\n",
    "    print(\"not empty\")\n",
    "\n",
    "if Territory.from_names():\n",
    "    print(\"empty\")\n",
    "\n",
    "if Territory.from_names().is_empty():\n",
    "    print(\"empty\")"
   ]
  }
 ],
 "metadata": {
  "kernelspec": {
   "display_name": ".venv",
   "language": "python",
   "name": "python3"
  },
  "language_info": {
   "codemirror_mode": {
    "name": "ipython",
    "version": 3
   },
   "file_extension": ".py",
   "mimetype": "text/x-python",
   "name": "python",
   "nbconvert_exporter": "python",
   "pygments_lexer": "ipython3",
   "version": "3.12.3"
  }
 },
 "nbformat": 4,
 "nbformat_minor": 2
}
