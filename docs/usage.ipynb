{
 "cells": [
  {
   "cell_type": "markdown",
   "metadata": {},
   "source": [
    "Usage of the package\n",
    "========\n",
    "\n",
    "First, some imports"
   ]
  },
  {
   "cell_type": "code",
   "execution_count": 1,
   "metadata": {},
   "outputs": [],
   "source": [
    "import rustworkx as rx\n",
    "\n",
    "from territories import TerritorialUnit, Territory, Partition"
   ]
  },
  {
   "cell_type": "markdown",
   "metadata": {},
   "source": [
    "## Creation of the tree\n",
    "\n",
    "The first step is to create a tree of known entities. This can be a very compute intensive task, depending on the tree size.\n",
    "\n",
    "Here we'll create a very simple tree."
   ]
  },
  {
   "cell_type": "code",
   "execution_count": 2,
   "metadata": {},
   "outputs": [
    {
     "data": {
      "text/plain": [
       "[0, 1, 2, 3, 4, 5, 6, 7, 8, 9, 10]"
      ]
     },
     "execution_count": 2,
     "metadata": {},
     "output_type": "execute_result"
    }
   ],
   "source": [
    "\n",
    "lyon = TerritorialUnit(\"Lyon\")\n",
    "marseille = TerritorialUnit(\"Marseille\", es_code=\"COM:2909\") # you can specify an ElasticSearch code\n",
    "paris = TerritorialUnit(\"Paris\")\n",
    "nogent = TerritorialUnit(\"Nogent\")\n",
    "pantin = TerritorialUnit(\"Pantin\")\n",
    "villeurbane = TerritorialUnit(\"Villeurbane\")\n",
    "sté = TerritorialUnit(\"Saint Etienne\")\n",
    "\n",
    "metropole = TerritorialUnit(\"Grand Lyon\", False, Partition.DEP)\n",
    "\n",
    "sud = TerritorialUnit(\"Sud\", False, Partition.REGION)\n",
    "idf = TerritorialUnit(\"Île-de-France\", False, Partition.REGION)\n",
    "rhone = TerritorialUnit(\"Rhône\", False, Partition.DEP)\n",
    "\n",
    "france = TerritorialUnit(\"France\", False, Partition.COUNTRY)\n",
    "\n",
    "\n",
    "# buiding the reference Part tree\n",
    "entities = (france, sud, idf, rhone, metropole, nogent, pantin, paris, marseille, sté, villeurbane, lyon)\n",
    "\n",
    "tree = rx.PyDiGraph()\n",
    "entities_indices = tree.add_nodes_from(entities)\n",
    "\n",
    "mapper = {o : idx for o, idx in zip(entities, entities_indices)}\n",
    "edges = [\n",
    "    (france, idf),\n",
    "    (france, sud),\n",
    "    \n",
    "    (idf, nogent),\n",
    "    (idf, pantin),\n",
    "    (idf, paris),\n",
    "\n",
    "    (sud, marseille),\n",
    "    (sud, rhone),\n",
    "\n",
    "    (rhone, metropole),\n",
    "    (rhone, sté),\n",
    "\n",
    "    (metropole, villeurbane),\n",
    "    (metropole, lyon),\n",
    "    ]\n",
    "\n",
    "tree.add_edges_from([\n",
    "    (mapper[parent], mapper[child], None) for parent, child in edges\n",
    "])"
   ]
  },
  {
   "cell_type": "markdown",
   "metadata": {},
   "source": [
    "Once the tree is created, you need to assign it."
   ]
  },
  {
   "cell_type": "code",
   "execution_count": 3,
   "metadata": {},
   "outputs": [],
   "source": [
    "Territory.assign_tree(tree)"
   ]
  },
  {
   "cell_type": "markdown",
   "metadata": {},
   "source": [
    "Then, you can start to create territories from arbitrary entities."
   ]
  },
  {
   "cell_type": "code",
   "execution_count": 4,
   "metadata": {},
   "outputs": [],
   "source": [
    "a = Territory(sté, marseille)\n",
    "b = Territory(lyon, france)\n",
    "c = Territory(paris, nogent, pantin, lyon, lyon, metropole)\n",
    "d = Territory(lyon, villeurbane, marseille)\n",
    "e = Territory(rhone, idf)\n",
    "f = Territory(idf, marseille, metropole)"
   ]
  },
  {
   "cell_type": "markdown",
   "metadata": {},
   "source": [
    "Entities associated territories are represented in an efficient way : if all leaves of a parent node are included in the territory, they are simply replaced by their parent node."
   ]
  },
  {
   "cell_type": "code",
   "execution_count": 5,
   "metadata": {},
   "outputs": [
    {
     "data": {
      "text/plain": [
       "France"
      ]
     },
     "execution_count": 5,
     "metadata": {},
     "output_type": "execute_result"
    }
   ],
   "source": [
    "b # since Lyon is included in France, only France remains"
   ]
  },
  {
   "cell_type": "markdown",
   "metadata": {},
   "source": [
    "## Operations on entities\n",
    "\n",
    "Usual operation on territories works as expected :"
   ]
  },
  {
   "cell_type": "code",
   "execution_count": 6,
   "metadata": {},
   "outputs": [
    {
     "name": "stdout",
     "output_type": "stream",
     "text": [
      "Marseille|Saint Etienne Grand Lyon|Île-de-France\n",
      "France\n"
     ]
    }
   ],
   "source": [
    "# addition\n",
    "\n",
    "print(a, c)\n",
    "print(a + c) # This simplify to France"
   ]
  },
  {
   "cell_type": "code",
   "execution_count": 7,
   "metadata": {},
   "outputs": [
    {
     "name": "stdout",
     "output_type": "stream",
     "text": [
      "Marseille|Saint Etienne Marseille|Grand Lyon\n",
      "Saint Etienne\n"
     ]
    }
   ],
   "source": [
    "# substraction\n",
    "\n",
    "print(a, d)\n",
    "print(a - d) # only Saint Etienne remains"
   ]
  },
  {
   "cell_type": "markdown",
   "metadata": {},
   "source": [
    "More importantly, sets operations are also supported"
   ]
  },
  {
   "cell_type": "code",
   "execution_count": 8,
   "metadata": {},
   "outputs": [
    {
     "name": "stdout",
     "output_type": "stream",
     "text": [
      "Intersection of Marseille|Saint Etienne and Marseille|Grand Lyon is Marseille\n",
      "Union of Grand Lyon|Île-de-France and Marseille|Grand Lyon|Île-de-France is Marseille|Grand Lyon|Île-de-France\n"
     ]
    }
   ],
   "source": [
    "# intersection\n",
    "print(f\"Intersection of {a} and {d} is {a & d}\")\n",
    "\n",
    "# union\n",
    "print(f\"Union of {c} and {f} is {f | c}\")"
   ]
  }
 ],
 "metadata": {
  "kernelspec": {
   "display_name": ".venv",
   "language": "python",
   "name": "python3"
  },
  "language_info": {
   "codemirror_mode": {
    "name": "ipython",
    "version": 3
   },
   "file_extension": ".py",
   "mimetype": "text/x-python",
   "name": "python",
   "nbconvert_exporter": "python",
   "pygments_lexer": "ipython3",
   "version": "3.12.3"
  }
 },
 "nbformat": 4,
 "nbformat_minor": 2
}
