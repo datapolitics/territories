{
 "cells": [
  {
   "cell_type": "markdown",
   "metadata": {},
   "source": [
    "Usage of the package\n",
    "========\n",
    "\n",
    "First, some imports"
   ]
  },
  {
   "cell_type": "code",
   "execution_count": 1,
   "metadata": {},
   "outputs": [],
   "source": [
    "import gzip\n",
    "import pickle\n",
    "import random\n",
    "from collections import namedtuple\n",
    "\n",
    "from territories import Territory, MissingTreeCache"
   ]
  },
  {
   "cell_type": "markdown",
   "metadata": {},
   "source": [
    "## Creation of the tree\n",
    "\n",
    "The first step is to create a tree of known entities. This can be a very compute intensive task, depending on the tree size. That is why, by default, once created, the tree is stored on disk.\n",
    "\n",
    "Here we will create a very simple tree out of the **tree.txt** file."
   ]
  },
  {
   "cell_type": "code",
   "execution_count": 2,
   "metadata": {},
   "outputs": [],
   "source": [
    "Node = namedtuple('Node', ('id', 'parent_id', 'label', 'level'))\n",
    "split = lambda x: (arg if arg != 'null' else None for arg in x[:-1].split('; '))\n",
    "\n",
    "try:\n",
    "    Territory.load_tree()\n",
    "except MissingTreeCache:\n",
    "    with open(\"tree.txt\", \"r\") as file:\n",
    "        lines = file.readlines()\n",
    "        stream = ([Node(*split(x) )for x in lines])\n",
    "        Territory.build_tree(data_stream=stream, save_tree=False)"
   ]
  },
  {
   "cell_type": "markdown",
   "metadata": {},
   "source": [
    "Then, you can start to create territories from arbitrary territoiral units."
   ]
  },
  {
   "cell_type": "markdown",
   "metadata": {},
   "source": [
    "Entities associated territories are represented in an efficient way : if all leaves of a parent node are included in the territory, they are simply replaced by their parent node."
   ]
  },
  {
   "cell_type": "code",
   "execution_count": 3,
   "metadata": {},
   "outputs": [
    {
     "name": "stdout",
     "output_type": "stream",
     "text": [
      "Monceaux-l'Abbaye | COM\n",
      "Val-Mont | COM\n",
      "Pila-Canale | COM\n",
      "Chambry | COM\n",
      "Tresques | COM\n",
      "Doudrac | COM\n",
      "Ners | COM\n",
      "Bonneval-sur-Arc | COM\n",
      "Sainte-Eulalie-en-Royans | COM\n",
      "Guinecourt | COM\n",
      "Auchy-lez-Orchies | COM\n",
      "Thoirette-Coisia | COM\n"
     ]
    }
   ],
   "source": [
    "# some node of the tree\n",
    "print('\\n'.join([f\"{e.name} | {e.partition_type}\" for e in random.sample(Territory.tree.nodes(), 12)]))"
   ]
  },
  {
   "cell_type": "code",
   "execution_count": 4,
   "metadata": {},
   "outputs": [],
   "source": [
    "with open(\"tree_large.gzip\", \"rb\") as file:\n",
    "    lines = pickle.loads(gzip.decompress(file.read()))\n",
    "\n",
    "stream = ([Node(*split(x) )for x in lines])\n",
    "Territory.build_tree(data_stream=stream)\n",
    "\n",
    "a = Territory.from_names(\"COM:69123\", \"COM:93055\", \"COM:94052\")\n",
    "b = Territory.from_names(\"COM:27429\", \"REG:84\", \"DEP:75\")\n",
    "c = Territory.from_names(\"COM:38185\", \"COM:31555\", \"REG:11\")\n",
    "d = Territory.from_names(\"COM:33063\", \"COM:13055\", \"REG:28\")\n",
    "e = Territory.from_names(\"COM:35238\", \"COM:35047\", \"DEP:27\")\n",
    "f = Territory.from_names(\"COM:59350\", \"COM:38442\", \"REG:53\")"
   ]
  },
  {
   "cell_type": "markdown",
   "metadata": {},
   "source": [
    "You can crate a territory with names of territorial units."
   ]
  },
  {
   "cell_type": "code",
   "execution_count": 4,
   "metadata": {},
   "outputs": [
    {
     "data": {
      "text/plain": [
       "Paris 6e|Lille|Rhône"
      ]
     },
     "execution_count": 4,
     "metadata": {},
     "output_type": "execute_result"
    }
   ],
   "source": [
    "ter = Territory.from_names(\"DEP:69\", \"COM:59350\", \"ARR:75106\")\n",
    "ter"
   ]
  },
  {
   "cell_type": "markdown",
   "metadata": {},
   "source": [
    "If names are invalid, an `NotOnTree` exception will be raised."
   ]
  },
  {
   "cell_type": "code",
   "execution_count": 5,
   "metadata": {},
   "outputs": [
    {
     "name": "stdout",
     "output_type": "stream",
     "text": [
      "garbage, do not exist where not found in the territorial tree\n"
     ]
    }
   ],
   "source": [
    "try:\n",
    "    Territory.from_names(\"DEP:69\", \"do not exist\", \"garbage\")\n",
    "except Exception as e:\n",
    "    print(e)"
   ]
  },
  {
   "cell_type": "markdown",
   "metadata": {},
   "source": [
    "Territories are jsons serializable, you can simply return them from an API endpoint"
   ]
  },
  {
   "cell_type": "code",
   "execution_count": 6,
   "metadata": {},
   "outputs": [
    {
     "name": "stdout",
     "output_type": "stream",
     "text": [
      "[\n",
      "    {\n",
      "        \"name\": \"Rh\\u00f4ne\",\n",
      "        \"tu_id\": \"DEP:69\",\n",
      "        \"atomic\": false,\n",
      "        \"partition_type\": \"DEP\",\n",
      "        \"postal_code\": null\n",
      "    },\n",
      "    {\n",
      "        \"name\": \"Lille\",\n",
      "        \"tu_id\": \"COM:59350\",\n",
      "        \"atomic\": true,\n",
      "        \"partition_type\": \"COM\",\n",
      "        \"postal_code\": null\n",
      "    },\n",
      "    {\n",
      "        \"name\": \"Paris 6e\",\n",
      "        \"tu_id\": \"ARR:75106\",\n",
      "        \"atomic\": true,\n",
      "        \"partition_type\": \"ARR\",\n",
      "        \"postal_code\": null\n",
      "    }\n",
      "]\n"
     ]
    }
   ],
   "source": [
    "import json\n",
    "\n",
    "print(json.dumps(ter, indent=4))"
   ]
  },
  {
   "cell_type": "markdown",
   "metadata": {},
   "source": [
    "## Operations on territories\n",
    "\n",
    "\n",
    "Usual operation on territories works as expected :"
   ]
  },
  {
   "cell_type": "code",
   "execution_count": 8,
   "metadata": {},
   "outputs": [
    {
     "name": "stdout",
     "output_type": "stream",
     "text": [
      "Pantin|Lyon|Nogent-sur-Marne Grenoble|Toulouse|Île-de-France\n",
      "Grenoble|Lyon|Toulouse|Île-de-France\n"
     ]
    }
   ],
   "source": [
    "# addition\n",
    "\n",
    "print(a, c)\n",
    "print(a + c)"
   ]
  },
  {
   "cell_type": "code",
   "execution_count": 9,
   "metadata": {},
   "outputs": [
    {
     "name": "stdout",
     "output_type": "stream",
     "text": [
      "Pantin|Lyon|Nogent-sur-Marne Bordeaux|Marseille|Normandie\n",
      "Pantin|Lyon|Nogent-sur-Marne\n"
     ]
    }
   ],
   "source": [
    "# substraction\n",
    "\n",
    "print(a, d)\n",
    "print(a - d)"
   ]
  },
  {
   "cell_type": "markdown",
   "metadata": {},
   "source": [
    "More importantly, sets operations are also supported :"
   ]
  },
  {
   "cell_type": "code",
   "execution_count": 10,
   "metadata": {},
   "outputs": [
    {
     "name": "stdout",
     "output_type": "stream",
     "text": [
      "Intersection of Pantin|Lyon|Nogent-sur-Marne and Bordeaux|Marseille|Normandie is {}\n",
      "Union of Grenoble|Toulouse|Île-de-France and Saint-Pierre-de-Chartreuse|Lille|Bretagne is Toulouse|Grenoble|Saint-Pierre-de-Chartreuse|Lille|Île-de-France|Bretagne\n"
     ]
    }
   ],
   "source": [
    "# intersection\n",
    "print(f\"Intersection of {a} and {d} is {a & d}\")\n",
    "\n",
    "# union\n",
    "print(f\"Union of {c} and {f} is {f | c}\")"
   ]
  },
  {
   "cell_type": "markdown",
   "metadata": {},
   "source": [
    "Territorial units may have parents or children, but Territory do not. As a territory may be formed of several territorial units, it has a LCA, a Lowest Common Ancestor."
   ]
  },
  {
   "cell_type": "code",
   "execution_count": 11,
   "metadata": {},
   "outputs": [
    {
     "data": {
      "text/plain": [
       "Auvergne-Rhône-Alpes"
      ]
     },
     "execution_count": 11,
     "metadata": {},
     "output_type": "execute_result"
    }
   ],
   "source": [
    "lyon_and_grenoble = Territory.from_names(\"COM:38185\", \"COM:69123\")\n",
    "\n",
    "lyon_and_grenoble.lowest_common_ancestor()"
   ]
  },
  {
   "cell_type": "markdown",
   "metadata": {},
   "source": [
    "You can easily retrieve all ancestors of a territory with the `.ancestors()` method, and respectively all of its descendants with the `.descendants()` method :"
   ]
  },
  {
   "cell_type": "code",
   "execution_count": 12,
   "metadata": {},
   "outputs": [
    {
     "data": {
      "text/plain": [
       "{France,\n",
       " Auvergne-Rhône-Alpes,\n",
       " Île-de-France,\n",
       " Val-de-Marne,\n",
       " Seine-Saint-Denis,\n",
       " Rhône}"
      ]
     },
     "execution_count": 12,
     "metadata": {},
     "output_type": "execute_result"
    }
   ],
   "source": [
    "a.ancestors()"
   ]
  },
  {
   "cell_type": "code",
   "execution_count": 13,
   "metadata": {},
   "outputs": [
    {
     "name": "stdout",
     "output_type": "stream",
     "text": [
      "Pantin|Lyon|Nogent-sur-Marne\n"
     ]
    },
    {
     "data": {
      "text/plain": [
       "{Lyon,\n",
       " Pantin,\n",
       " Nogent-sur-Marne,\n",
       " Lyon 1er,\n",
       " Lyon 4e,\n",
       " Lyon 5e,\n",
       " Lyon 3e,\n",
       " Lyon 6e,\n",
       " Lyon 7e,\n",
       " Lyon 9e,\n",
       " Lyon 8e,\n",
       " Lyon 2e}"
      ]
     },
     "execution_count": 13,
     "metadata": {},
     "output_type": "execute_result"
    }
   ],
   "source": [
    "print(a)\n",
    "a.descendants(include_itself=True)"
   ]
  },
  {
   "cell_type": "markdown",
   "metadata": {},
   "source": [
    "Territories are `True` if they are not empty, but you should probably use the `is_empty()` method for clarity."
   ]
  },
  {
   "cell_type": "code",
   "execution_count": 14,
   "metadata": {},
   "outputs": [
    {
     "name": "stdout",
     "output_type": "stream",
     "text": [
      "not empty\n",
      "empty\n"
     ]
    }
   ],
   "source": [
    "if Territory.from_names(\"DEP:69\"):\n",
    "    print(\"not empty\")\n",
    "\n",
    "if Territory.from_names():\n",
    "    print(\"empty\")\n",
    "\n",
    "if Territory.from_names().is_empty():\n",
    "    print(\"empty\")"
   ]
  },
  {
   "cell_type": "code",
   "execution_count": 27,
   "metadata": {},
   "outputs": [
    {
     "data": {
      "text/plain": [
       "Limersheim|Sarrageois|Vandenesse|Archelange|Neuviller-la-Roche|Héry|Palaja|Liesle|Beaufou|Saint-Brandan|Saint-Georges-de-Luzençon|Vallentigny|Isola|Nordhouse|Péreyres|Weyer|Petersbach|Bayecourt|Arrentières|Quenne|Saint-Andelain|Saint-Étienne-du-Valdonnez|Béard|La Grange|Aunay-en-Bazois|Villecomtal|Mariac|Chanéac|Villiers-Louis|Autigny-la-Tour|Champlemy|Mognéville|Martinet|Roches|Sombacour|Blessac|Vinneuf|Thillombois|Montgradail|Brousses-et-Villaret|Chauvoncourt|Nommay|Saint-Christophe-du-Bois|Schœnbourg|Domèvre-sur-Durbion|Spéracèdes|Montigny-lès-Arsures|Bartherans|Aubigné-sur-Layon|Sarry|Crevant|Meistratzheim|Mandeure|Soulaines-sur-Aubance|Plouédern|Bagneux-la-Fosse|Tréguidel|Rocles|Menetou-Salon|Val-d'Auzon|La Vernelle|Cézy|Saint-Divy|Argelès-sur-Mer|La Chapelle-Taillefert|Saint-Côme-d'Olt|Virey-sous-Bar|Autréville-Saint-Lambert|Macey|Viviers-le-Gras|Mende|Badevel|Saint-Jacut-de-la-Mer|Saint-Aubin-les-Forges|Gimouille|Pierrefontaine-les-Varans|Roquefort-sur-Soulzon|Cransac|Moulainville|Frœschwiller|Lons-le-Saunier|Barnas|Briec|Belmont|Dangolsheim|Hôpital-Camfrout|Saint-Julien-lès-Montbéliard|Dénezé-sous-Doué|Nailly|Oberhoffen-sur-Moder|Ménil-sur-Belvitte|Douarnenez|Err|La Gaude|Trémouilles|Rahon|Montholier|Artigues|Saint-Hippolyte|Aubigny-Les Clouzeaux|Salavas|Goux-les-Usiers|Saint-Léger-le-Petit|Talcy|Oms|Hohengœft|Piano|Saint-Martin-des-Champs|Reipertswiller|Entre-deux-Monts|Coëx|Vandoncourt|La Barre|Scey-Maisières|Bouy-sur-Orvin|Carisey|Fontguenand|Pludual|Lairière|Étraye|Trassanel|Noé-les-Mallets|Marquein|Foucaucourt-sur-Thabas|La Croisille-sur-Briance|La Baffe|Thuès-Entre-Valls|Trémont-sur-Saulx|Lairoux|Saint-Sigismond|Mespaul|Sainte-Marie-la-Mer|Crux-la-Ville|Flavin|Troussey|Laneuville-sur-Meuse|Ville-di-Paraso|Argol|Arcis-sur-Aube|Saint-Pardoux-le-Lac|Druelle Balsac|Blancherupt|Polisy|Marchéville-en-Woëvre|Saulx-lès-Champlon|Saint-André-en-Vivarais|Saint-Vallier-de-Thiey|Vernais|Saint-Hilaire-sous-Romilly|Languédias|Morley|Limony|Chacenay|Arras-sur-Rhône|Santans|Villeneuve-l'Archevêque|Girmont-Val-d'Ajol|Saint-Alban-Auriolles|Parey-sous-Montfort|Dambach-la-Ville|Sauvigny|Colomars|Saint-Nabord|Lunery|Ourouer-les-Bourdelins|Buxeuil|Asnières-sous-Bois|Steinseltz|Moissy-Moulinot|Arlebosc|Villers-le-Sec|La Bourgonce|Les Brouzils|Saint-Couat-d'Aude|Quintillan|Nantillois|Cademène|Saint-Étienne-de-Tinée|Saint-Jean-Pla-de-Corts|Saint-Michel-en-Brenne|Peaugres|Montlaur|Fravaux|Senones|Erdre-en-Anjou|La Celle-sur-Nièvre|Chaulgnes|Saint-Sulpice-les-Champs|Annéot|Xamontarupt|Ortoncourt|Mhère|Bulat-Pestivien|Stundwiller|Le Mazeau|Pietra-di-Verde|Magoar|Seignalens|Donazac|Plougar|Fournets-Luisans|Chastanier|Ciez|Saint-Bonnet-Briance|Benet|Saint-Andéol-de-Berg|Saint-Urbain|Piedicroce|Mouhers|Fournaudin|Morizécourt|Fontenelle-Montby|Taurinya|Blaison-Saint-Sulpice|Pourcharesses|Llo|Moulins-en-Tonnerrois|Miéry|Xaffévillers|Batzendorf|Dernacueillette|Cugand|Maison-des-Champs|Saint-Léger-sous-Brienne|Vosbles-Valfin|Les Paroches|Fonters-du-Razès|Souligny|Jalesches|Romagne-sous-Montfaucon|Châteauneuf-sur-Cher|Ricaud|Puilaurens|Ribouisse|Damblain|Châteauneuf|Oberhaslach|Oëlleville|Caulnes|Ménil-de-Senones|Saint-Jeannet|Byans-sur-Doubs|Escragnolles|Apremont|Pléneuf-Val-André|Préaux|Azat-Châtenet|Véria|Aigues-Vives|Jésonville|Coëtmieux|Pousthomy|Ventron|Champsac|Empurany|Montrozier|Roquefeuil|Vornay|Palantine|La Meyze|Condé|Le Vernoy|Louppy-le-Château|Vanosc|Belleray|Brocourt-en-Argonne|Feuges|Évaux-les-Bains|Champagné-les-Marais|Tranqueville-Graux|Beaumont-du-Lac|Subligny|Saint-Goussaud|Nieul-le-Dolent|Fontain|Compeyre|Saint-Julien-le-Châtel|Villotte-sur-Aire|Chessy-les-Prés|Mouzay|Bretigney|Saint-Martin-Lys|Boissia|Saint-Alpinien|Attigny|Maisons-lès-Soulaines|Isches|Ferran|Saint-Loup-des-Bois|Tréville|Saint-Jean-de-Beugné|Laire|Montreuil|Ségry|Lemps|Saujac|Saint-Gilles-Vieux-Marché|Uhlwiller|Le Val d'Ocre|Venesmes|Menétrux-en-Joux|Neubois|Réal|Maupas|Le Vieux-Marché|Voué|Pierrefitte|Le Latet|Aschbach|Marigny-l'Église|Relanges|Valdahon|Prey|La Réorthe|Arcey|Beausite|La Malène|Domprel|Sichamps|Vouthon-Bas|Clairavaux|Trois-Vèvres|Saint-Marcel|Nançay|Fendeille|Cagnes-sur-Mer|Hévilliers|Saint-Pôtan|Mareuil-sur-Arnon|Hessenheim|Malves-en-Minervois|Lanhères|Chavagnes-les-Redoux|Valff|Aromas|Andon|Rédené|Saint-Quay-Perros|Sancoins|Clohars-Fouesnant|Avrillé|Le Chateley|Bersaillin|Quatzenheim|Vignot|Thillot|Jeuxey|Le Monastère|Casteil|Saint-Augustin-des-Bois|Maligny|Laurabuc|Saint-Launeuc|Tersannes|L'Orbrie|Cercy-la-Tour|Terval|Merles-sur-Loison|Vassy-sous-Pisy|La Trinité|Rollainville|Gurgy|Croisy|Biot|Montner|Soultz-les-Bains|Villabon|Villette-lès-Arbois|La Motte-Feuilly|Aulon|Empury|Montreuil-sur-Barse|Waly|Morannes sur Sarthe-Daumeray|Sauvigny-les-Bois|Hannonville-sous-les-Côtes|Villemagne|Valravillon|Aubusson|Recanoz|Burey-en-Vaux|Uttwiller|Boulages|Diou|Souilhe|Domecy-sur-le-Vault|Dirol|Voujeaucourt|Luçay-le-Mâle|Miraval-Cabardès|Rye|Paroy|Chéroy|Sury-ès-Bois|Waldhambach|La Bretenière|Heugnes|Bonson|Mérillac|Vicq-sur-Nahon|Neuville-sur-Seine|Saint-Maur|Guiclan|Saint-Estève|Champignol-lez-Mondeville|Rancon|Lannebert|Ville-en-Woëvre|Talasani|Chaumont-devant-Damvillers|Contrisson|La Rivière-de-Corps|Attignéville|Villedubert|Nieul|Muzeray|Saint-Sulpice-les-Feuilles|Bourgs sur Colagne|L'Épine|Aguessac|Obersteinbach|Aghione|Marcé|Saint-Martin-d'Ordon|Rempnat|Poiseux|Belval|Sirod|Speloncato|Ugny-sur-Meuse|Gimécourt|Rhèges|Val-de-Dagne|Randevillers|Saint-Paul-en-Pareds|Braux|Bournazel|Campouriez|Saint-Jouvent|Avocourt|Pied-de-Borne|Piobetta|Cour-Saint-Maurice|Frain|Poullaouen|Brinay|Utelle|Caudiès-de-Fenouillèdes|Lansac|Fréhel|Plestin-les-Grèves|Précy-Saint-Martin|Longcochon|Saint-Santin|Cabrespine|Autreville|Dommartin-lès-Remiremont|Vendeuvre-sur-Barse|Clohars-Carnoët|Saint-Sulpice-le-Dunois|Plélan-le-Petit|Maîche|Mouans-Sartoux|Saint-Hilaire-de-Court|Maisonsgoutte|Andryes|Davézieux|Marmoutier|Plaimbois-du-Miroir|Ravilloles|Poulaines|Châtelus-Malvaleix|Cours-les-Barres|Vomécourt|Foissac|Vézannes|Cize|Saint-Pouange|Pietraserena|Moncontour|Scherwiller|Bergbieten|Struth|Norroy|Erquy|Les Rairies|La Rivière-Drugeon|Menestreau|Eichhoffen|Viviez|Lignières|Lent|Chandolas|Guilherand-Granges|Rochefort-sur-Loire|Plourhan|Longeville-en-Barrois|Damas-et-Bettegney|Reynès|Vareilles|Montmaur|Saint-Genou|La Digne-d'Aval|Le Frasnois|Casevecchie|Belvis|La Jaudonnière|Cabestany|Lignol-le-Château|Poullan-sur-Mer|Malleret-Boussac|Landrévarzec|Coteaux du Lizon|Malay-le-Grand|Eybouleuf|Villette-lès-Dole|Charny-le-Bachot|Tressandans|Consenvoye|Vinets|Marlenheim|Brasparts|Urbeis|Les Ilhes|Chauffour-lès-Bailly|Viviers-sur-Artaut|Saint-Victor|Lento|Coray|Gardefort|Nouzerolles|Oberhoffen-lès-Wissembourg|Le Juch|Bettegney-Saint-Brice|Moulins-Engilbert|Sallèles-d'Aude|Apremont-la-Forêt|Loc-Eguiner|Forstheim|Lanty|Saint-Léger-des-Vignes|Brixey-aux-Chanoines|La Pomarède|Rapale|Chaumard|Nayemont-les-Fosses|Saint-Igeaux|Pont-de-Poitte|Saint-Civran|Tendron|Geruge|Azay-le-Ferron|Nevers|Épinonville|Vulaines|Hennemont|Saint-Privat|Le Boulou|Boussac|Gardie|Charmes-sur-Rhône|Petosse|Saint-André-de-Najac|Domfessel|Prunet|Menton|La Neuveville-devant-Lépanges|Chambonchard|La Force|Campile|Saint-Donan|Blismes|Galéria|Lanmérin|Vevy|Marcorignan|Villeblevin|Charnas|Biblisheim|Mazerolles-le-Salin|Ladern-sur-Lauquet|Jard-sur-Mer|Fourcatier-et-Maison-Neuve|Les Cerqueux|Le Chautay|Quins|Les Hays|Couvertpuis|Esnon|Vaulry|Paron|Saint-Martin-d'Heuille|Mercey-le-Grand|Allenc|Arnac-la-Poste|Beaufort-Orbagna|Taillet|Ferreux-Quincey|Franey|Vocance|Hadigny-les-Verrières|Ranrupt|Thorigny-sur-Oreuse|Lys-Haut-Layon|Ploudalmézeau|Villemolaque|Abaucourt-Hautecourt|Auriac|Torcy-le-Grand|Champignelles|Ornes|Brousse-le-Château|Mietesheim|Saint-Martin-sur-Lavezon|Vauquois|Stotzheim|Cressat|Greffeil|Milizac-Guipronvel|Arboussols|Saint-Bauzile|Montussaint|Saint-Rieul|Moreilles|Saint-Paul|Saint-Loup|Mésandans|Humbligny|Pontrieux|Limon|Villecien|Douzens|Saint-Florentin|Thierville-sur-Meuse|Loqueffret|Junay|Dolaincourt|Saint-Maurice|Villeneuve-Minervois|Braquis|Roquecourbe-Minervois|Messon|Mackenheim|Fouchères-aux-Bois|Ambacourt|Espeyrac|Saint-Marien|Châtenois|Saint-Frézal-d'Albuges|Peyrabout|Racines|Salles-d'Aude|La Boissière-des-Landes|Aix-Villemaur-Pâlis|Taden|Trois-Fonds|Bages|Barberey-Saint-Sulpice|Hadol|Weyersheim|Lormes|Monze|Rothbach|Rosureux|Bourguignons|Taulis|Generville|Vouillon|Saint-Goazec|Avreuil|Martincourt-sur-Meuse|Saint-Laurent-sur-Sèvre|Osmoy|Ernolsheim-lès-Saverne|Dahlenheim|Le Pêchereau|Saint-Aubin|Ansignan|Augères|Osse|Kriegsheim|Remiremont|Villardebelle|Ancy-le-Franc|Saint-Yrieix-les-Bois|Méménil|Lanuéjols|Wildersbach|Saint-Jean-de-Paracol|Flavigny|Bolazec|Bar-le-Duc|Écurey-en-Verdunois|Urbanya|Hilsenheim|Saint-Brice-sur-Vienne|Montfleur|Fresnes|Choux|Uriménil|Molay|Centrès|Saulzais-le-Potier|Thizay|Les Bordes-Aumont|Druy-Parigny|Fomerey|Augne|Guyans-Vennes|Plouézec|Saint-Georges-sur-Loire|Rospez|Pézilla-la-Rivière|Saint-Martin-le-Vieil|Chaussenans|Limousis|Montréverd|Salins-les-Bains|Candé|Bonnard|Samson|Dompierre-les-Tilleuls|Tréflévénez|Saint-Juan|Montrodat|Nozay|Ménil-aux-Bois|Mas-Saintes-Puelles|Busy|Onoz|Le Magny|Cabris|Plouvien|Largentière|Schleithal|Repel|Tressignaux|Pierrefiche|Serralongue|Martizay|Plouasne|Coclois|Logonna-Daoulas|Chalabre|Noth|Sartes|Strasbourg|Narcy|Regnéville-sur-Meuse|Celon|Goux-lès-Dambelin|Savigny-sur-Clairis|Étray|Saint-Glen|Pouilly-sur-Loire|Vignoux-sur-Barangeon|Vouxey|Hénansal|Estaing|Thauvenay|La Bretonnière-la-Claye|Baudricourt|Cogna|Lanmodez|Le Vibal|Maisons-lès-Chaource|Midrevaux|Mouron-sur-Yonne|Gruey-lès-Surance|Choisey|Villers-le-Lac|Ozon|Liny-devant-Dun|Broussey-en-Blois|Cépie|Troyes|Nançois-sur-Ornain|Rognon|Lampertsloch|Chiddes|Petite-Chaux|Rosoy|Seebach|Gungwiller|Osselle-Routelle|Saint-Amand-Magnazeix|Rilhac-Lastours|Saint-Maurice-Colombier|Bar-sur-Seine|Boucieu-le-Roi|Aureil|Farinole|La Bresse|Palhers|Lescure-Jaoul|Plougoulm|Escamps|Vault-de-Lugny|La Postolle|Saint-Julien-de-Briola|Alénya|La Couture|Obterre|Pierrefiche|Baraqueville|Glux-en-Glenne|Les Landes-Genusson|Cervon|Poggio-di-Nazza|Magny-Châtelard|Verdun|Salmbach|Gigny|Occhiatana|Réaumur|Les Crozets|Saleilles|Les Planches-en-Montagne|Caunettes-en-Val|Lombard|Montivernage|Verrières|Pareid|Bellecombe|Griesheim-près-Molsheim|Mournans-Charbonny|Vadans|Saint-Palais|Peyriac-Minervois|Corneilla-del-Vercol|Cipières|Tréméven|Belleville-sur-Meuse|Tourrettes-sur-Loup|Wingen-sur-Moder|Beauvène|Charly|Cubrial|Montferrand|Issel|Villiers-Herbisse|Briollay|Savigny-Poil-Fol|La Roche-sur-Yon|Trévillach|Stigny|Bercenay-en-Othe|Trédaniel|Futeau|Sainte-Radégonde-des-Noyers|Montjaux|La Nocle-Maulaix|Rivarennes|Briod|Belleville-sur-Loire|Labastide-en-Val|Miré|Joch|Barbey-Seroux|Longchamp-sur-Aujon|Villeperrot|Fouronnes|Pioggiola|Pero-Casevecchie|Briantes|Villeneuve-la-Guyard|Apremont-sur-Allier|Soulangis|Vaudoncourt|Plédéliac|Willgottheim|Saint-Jean-d'Alcapiès|Saint-Cyran-du-Jambot|Trédias|Dambenois|Ringendorf|La Harmoye|Ailleville|Le Cayrol|Souanyas|Monnetay|Auge|Saint-Ambroix|Saint-Germain-des-Bois|Basse-sur-le-Rupt|Cléry-le-Grand|Charmois-l'Orgueilleux|Wintzenheim-Kochersberg|Schaeffersheim|Lury-sur-Arnon|Nantiat|Ladoye-sur-Seille|Brû|Vézinnes|Vezzani|Silmont|Ville-sur-Cousances|Pietracorbara|Penta-di-Casinca|Briançonnet|Saint-Izaire|Saint-Amand|Genestelle|Vieilley|Conliège|Lissay-Lochy|Seltz|Maucourt-sur-Orne|Nant-le-Grand|Fouchères|Chamoy|Corbère-les-Cabanes|Villers-Grélot|Reuilly|Saint-Moré|Colroy-la-Roche|Ottersthal|Bussières|Brechainville|Harskirchen|Gabrias|La Bezole|Puginier|Saint-Martin-le-Mault|Cuffy|Julvécourt|Brabant-en-Argonne|Valbonne|Sainte-Croix-Vallée-Française|Rouvrois-sur-Meuse|Sanilhac|Sévérac d'Aveyron|Villeloup|L'Île-Rousse|Montfaucon|Chemenot|Chaussin|Bussy-la-Pesle|Bief-des-Maisons|Le Châtenet-en-Dognon|Montbéliardot|Bettoncourt|Les Fins|Saverne|Luc-sur-Orbieu|Roville-aux-Chênes|Évaux-et-Ménil|Bainville-aux-Saules|Saint-Parres-aux-Tertres|Rembercourt-Sommaisne|Le Cloître-Pleyben|Rigarda|Sazeray|Bétête|Eix|Laubach|Châteauneuf-Grasse|La Ménitré|Fort-du-Plasne|Russ|Champvoux|Serruelles|Argançon|Colombier-Fontaine|Camurac|Malay-le-Petit|Pordic|Saint-Jean-du-Bruel|Odratzheim|Lézignan-Corbières|Brassy|Villery|Vioménil|Plaines-Saint-Lange|Racécourt|Vyt-lès-Belvoir|Brinon-sur-Sauldre|Rottelsheim|Courteron|Saint-Silvain-Bas-le-Roc|Lavans-lès-Saint-Claude|Dimbsthal|Garchizy|Ronchaux|La Forêt-du-Temple|Coustouge|Retschwiller|Saudrupt|Saint-Léonard-de-Noblat|Saint-Bauzile|Bourgheim|Malange|Raissac-d'Aude|Aouze|Orgelet|Saint-Denoual|Tournissan|Gemaingoutte|Sanvensa|Brugairolles|Comigne|Le Hinglé|Saint-Pardoux-le-Neuf|Saint-Paul-de-Vence|Montrond-le-Château|Vellerot-lès-Vercel|Morlac|Adam-lès-Vercel|Novillars|Veaugues|Dun-le-Poëlier|Furchhausen|Ria-Sirach|Gironcourt-sur-Vraine|Saint-Lyé|Vals-les-Bains|Wolschheim|Eberbach-Seltz|Pont-sur-Meuse|Château-Guibert|Oermingen|Rezay|Plounévez-Quintin|Chamblay|Cohiniac|Baix|Labatie-d'Andaure|Ampriani|Trépot|Sonnac-sur-l'Hers|Eckwersheim|San-Martino-di-Lota|Neuilly-en-Dun|Dossenheim-sur-Zinsel|Saint-Andéol-de-Vals|Kesseldorf|Les Fourgs|Casabianca|Mantallot|Harchéchamp|Saint-Août|Bras-sur-Meuse|Macornay|Planchez|Sougé|Saint-Maurice-sous-les-Côtes|Pellevoisin|Venise|Planty|Bellevigne-en-Layon|Péault|Vatan|Ploulec'h|By|Sauclières|Saint-Baraing|Maillet|Dolancourt|Coupiac|Langolen|Loscouët-sur-Meu|Bazegney|Fessenheim-le-Bas|Fontette|Tox|La Loge-Pomblin|Vezins|Cernans|Hengwiller|Albé|Nedde|Kermoroc'h|Romange|Silvareccio|Saint-Clément|Côtebrune|Saint-Plantaire|Montenois|Lanhouarneau|Charbuy|Saint-Nicolas-du-Pélem|Osséja|Pagny-la-Blanche-Côte|Gerbamont|Felce|Lazenay|Bosmie-l'Aiguille|Siegen|Coursan|Ouanne|Montbéliard|Herbisse|Irancy|Asnois|Chemin|Champagnac-la-Rivière|Quirbajou|Montreuil-Bellay|Tannay|Saint-Juvat|Devecey|Pouilley-les-Vignes|Huelgoat|Nancuise|La Plaine|Châtelus-le-Marcheix|Rupt-en-Woëvre|Voigny|Tauriac-de-Camarès|Lac-des-Rouges-Truites|Bourneau|Bozas|Dambelin|Canohès|Maulan|Quimper|Void-Vacon|Villiers-le-Bois|Monthureux-sur-Saône|Ban-de-Laveline|Pagny-sur-Meuse|Sépeaux-Saint Romain|Lurcy-le-Bourg|Valençay|Châtillon-Guyotte|Le Langon|Dombrot-sur-Vair|Thoirette-Coisia|Laboule|Ronvaux|Clémont|Landrecourt-Lempire|Pouligny-Saint-Martin|La Tour-du-Meix|Marsac|Torcy-le-Petit|Gugnécourt|Gourvieille|Montzéville|Bannans|Vouvant|Salles-Courbatiès|Méasnes|Le Bodéo|Locquirec|Leyrat|Trémargat|Le Gué-de-Velluire|Burgille|Morsbronn-les-Bains|Crœttwiller|Saint-Aubin-sur-Aire|Bassemberg|Le Barcarès|Saint-Ouen-sur-Gartempe|Laissac-Sévérac l'Église|Saint-Laurent-de-la-Salle|Sellières|Loc-Brévalaire|Mazeley|Sibiril|Spoy|Flangebouche|Arlay|Lanuéjouls|Kirrwiller|Broissia|Chéronnac|Fours|La Bernardière|Chantrans|Razès|Trémorel|Schiltigheim|Hirschland|Molsheim|Béhuard|Villefort|Opio|Coubisou|Oulon|Roppenheim|Bindernheim|Bessay|La Chapelle-Orthemale|Laval-Roquecezière|Rouvrois-sur-Othain|Cornillé-les-Caves|Menades|Menaucourt|Gircourt-lès-Viéville|Indevillers|Darnieulles|Commercy|Cormost|Saint-Maurice-sur-Moselle|L'Aiguillon-sur-Vie|Roussennac|Blet|Pluduno|Gendrey|Les Fontenelles|Les Trois-Châteaux|Thiraucourt|Hardancourt|Tauriac-de-Naucelle|Saint-Aubin-sur-Yonne|Ferrières-les-Bois|Vauclusotte|Serviès-en-Val|Tonnerre|La Souterraine|Entraygues-sur-Truyère|Colombé-le-Sec|Sainte-Foy|Lanet|Saint-Gilles-Pligeaux|Oletta|Fleurey|Saint-Vincent-Sterlanges|Lampertheim|Lussat|La Loubière|Santa-Maria-Poggio|Saint-Loup-des-Chaumes|Crosey-le-Petit|Grâce-Uzel|Beuzec-Cap-Sizun|Écouflant|Mouthe|Tournon-sur-Rhône|Caux-et-Sauzens|Saint-Just-et-le-Bézu|Saint-Maurice-le-Vieil|Bocquegney|Créhen|Chassy|Plonéour-Lanvern|Ouvans|Muhlbach-sur-Bruche|Ménil-sur-Saulx|Châtillon-le-Duc|Vadelaincourt|Pelouse|Trouy|Le Broc|San-Nicolao|Séligney|Hanvec|Saint-Maurice-le-Girard|Achun|Targasonne|Angrie|Glénic|Dramelay|Urville|Wangen|Mauves|Mouliherne|Vannoz|Malicornay|Achères|Châteauneuf-Val-de-Bargis|Saint-Germain-de-Prinçay|Les Salles-Lavauguyon|Mars-sur-Allier|Meurville|Saint-Denis|Les Souhesmes-Rampont|Castagniers|Bar-sur-Aube|Châteauneuf-de-Randon|Dun-les-Places|Boisse-Penchot|Chapelle-Voland|Demange-Baudignécourt|Imphy|Bretignolles-sur-Mer|Aubinges|Biguglia|Saint-Mélany|Loupmont|Le Boupère|Saules|Le Dorat|Mécrin|Sans-Vallois|Villeneuve-sous-Pymont|Tréflaouénan|Molins-sur-Aube|Ruca|Lochwiller|Mirabel|Forges-sur-Meuse|Saint-Hippolyte|Lopérec|Lys|Schillersdorf|Bischholtz|Molinons|Fuilla|Lamballe-Armor|Suriauville|Plouhinec|Segré-en-Anjou Bleu|Eschbourg|Andelot-en-Montagne|Étréchy|Laubressel|La Cellette|Nancray|Janailhac|Landéhen|Chavanges|Tréduder|Moussoulens|Quarré-les-Tombes|Jugon-les-Lacs - Commune nouvelle|Montmorency-Beaufort|Montsalès|Vercel-Villedieu-le-Camp|Plats|Courcelles-sous-Châtenois|Venouse|Rochetrejoux|Gourdon|Loire-Authion|Saint-Martin-de-Boubaux|Nexon|Plonévez-du-Faou|Montperreux|Escandolières|Veyreau|Hénon|Chaource|Chamboret|Ventenac-en-Minervois|Lyas|Nessa|Saint-Jean-le-Centenier|Barr|Noël-Cerneux|Chilly-sur-Salins|Goudelin|Corcelles-Ferrières|Courtois-sur-Yonne|Cruscades|Corbigny|Belvoir|Vecoux|Soulce-Cernay|Champlive|Ventenac-Cabardès|Villards-d'Héria|Mignovillard|Verrières-de-Joux|Évans|Fralignes|Maury|Trenal|Mounes-Prohencoux|Caille|Saint-Pierre-le-Bost|Dannevoux|Zuani|Porta|Juvanzé|Brem-sur-Mer|Houécourt|Saint-Apollinaire-de-Rias|Dounoux|Cheffois|Châtin|Cezais|Saint-Jouan-de-l'Isle|Haudiomont|Senon|Le Chalard|Notre-Dame-de-Monts|Schirmeck|Villotte-devant-Louppy|Mégrit|Pont-de-Buis-lès-Quimerch|Les Ponts-de-Cé|Monthureux-le-Sec|Bouverans|Sahorre|Le Mériot|Carhaix-Plouguer|Pépieux|Bois-d'Arcy|Saint-Outrille|Villerserine|Montpeyroux|Goussaincourt|Mailhac|Taulé|Fayet|Sery|La Houssière|Patornay|Châteauneuf-Villevieille|Dampierre-sous-Bouhy|Saint-Connan|Domrémy-la-Pucelle|Plounéventer|Rumont|Valzergues|Armeau|Massangis|Saint-Chély-d'Aubrac|Lanildut|Campagne-sur-Aude|Saint-Samson-sur-Rance|Saint-Malo-en-Donziois|Dinsheim-sur-Bruche|Moirans-en-Montagne|Pont-d'Héry|Canaveilles|Trucy-sur-Yonne|Le Vermont|Plombières-les-Bains|Saint-Vincent-de-Barrès|Réville-aux-Bois|Les Villedieu|Neuville-sur-Ornain|Malviès|Pillemoine|Parnay|Saint-Louis-et-Parahou|Ivrey|Charency|Hindisheim|Saint-Vit|Ruvigny|Bénodet|Belcaire|Dieffenbach-lès-Wœrth|Tourch|Velaines|Bujaleuf|Salza|Fleury-devant-Douaumont|Jetterswiller|Artannes-sur-Thouet|Ardon|Mesves-sur-Loire|Villefavard|Ivory|Saint-Carreuc|Bourg-Bruche|Soye-en-Septaine|Heudicourt-sous-les-Côtes|Lahayville|Méobecq|Villegenon|Rimplas|Issamoulenc|Monthaut|Quévert|Saint-Georges-les-Bains|Nicey-sur-Aire|Vigoulant|Saint-Hilaire-en-Morvan|Saint-Didier-sous-Aubenas|Plouha|Bretonvillers|Saint-Rémy|Gramazie|Sisco|Les Ferres|Ploudaniel|Thorigny|Dinsac|San-Giovanni-di-Moriani|Monceaux-le-Comte|Puichéric|Plouégat-Guérand|Nixéville-Blercourt|Balignicourt|Saint-Mars-la-Réorthe|Dombasle-devant-Darney|Zeinheim|Rotalier|Pleubian|Beurey|Trémel|Droupt-Sainte-Marie|Saint-Lamain|Villars-Saint-Georges|Remennecourt|Montgueux|Saint-Rome-de-Tarn|Rix|Urtière|Chay|Ligny-le-Châtel|Fontenay-près-Vézelay|Villarzel-Cabardès|Bonnat|Gottesheim|Peillon|Le Vernois|Beuvron|Mittelbergheim|Saint Bonnet-Laval|La Petite-Raon|Pezens|Presly|Charnod|Schwenheim|Coatascorn|Saint-Maur|Montrond|Campi|Canale-di-Verde|Cerniébaud|Ginoles|Charny-sur-Meuse|Joigny|Les Epesses|Saint-Sernin|Dammartin-Marpain|Comps-la-Grand-Ville|Assigny|Woël|La Bazeuge|Madecourt|Le Noyer|Harmonville|Èvres|La Roche-Jaudy|Saint-Pierreville|Hunspach|La Chapelle-Neuve|Vernierfontaine|Chastellux-sur-Cure|Semondans|Pacy-sur-Armançon|Bellegarde-du-Razès|Thury|Leuhan|Bouy-Luxembourg|Burgnac|Serbonnes|Flogny-la-Chapelle|Gevry|Le Deschaux|Les Grandes-Chapelles|Le Poinçonnet|Sivry-la-Perche|Dainville-Bertheléville|Plélauff|Saint-Usage|Mothern|Fougerolles|Campôme|Fournet-Blancheroche|Pouxeux|Belvédère|La Genétouze|Eus|Saint-Julien-du-Sault|Sainte-Solange|Praslin|Dampierre-les-Bois|Grange-de-Vaivre|Les Ollières-sur-Eyrieux|Dannemarie|Prémierfait|Bussy-le-Repos|Pérassay|Saint-André|Bouesse|Roche-lez-Beaupré|L'Étoile|Bouxurulles|Juvancourt|Balléville|Vivario|Tréglamus|Montchevrier|Villalier|Pouzols-Minervois|Vaudelnay|Lomont-sur-Crête|Bessy-sur-Cure|Alièze|Bernolsheim|Saint-Caradec|Thoiria|Heidolsheim|Verneuil|Locunolé|Néoux|Sizun|Gouesnou|Rapey|Plémy|Santa-Reparata-di-Moriani|Vimenet|Laimont|Prats-de-Sournia|Ortale|Mont-lès-Lamarche|Aïssey|Censeau|Cléron|Peyrens|Plaigne|Plaintel|Érize-Saint-Dizier|Anlezy|Molezon|Pailharès|Saint-Laurent-en-Grandvaux|Autechaux-Roide|Quercitello|Consolation-Maisonnettes|Kauffenheim|Nozeroy|Toulonjac|Saint-Barthélemy-le-Meil|Bize-Minervois|La Chapelle-sur-Oreuse|Corancy|Bazarnes|Sablières|Naussac-Fontanes|La Capelle-Bonance|Beaufort-en-Argonne|Saint-Menge|Orgnac-l'Aven|Mauvages|Pougy|Rancenay|Langueux|Blaincourt-sur-Aube|Saizy|Frebécourt|Perroy|Rexingen|Cléré-sur-Layon|Bonnal|Neuilly-en-Sancerre|Bouisse|Michery|Isolaccio-di-Fiumorbo|Plounévez-Lochrist|Gries|Rasiguères|Montirat|Langoat|Larrivoire|Allondans|Grospierres|Saint-Denis-lès-Sens|Millau|Brélès|Parsac-Rimondeix|Verne|Baulny|Lantosque|Sapois|Folles|Supt|Vienville|Saint-Martin-des-Fontaines|Bord-Saint-Georges|Saint-Sébastien|Saint-Révérien|Lugan|Decazeville|Saint-Martin-de-Lenne|Brennilis|Sainte-Colombe-sur-Guette|Nogent-sur-Seine|Beaufremont|Chevigney-sur-l'Ognon|Ravières|Annoux|Bazolles|Ebersheim|Longeville-sur-Mogne|Drap|Saint-Aubin-la-Plaine|Le Fenouiller|Bourbriac|Jouhe|Orval|Zalana|Grand|Carcassonne|Bannay|Le Barboux|Sampzon|Bécon-les-Granits|Neufchâteau|Castelnau-d'Aude|Le Palais-sur-Vienne|Vinon|Le Beulay|Mas-des-Cours|Pointre|Albas|Mesgrigny|Moussan|Gincrey|Durstel|Bruyères|Mornay-sur-Allier|Jonquières|Saint-Frégant|Pigny|Villers-les-Bois|Sallertaine|Rosteig|Cosne-Cours-sur-Loire|Bonnefontaine|Kaltenhouse|Villers-devant-Dun|Montlevicq|Tannerre-en-Puisaye|Lasson|Marvelise|Brissac Loire Aubance|Poggio-d'Oletta|Albières|Ingolsheim|Villeneuve-de-la-Raho|Vomécourt-sur-Madon|Corbières|Chitry-les-Mines|Vittel|Champlin|Amange|Holtzheim|Saint-Alban|Le Hohwald|Campitello|Montsuzain|Le May-sur-Èvre|Grand'Landes|Lignairolles|Mazerolles-du-Razès|Saint-Thomé|Pluguffan|Saint-Fiel|Allibaudières|Colondannes|Saint-Léger-de-Peyre|Rochejean|Aigremont|Ids-Saint-Roch|Montescot|Lannédern|Lamanère|Mercuer|Le Chêne|Barlieu|Songeson|Jouy-en-Argonne|Bouzemont|Saizenay|Subligny|Le Crestet|Vendrennes|Herbitzheim|La Wantzenau|Condat-sur-Vienne|Étaule|Royères|Cuzion|Bure|Bernardvillé|Verrières|Cumières-le-Mort-Homme|Chaumousey|Pasilly|Escouloubre|Colombiers|Saint-Martin-des-Puits|Orville|Canet-en-Roussillon|Saumur|Villeroy-sur-Méholle|Cruas|Roquefort-des-Corbières|La Sommette|Saint-Père|Rochechouart|École-Valentin|Vescles|Saint-Sylvestre|Ferrals-les-Corbières|Mayreville|Villetritouls|La Chaise|Nozières|Moulins-sur-Ouanne|Corte|Montalba-le-Château|Maisonnais|Volpajola|Saint-André-de-Vézines|Luzeret|Brézilhac|La Celette|Saint-Aubin|Plasne|Joux-la-Ville|Ambly-sur-Meuse|Tramain|Rutali|Fournes-Cabardès|Eclassan|La Neuveville-sous-Châtenois|Le Châtelet|La Boissière|Jarménil|Pézilla-de-Conflent|Plésidy|Plogastel-Saint-Germain|Monswiller|Lachapelle-sous-Chanéac|Fleury-la-Vallée|Morogues|Colombé-la-Fosse|Saint-Martin-Vésubie|Saints-en-Puisaye|Sagnat|Bosselshausen|Saint-Martin-de-Villereglan|Coings|La Voulte-sur-Rhône|Baye|Saint-Basile|Saint-Cyr-Montmalin|Hémonstoir|Wolfskirchen|Saint-Quentin-sur-Nohain|Érize-la-Brûlée|Gercourt-et-Drillancourt|Vaucluse|Vebron|Bissert|Moissey|Villegly|Ourches-sur-Meuse|Trausse|Aulnois|Touillon-et-Loutelet|Tendon|Fabrezan|Thors|Aulnay|Trémuson|Sournia|Grandvillers|Mérona|Oizon|Saillagouse|Saint-Beauzély|Saint-Gervais|Gilhoc-sur-Ormèze|Marillet|La Vancelle|Oberhausbergen|Moulotte|Girauvoisin|L'Isle-en-Rigault|Remoray-Boujeons|Cornus|Venanson|Avoudrey|La Chailleuse|La Souche|Anteuil|Guissény|Courcelles-sur-Voire|Auxange|Arrembécourt|Saint-Jeure-d'Andaure|Lanrivain|Le Quillio|Luc|Langensoultzbach|Vernoux-en-Vivarais|Jully|Germigny-l'Exempt|Saint-Dalmas-le-Selvage|Oussières|La Pellerine|Haumont-près-Samogneux|Niedersoultzbach|Biarne|L'Albère|Saint-Vérain|Arquettes-en-Val|Soucia|Le Bourg-d'Hem|Montreuillon|Lassicourt|Doye|Couvonges|Fontenotte|Ervy-le-Châtel|Audincourt|La Loge-aux-Chèvres|Elsenheim|Aubin|Chef-Haut|Pelousey|Plerneuf|Courlans|Éternoz|Videix|Sanchey|Sessenheim|Voisines|Nohèdes|Maynal|Diebolsheim|Villiers|Blancafort|Punerot|Still|Ménil-la-Horgne|Saint-Méard|Villevocance|Puits-et-Nuisement|Privezac|Vendœuvres|Esnans|Collongues|Belmont-sur-Vair|Maizey|Brieulles-sur-Meuse|Merléac|Printzheim|Ancerville|Fleury|Mirepeisset|Saint-Jean-Trolimon|Housseras|Branne|Plovan|Cousance|Septfontaines|Chervey|Plougonven|Yèvres-le-Petit|Saint-Maixent-sur-Vie|Hurtigheim|Tréflez|La Bastide-Puylaurent|Mérial|Soullans|Faucompierre|Matemale|Archettes|Mérey-Vieilley|Abergement-lès-Thésy|Terrats|Peseux|Les Magnils-Reigniers|Argeliers|Flagey-Rigney|Jouancy|Saint-Jean-la-Fouillouse|La Haye|Froidos|Bozouls|Saint-Just-sur-Viaur|Clérey-la-Côte|La Feuillée|Aregno|Mundolsheim|Mortroux|Saint-Gilles-Croix-de-Vie|Bellefontaine|Chiatra|Soumaintrain|Bellevigny|Haegen|Trouillas|Dinan|Kernilis|Drusenheim|Lourdoueix-Saint-Michel|Saint-Barnabé|Ladignac-le-Long|Mornay-Berry|Saint-Michel-de-Dèze|Festes-et-Saint-André|Nouziers|Andel|Saint-Pierremont|Calanhel|La Geneytouse|Villers-Farlay|Quessoy|Pouilly-sur-Meuse|Privas|Gron|Pierre-Perthuis|Chamagne|Saint-Étienne-sous-Barbuise|Gillois|Grossouvre|La Courtète|Provency|Scrignac|Cendrey|Domptail|Saint-Hilaire-Fontaine|Les Brunels|Bulle|Gatuzières|Nannay|Vorges-les-Pins|Sainte-Maure|Saint-Révérend|Bazoges-en-Paillers|Farges-en-Septaine|Trévérec|Badaroux|Counozouls|Landresse|Ville-devant-Belrain|Saint-Méloir-des-Bois|Les Rouges-Eaux|Mittelschaeffolsheim|Lubine|Montmirey-la-Ville|Ortillon|Courbette|Niederhaslach|Avallon|Beaurepaire|Grenois|Poilly-sur-Tholon|Roubia|Camaret-sur-Mer|Rancourt|Les Premiers Sapins|Petit-Noir|Saint-Bris-le-Vineux|Saint-Bazile|Bondeval|Weislingen|Bussang|Soulages-Bonneval|Brouvelieures|Liez|Buswiller|Poggio-di-Venaco|Rocheservière|Saint-Priest-la-Plaine|Champ-le-Duc|Canet|Neuwiller-lès-Saverne|L'Escarène|Saint-Julien-le-Petit|Espalion|Le Tréhou|Les Thons|Le Tranger|Brando|Gehée|Plaine|Buxeuil|Larnas|Zittersheim|Lanrivoaré|Olmeta-di-Tuda|Rennes-sur-Loue|Laveline-devant-Bruyères|Chaumot|Boussières|Vescovato|Saint-Vougay|Moëlan-sur-Mer|Aspremont|Villasavary|Pianello|La Chapelle-Blanche|Rieux-Minervois|Aunat|Fleury-sur-Loire|Longchamps-sur-Aire|Bussière-Saint-Georges|Toucy|Thianges|Châtelblanc|Sainte-Anne-Saint-Priest|Zilia|Pleyben|Vougrey|Torvilliers|Les Noës-près-Troyes|Vigneulles-lès-Hattonchâtel|Chaux-Champagny|Pauligne|Foameix-Ornel|Soligny-les-Étangs|Étival-Clairefontaine|Varennes-Vauzelles|Courceroy|Plancoët|Andelot-Morval|Santa-Maria-di-Lota|Maillezais|Vaudrivillers|Plougonver|Coat-Méal|Champnétery|Chazot|La Landec|Mertzwiller|Illkirch-Graffenstaden|Toulouges|Domps|Grand-Charmont|Marvejols|Chezal-Benoît|Villardonnel|Rarécourt|Obermodern-Zutzendorf|Lusse|Montézic|Chasnais|Calmont|Buxières-sous-les-Côtes|Villeneuve-la-Rivière|Duranus|Plédran|Zehnacker|Grimaucourt-près-Sampigny|Saint-Mesmin|Gy-l'Évêque|Sainte-Hermine|Tautavel|Chitry|Montournais|Bischheim|Fraissinet-de-Fourques|Guerlesquin|Éclans-Nenon|Montancy|Fontenay-de-Bossery|Thenay|Rosheim|Lantages|L'Herbergement|Vieux-Charmont|Rosnay|Dauendorf|Adamswiller|Saincaize-Meauce|Breuschwickersheim|Distré|Coulangeron|Ennordres|Boffres|Courmes|Les Poulières|Truchtersheim|Camps-sur-l'Agly|Montigny-lès-Vaucouleurs|Lussac-les-Églises|Dasle|Pionnat|Treilles|Resson|Vinzieux|Solemont|Montaulin|Plobsheim|Lussas|Fontenay-sous-Fouronnes|Valle-di-Campoloro|Cizay-la-Madeleine|Biefmorin|Rosnay-l'Hôpital|Montillot|Fay-en-Montagne|Andlau|Peumerit|Plouzévédé|Sommecaise|Fontanès-de-Sault|Mathenay|Saint-Laurent-de-Cerdans|Brienon-sur-Armançon|Toulaud|Baracé|L'Île-d'Olonne|Chemilly-sur-Serein|Lannéanou|Tourreilles|Avillers|Contrexéville|Angoustrine-Villeneuve-des-Escaldes|Saint-Ouen-lès-Parey|Bouxwiller|Gruissan|Pancheraccia|Perthes-lès-Brienne|Plaisance|Coulanges-lès-Nevers|Manhac|La Machine|Ambeyrac|Meysse|Villé|Amel-sur-l'Étang|Fontaine-lès-Clerval|Hérimoncourt|Saraz|Frénois|La Celle-Dunoise|Charmois-devant-Bruyères|Chatelay|Pair-et-Grandrupt|Rostrenen|Champis|Verlin|Carros|Han-sur-Meuse|La Pérouille|Béthincourt|Damas-aux-Bois|Montandon|Niederschaeffolsheim|Les Bréseux|Ville-sur-Saulx|Chambéria|Touët-de-l'Escarène|Bellac|Vairé|Belpech|Mutigney|La Martyre|Annoix|Oradour-sur-Vayres|Bischwiller|Villers-lès-Mangiennes|Charmoy|Plomeur|Villanière|Berrien|Neewiller-près-Lauterbourg|Saint-Nabord-sur-Aube|Brouennes|Airoux|Savonnières-en-Perthois|Montgesoye|Saint-Jacques-d'Atticieux|Fursac|Peyrat-de-Bellac|Saint-Just-le-Martel|Santranges|Cousances-lès-Triconville|Vaux-sur-Poligny|Laurac-en-Vivarais|Chassignelles|Plumieux|Aigurande|Verpillières-sur-Ource|Les Costes-Gozon|Caunes-Minervois|Saint-Julien-en-Saint-Alban|Étupes|Les Terres-de-Chaux|Marsangy|Remomeix|Belfays|Auzainvilliers|Trégourez|Mamirolle|Auxon|Villerouge-Termenès|La Maison-Dieu|Rouvres-les-Vignes|La Rabatelière|Foissy-lès-Vézelay|La Panouse|Le Claon|Les Granges|Plougastel-Daoulas|Eschbach|Saulmory-Villefranche|Plouezoc'h|Champcevrais|Ranchot|Angely|Montgivray|Antigny|Fanjeaux|Saligny|Plabennec|Adam-lès-Passavant|Saint-Saturnin|La Louvière-Lauragais|Les Ulmes|Saint-Sulpice-le-Guérétois|Piève|Mouilleron-le-Captif|Saint-Désirat|Marval|Carcheto-Brustico|Beinheim|Pimorin|Champagney|Troyon|Beugnon|Clérey|Blye|Ponteilla|Île-Tudy|Richtolsheim|Villemereuil|Bragelogne-Beauvoir|La Brigue|Les Hauts de Forterre|Jouac|Nance|Annonay|Pommeret|Châteauneuf-la-Forêt|Perrigny-sur-Armançon|Saint-Jean-d'Ormont|Escles|Bouilly|Glorianes|Port-Vendres|Charcier|Martiel|La Frasnée|Thennelières|Vieux-Moulin|Florentin-la-Capelle|Ghisoni|Falleron|Mesnil-Saint-Père|Ahéville|Saint-Nicodème|Les Repôts|Saint-Julien-sous-les-Côtes|Prunelli-di-Fiumorbo|Frémeréville-sous-les-Côtes|Érize-la-Petite|Hures-la-Parade|Hurbache|Barrettali|Valmanya|Septmoncel les Molunes|Beaufort-en-Anjou|Saint-Léger-la-Montagne|Cheminas|Barville|Tréogan|Saint-Médard|Watronville|Mortagne|Bouleternère|Saint-Oradoux-de-Chirouze|Thuillières|Malleret|La Roquette-sur-Siagne|Xivray-et-Marvoisin|Valoreille|Péseux|Trouvans|Mazé-Milon|Sainpuits|Vesdun|Étrechet|Villeneuve-les-Genêts|Villesèquelande|Montferrand-le-Château|Isle-Aumont|Argent-sur-Sauldre|Unienville|Conségudes|Gougenheim|Les Chalesmes|Kurtzenhouse|Schnersheim|Gioux|Lanrodec|Cassagnas|Bietlenheim|Payra-sur-l'Hers|Lucenay-lès-Aix|Épineuil|La Charité-sur-Loire|Saint-Parize-le-Châtel|Rosnoën|Saint-Pierre-de-Colombier|Dombras|Laurac|Plœuc-L'Hermitage|Saint-Benoist-sur-Vanne|Rosières-sur-Barbèche|Cornusse|Castelreng|Chisa|Saint-Romain-de-Lerps|Radonvilliers|Veyras|Montagna-le-Reconduit|Écleux|Chasnay|Bérulle|Mers-sur-Indre|Montauriol|Begnécourt|Plainfaing|Monticello|Soulaines-Dhuys|Pouillé|Les Gras|Thouarsais-Bouildroux|Cléry-le-Petit|Plumaugat|Saint-Léger-le-Guérétois|Joucou|Olmeta-di-Capocorso|La Chassagne|Trébeurden|Chassignolles|Narbief|Villers-la-Combe|Mouchard|Gennes|Romanswiller|Preuilly-la-Ville|Fouchères|Mosnay|Hipsheim|Antibes|Les Monthairons|Piedicorte-di-Gaggio|Sauvigny-le-Beuréal|Loguivy-Plougras|Lavaufranche|Amondans|Pessans|Dommartin-le-Coq|Larnod|Chalezeule|Saint-Dizier-les-Domaines|Dompierre|Appenans|Offroicourt|Sainte-Marie-de-Vaux|Pietralba|Rouhe|Châteauvieux-les-Fossés|Saint-Servais|Concarneau|Publy|Moussey|Longechaux|Trégarantec|Blois-sur-Seille|Fains-Véel|Rochecolombe|Longevelle-sur-Doubs|Lachaussée|Sougères-en-Puisaye|Ploudiry|Sainte-Flaive-des-Loups|Glomel|Étigny|Rouvres-en-Woëvre|Jessains|Crenans|Villers-aux-Vents|Thise|Pécharic-et-le-Py|Laurière|Saint-Prancher|Antrenas|Bengy-sur-Craon|La Vôge-les-Bains|Preuilly|Raissac-sur-Lampy|Sainte-Savine|Langrolay-sur-Rance|Lion-devant-Dun|Fremifontaine|Baerendorf|Pont-les-Moulins|Villebougis|L'Île-d'Elle|Eschwiller|Billy-Chevannes|Hauterive|Saint-Christophe-en-Boucherie|Anglemont|Santa-Lucia-di-Moriani|Brey-et-Maison-du-Bois|Laveline-du-Houx|Mailly-le-Camp|Behonne|Landivisiau|Traenheim|Verneiges|Le Roulier|Charentenay|Sainte-Colombe|Chaffois|Laroque-des-Albères|Palluau|Saint-Avit-de-Tardes|Henrichemont|Narbonne|Glandon|Val-d'Oire-et-Gartempe|Bobital|Boule-d'Amont|Labégude|Thiéfosse|Goulven|Claudon|Saint-Christophe-du-Ligneron|Jeurre|Coëtlogon|Glère|Varennes-en-Argonne|Jeu-les-Bois|Montier-en-l'Isle|Lods|Passavant-sur-Layon|La Grande-Fosse|Landudec|Saint-Germain-en-Montagne|Mussy-sur-Seine|Taussac|Diemeringen|Saint-Brisson|Vallecalle|Charmoille|Châtres|Chêne-Bernard|Saint-Point-Lac|Sermizelles|Montigny-en-Morvan|Solignac|La Chapelle-Saint-Laurian|Wisembach|Cusance|Saint-Symphorien-sous-Chomérac|Castellar|La Llagonne|Brevans|Thuir|Guipavas|Pontaubert|La Breille-les-Pins|Marnhagues-et-Latour|Saint-Thonan|Flexbourg|Lemmes|Chassiers|Herrlisheim|Oberschaeffolsheim|Ichtratzheim|Silley-Bléfond|Coutarnoux|La Champenoise|Saint-Gilles-les-Bois|Rouvres-en-Xaintois|Châtillon-en-Bazois|Assencières|Perpignan|Plouégat-Moysan|Essegney|Rignosot|Saint-Georges-sur-Arnon|Bohars|Nans|Peux-et-Couffouleux|Rodelle|Abbenans|Saint-Pierre-la-Roche|Villouxel|Houtaud|Vervezelle|Montagnol|Mesnil-Sellières|Lafat|Pissotte|Piney|Beaumont-en-Verdunois|Villeneuve-d'Amont|Nonsard-Lamarche|Serra-di-Fiumorbo|Lembach|Moranville|Plouisy|Palau-de-Cerdagne|Herry|Mommenheim|Burey-la-Côte|Gemmelaincourt|Lavernay|Nettancourt|Dissangis|Saint-Sauveur-sur-Tinée|Ficaja|Saint-Martin-des-Tilleuls|Vaureilles|Collemiers|Souzay-Champigny|Vœllerdingen|Roziers-Saint-Georges|Pfulgriesheim|Trélazé|Trégrom|Éguilly-sous-Bois|Loiré|Échevannes|Fontvannes|Chalèze|Gouloux|Aubigny-sur-Nère|Cognac-la-Forêt|Battenans-les-Mines|Corneilla-la-Rivière|Dogneville|Francheville|Glun|Saint-Valentin|Augy|Montbrun-des-Corbières|Pino|Somloire|Avapessa|Morvilliers|Llupia|Bulgnéville|Branches|Bremondans|Nogent-en-Othe|Senaide|Riventosa|Lépaud|Falletans|Latour-Bas-Elne|Berry-Bouy|Tréméven|Nuret-le-Ferron|Fontenay-près-Chablis|Fondamente|La Celle-Condé|Drulhe|Pomayrols|Ranzières|Munchhausen|Valgorge|Éloyes|Carpineto|Lucéram|Clion|Cavan|Commequiers|Argenteuil-sur-Armançon|Millay|Courouvre|Arleuf|Guillon-les-Bains|Villy|Lanas|Langé|Passa|Feusines|Villechétif|Saint-Maurice-en-Chalencon|Suilly-la-Tour|Gilhac-et-Bruzac|Alluy|Saint-Carné|Madonne-et-Lamerey|Rouillac|Saint-Fargeau|Auchay-sur-Vendée|Vaudrey|Cuisy|Pouldergat|Schaffhouse-près-Seltz|Lingolsheim|Longèves|Roche-lès-Clerval|Landévennec|Termes|Montcusel|Merdrignac|Lentilles|Hampigny|Le Mont|Guengat|Argenvières|Pagnoz|Castans|Coyron|Plourac'h|Cunel|Cazalrenoux|Naisey-les-Granges|Chaux-Neuve|Poilly-sur-Serein|Domats|Gélannes|Allarmont|Val de Lambronne|Uxelles|Devesset|Saulxures-sur-Moselotte|Soye|Champigny-sur-Aube|Plouguernével|Boussac-Bourg|Velesmes-Essarts|Trézilidé|Wangenbourg-Engenthal|Agen-d'Aveyron|Tournefort|Chaumont|Bétignicourt|Mancenans-Lizerne|Linard-Malval|Siltzheim|Surmont|Latour-en-Woëvre|Fays|Py|Rilhac-Rancon|Fleys|Meunet-sur-Vatan|Cerbois|Chantonnay|Moiron|Trévou-Tréguignec|Saint-Maurice-Thizouaille|Trézény|Brouilla|Obernai|Perros-Guirec|Mahalon|Pradinas|Montigny|Saint-Christophe|Gœrsdorf|La Chapelle-Montlinard|Monsireigne|Cussey-sur-Lison|Saint-Martial-le-Vieux|Nogna|Pleyber-Christ|Saint-Clair|Salans|Montréal|Nouhant|Marmagne|Nossoncourt|Schirrhoffen|Erneville-aux-Bois|Faugères|Nomexy|Flaviac|Valonne|Neuvy-Deux-Clochers|Sainte-Hélène|Verzeille|Vernon|Beine|Jeu-Maloches|Malans|Sancerre|Plouguiel|Venzolasca|Budelière|Rochesson|Brécy|Seiches-sur-le-Loir|Lugo-di-Nazza|Chemilly-sur-Yonne|Fenouillet-du-Razès|La Colle-sur-Loup|Sergenon|Val d'Issoire|Saint-Jean-Roure|Thorigné-d'Anjou|Neuvillers-sur-Fave|Reinhardsmunster|Saint-Philbert-de-Bouaine|Recoules-de-Fumas|Raynans|La Chapelle-devant-Bruyères|Bolquère|Hattmatt|Sermages|Les Laubies|Sagonne|Châtillon-sur-Saône|Confort-Meilars|Laguiole|Saint-Cierge-la-Serre|Ubexy|Dommartin|La Neuveville-sous-Montfort|Rou-Marson|Sainte-Gemmes-sur-Loire|La Latette|Drulingen|Martigna|Cieux|Dinéault|Montlainsia|Chissey-sur-Loue|Montmarlon|Saint-Julien-lès-Russey|Droupt-Saint-Basle|Moutoux|Saint-Gratien-Savigny|Germigny|Mercy|Le Champ-Saint-Père|Cabanès|Viviers|Chanteloup-les-Bois|Pléboulle|Salmagne|Névez|Marzy|Les Angles|Poil|Kermaria-Sulard|Plounéour-Ménez|Thil|Neuve-Église|Serocourt|Jalognes|Font-Romeu-Odeillo-Via|Belle-Isle-en-Terre|Ville-sur-Terre|Chavin|Sergines|Castelnau-Pégayrols|Domjulien|Cesse|Villevallier|La Chapelotte|Lusigny-sur-Barse|Fertrève|Montaron|Lurais|Roubion|Vielmanay|Faimbe|Lucy-sur-Cure|Saillat-sur-Vienne|Seignelay|Vaudéville|Le Tablier|Saint-Pons|Fontenay-le-Comte|Plounévézel|Saint-Amé|Laviolle|La Brionne|Vallière|Spincourt|Circourt-sur-Mouzon|Rougemontot|Vaubecourt|Conques-sur-Orbiel|Estrennes|Sainte-Hélène|Langley|Saint-Cierge-sous-le-Cheylard|Lavangeot|Tallans|Saint-Étienne-du-Gué-de-l'Isle|Puessans|Longeaux|Surdoux|Mézilles|Guerlédan|Saint-Couat-du-Razès|Arrènes|Gluiras|La Capelle-Balaguier|Meunet-Planches|Pollestres|Le Saulcy|Bouquemont|Lajoux|Le Moutherot|Saint-Valérien|Nevy-sur-Seille|Chichée|Gémonval|Bréviandes|Ramerupt|Kerfot|Saint-Remy|Yzernay|Culan|Pont-de-Labeaume|Naix-aux-Forges|Plénisette|Velotte-et-Tatignécourt|Montmartin-le-Haut|Moussy|Poligny|Dugny-sur-Meuse|Fourques|Maraye-en-Othe|Mortemart|Étalans|Saint-Yrieix-la-Montagne|Senonges|La Ferté-Loupière|Saint-Nabor|Valentigney|La Cavalerie|Jougne|Ramonchamp|Levoncourt|Courléon|Buxières-d'Aillac|Graçay|Poussay|Fontcouverte|Rancourt-sur-Ornain|Charenton-du-Cher|Saint-Igest|Nançois-le-Grand|Charpentry|La Turbie|Murols|Preixan|Saint-Georges-sur-Baulche|Duault|Saint-André-de-Lancize|Santa-Reparata-di-Balagna|Leucate|Courgenay|Plérin|Ounans|Bogy|Rochessauve|Athie|Clugnat|Fleurat|Saint-Hernin|Trébrivan|Essoyes|La Marre|Saint-Martin-de-Fenouillet|La Courtine|Vaudeville-le-Haut|Botmeur|Espéraza|Los Masos|Malaincourt|Les Champs-Géraux|Reboursin|Oradour-sur-Glane|Lipsheim|Beney-en-Woëvre|Rosporden|Esnes-en-Argonne|Gouarec|La Bosse|Bessuéjouls|Givry|Messia-sur-Sorne|Laubert|La Saulsotte|Bernouil|Épagne|Saint-Julien-Vocance|Bidon|Longueville-sur-Aube|Doucier|Montmotier|Luyères|Bois-de-Céné|Giocatojo|Polisot|Vaux d'Amognes|Fontaine-Mâcon|Trébry|Le Quiou|La Serpent|Baraigne|Wimmenau|Gremilly|Cussey-sur-l'Ognon|Frenelle-la-Petite|Plouider|Peyrilhac|Goumois|Dieppe-sous-Douaumont|Estagel|Luant|Saint-Victor-et-Melvieu|La Tourette-Cabardès|Viala-du-Pas-de-Jaux|Bram|Irvillac|Lasbordes|Pazy|Sceautres|Saint-Clément-de-la-Place|Longwy-sur-le-Doubs|Rouilly-Sacey|Saint-Martin-Terressus|Dehlingen|Fesches-le-Châtel|Le Ménil|Geispolsheim|Tignécourt|Pompierre-sur-Doubs|Les Bondons|Puivert|Le Pont-Chrétien-Chabenet|Chenillé-Champteussé|La Bruffière|Villers-sous-Pareid|Le Drennec|La Loye|Sainte-Radegonde|Gisy-les-Nobles|Elne|Azerables|Wasselonne|Gondenans-Montby|Armaillé|Sélestat|Saint-Sever-du-Moustier|Gondrecourt-le-Château|Vosnon|Semoine|Cernay-l'Église|Montbel|Gomené|Cléder|Rochefort-sur-Nenon|Champallement|Saint-Macaire-du-Bois|Marquixanes|Saint-Pierre-des-Champs|Caunette-sur-Lauquet|Penguily|Rhinau|Cléden-Cap-Sizun|Moncley|Ippécourt|Beissat|Friesenheim|Combres-sous-les-Côtes|Chailley|Pégomas|Nonza|Bilwisheim|Lévigny|Colombier-le-Jeune|Clucy|Bust|La Chapelle-aux-Bois|Yffiniac|La Cresse|Trémonzey|Rivel|Noyant-Villages|Saint-Léger-sous-Margerie|Dun-sur-Grandry|Xaronval|Jabreilles-les-Bordes|Scata|Tournans|Avril-sur-Loire|Fourtou|Aizac|Tréguier|Anthien|Saint-Martin-Lalande|Beaulieu-sous-la-Roche|Nonville|Ayguatébia-Talau|Saint-Vitte|Berre-les-Alpes|Saint-Caprais|Chazeaux|Rouffiac-d'Aude|Châlus|Bief|Lizières|Biécourt|Corbère|Ortiporio|Tassenières|Saint-Vallier|Montlebon|Farges-Allichamps|Charmes|Dettwiller|Damprichard|Pont-sur-Yonne|Chevigny|Rainville|Tranzault|Trégonneau|Veyrac|Valle-d'Orezza|Saint-Benin-d'Azy|Val-du-Faby|Saint-Remèze|Grues|Prunet-et-Belpuig|Fléty|Vaumort|Saligney|Épenoy|Corzé|Plurien|Valdeblore|Piffonds|Urville|Berstheim|Curières|Thoraise|Beauvilliers|Garchy|Querrien|Lanloup|Huparlac|Chavagnes-en-Paillers|Colonne|Sampigny|Ormes|Perceneige|Longuenée-en-Anjou|Rivière-sur-Tarn|Bessais-le-Fromental|Rogna|Ollainville|Mervent|Abbans-Dessus|Rives de l'Yon|Sacierges-Saint-Martin|Reugney|Chapelle-d'Huin|Le Pouzin|Chaillac-sur-Vienne|Rumilly-lès-Vaudes|Peyrolles|Sarre-Union|Arrancy-sur-Crusnes|Avanne-Aveney|Beurey-sur-Saulx|Merry-Sec|Mangiennes|Mont-sous-Vaudrey|Frontenay|Saulxures|Aucaleuc|Saint-Merd-la-Breuille|Grandville|Myennes|Émagny|Thérondels|Saint-Bonnet-de-Bellac|Matignon|Montacher-Villegardin|Pont-Sainte-Marie|Lemmecourt|Voutenay-sur-Cure|Sainte-Fauste|La Perche|Plaimpied-Givaudins|Ventalon en Cévennes|Cornas|Vernois-lès-Belvoir|Pannessières|Saint-Paul-du-Bois|Saint-Sauveur-en-Puisaye|Condes|Metz-le-Comte|Lunac|Galinagues|Le Crouzet|Circourt|Le Luhier|Fourg|Magny|Fréville|Arrentès-de-Corcieux|Berhet|Valleroy-le-Sec|Saint-Mesmin|La Vendue-Mignot|Vaxoncourt|Eymoutiers|Baugy|Sampans|Laissey|Auribeau-sur-Siagne|Harville|Ogliastro|Beaucouzé|Diennes-Aubigny|Orsans|Jailly|Éguzon-Chantôme|Blannay|Champagney|Peintre|Littenheim|Châtelneuf|Varrains|Machy|Épineau-les-Voves|Castelmary|Pretin|Juvaincourt|Saint-Martin-de-Fraigneau|Thizy|Gennes-Val-de-Loire|Annoire|Chamesol|Moutier-Rozeille|Notre-Dame-de-Riez|Saint-Paulet|Doulcon|Raon-aux-Bois|Bart|Arsure-Arsurette|Chaudrey|Ville-sous-la-Ferté|Faux-la-Montagne|Le Villey|Saint-Priest-Ligoure|Gissac|Saint-Maur|Battexey|Vaubexy|Le Chambon|Annay-sur-Serein|Boulleret|Lauraguel|Villar-en-Val|Saint-Germain-Beaupré|Saint-Affrique|Mazirot|Arnac-sur-Dourdou|Cudot|Saint-Aignan-des-Noyers|Caouënnec-Lanvézéac|Vion|Enveitg|Le Grand-Bourg|Moulinet|Labastide-d'Anjou|Villedaigne|Gentioux-Pigerolles|Pars-lès-Chavanges|Saint-Agathon|Villelongue-dels-Monts|Crans|Nepvant|Eschau|Bourg-de-Sirod|Bazoilles-et-Ménil|Concremiers|Recologne|Laroque-de-Fa|La Boissière-de-Montaigu|Melgven|Luzy|Rousson|Corvol-d'Embernard|Ban-de-Sapt|Saint-Amand-le-Petit|Beauvoir-sur-Mer|Axat|Montiers-sur-Saulx|Étrappe|Peymeinade|Bulcy|Cessey|Faverdines|Toulouse-le-Château|Sainte-Eulalie-de-Cernon|Neuchâtel-Urtière|Ajain|Saint-Coulitz|La Jonchère-Saint-Maurice|Beauchastel|Saint-Maixant|Fouchécourt|Saint-Junien|Moulins-sur-Yèvre|Saint-Parres-lès-Vaudes|Champsanglard|Monteplain|Orsans|Samogneux|Pléhédel|Étrabonne|Lépanges-sur-Vologne|Villeneuve-Saint-Salves|Javernant|Thervay|Kienheim|Hyèvre-Paroisse|Sainte-Pallaye|Sorbey|Les Loges-Margueron|Miserey-Salines|Dollot|Le Louverot|Châtas|Rangen|Charquemont|Oberbronn|Wœrth|Passenans|Méry-sur-Seine|Accons|Saint-Pabu|Annay-la-Côte|Manheulles|Dracy|Beaulieu-en-Argonne|Villefort|Juvardeil|Viéthorey|Mérigny|Ur|Sercœur|Villevieux|Trémeur|Le Cheylard|Avranville|Martinvelle|Calmels-et-le-Viala|Saint-Martin-de-Valamas|Blémerey|Montreuil-sur-Loir|Peyraud|Chaudefonds-sur-Layon|Ruffec|Villeneuve-de-Berg|Leuc|Bretigney-Notre-Dame|Saint-Jean-du-Doigt|Venoy|Mouchamps|Belrupt|Chaucenne|Cleebourg|Lantic|Fâchin|La Charme|Saint-Christophe-en-Bazelle|Varmonzey|Langogne|Anglars-Saint-Félix|Corseul|Allenjoie|Châtillon-sous-les-Côtes|Lourdoueix-Saint-Pierre|Jaulges|La Berthenoux|Couiza|Le Fœil|Rahon|Fraisans|L'Écouvotte|Corsavy|Ladapeyre|Boujailles|Raon-sur-Plaine|Friedolsheim|Pietricaggio|Saint-Laurent-sur-Othain|Mergey|Abbans-Dessous|Lothey|Anould|Pennautier|La Bollène-Vésubie|Dommartin-la-Montagne|Bouriège|Sainte-Suzanne|Mollkirch|Saint-Léonard|Lahaymeix|Berche|La Cluse-et-Mijoux|Anzême|Lesneven|Frohmuhl|Le Moustoir|Sainte-Marie|Saint-Paul-Mont-Penit|Bians-les-Usiers|Saint-Frichoux|Bellefosse|Mont-de-Vougney|Saulcy|Lignorelles|Louvemont-Côte-du-Poivre|Cap-d'Ail|Payzac|Asprières|Carlipa|Valderoure|Champillet|Loubaresse|La Celle-sous-Gouzon|Ploéven|Chougny|Thézan-des-Corbières|Saint-Maudez|Roure|Arthel|Frasne|Val-d'Épy|Verricourt|Saint-Hilaire-en-Woëvre|Magnicourt|Plougras|Saint-Adrien|Courchapon|Huttendorf|Prugnanes|Marolles-lès-Bailly|Givrand|Serrières|Villiers-sous-Praslin|Villemoiron-en-Othe|Thueyts|Saint-Judoce|Tallud-Sainte-Gemme|Autrey|La Roquette-sur-Var|Chambellay|Assenay|Les Billanges|Billecul|Lignières-sur-Aire|Haillainville|Dampierre|La Vèze|Moux-en-Morvan|Rambervillers|Stazzona|Saint-Hymetière-sur-Valouse|Bussière-Galant|Montséret|Fontenoy|Béthelainville|Le Neufour|Ucel|Saint-Privat-de-Vallongue|Saint-Julien-du-Serre|Plogonnec|Loray|Saint-Junien-les-Combes|Les Essards-Taignevaux|Remicourt|Trémentines|Saint-Connec|Liniez|Viocourt|Arbouans|Nolay|Tréziers|Plaine-Haute|Mussig|Rœschwoog|Teigny|Taxenne|Les Hauts-de-Chée|Évry|Rospigliani|Sauviat-sur-Vige|Saint-Benin-des-Bois|Xanton-Chassenon|Plougasnou|La Villedieu|Chille|Pageas|Roullens|Chârost|Blausasc|Champlost|Marsais-Sainte-Radégonde|Feule|Serre-les-Moulières|Fuligny|Moriville|Plessis-Saint-Jean|Terranjou|Corquoy|Rives-d'Autise|Magny-Cours|Ille-sur-Têt|Marseilles-lès-Aubigny|Grandfontaine|Pont-l'Abbé|Ohnenheim|Polveroso|Lestrade-et-Thouels|Estissac|Bitschhoffen|Les Herbiers|Courbouzon|Cizely|Landerneau|Porté-Puymorens|Molitg-les-Bains|Neuilly|Brest|Bendejun|Jouillat|Labastide-de-Virac|Blond|Le Faouët|Arconville|Saint-Marc-à-Loubaud|Le Pavillon-Sainte-Julie|Villotte|Girancourt|Sommeilles|Ajoux|Les Bordes|Bult|Jaunac|Saint-Jeanvrin|Dornas|Chambon|Cernon|Quimperlé|Châtenois|Soucy|Urmatt|Lavatoggio|Saint-Just-d'Ardèche|Martrin|Jeanménil|Mathaux|Breuilaufa|Cubiérettes|Vayres|Neuvy-sur-Barangeon|Prémanon|Loupia|Murato|Belgodère|Belmont|Cantenay-Épinard|Tourrette-Levens|La Chaize-le-Vicomte|Ombrée d'Anjou|Thory|Syam|Saint-Barthélemy-Grozon|Reichshoffen|Le Clapier|La Roque-Sainte-Marguerite|Bois-de-Champ|Pillon|Allonnes|Dinozé|Taconnay|Dombasle-en-Argonne|Conilhac-Corbières|Verrières-en-Anjou|Sarrogna|Pleuven|Le Puid|Chanteraine|Saint-Germain-des-Prés|Mûrs-Erigné|Masléon|Lavigny|Rennes-le-Château|Foissy-sur-Vanne|Pouligny-Saint-Pierre|Prévenchères|Beauménil|Sévry|Badonvilliers-Gérauvilliers|Villars-sous-Dampjoux|Blanzac|Gussainville|Baugé-en-Anjou|Commana|Amélie-les-Bains-Palalda|Celles-sur-Plaine|Morville|Fromental|Douaumont-Vaux|Bersac-sur-Rivalier|Vence|Bischoffsheim|Longevilles-Mont-d'Or|Lesmont|Cuisia|Vexaincourt|Saint-Jean-Cap-Ferrat|Villar-Saint-Anselme|Rountzenheim-Auenheim|Pleumeur-Bodou|Deycimont|Rignac|Corcondray|Heiligenstein|Prémery|Clans|Saint-Maudan|Saint-Jean-Chambre|Saint-Christophe-le-Chaudry|Chabris|Saint-Sylvestre|Montapas|Villentrois-Faverolles-en-Berry|Naillat|Grasse|Fourchambault|Pradons|Baldenheim|Lacroix-Barrez|Herbsheim|Primelles|Foulenay|Fraize|Scharrachbergheim-Irmstett|Savigny-en-Septaine|Déservillers|Nérondes|Arc-sous-Montenot|Coursan-en-Othe|Thal-Drulingen|Villette-sur-Aube|Mallièvre|Rugney|Savonnières-devant-Bar|Angers|Coux|Noyers-Auzécourt|Crainvilliers|Mayran|Plouaret|Lanarvily|Roquebillière|La Forêt-Fouesnant|Saint-Barthélemy-d'Anjou|Montsauche-les-Settons|Le Girouard|Guilers|Levier|Altwiller|Sainte-Feyre-la-Montagne|Fontan|Ajac|Épenouse|Saint-Sernin|Villefranche-de-Conflent|Talmont-Saint-Hilaire|Tarerach|Le Larderet|Tauriers|Saint-Michel-sur-Meurthe|Peyreleau|Gréolières|Biencourt-sur-Orge|Jully-sur-Sarce|Plourin-lès-Morlaix|Cascastel-des-Corbières|Les Garennes sur Loire|Mesnois|Vincelles|La Possonnière|Saint-Genest|Cry|Gigny|Moyemont|Fontaine-la-Gaillarde|Bazaiges|Montegrosso|Amazy|Montenoison|Tendu|Mogeville|Caudebronde|Chemillé-en-Anjou|Chouday|Saint-Michel-en-Grève|Lucciana|Saint-Maurice-d'Ibie|Cérilly|Saint-Amand-en-Puisaye|Lespinassière|Saint-Vincent-sur-Jard|Matra|Sancergues|Saint-Amour|Trégomeur|Lixy|Bislée|Saint-Benoist-sur-Mer|Moutier-Malcard|Meljac|Gerbépal|Maroncourt|Hennezel|Mailly-la-Ville|Esley|Châteaubourg|Drevant|Villequiers|Boulieu-lès-Annonay|Anjouin|Germéfontaine|Clermont-sur-Lauquet|Saint-Aigny|Sennevoy-le-Haut|Saint-Valérien|Juvigny-en-Perthois|Surbourg|Luxiol|Fontpédrouse|Rémilly|Cantaron|Auzits|Troguéry|Aubeterre|Saint-Hilaire-le-Vouhis|Olcani|Genouillac|Boureuilles|Varennes|Steige|Saint-Mathurin|Saint-Ouen-sur-Loire|Moutonne|Dampjoux|Taillancourt|Gras|Prades|Nohant-en-Goût|Baon|Vriange|Ivoy-le-Pré|Boulaincourt|Goux-sous-Landet|La Croix-aux-Mines|Haguenau|Triembach-au-Val|Sonnac|Saint-Martin-du-Var|Belcastel|Nitry|Arzenc-de-Randon|Desnes|Les Achards|Sainte-Gemme|Saint-Silvain-Montaigut|Breil-sur-Roya|La Châtre|Longemaison|Camélas|Villars-sous-Écot|Saint-Franchy|Vicherey|Igney|Sainte-Tréphine|Butteaux|Saint-Didier|Malancourt|Rehaincourt|Deinvillers|Antugnac|Théza|Euville|Bœrsch|Marey|Pietroso|Cailhau|Mouilly|Tarrano|Baverans|Longchamp|La Chevillotte|Boncourt-sur-Meuse|Ingwiller|Saint-Laurent-de-la-Cabrerisse|La Cassaigne|Montfranc|Citou|Mutzig|Le Clerjus|Le Trévoux|Pouzauges|Maisonnais-sur-Tardoire|Moux|Celles-sur-Ource|Mézerville|Pierrefitte|Lumio|Beure|Clara-Villerach|Sainte-Colombe-sur-l'Hers|Brainans|Le Bizot|Barbâtre|Ménétréols-sous-Vatan|Boutenac|Montréal|Pagney|Verges|Les Hôpitaux-Neufs|Pont-sur-Seine|Huttenheim|Étrepigney|Le Vigen|Marigna-sur-Valouse|Saint-Parize-en-Viry|Abergement-le-Petit|Mont-Saint-Sulpice|Lucy-le-Bois|Saint-Thibault|Proverville|Le Plessis-Grammoire|Rochemaure|Vaux-et-Chantegrue|Tresserre|Arc-et-Senans|Vauchonvilliers|Saint-Loup-d'Ordon|Saint-Christol|Vignevieille|Combrimont|Soupex|Laprade|Autechaux|Préporché|Gorhey|Espira-de-Conflent|Sainte-Camelle|Brandonnet|Menetou-Râtel|Menétru-le-Vignoble|Guerpont|La Ferrière|Sainte-Gemme-en-Sancerrois|Le Perrier|Plumont|Couy|Avrillé|Rozerotte|Villethierry|Bourg-Blanc|Pleure|La Fajolle|Landevieille|Saint-Pierre-Bois|Dambach|Cheney|Zincourt|Calenzana|Gien-sur-Cure|Loreto-di-Casinca|Èze|Frambouhans|Saint-Jean-de-Muzols|Provenchère|Triaize|Feytiat|Villacerf|Thouron|Saint-Hippolyte|Brabant-le-Roi|Breitenbach|Hymont|Quintenic|Alissas|Taillecourt|Saint-Laurent-du-Var|Thaon-les-Vosges|Coussey|Colombier-le-Vieux|Fontenoy-le-Château|Bouin|Vaucouleurs|Roches-lès-Blamont|Palise|Moïta|La Ferté|La Planée|Crozon|Concressault|Varnéville|Fourbanne|Manso|Douadic|Auxerre|Voillans|Le Coudray-Macouard|Vallant-Saint-Georges|Le Fied|Magrie|Saint-Éloi|Frébuans|Uzelle|Keffenach|Brannay|Culey|Vaire|La Guérinière|Sermersheim|Oberrœdern|Mailhac-sur-Benaize|Venaco|Brères|Buzy-Darmont|Lainsecq|Trampot|Moissannes|Droux|Doncières|Campuac|Montbras|Saint-Sornin-Leulac|Saint-Étienne-lès-Remiremont|Varennes-lès-Narcy|Le Bouchon-sur-Saulx|Malpas|Biches|Saint-Denis-de-Jouhet|Sarrewerden|Piazzole|Tintury|Frenelle-la-Grande|Aubignas|Sidiailles|Saint-Péreuse|Thulay|Gabriac|La Chaize-Giraud|Santec|Belfort-sur-Rebenty|Sainte-Lizaigne|Channes|Dommartin-lès-Vallois|Brumath|Jussy|Duppigheim|Marseillette|Oberdorf-Spachbach|Moustéru|Lavans-Vuillafans|Bovée-sur-Barboure|Saint-Gilles-les-Forêts|Monacia-d'Orezza|Sens|La Bouillie|Plourivo|Crissey|Beutal|Nevy-lès-Dole|Lhuître|Balnot-sur-Laignes|Frasne-les-Meulières|Luri|Baraize|Saint-André-en-Morvan|San-Gavino-di-Tenda|Étourvy|Sommelonne|Lescouët-Gouarec|Saint-Pierre|Saint-Martin-de-Lansuscle|Poligny|Jaujac|Sainte-Sève|Dommartin-aux-Bois|Domecy-sur-Cure|Linguizzetta|La Broque|Saint-Laurent|Altier|Saint-Malô-du-Bois|La Motte|Torteron|Bouconville-sur-Madt|Saint-Prix|Achenheim|Buchères|Plévenon|Feux|Labeuville|Chazé-sur-Argos|Les Planches-près-Arbois|Laz|Authiou|Florémont|Le Givre|Saint-Denis-en-Margeride|Thal-Marmoutier|Saint-Vran|Frizon|Villeneuve-la-Comptal|La Chaux-en-Bresse|Les Vallois|Dompierre-aux-Bois|Rambucourt|Maizières-la-Grande-Paroisse|Chêne-Sec|Ouveillan|Essarts en Bocage|Vauchassis|Le Russey|Migny|Froidevaux|Saint-Léger-Vauban|Beaulieu|Lacs|Saint-Laurent-les-Églises|Verdun-en-Lauragais|Mars|Aisy-sur-Armançon|Bazoges-en-Pareds|Lichères-près-Aigremont|Dompnac|Montbarrey|Espezel|Sivry-sur-Meuse|Peyrestortes|Saint-Féliu-d'Avall|Asquins|Pars-lès-Romilly|Weinbourg|Villiers-Saint-Benoît|Vallauris|Cheissoux|Vaudoncourt|Chavannes|Vaudes|Roffey|Ferdrupt|Serécourt|Croce|Bassurels|Neuvy-sur-Loire|Ambazac|Aixe-sur-Vienne|Lachalade|Pexiora|La Chapelle-Baloue|Saint-Martin-des-Prés|Arrelles|Rurey|Pommiers|Rigny-la-Salle|Les Rousses|Brienne-le-Château|Plounérin|Fontaines|Bonnet|Denée|Soultz-sous-Forêts|Darney|Désandans|La Vicomté-sur-Rance|Brusque|La Ville-aux-Bois|Ergué-Gabéric|La Petite-Fosse|Chaumergy|Louresse-Rochemenier|Trévillers|Fougeré|Villard|Maillot|Onglières|Peille|Veuil|Dompcevrin|Chennegy|Dommartin-sur-Vraine|Pleuvezain|Taurize|Saint-André-Goule-d'Oie|Argens-Minervois|Chevenon|Gizia|Chaumont-sur-Aire|Westhoffen|Quemperven|Oulches|Glamondans|La Malhoure|Le Poiré-sur-Vie|Bigorno|Rians|Villemanoche|Saint-Évarzec|Comus|Brognard|Relans|Les Cluses|Vabres-l'Abbaye|Sallèles-Cabardès|Villers-sur-Meuse|Vernet-les-Bains|Corcieux|Mazuby|Vaux-lès-Palameix|Chalaines|Saint-Martin|Saint-Michel-de-Llotes|Rouffange|Vailly|Ardoix|Tronchoy|Civray|Castillon|Tieffenbach|Saint-Beaulize|Locarn|Mont-sur-Monnet|Penta-Acquatella|Chevannes-Changy|Gron|Uzemain|Meillant|Thoissia|Lentillères|Beffes|Entzheim|Dampierre|Thurey-le-Mont|Wavrille|Raves|Brantigny|Baho|Ploufragan|Cuse-et-Adrisans|Géry|Portel-des-Corbières|Bierry-les-Belles-Fontaines|Broussey-Raulecourt|Avignon-lès-Saint-Claude|Céret|Vernoy|Gorbio|Germigney|Plouvorn|Keskastel|Villemorien|Saint-Pierre-de-Jards|Barre-des-Cévennes|Montambert|Villers-Robert|Sainte-Marguerite|Landaville|Mandres-en-Barrois|Fontgombault|Couzeix|Corpe|Les Grangettes|Saint-Victurnien|Montesquieu-des-Albères|Chezelles|Murvaux|Cast|La Redorte|Saessolsheim|Novella|Besain|Eaux-Puiseaux|Prats-de-Mollo-la-Preste|Nohant-en-Graçay|Montreuil-sur-Maine|Binic-Étables-sur-Mer|Compigny|Avant-lès-Ramerupt|Eckartswiller|Seigneulles|Valleroy-aux-Saules|Donnement|Vernosc-lès-Annonay|Viry|Saint-Blaise-la-Roche|Pont-de-Salars|Saint-Didier|Gatey|Nozières|Boviolles|Aiglepierre|Ottwiller|Albon-d'Ardèche|Le Nayrac|Bézaudun-les-Alpes|Montrol-Sénard|Menotey|Pont-Aven|Saint-Martin-sur-Nohain|Mausoléo|Magnat-l'Étrange|Saint-Claude|Marcols-les-Eaux|Villenavotte|Montréal|Remoncourt|Baume-les-Messieurs|Saint-Aoustrille|Le Collet-de-Dèze|Wahlenheim|Guitté|Bazoilles-sur-Meuse|Boisseuil|Pierrefitte-sur-Aire|Guenroc|Monestier|Conte|Montceaux-lès-Vaudes|Grâces|Cunfin|Villebernier|Montbazens|Saint-Remy-la-Calonne|Obersoultzbach|Elliant|Boussac|Saint-Pierre-le-Vieux|Chamole|Badecon-le-Pin|Fiménil|Fussy|Saint-Martin-Lars-en-Sainte-Hermine|Vinça|Toury-Lurcy|Gignéville|Saugy|Massay|Pranles|Saint-Rome-de-Cernon|Montsec|Mazières-en-Mauges|Luc-sur-Aude|Laurenan|Le Gratteris|Brizeaux|Vaudevant|Montbolo|Bégrolles-en-Mauges|Neuville-lès-Vaucouleurs|Plévin|Drachenbronn-Birlenbach|Goxwiller|Obenheim|Baillestavy|Orchamps|Les Éparges|Le Blanc|Trimbach|Villegouin|Saint-Léger-de-Fougeret|Saint-Just-sur-Dive|Saint-Maurice-aux-Riches-Hommes|Saint-Pierre|Mesnard-la-Barotière|L'Hôpital-du-Grosbois|Pleudaniel|Avilley|Ploubezre|Naives-en-Blois|Saint-Auban|Saint-Jean-Lasseille|Valleroy|Bernon|Rebeuville|Canihuel|Casanova|Saint-Cyr|La Bastide-Pradines|Fons|Loge-Fougereuse|Penmarch|Pisy|Tomino|Vernantois|Trésauvaux|Sainte-Magnance|Ciron|Saint-Agnant-de-Versillat|Saint-Phal|Erckartswiller|Ebersmunster|Villegailhenc|Saint-Bouize|Ernolsheim-Bruche|Massac|Beausoleil|Rigny-le-Ferron|Cailhavel|Damvillers|Fresselines|Trégueux|Thieffrain|Saint-Julien-des-Points|Chassal-Molinges|Nuars|Bonvillet|Sarrigné|Panazol|Bazelat|Meilhac|Gabriac|Trébabu|Théoule-sur-Mer|Sainte-Colombe|Gouesnach|Les Cassés|Tardes|Mauges-sur-Loire|Saissac|Nanchez|Firmi|Les Pineaux|Paudy|Auroux|Coudons|Lissey|Saint-Félicien|Fignévelle|Saint-Laurent-d'Olt|Crespin|Steinbourg|Poisieux|Sébrazac|Pouligny-Notre-Dame|Dorlisheim|Mellac|Pont-du-Navoy|Torreilles|Condamine|Malras|Merry-la-Vallée|Saint-Georges-Armont|Saint-Cyprien|Gugney-aux-Aulx|Beaumont-la-Ferrière|Plouigneau|Saint-Paul|Cruzy-le-Châtel|Saint-Hilaire-de-Gondilly|Sommeval|Saint-Michel-de-Plélan|Brandeville|Bertholène|Genouilly|Berriac|Brain-sur-Allonnes|Châtelaudren-Plouagat|Sainte-Léocadie|Challain-la-Potherie|Le Bernard|Plougourvest|Plumaudan|Étais-la-Sauvin|Les Hauts-d'Anjou|Uzel|Courtauly|Sauto|Sancey|Villautou|Plomodiern|Lanvallay|Bompas|La Voivre|Ferrières-le-Lac|Dombrot-le-Sec|Saint-Maurice-sur-Mortagne|Migennes|Bagnoles|Bœurs-en-Othe|Cierges-sous-Montfaucon|Hagnéville-et-Roncourt|Chevigney-lès-Vercel|Le Pin|Chamesey|Feilluns|Saint-Melaine-sur-Aubance|Corlay|Villiers-les-Hauts|Bonlieu|Collorec|Chappes|Mayres|Rémondans-Vaivre|Abergement-la-Ronce|Évillers|Coulanges-la-Vineuse|Chalonnes-sur-Loire|Saint-Georges-sur-Moulon|Maureillas-las-Illas|Bourseul|Montholon|Botsorhel|Bouchemaine|Galgan|Précy|Romilly-sur-Seine|Destord|Schopperten|Saint-Agrève|Saint-Péver|Brauvilliers|La Belliole|Abainville|Hyémondans|Saint-Just|Spézet|Brélidy|Montfaucon-d'Argonne|Longchamp-sous-Châtenois|Le Merzer|Bournois|Château-Chinon (Campagne)|Sant'Andréa-di-Cotone|Grandfontaine-sur-Creuse|Schwobsheim|Orgeans-Blanchefontaine|Lavau|Sormery|Tanlay|Arbourse|Brillon-en-Barrois|Les Auxons|Diors|Savigny|La Pesse|Le Truel|Darbonnay|Charnay|Pléguien|Ignol|Pigna|Silhac|Saulvaux|Aubenas|La Roque-en-Provence|Allineuc|Krautwiller|Sermaise|Chaillé-les-Marais|Couffoulens|Argenton-sur-Creuse|Ville-Langy|Loisey|Tracy-sur-Loire|Le Soler|Vasselay|Colombiès|Le Rouret|Givardon|Vennes|Meria|Rocles|Costa|Cramans|Biffontaine|Trégarvan|Dornes|Méreau|Sèvremont|Jainvillotte|Tordères|Bazoches|Bans|Plélo|Aibre|Osches|Saint-Amand-sur-Ornain|La Gaubretière|Fresnoy-le-Château|Bertrimoutier|Largillay-Marsonnay|Château-Chalon|Isenay|Richecourt|Sommerau|Serdinya|Allogny|Gresswiller|Landébia|Calmeilles|Saint-Dié-des-Vosges|Les Voivres|Vadonville|Saint-Joseph-des-Bancs|Buxières-sur-Arce|Bois-de-Gand|Domblans|Petit-Mesnil|Saint-Jean-Ligoure|La Capelle-Bleys|Le Bar-sur-Loup|Leugny|Collioure|Marnay-sur-Seine|Bussy-en-Othe|Germenay|La Villeneuve-au-Châtelot|Bligny|Courtetain-et-Salans|Périgny-la-Rose|Gramond|Saint-Yvi|Argences en Aubrac|La Saunière|Lingé|Chambon-sur-Voueize|Sainte-Eulalie|Lureuil|Saint-Mayeux|Montjardin|Palluau-sur-Indre|Meslières|Médière|Chamvres|Saint-Félix-de-Sorgues|Salon|Avirey-Lingey|Neublans-Abergement|Cornant|Fontrabiouse|Bléneau|Berzème|Paule|Mulhausen|Châtel-sur-Moselle|Valmigère|Mozé-sur-Louet|Abergement-le-Grand|Sorède|Lafarre|La Chaumusse|Quintin|Saint-Andéol-de-Fourchades|Épeugney|Coust|La Salvetat-Peyralès|Clermont-en-Argonne|Saint-Hilaire-les-Places|Ainay-le-Vieil|Hillion|Cornimont|Lavincourt|Greux|Labécède-Lauragais|Menetou-sur-Nahon|Felletin|Derbamont|Mazeirat|Removille|Saint-Maden|Pierrefontaine-lès-Blamont|Pays-de-Clerval|Cluis|Heippes|Ruppes|Lalevade-d'Ardèche|Les Ormes|Ergersheim|Villard-Saint-Sauveur|Échay|Courteranges|Chaumot|Issans|Montmahoux|Noceta|Dompierre-les-Églises|Barbaggio|Belrain|Guéret|Cernusson|Voiteur|Saorge|Audelange|La Porta|Escales|Ville-devant-Chaumont|Dommary-Baroncourt|Xertigny|Palasca|Lapanouse-de-Cernon|Urtaca|Salmiech|Breconchaux|Saint-Remimont|Argentenay|Louvatange|Trélévern|Gigney|La Celle|Dalhunden|Saint-Amans-des-Cots|Saint-Paul-de-Fenouillet|Le Vieux-Bourg|Rambluzin-et-Benoite-Vaux|Monnières|Épineuil-le-Fleuriel|La Groutte|Tronsanges|Levens|Fegersheim|Brenoux|Gartempe|Plénise|Bussière-Dunoise|Fontenu|Crozon-sur-Vauvre|Mandray|Égat|Perrigny|Lohuec|Chardogne|Pretz-en-Argonne|La Guerche-sur-l'Aubois|Moncey|Paroy-en-Othe|Niederhausbergen|Lagrasse|Pierrepont-sur-l'Arentèle|Opoul-Périllos|Portieux|Docelles|Morteau|Crozant|Plémet|Nesmy|Conat|Cuvier|Lironcourt|Saint-Pierre-les-Bois|Rances|Pont-lès-Bonfays|Saint-Marcel-lès-Annonay|Contes|Arques|Tollaincourt|Torpes|Lavault-de-Frétoy|La Romagne|Pradelles-Cabardès|Varennes-sur-Loire|Fromeréville-les-Vallons|Cléden-Poher|Lampaul-Guimiliau|Écurcey|Tissey|Bessy|Orsennes|Durtal|Avrée|Vitry-Laché|Saint-Agnan|Les Bordes|Raon-l'Étape|Saint-Cirgues-de-Prades|Maché|Saint-Juire-Champgillon|Sylvanès|Pontigny|Plaimbois-Vennes|Creissels|Rosnay|Montierchaume|Rocher|Balaguier-sur-Rance|Barésia-sur-l'Ain|Savas|Dyé|Géraudot|Saint-Gorgon|Arpheuilles|Saint-Mathieu|Guilly|Poggio-Marinaccio|Lachapelle-sous-Aubenas|Bantheville|Maxey-sur-Meuse|Kirchheim|Laines-aux-Bois|Montigny-aux-Amognes|Robert-Espagne|Laviron|Saint-Michel-de-Chabrillanoux|Les Mujouls|Collan|Landeleau|Ambrault|Cambieure|Cholet|Neuvy-Pailloux|Rillans|Sainte-Juliette-sur-Viaur|Giry|Westhouse|Saint-Martin-du-Tertre|Orée d'Anjou|Roiffieux|Darney-aux-Chênes|Saint-Florent|Peyrefitte-du-Razès|Barembach|Dompierre-sur-Mont|Bleurville|Aingeville|Fontevraud-l'Abbaye|Thésy|Séreilhac|Poiroux|Lamoura|Bertignolles|Golbey|Planèzes|Feneu|Fillols|Diges|Butten|Limoux|La Tour|Placey|Compolibat|Précy-sur-Vrin|Charézier|Vallon-Pont-d'Arc|Saint-Nazaire|Chazeuil|Pleslin-Trigavou|Mourioux-Vieilleville|Saint-Martin-des-Noyers|Doué-en-Anjou|Le Menoux|Guilvinec|Plougonvelin|Ostwald|Monteils|Plouénan|Tréveray|Arsonval|Domfaing|Calorguen|Yrouerre|Breitenau|San-Damiano|Charny Orée de Puisaye|Les Bois d'Anjou|Saint-Gaudéric|Saint-Laurent-sous-Coiron|Haudainville|Saint-Germain-sur-Meuse|Romain|Tréguennec|Grimault|Bagneux|Nouic|La Collancelle|Arbois|Ghisonaccia|Grand'Combe-des-Bois|Herméville-en-Woëvre|Pont-de-Roide-Vermondans|Naucelle|Accolans|Saint-Symphorien|Lavallée|Volksberg|Itterswiller|Courtenot|Davejean|Mehun-sur-Yèvre|Bessas|Meyrueis|Saint-Ferriol|Gars|Saint-Hilaire-la-Treille|Landéda|Beaulieu-sur-Mer|Le Puy|Lavau|Saint-Cyr-des-Gâts|La Chapelle-d'Angillon|Cussac|Schirrhein|Venansault|Pupillin|Saint-Bihy|Goutrens|Tilly-sur-Meuse|Arques|Saint-Nicolas-la-Chapelle|Aincreville|Saint-Jean-aux-Amognes|Limanton|Saint-Cyr|Champagne-sur-Loue|Tarcenay-Foucherans|Les Islettes|Villemoyenne|Antoigné|Cessy-les-Bois|Jussy-Champagne|Casalta|Homps|Champigny|Henvic|Molamboz|Nant|Pabu|Félines-Termenès|Port-Launay|Asswiller|Val Suran|Ardentes|Authume|Quéménéven|Mont-devant-Sassey|Vennans|Molain|Mostuéjouls|Huanne-Montmartin|Jouy|Trémaouézan|Girecourt-sur-Durbion|Villarzel-du-Razès|Freyssenet|Quintenas|Félines|Gourlizon|Brossay|Saint-Derrien|Parassy|Marchaux-Chaudefontaine|Solaro|Kersaint-Plabennec|Rigney|Denezières|Saint-Péray|Senan|Landeronde|Gommenec'h|Saint-Renan|Gurunhuel|Pomas|Ottrott|Cervione|Fosse|Loperhet|Alleyrat|Badménil-aux-Bois|Sapois|Rivesaltes|Mattaincourt|Arzano|Éton|Eyjeaux|Oye-et-Pallet|La Chapelle-Hugon|Neuvilley|Robécourt|Gredisans|L'Aiguillon-la-Presqu'île|Écrille|Verneuil-sur-Vienne|Vailly-sur-Sauldre|Pfalzweyer|Quintigny|Chauffecourt|Peyrat-le-Château|Lanfains|Pintheville|Belmont-sur-Rance|Castelnou|Betschdorf|Sardy-lès-Épiry|Le Born|Sury-en-Vaux|Paroy-sur-Tholon|Migé|Neugartheim-Ittlenheim|Villenauxe-la-Grande|Taintrux|Cagnano|Reigny|Murlin|Saint-Lormel|Saint-Thégonnec Loc-Eguiner|Viménil|Montblainville|Brusvily|Wittersheim|Plouvara|Les Plains-et-Grands-Essarts|Bolandoz|La Vieille-Loye|Arcy-sur-Cure|Loison|Durnes|Villefranche-sur-Mer|Uhrwiller|Nant-le-Petit|Willeroncourt|Courtefontaine|Chamborand|Pourchères|Séranon|Vagnas|Boqueho|Mancenans|La Chapelle-Saint-Laud|Avolsheim|Saint-Martin-d'Ardèche|Le Puy-Notre-Dame|Bouclans|Belflou|Plussulien|Jaucourt|Saint-Étienne-du-Bois|Banyuls-dels-Aspres|Vira|Bénévent-l'Abbaye|Ittenheim|Merkwiller-Pechelbronn|Crotenay|Arles-sur-Tech|Châteauneuf-de-Vernoux|Chomérac|Amance|Sainte-Gemme-la-Plaine|Lacombe|Arcens|Burzet|Sainte-Thorette|Fouday|Buffard|Augy-sur-Aubois|Saint-Pierre-des-Tripiers|Montigny-les-Monts|Rapaggio|Moyenmoutier|Gevresin|Tréméoc|Chéu|Novale|Bégard|Bernardswiller|Coyrière|Pommerit-le-Vicomte|Épiez-sur-Meuse|Maël-Pestivien|Mittelhausbergen|Missègre|Cassaignes|Croze|Bois-d'Amont|Ols-et-Rinhodes|Alligny-Cosne|Cornod|Schœnau|Decize|La Méaugon|Nyer|Lachamp-Ribennes|Grendelbruch|Cussy-les-Forges|Santigny|Linards|Chilly-le-Vignoble|Romain-aux-Bois|Dierrey-Saint-Pierre|Neuvy-Saint-Sépulchre|Runan|La Villeneuve-au-Chêne|Le Folgoët|Barbuise|Nohant-Vic|Dagonville|Paraza|Gajoubert|Dannemarie-sur-Crète|Geudertheim|Sand|Rozières-sur-Mouzon|Morgemoulin|La Favière|Muro|Port-la-Nouvelle|Rondefontaine|Hyèvre-Magny|Sainte-Sévère-sur-Indre|Finestret|Rieux-en-Val|Vaux-lès-Saint-Claude|Saugeot|Saint-Martin-le-Vieux|Les Ableuvenettes|Preuschdorf|Vellerot-lès-Belvoir|Gouézec|Laure-Minervois|Lamastre|Saint-Clément|Saint-Martin-du-Puy|Ville-di-Pietrabugno|Saint-Baudel|Saint-Aubin|Arpheuilles|Sansa|Sury-près-Léré|Lizeray|Gendreville|Duzey|Écuillé|Santo-Pietro-di-Venaco|Rothau|Saint-Étienne-de-Fontbellon|Guimiliau|Montjoi|Saint-Hilaire-de-Riez|Our|Sainte-Feyre|Villefargeau|Le Tech|Luc-la-Primaube|La Fouillade|Béru|Kutzenhausen|L'Isle-sur-Serein|Cannes|Tayrac|Rabouillet|Vignale|Grozon|Dampierre-sur-le-Doubs|Les Vallées de la Vanne|Pimelles|Villers|Ouroux-en-Morvan|Hinsingen|Turquant|Frapelle|Chouzelot|Sainte-Pexine|Saint-Brancher|Saint-Michel-le-Cloucq|Languenan|Florac Trois Rivières|Saint-Maurice|Ersa|Vierzon|Combrit|Neuillay-les-Bois|Châtenois|Saint-Germain-de-Calberte|Doix lès Fontaines|Chapelle-des-Bois|Lirey|Saint-Barthélemy-le-Plain|Saint-Georges-de-Pointindoux|Cheniménil|Niederbronn-les-Bains|Parigny-les-Vaux|Baixas|Villespy|Durningen|Gœrlingen|Sauvigny-le-Bois|Égleny|Gournay|Amirat|Grimaucourt-en-Woëvre|Neuvilly-en-Argonne|Saint-Vaury|Digna|Cossaye|Saint-Martin-sur-Armançon|Plénée-Jugon|Lancieux|Escaro|Weiterswiller|Handschuheim|Formiguères|Venizy|Labeaume|Saint-Étienne-de-Serre|Trédrez-Locquémeau|Millas|Médonville|Arçay|Néfiach|Barretaine|Mesnil-Lettre|Brion|Saint-Chartier|Étouvans|Dompierre-sur-Nièvre|Quantilly|Mesmay|Montain|Menetou-Couture|Migné|Fontenay|Viala-du-Tarn|La Jonchère|Sainte-Eulalie-d'Olt|Chapelle-Vallon|Chéniers|Champvert|La Chapelle-Hermier|Saint-Honoré-les-Bains|Saint-Vincent-sur-Graon|Tréouergat|Nans-sous-Sainte-Anne|La Prétière|Préveranges|Saint-Jean-et-Saint-Paul|Capendu|Déols|Rochepaule|Orve|Locmélar|Guipy|Vavincourt|Ormoy|Geneuille|Azille|Saint-Sornin-la-Marche|Rauwiller|Sainte-Vertu|Saint-Papoul|Fuans|Myon|Aumont|Colombier-le-Cardinal|Sospel|Saint-Brieuc|Mouthoumet|Charchilla|Cailla|Gelvécourt-et-Adompt|Vroville|Vers-sous-Sellières|Barbaira|Sainte-Marie|Blaesheim|Rougemont|Riec-sur-Bélon|Beaulieu-sur-Layon|Abbévillers|Combles-en-Barrois|Saint-Léger-près-Troyes|Les Forges|Rieupeyroux|Saint-Blaise|Saint-Julien-des-Landes|Mouzeuil-Saint-Martin|Chaudeyrac|Dombasle-en-Xaintois|Pech-Luna|Rousses|Vuillafans|La Chaux-du-Dombief|Vincelottes|Grosbreuil|Lavignac|Lourouer-Saint-Laurent|Estoher|Boinville-en-Woëvre|Pont-sur-Vanne|Olette|Limeux|Saint-Priest-la-Marche|Chattancourt|Cubry|Censy|Mortagne-sur-Sèvre|Tréglonou|Saint-Victor-en-Marche|Niort-de-Sault|Vorly|Maizières-lès-Brienne|Montmorot|Saint-Juéry|Saint-Cézaire-sur-Siagne|Fessevillers|Montolieu|Ribeaucourt|Le Thillot|Champfleury|Marainville-sur-Madon|Montplonne|Damparis|Beaumont-Sardolles|Bournezeau|Sennevoy-le-Bas|Socourt|Epiry|Marre|Saint-André-Lachamp|Éclance|Canari|Plounéour-Brignogan-plages|Saint-Sauveur-de-Cruzières|Looze|La Merlatière|Dosches|Chauzon|Jourgnac|Berstett|Lassouts|Rodome|Corneilla-de-Conflent|Puy-de-Serre|Beaumont|Bourg-Saint-Andéol|Benfeld|Féniers|Artolsheim|Néons-sur-Creuse|Bouillac|Foncine-le-Haut|Roset-Fluans|Beaumont|Tourouzelle|Certilleux|Vernonvilliers|Kergrist-Moëlou|Furdenheim|Eysson|Bué|Saint-Thurien|Morlhon-le-Haut|Vallan|Épinal|Guérigny|Saint-Philbert-du-Peuple|Verdigny|Sérigné|Sarzay|Denipaire|Cromac|Valzin en Petite Montagne|Noyal|Gundershoffen|Méry-sur-Cher|Reffroy|Nantois|Camjac|Donnenheim|Railleu|Piazzali|Bouillé-Ménard|Mantet|Lesseux|Plouguerneau|Faymoreau|Pruniers|Lizine|Antisanti|Olizy-sur-Chiers|Bor-et-Bar|Nuits|Viâpres-le-Petit|Chaux-lès-Passavant|Camlez|Pencran|Sussac|Vers-en-Montagne|Ispagnac|Saint-Lothain|Coustaussa|Palairac|Saint-Bonnot|Sambourg|La Séguinière|Cressia|Blussans|Le Bélieu|Rustiques|Champougny|Guingamp|Bringolo|Garlan|San-Gavino-d'Ampugnani|Engente|Chaux-des-Crotenay|Sembleçay|Aléria|Vildé-Guingalan|Île-de-Batz|Challuy|Lanthenans|Villon|Vergigny|Charentonnay|Niederlauterbach|Labergement-Sainte-Marie|Baume-les-Dames|Gunstett|Ougney-Douvot|Lamenay-sur-Loire|Raival|Casefabre|Lorentzen|Dun-sur-Meuse|Longué-Jumelles|Cenne-Monestiés|Saint-Jean-lès-Buzy|Mézilhac|Saint-Maurice-Crillat|Les Sièges|Azannes-et-Soumazannes|Cousances-les-Forges|Marigny|Nubécourt|Baroville|Vilosnes-Haraumont|Cassagnes-Bégonhès|Touchay|Fouesnant|Vassincourt|Aizenay|Rennes-les-Bains|Villers-Saint-Martin|Sens-Beaujeu|Le Pompidou|Sauzelles|Villers-Buzon|Morre|Couargues|Seuzey|Vivy|Maennolsheim|Waldolwisheim|La Garnache|Saint-Firmin|Windstein|Véron|Cosswiller|Plancy-l'Abbaye|Muttersholtz|Dournazac|Savennières|Épieds|Broons|Challans|Mur-de-Barrez|Sainte-Agnès|Les Riceys|Hauteroche|Mailly-le-Château|Turgy|Vincey|Saint-Benoît|Saint-Hilaire|Vivès|Lavalette|Hergugney|La Chapelle-Vaupelteigne|Tiercé|Franois|Deyvillers|Bucey-en-Othe|Druyes-les-Belles-Fontaines|Montécheroux|Courvières|Lannion|Vulvoz|Marson-sur-Barboure|Soufflenheim|Annay|Giroux|Planzolles|Ban-sur-Meurthe-Clefcy|Garigny|Saint-Florentin|Devay|Bootzheim|Krautergersheim|Muracciole|Vitry-le-Croisé|Saint-Quay-Portrieux|Dompaire|Padoux|Saint-Marcel-sur-Aude|Domeyrot|Roquebrune-Cap-Martin|Saint-Priest-Taurion|Brans|Le Cambout|La Copechagnière|Saint-Saturnin-de-Lenne|Véry|Les Combes|Livinhac-le-Haut|Plouguin|Fléré-la-Rivière|Dosnon|Larnaud|Sergenaux|Chesley|Villiers-Vineux|Val-Fouzon|Bouxières-aux-Bois|Trichey|Roscoff|Belleherbe|Vigoux|Besançon|Chablis|Aragon|Houdelaincourt|Montiéramey|Provenchères-et-Colroy|Taglio-Isolaccio|Sauville|Saint-Laurent-de-Muret|Bessède-de-Sault|Mesnil-la-Comtesse|Sainte-Colombe-des-Bois|Marnoz|Allouis|Ménétréol-sous-Sancerre|Coussegrey|Saint-Pol-de-Léon|Saint-André-Capcèze|Seloncourt|Pie-d'Orezza|Valbois|Exincourt|Parata|Sainte-Valière|Saint-Satur|Lugny-Champagne|Saint-Mihiel|L'Isle-sur-le-Doubs|Molleville|Rouvres-la-Chétive|Paulnay|Joncreuil|Néret|Désaignes|Ploumagoar|Maux|Saint-Montan|Châteauponsac|Méré|Plainoiseau|Saint-Martin-des-Champs|Prades|Belcastel-et-Buc|Courcelles-sur-Aire|Saxi-Bourdon|Guilligomarc'h|Fraroz|Seraumont|Savignac|Pont-Croix|Verneuil-sur-Igneraie|Tavaux|Montsoreau|Vogüé|Ronchères|Bélesta|Bourguignon|Grandrupt-de-Bains|Luvigny|Sparsbach|Chenecey-Buillon|Issoudun|Eyne|Appoigny|Gertwiller|Turny|Marie|Wolfisheim|Villeneuve-lès-Montréal|Saint-Oulph|Climbach|Bitry|Pruno|Jeugny|Vix|Mouthier-Haute-Pierre|Fajac-en-Val|Pomy|Berg|Esserval-Tartre|Porri|Saint-Symphorien-de-Thénières|Mont-de-Laval|La Tranche-sur-Mer|Saint-Clet|Bassou|Bouzais|Pallegney|Blarians|Kogenheim|Pensol|Osthouse|Wisches|Montclar|Mézières-en-Brenne|Andernay|Prat|Blamont|Lougres|L'Hôpital-Saint-Lieffroy|Parfondrupt|Payns|Moissac-Vallée-Française|Saint-Léger-Magnazeix|Vijon|Brillecourt|Treffiagat|Saint-Lager-Bressac|Paulhe|Vrécourt|Thiébouhans|La Chenalotte|Landunvez|Villeneuve-au-Chemin|Romagne-sous-les-Côtes|Louannec|Marnézia|Étables|Lauterbourg|Pougues-les-Eaux|Ougny|Charmauvillers|Châtel-Censoir|La Croix-sur-Gartempe|Couvignon|Saint-Christophe-Dodinicourt|Dammarie-sur-Saulx|Champ-sur-Barse|Dirinon|Neuvy-Sautour|Plonéis|Briel-sur-Barse|Sécheras|Saint-André-en-Terre-Plaine|Tilleux|Saint-Marcel-d'Ardèche|Mandelieu-la-Napoule|Plestan|Quincy|Floure|Joyeuse|Bréhand|Saint-Thois|Palau-del-Vidre|Delouze-Rosières|La Meilleraie-Tillay|Tercillat|Saint-Céols|Saint-Michel-d'Aurance|Les Martys|Landudal|Beauclair|Marmeaux|Rainans|Écot|Clézentaine|Saint-Sulpice-en-Pareds|Saint-Genest-Lachamp|Escolives-Sainte-Camille|Landersheim|Beaupréau-en-Mauges|La Couvertoirade|Mosset|Laneuville-au-Rupt|Laheycourt|Wintershouse|Peuvillers|Lagesse|Plorec-sur-Arguenon|Plomelin|Azy|Belsentes|Sainte-Croix|Bœsenbiesen|Montaigut-le-Blanc|Gorges du Tarn Causses|Blou|Kergloff|Saint-Georges-sur-la-Prée|Joannas|Saint-Yrieix-sous-Aixe|Saint-Lactencin|Villeneuve|Primelin|Ruages|Lanans|Castelnaudary|La Chapelle-Thémer|Lombard|Ancemont|Amathay-Vésigneux|Fauconcourt|Jussarupt|Blevaincourt|Rang|Bannalec|Pont-sur-Madon|Angles|Saint-Nazaire-d'Aude|Saint-Georges-de-Poisieux|Deux Rivières|Zinswiller|Bracon|Val-Sonnette|Domèvre-sur-Avière|Saint-Saulge|Neuillé|Sant'Antonino|Altorf|Chemaudin et Vaux|Saint-Priest|Saint-Aubin-des-Chaumes|Bossancourt|Marçais|Le Lion-d'Angers|Saint-Sulpice-Laurière|Couloutre|Maleville|Goulien|Estavar|Lanvollon|Naives-Rosières|Saint-Privé|Buvilly|Hangenbieten|Flacy|Bonnay|Dingsheim|Oberlauterbach|Saint-Michel-de-Lanès|Les Albres|Saint-Maurice-des-Noues|Étivey|Genod|Champdivers|Chevroz|Cases-de-Pène|Bairols|Saint-Julien|Sougy-sur-Loire|Rilly-Sainte-Syre|Blanzée|Asnans-Beauvoisin|Saint-Loup|Gourdon|Compreignac|Saint-Agnan|Almont-les-Junies|Telgruc-sur-Mer|Jujols|Pourrain|Mouilleron-Saint-Germain|Seuil-d'Argonne|Villeneuve-d'Aval|Vendenheim|Gouhelans|Rebourguil|Charrin|Nogent-sur-Aube|Lavans-Quingey|Échenans|Plougrescant|Balaguier-d'Olt|Rodez|Murasson|Grignoncourt|Cubières|Olemps|Beynac|Nice|Aydoilles|Juvinas|Orcenais|Paimpol|Ougney|Sainte-Barbe|La Louptière-Thénard|Froidfond|Maxey-sur-Vaise|Rothonay|Lisle-en-Barrois|Fromezey|Vézelay|Ney|Chaptelat|Saint-Denis-des-Murs|Mandres-sur-Vair|Saint-Sérotin|Niedermodern|Lavoye|Lamorville|Rives-du-Loir-en-Anjou|Lichtenberg|Chadenet|Senven-Léhart|Chalencon|Nalliers|Le Mémont|Saint-Stail|Le Teil|Chalaux|Chapois|Saint-Jean-de-la-Croix|Vagney|Thorrenc|Gellin|Cavanac|Campagnac|Hochstett|Trévé|Rossfeld|Puzieux|Courlon-sur-Yonne|Roulans|Les Pontets|Balnot-la-Grange|Caramany|Valvignères|Tréveneuc|Saint-Hilaire-de-Lavit|Osthoffen|Trilla|Salvagnac-Cajarc|Belvianes-et-Cavirac|Le Tignet|Banyuls-sur-Mer|Saint Geniez d'Olt et d'Aubrac|Forstfeld|Prusy|Altiani|Bugarach|Éréac|Sarras|Dieffenbach-au-Val|Kolbsheim|Val-de-Mercy|Villecelin|Boofzheim|Rans|Léré|Pieusse|Brommat|Mouffy|Peyriac-de-Mer|Olmo|Saint-Laurent-sur-Gorre|Brosses|Champvans-les-Moulins|Innenheim|Dournon|Le Buisson|Viviers|Bourg-Madame|Pléven|Méligny-le-Grand|Brienne-la-Vieille|Onlay|Villeneuve-sur-Cher|Sainte-Montaine|Chauchigny|La Roche-l'Abeille|Campana|Le Bousquet|Vaufrey|Puberg|Frédille|Saint-Étienne-de-Valoux|Le Conquet|Dommartin|Thénioux|Fort-Louis|Villeneuve-sur-Yonne|Gaillac-d'Aveyron|Crancey|La Tessoualle|Merry-sur-Yonne|Saint-Pierre-du-Chemin|Montjoie-le-Château|Memmelshoffen|Monay|Saint-Baslemont|Saint-Mards-en-Othe|Bazincourt-sur-Saulx|Saint-Laurent|Villeroy|Épothémont|Alba-la-Romaine|Rodès|Poussanges|Lanrelas|Lesquerde|Vertamboz|Montigny-devant-Sassey|Saint-Flour-de-Mercoire|Moraches|Fulvy|Blienschwiller|Sochaux|Vereaux|Bavans|Châteauneuf-du-Faou|Saint-Germain-du-Puy|Aulnois-en-Perthois|Fresnes-au-Mont|Équevillon|Brinon-sur-Beuvron|Lavans-lès-Dole|Le Haut-Corlay|Ineuil|Longsols|Vingrau|Jarnages|Penvénan|Les Deux-Fays|Monte|San-Giuliano|Génicourt-sur-Meuse|Peyrusse-le-Roc|Mougins|Edern|Tronville-en-Barrois|Le Cloître-Saint-Thégonnec|Saint-Pierre-les-Étieux|Espira-de-l'Agly|Carantec|Villemoustaussou|La Chapelle-Saint-Ursin|Bouillé-Courdault|Calce|Foëcy|Lennon|Donzy|Cateri|Menchhoffen|Saint-Arnac|Herbeuville|Salvezines|Bretenières|Carnoët|Cuxac-Cabardès|Roncenay|Vireaux|Alboussière|Charmont-sous-Barbuise|Rugny|Val-du-Layon|Balbronn|Puyravault|Stutzheim-Offenheim|Saint-Martin-d'Auxigny|Matzenheim|Fontaines-Saint-Clair|Lye|Bourg-l'Évêque|Saint-Maurice-d'Ardèche|Coussac-Bonneval|Tournon-Saint-Martin|Plouzané|Revigny-sur-Ornain|Lalaye|Sainte-Anne|Plou|Escueillens-et-Saint-Just-de-Bélengard|Bourges|Sigournais|Cassuéjouls|Saint-Avaugourd-des-Landes|Roquefère|Ménétréol-sur-Sauldre|Sainte-Colombe-de-la-Commanderie|Saint-Seine|La Prénessaye|Domvallier|Lamouilly|Marsa|Monts-de-Randon|Vaucogne|Darbres|Courgis|Grez-Neuville|Jallerange|Peumerit-Quintin|Camarès|Champrougier|Châtel-Gérard|Coaraze|Porspoder|Liebvillers|Ternant|Baudonvilliers|Villy-le-Bois|Saint-Fortunat-sur-Eyrieux|Latour-de-France|Aize|Saint-Eloy|Nompatelize|Soulaire-et-Bourg|Armissan|Campoussy|Rosenwiller|Falicon|Weitbruch|Velone-Orneto|Gilette|Saint-Julien-la-Genête|Le Bas Ségala|Villers-sous-Chalamont|Levet|Étrelles-sur-Aube|Villeret|Avrainville|La Fermeté|Saint-Fulgent|Stattmatten|Burbach|Arinthod|Évran|Durrenbach|Ruoms|Vernoil-le-Fourrier|Villefranche-de-Rouergue|Sauveterre-de-Rouergue|Gyé-sur-Seine|Peyrefitte-sur-l'Hers|Saint-Cyr-en-Talmondais|Vigeville|Meussia|Le Mas-d'Artige|Callac|Oradour-Saint-Genest|Saint-Hilaire-en-Lignières|Ploumilliau|Moirey-Flabas-Crépion|Audierne|Luçay-le-Libre|Malbuisson|Uzer|Verrie|Amagney|Saint-Paul-le-Froid|Lupstein|Huillé-Lézigné|Plozévet|Vittarville|Valfroicourt|Souffelweyersheim|Eywiller|Caurel|Baâlon|La Roche-Maurice|Loc-Envel|Saint-Remy-sous-Barbuise|Ratzwiller|Bouhy|La Jaille-Yvon|Cerisiers|Plaisia|Harol|Kerlaz|Chancia|Curzon|Eckbolsheim|Viersat|Grand'Combe-Châteleu|Lagorce|Kerbors|Urciers|Saint-Gaultier|Ailhon|Chichery|Luçon|Bellevigne-les-Châteaux|Nahuja|Ceyroux|Gumery|Lohr|Landebaëron|L'Hermenault|Alaigne|Saulnay|Cheny|Montaigu-Vendée|Alzonne|Étriché|Saint-Quentin-la-Chabanne|Montpezat-sous-Bauzon|Saint-Jean-de-Monts|Pargues|Leschères|Solbach|Lemuy|Plouguenast-Langast|Courchamps|Le Clat|Schweighouse-sur-Moder|Vallenay|Les Aix-d'Angillon|Roquefort-de-Sault|Merrey-sur-Arce|Plouescat|Sigean|Villesiscle|Savigny-en-Sancerre|Belmont|Granges-Narboz|Flagey|Molandier|Neuffontaines|Longpré-le-Sec|Plouzélambre|Plourin|Fresnes-en-Woëvre|Andance|Otterswiller|Tharoiseau|Saint-Hilaire|Courlaoux|Hœrdt|Dompierre-sur-Yon|Raveau|Chalette-sur-Voire|Écueillé|Mièges|Saint-Germain-des-Champs|Lindry|Véraza|La Motte-Tilly|Labastide-sur-Bésorgues|Hounoux|Fontiès-d'Aude|Lys-Saint-Georges|Pailly|Saint-Sauveur-de-Montagut|Bethoncourt|Saint-Auvent|Dorres|Crocicchia|Menomblet|Récicourt|Foussais-Payré|La Châtaigneraie|Cuy|Mondon|Grande-Rivière Château|Méligny-le-Petit|Trégastel|Vauclaix|Méry-ès-Bois|Graye-et-Charnay|Guiler-sur-Goyen|Bréhéville|Uzay-le-Venon|Sévignac|Quincerot|Gincla|Witternheim|Saint-Antoine|Beffia|Olwisheim|Tamnay-en-Bazois|Saint-Denis-la-Chevasse|Geraise|Tuffalun|Jonville-en-Woëvre|Montmirey-le-Château|Audeux|Courtoin|Sorcy-Saint-Martin|Caussols|Saint-André-des-Eaux|Regnévelle|Saasenheim|Diedendorf|Chassey-Beaupré|Mont Lozère et Goulet|Domremy-la-Canne|Poids-de-Fiole|Llauro|Squiffiec|Châteauroux|Sougraigne|Saint-Ségal|Crosses|Villelongue-de-la-Salanque|Montigny-la-Resle|Saint-Vincent-de-Durfort|Quingey|Vernantes|Yvias|Égriselles-le-Bocage|Locronan|Sementron|Saint-Doulchard|Challement|Sainte-Cécile|Augea|Châtillon|Môlay|Lézinnes|Morlaix|La Châtelaine|Moyrazès|Saint-Joire|Gottenhouse|Préhy|Perelli|Le Relecq-Kerhuon|La Serre|Bayel|Saint-André-de-la-Roche|Vaupoisson|Prades-Salars|Saint-Urbain|Saint-Gence|Versols-et-Lapeyre|Mont-Louis|Bel-Air-Val-d'Ance|Saint-Cast-le-Guildo|Sémelay|Hennecourt|Quemper-Guézennec|La Tour-de-Sçay|Valcebollère|Saint-Méen|Wiwersheim|Javerdat|Les Cars|Saint-Priest-la-Feuille|Tende|Courcelles|Val-de-Moder|Cosges|Ilonse|Burnevillers|Bessines-sur-Gartempe|La Chèze|Najac|Le Vivier|Avord|Plavilla|Maizeray|Montfey|Saint-Yrieix-la-Perche|Foncine-le-Bas|Fenouillet|Loctudy|Loudéac|Rimsdorf|Lanvellec|Brives|Le Mené|Fontaine|Oreilla|Foucherans|Saint-André-les-Vergers|Amanty|Noirmoutier-en-l'Île|Alairac|Montigny-sur-l'Ain|Orchamps-Vennes|Fouchy|Puyvalador|Plobannalec-Lesconil|Rupt-aux-Nonains|Santo-Pietro-di-Tenda|Vanlay|Pugey|Brévonnes|Landreville|Héry|Brinay|Routier|Bonnac-la-Côte|Lain|Feliceto|Plouër-sur-Rance|Guillon-Terre-Plaine|Châtillon-sur-Indre|Talairan|Serre-les-Sapins|Bouligny|Villebazy|Erstein|Mâron|Dampierre-en-Crot|Dampierre-en-Graçay|Salles-sur-l'Hers|Saint-Fiacre|Morembert|Rott|Nocario|Lavilledieu|Roquefort-les-Pins|La Barre-de-Monts|Saint-Étienne-de-Brillouet|Les Trois-Domaines|Chermisey|Soumans|Damloup|Germondans|Saint-Hélen|Sorbo-Ocagnano|Creysseilles|Voires|Séchin|Saffloz|Saint-André-de-Roquelongue|Louargat|Reichstett|Flavignac|Bornay|Dignonville|Saint-Julien-les-Villas|Cheppy|Longevelle-lès-Russey|Arthonnay|Villefloure|Le Perthus|Codalet|Wiseppe|Chantraine|Mas-Cabardès|Silley-Amancey|Cerbère|Ribaute|Bonnétage|Rouvray|La Bretenière|Niederrœdern|Saint-Hervé|Plufur|Villechétive|Chavéria|Coron|Crastatt|Commenailles|Saint-Maurice-la-Souterraine|Vallées-d'Antraigues-Asperjoc|Crosey-le-Grand|Arces-Dilo|Prévinquières|Palmas d'Aveyron|Coadout|La Palme|Arcomps|Morelmaison|Geney|Tonquédec|Vialas|Étival|Chonville-Malaumont|Montpothier|Jarzé Villages|Reculfoz|Cléré-du-Bois|Labastide-Esparbairenque|Riaville|Chasseneuil|Roquetaillade-et-Conilhac|Vacherauville|Noironte|Saint-Léger-sous-Cholet|Dachstein|Saint-Laurent|Sermange|Prunelli-di-Casacconi|Knœrsheim|Caves|Bettwiller|Grandrieu|Pleumeur-Gautier|Juzanvigny|La Vacheresse-et-la-Rouillie|Savigny-en-Terre-Plaine|Trouans|Ayssènes|Daubensand|Lalande|Cubières-sur-Cinoble|Chaserey|Saint-Léger-Bridereix|Saint-Jean-Kerdaniel|Villers-Chief|Grosbois|Beaussais-sur-Mer|Blacy|Saint-Sigismond|Chastel-Nouvel|Morschwiller|Nouzerines|Pirey|Mont-lès-Neufchâteau|Nébias|Levis|Les Roises|Granès|Billy-sous-Mangiennes|Vouillé-les-Marais|Plonévez-Porzay|Pontarlier|Montrevel|Le Syndicat|Servin|Val-d'Ornain|Crespy-le-Neuf|Pouldreuzic|Le Val-d'Ajol|La Chapelle-Montbrandeix|Lérouville|Magny-Fouchard|Souilhanels|La Forge|Saint-Michel-en-l'Herm|Gargilesse-Dampierre|Lutzelhouse|Dung|Maillé|Vinezac|Minihy-Tréguier|Prades-d'Aubrac|Saint-Priest-sous-Aixe|Neuvic-Entier|La Rixouse|Lannilis|Saint-Sauveur|Montagney-Servigney|Neuhaeusel|Dixmont|Saint-Maurice-les-Brousses|Martigny-les-Gerbonvaux|Bon Repos sur Blavet|Niedersteinbach|Houéville|Le Mas|Coustouges|Saulcy-sur-Meurthe|Castellare-di-Casinca|Saint-Féliu-d'Amont|Lavancia-Epercy|Saint-Marc-à-Frongier|Vuillecin|Dun-le-Palestel|La Petite-Pierre|Uttenhoffen|Thorey|Récourt-le-Creux|Wingen|Saint-Clément-des-Levées|Serrigny|Thanvillé|Les Écorces|Chevannes|Lastours|Duttlenheim|Sourans|Belmont-sur-Buttant|Saint-Nic|Dienville|Saint-Silvain-sous-Toulx|Chirols|La Villetelle|Fontaine-les-Grès|Murs|Onans|Arzens|Martigny-les-Bains|Sundhouse|Gumbrechtshoffen|Mayronnes|Marigny-sur-Yonne|Zellwiller|Leutenheim|Montreuil-Juigné|Belrupt-en-Verdunois|Sainte-Agnès|Dammartin-les-Templiers|Fontiers-Cabardès|Saint-Germain-Chassenay|Plounévez-Moëdec|Lanmeur|Courtaoult|Rupt-sur-Moselle|Champvans|Ancy-le-Libre|Bona|Tallenay|Les Grands-Chézeaux|Milly-sur-Bradon|Siewiller|La Chapelle-Saint-Luc|Névian|Dole|Saint-Germain|Rouilly-Saint-Loup|Gaja-et-Villedieu|Sceaux-d'Anjou|Viviers-lès-Offroicourt|Cleurie|Crouzet-Migette|Magnant|Fontenay|Morthomiers|Moutiers-les-Mauxfaits|Reithouse|Coulours|Courcelles-en-Barrois|La Chapelle-sur-Furieuse|Présentevillers|Givrauval|Isle-Aubigny|Hagécourt|La Nouaille|Les Croûtes|La Celle-sur-Loire|Saint-Parthem|Jubainville|Valle-d'Alesani|Tréfumel|Saint-Denis-du-Payré|Stenay|Hautecour|Talon|Rigny-Saint-Martin|Sandaucourt|Les Velluire-sur-Vendée|Trégunc|Hegeney|Lobsann|San-Gavino-di-Fiumorbo|Alet-les-Bains|Châtel-de-Joux|Lafage|Augisey|Berneuil|Herpelmont|Vaudeurs|Hénanbihen|Gonsans|Groises|Kernouës|Lanvéoc|Lerrain|Limoges|Mesnay|Pleudihen-sur-Rance|La Salle|Longeville|Bruère-Allichamps|Rupt-devant-Saint-Mihiel|Westhouse-Marmoutier|Pouilley-Français|Aumur|Lamarche|Villy-en-Trodes|Percey|Balsièges|Offendorf|Jussy-le-Chaudrier|Bizanet|Wintzenbach|Isle|Le Leslay|Gondenans-les-Moulins|Locmaria-Plouzané|Chaînée-des-Coupis|Gland|Kuttolsheim|Savennes|Guimaëc|Laroche-Saint-Cydroine|Bédouès-Cocurès|Maisod|Saint-Gineys-en-Coiron|Lablachère|Port-Lesney|Nonzeville|Hœnheim|La Digne-d'Amont|Gesnes-en-Argonne|Onet-le-Château|Saint-Jean-de-Bonneval|Mantry|Camplong-d'Aude|Tallone|Chamoux|Neuville-en-Verdunois|Saint-Rivoal|Saint-Sauveur-de-Ginestoux|Jorxey|Latour-de-Carol|Le Fel|Ornaisons|Corcelle-Mieslot|Arquian|Lasserre-de-Prouille|Villelongue-d'Aude|Cheffes|Onjon|Sèvremoine|Aresches|Saint-Julien-le-Roux|Gambsheim|Vallières|Prégilbert|Gevingey|Chauché|Inor|Courtefontaine|Saint-Éloy-de-Gy|Montlouis|Ligny-en-Barrois|Rompon|Métabief|Vignoux-sous-les-Aix|Les Arsures|Rogliano|Colméry|Caudiès-de-Conflent|Le Val|Laval-sur-Vologne|Fontainebrux|La Taillée|Sommedieue|Verneuil-Moustiers|La Buxerette|Loisia|Courson-les-Carrières|Saint-Prouant|Balanod|Balaiseaux|Mellionnec|Rosières|Montipouret|Carbay|Provenchères-lès-Darney|Les Bouchoux|Romont|Entre-deux-Eaux|Reichsfeld|Trèbes|Blignicourt|Pel-et-Der|Valempoulières|Saint-Florent-sur-Cher|Salsigne|Dieffenthal|Regney|Chazelet|Ville-sur-Arce|Sionne|Villeneuve-Loubet|Saint-Lambert-la-Potherie|Bazien|Ventiseri|Montazels|Niherne|Saint-Germain|Battenans-Varin|Rupt-sur-Othain|Crézançay-sur-Cher|Arthon|Montfort-sur-Boulzane|Le Vaudioux|Rohr|Saint-Benoît-sur-Seine|Loye-sur-Arnon|Castelnau-de-Mandailles|Lignéville|Bolsenheim|Daoulas|Grèzes|Molosmes|Beauvoir|Fraisse-Cabardès|Saint-Georges-les-Landes|Lacroix-sur-Meuse|Plouyé|Lect|Kerlouan|Offwiller|Saint-Julien|Lama|Moulins-Saint-Hubert|Vailhourles|Champtocé-sur-Loire|Île-Molène|Ginestas|Maël-Carhaix|Jouet-sur-l'Aubois|Bastia|Paisy-Cosdon|Rittershoffen|Ardenais|Villapourçon|Ménil-en-Xaintois|Ville-sur-Illon|Beddes|Urzy|Saint-Trimoël|Monnet-la-Ville|Lailly|Locquénolé|Légéville-et-Bonfays|Vellevans|Cournanel|Guyans-Durnes|Selles-sur-Nahon|Vincent-Froideville|Doubs|Pougny|Saint-Laurent-du-Pape|Epfig|Tazilly|Treize-Septiers|Châteaulin|Mirecourt|Montaigu|Chambon-Sainte-Croix|Balledent|Le Buis|Bourigeole|Plessis-Barbuise|Kerpert|Balazuc|Vinassan|Saône|Ribes|Gausson|Picarreau|Velles|Saint-Michel-de-Boulogne|Catllar|Tréogat|Rosay|Châteaumeillant|Ameuvelle|Gattières|Corbara|Neuville-sur-Vanne|Golinhac|Bannoncourt|Meyras|Villedieu-sur-Indre|Halles-sous-les-Côtes|Badens|Tiffauges|Buzançais|Bletterans|Thevet-Saint-Julien|Sermoise-sur-Loire|Ceaulmont|La Forest-Landerneau|Saint-Amans|Saint-Léger-de-Linières|Planès|La Chapelle-Palluau|Hinsbourg|Terroles|Gerstheim|Lapan|Rogny-les-Sept-Écluses|Chitray|Villepinte|Uxegney|Mélagues|Tharot|Lanleff|Saint-Sulpice|Trannes|Mackwiller|Vouzeron|Ruffey-sur-Seille|Champneuville|Val d'Erdre-Auxence|Saint-Thélo|Heiligenberg|Passonfontaine|Mareuil-sur-Lay-Dissais|Luzy-Saint-Martin|Cazilhac|Ollans|Le Rozier|Saint-Polycarpe|Savières|Ploubazlanec|Lézardrieux|Brabant-sur-Meuse|Montigny-sur-Canne|Saint-Aubin-des-Ormeaux|Montredon-des-Corbières|Tourmont|Soyons|Rohrwiller|Château-Chinon (Ville)|Reutenbourg|Kerien|Loches-sur-Ource|Blaudeix|Plouarzel|Gorre|Villy-le-Maréchal|Chanverrie|Vergranne|Fabras|Morsiglia|Nuaillé|Causse-et-Diège|Champs-sur-Yonne|Poivres|Maison-Feyne|Gouraincourt|Olmi-Cappella|Saint-Martial-sur-Isop|La Caillère-Saint-Hilaire|Serres|Riedseltz|Saint-Jean-Saverne|Chéry|Thaix|Saint-Gildas|Woimbey|Nothalten|Passy|Bages|Lampaul-Plouarzel|Autrécourt-sur-Aire|Plouëc-du-Trieux|Cahuzac|Yvignac-la-Tour|Bailly-le-Franc|Grandrupt|Saint-Laurent-de-la-Salanque|Combret|Chassagne-Saint-Denis|Montrevault-sur-Èvre|Rosières-près-Troyes|Saint-Michel-de-Volangis|Saint-Julien-d'Intres|Vermenton|Gaja-la-Selve|Aroffe|Sébazac-Concourès|Chaumont|Gouzon|Coursegoules|Monéteau|Sassey-sur-Meuse|Hatten|Asnan|La Lande-Chasles|Centuri|Hoffen|Saint-Pierrevillers|Les Hôpitaux-Vieux|Moussey|Barjac|Montferrer|Mathay|Mireval-Lauragais|Kirrberg|Chaumoux-Marcilly|Baudrémont|Damvix|Quillan|Borgo|Ainvelle|Saint-Julia-de-Bec|Perrigny|Bouranton|Les Sables-d'Olonne|Fays-la-Chapelle|They-sous-Montfort|Comprégnac|Kilstett|Ruffey-le-Château|Toutlemonde|Fresse-sur-Moselle|Belvèze-du-Razès|Azat-le-Ris|Giuncaggio|Traînel|Cuxac-d'Aude|Kindwiller|Natzwiller|Vitreux|Bleigny-le-Carreau|Niedernai|Maconcourt|Saint-Martin-des-Champs|Moutiers-sur-le-Lay|Val-de-Roulans|La Bastide|Passavant|Nouillonpont|Maulévrier|Lichères-sur-Yonne|Haironville|Saint-Genest-de-Beauzon|Avillers-Sainte-Croix|Godoncourt|Ingrandes|Saint-Julien-du-Gua|Parcey|Moutiers-en-Puisaye|Calvi|La Marche|Fajac-la-Relenque|Geville|Loulle|Rouy|Campagna-de-Sault|Condom-d'Aubrac|Pouques-Lormes|Fallerans|Les Monts-Ronds|Schœnenbourg|La Rouquette|Ortaffa|Kintzheim|Thiré|Saint-Frion|Saint-Thiébaud|Amancey|Broquiès|Braillans|Saulxures-lès-Bulgnéville|Cans et Cévennes|Bonnevaux|Pont de Montvert - Sud Mont Lozère|Pouan-les-Vallées|Aubréville|Les Clérimois|Chevrotaine|Chassy|Jars|Vicq-Exemplet|Dieue-sur-Meuse|Bezonvaux|Saint-Génis-des-Fontaines|Verdèse|Saint-Hilaire-des-Loges|Camboulazet|Renauvoid|Présilly|Magny-Lormes|Les Moussières|Cheylard-l'Évêque|Le Faou|Fertans|Pluzunet|Bonzée|Altenheim|Vallery|Scheibenhard|Saint-Cyr-les-Colons|Treize-Vents|Belmont-lès-Darney|Sassierges-Saint-Germain|Béon|Trélivan|Talencieux|Courcelles-lès-Montbéliard|Saint-Gal|Argy|Algajola|Chaillon|Le Subdray|Pompierre|Villeneuve-la-Dondagre|Bergères|Noé|Bommiers|Saint-Étienne-de-Boulogne|Vallica|Chaumesnil|Waldersbach|Fresnay|Haréville|Sauvagney|Saint-Marsal|Les Nans|Le Pasquier|Naussac|Chevreaux|Jasseines|Scaër|Prugny|Alligny-en-Morvan|Gâcogne|Moncale|Saint-Sernin-sur-Rance|Nordheim|Saint-Laurent-l'Abbaye|Crézancy-en-Sancerre|Champagnole|Warcq|Illifaut|Blomac|Saint-Éloi|Cussangy|Walbourg|Saint-André-en-Barrois|Moncel-sur-Vair|Liffol-le-Grand|Lanneuffret|Vignol|Sauvoy|Castanet|Saint-Pierre-dels-Forcats|Trébédan|Ramecourt|Soncourt|L'Hospitalet-du-Larzac|Arzembouy|Vouthon-Haut|Revigny|Laval-le-Prieuré|Saint-Étienne-Vallée-Française|Engwiller|Thou|Plogoff|Senoncourt-les-Maujouy|Wolxheim|Lignerolles|Ornans|Treigny-Perreuse-Sainte-Colombe|Caixas|Bodilis|Saint-Servais|Roscanvel|Précy-Notre-Dame|Capdenac-Gare|Saint-Père|Étain|Champagne|Cumiès|Treffrin|Motreff|Larochemillay|Wittisheim|Parly|Delut|Coatréven|Soulosse-sous-Saint-Élophe|Clairvaux-les-Lacs|Mont-et-Marré|La Cabanasse|Brossainc|Stainville|Germigny-sur-Loire|Piedipartino|Saint-Martin-du-Fouilloux|Montauriol|Buhl|Plusquellec|Ohlungen|Mas-Saint-Chély|Bagneaux|Griesheim-sur-Souffel|Bouilhonnac|Romain|Madegney|Berthelange|Horville-en-Ornois|Marckolsheim|Creney-près-Troyes|Augerans|Totainville|Kertzfeld|Champoux|Noirefontaine|Villoncourt|Toulx-Sainte-Croix|Saint-Hilaire-la-Forêt|Trévron|Précy-le-Sec|Magnac-Laval|Orschwiller|Uttenheim|Flez-Cuzy|Saint-Hilaire-de-Voust|Tournemire|Domèvre-sous-Montfort|Furiani|Arches|Septsarges|Neuvy-le-Barrois|Doncourt-aux-Templiers|Saales|Kœur-la-Petite|Wissembourg|Deluz|Davrey|Dunière-sur-Eyrieux|Le Cannet|Kœur-la-Grande|Patrimonio|Longeville-sur-Mer|Pont-Melvez|Trédarzec|Sorio|La Celle-Saint-Cyr|Pouligney-Lusans|Saint-Martin-de-Jussac|Tannois|Frasnay-Reugny|Schalkendorf|Bellechaume|Coinches|Les Lucs-sur-Boulogne|Marolles-sous-Lignières|Coiserette|Cantoin|Souvans|Champlay|Dannemoine|Villars-lès-Blamont|Noyers|Dossenheim-Kochersberg|Pargny-sous-Mureau|Offlanges|Saint-Benoît-la-Chipotte|Chavelot|Cassagnes|Island|Cesancey|Souilly|Kleingœft|Vesseaux|Blussangeaux|Glay|Montilliers|Bouyon|Lignières|Malbrans|Flagnac|Mélisey|Ménarmont|Ploëzal|Grandfontaine|Pédernec|Lantenne-Vertière|Saint-Amand-Montrond|Bief-du-Fourg|Saint-Bonnet-de-Chirac|Metz-Robert|Montigné-lès-Rairies|Lampaul-Ploudalmézeau|Crésantignes|Tréméreuc|Sepvigny|Girolles|Scolca|Poggio-Mezzana|La Rothière|Ploumoguer|Drôme|Indre-et-Loire|Dordogne|Rhône|Savoie|Mayenne|Allier|Lot-et-Garonne|Haute-Loire|Corrèze|Loire|Deux-Sèvres|Landes|Vienne|Loiret|Morbihan|Saône-et-Loire|Vaucluse|Tarn-et-Garonne|Moselle|Eure-et-Loir|Corse-du-Sud|Haut-Rhin|Loir-et-Cher|Ille-et-Vilaine|Hérault|Ariège|Haute-Savoie|Gard|Pyrénées-Atlantiques|Hautes-Pyrénées|Alpes-de-Haute-Provence|Lot|Haute-Garonne|Gironde|Puy-de-Dôme|Var|Côte-d'Or|Meurthe-et-Moselle|Charente-Maritime|Marne|Isère|Ain|Charente|Cantal|Haute-Marne|Bouches-du-Rhône|Territoire de Belfort|Tarn|Hautes-Alpes|Gers|Ardennes|Sarthe|Loire-Atlantique|Haute-Saône|Normandie|Hauts-de-France|Île-de-France"
      ]
     },
     "execution_count": 27,
     "metadata": {},
     "output_type": "execute_result"
    }
   ],
   "source": [
    "from itertools import chain\n",
    "\n",
    "with open(\"../test.pickle\", \"rb\") as file:\n",
    "    epci_to_comm = pickle.load(file)\n",
    "\n",
    "\n",
    "Territory.from_names(*tuple(chain(*epci_to_comm.values())))"
   ]
  },
  {
   "cell_type": "code",
   "execution_count": 5,
   "metadata": {},
   "outputs": [
    {
     "data": {
      "text/plain": [
       "<Partition.DEP: 2>"
      ]
     },
     "execution_count": 5,
     "metadata": {},
     "output_type": "execute_result"
    }
   ],
   "source": [
    "min(ter).partition_type"
   ]
  },
  {
   "cell_type": "code",
   "execution_count": 8,
   "metadata": {},
   "outputs": [
    {
     "data": {
      "text/plain": [
       "<Partition.DEP: 2>"
      ]
     },
     "execution_count": 8,
     "metadata": {},
     "output_type": "execute_result"
    }
   ],
   "source": [
    "ter.type"
   ]
  }
 ],
 "metadata": {
  "kernelspec": {
   "display_name": ".venv",
   "language": "python",
   "name": "python3"
  },
  "language_info": {
   "codemirror_mode": {
    "name": "ipython",
    "version": 3
   },
   "file_extension": ".py",
   "mimetype": "text/x-python",
   "name": "python",
   "nbconvert_exporter": "python",
   "pygments_lexer": "ipython3",
   "version": "3.12.3"
  }
 },
 "nbformat": 4,
 "nbformat_minor": 2
}
