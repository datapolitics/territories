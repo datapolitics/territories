{
 "cells": [
  {
   "cell_type": "markdown",
   "metadata": {},
   "source": [
    "Usage\n",
    "========\n",
    "\n",
    "First, some imports"
   ]
  },
  {
   "cell_type": "code",
   "execution_count": 1,
   "metadata": {},
   "outputs": [
    {
     "ename": "ModuleNotFoundError",
     "evalue": "No module named 'territories'",
     "output_type": "error",
     "traceback": [
      "\u001b[0;31m---------------------------------------------------------------------------\u001b[0m",
      "\u001b[0;31mModuleNotFoundError\u001b[0m                       Traceback (most recent call last)",
      "Cell \u001b[0;32mIn[1], line 3\u001b[0m\n\u001b[1;32m      1\u001b[0m \u001b[38;5;28;01mimport\u001b[39;00m \u001b[38;5;21;01mnetworkx\u001b[39;00m \u001b[38;5;28;01mas\u001b[39;00m \u001b[38;5;21;01mnx\u001b[39;00m\n\u001b[0;32m----> 3\u001b[0m \u001b[38;5;28;01mfrom\u001b[39;00m \u001b[38;5;21;01mterritories\u001b[39;00m \u001b[38;5;28;01mimport\u001b[39;00m Entity, Territory, Type\n",
      "\u001b[0;31mModuleNotFoundError\u001b[0m: No module named 'territories'"
     ]
    }
   ],
   "source": [
    "import networkx as nx\n",
    "\n",
    "from territories import Entity, Territory, Type"
   ]
  },
  {
   "cell_type": "markdown",
   "metadata": {},
   "source": [
    "## Creation of the tree\n",
    "\n",
    "The first step is to create a tree of known entities. This can be a very compute intensive task, depending on the tree size.\n",
    "\n",
    "Here we'll create a very simple tree."
   ]
  },
  {
   "cell_type": "code",
   "execution_count": null,
   "metadata": {},
   "outputs": [],
   "source": [
    "\n",
    "lyon = Entity(\"Lyon\")\n",
    "marseille = Entity(\"Marseille\", es_code=\"COM:2909\") # you can specify an ElasticSearch code\n",
    "paris = Entity(\"Paris\")\n",
    "nogent = Entity(\"Nogent\")\n",
    "pantin = Entity(\"Pantin\")\n",
    "villeurbane = Entity(\"Villeurbane\")\n",
    "sté = Entity(\"Saint Etienne\")\n",
    "\n",
    "metropole = Entity(\"Grand Lyon\", False, Type.EPCI)\n",
    "\n",
    "sud = Entity(\"Sud\", False, Type.REGION)\n",
    "idf = Entity(\"Île-de-France\", False, Type.REGION)\n",
    "rhone = Entity(\"Rhône\", False, Type.DEP)\n",
    "\n",
    "france = Entity(\"France\", False, Type.PAYS)\n",
    "\n",
    "\n",
    "# buiding the reference territory tree\n",
    "tree = nx.DiGraph([\n",
    "    (france, sud),\n",
    "    (france, idf),\n",
    "\n",
    "    (idf, nogent),\n",
    "    (idf, pantin),\n",
    "    (idf, paris),\n",
    "\n",
    "    (sud, marseille),\n",
    "    (sud, rhone),\n",
    "\n",
    "    (rhone, metropole),\n",
    "    (rhone, sté),\n",
    "\n",
    "    (metropole, villeurbane),\n",
    "    (metropole, lyon),\n",
    "])"
   ]
  },
  {
   "cell_type": "markdown",
   "metadata": {},
   "source": [
    "Once the tree is created, you need to assign it."
   ]
  },
  {
   "cell_type": "code",
   "execution_count": 1,
   "metadata": {},
   "outputs": [
    {
     "ename": "NameError",
     "evalue": "name 'Territory' is not defined",
     "output_type": "error",
     "traceback": [
      "\u001b[0;31m---------------------------------------------------------------------------\u001b[0m",
      "\u001b[0;31mNameError\u001b[0m                                 Traceback (most recent call last)",
      "Cell \u001b[0;32mIn[1], line 1\u001b[0m\n\u001b[0;32m----> 1\u001b[0m \u001b[43mTerritory\u001b[49m\u001b[38;5;241m.\u001b[39massign_tree(tree)\n",
      "\u001b[0;31mNameError\u001b[0m: name 'Territory' is not defined"
     ]
    }
   ],
   "source": [
    "Territory.assign_tree(tree)"
   ]
  },
  {
   "cell_type": "markdown",
   "metadata": {},
   "source": [
    "Then, you can start to create territories from arbitrary entities."
   ]
  },
  {
   "cell_type": "code",
   "execution_count": null,
   "metadata": {},
   "outputs": [],
   "source": [
    "a = Territory(entities=(sté, marseille))\n",
    "b = Territory(entities=(lyon, france))\n",
    "c = Territory(entities=(paris, nogent, pantin, lyon, lyon, metropole))\n",
    "d = Territory(entities=(lyon, villeurbane, marseille))"
   ]
  },
  {
   "cell_type": "markdown",
   "metadata": {},
   "source": [
    "Territories are represented in an efficient way : if all leaves of a parent node are included in the territory, they are simply replaced by their parent node."
   ]
  },
  {
   "cell_type": "code",
   "execution_count": 2,
   "metadata": {},
   "outputs": [
    {
     "ename": "NameError",
     "evalue": "name 'b' is not defined",
     "output_type": "error",
     "traceback": [
      "\u001b[0;31m---------------------------------------------------------------------------\u001b[0m",
      "\u001b[0;31mNameError\u001b[0m                                 Traceback (most recent call last)",
      "Cell \u001b[0;32mIn[2], line 1\u001b[0m\n\u001b[0;32m----> 1\u001b[0m \u001b[43mb\u001b[49m\n",
      "\u001b[0;31mNameError\u001b[0m: name 'b' is not defined"
     ]
    }
   ],
   "source": [
    "b # since Lyon is included in France, only France remains"
   ]
  },
  {
   "cell_type": "markdown",
   "metadata": {},
   "source": [
    "## Operations on territories"
   ]
  },
  {
   "cell_type": "code",
   "execution_count": null,
   "metadata": {},
   "outputs": [],
   "source": [
    "\n",
    "\n",
    "def test_eqality():\n",
    "    assert b == Territory(entities=(france, ))\n",
    "\n",
    "\n",
    "def test_addition():\n",
    "    assert d + a == Territory(entities=(sud, ))\n",
    "    assert c + a == Territory(entities=(idf, sud))\n",
    "    assert d + c == Territory(entities=(metropole, marseille, idf ))\n",
    "\n",
    "\n",
    "def test_inclusion():\n",
    "    assert a in b\n",
    "    assert a in c + a\n",
    "    assert a not in d\n",
    "\n",
    "\n",
    "def test_union():\n",
    "    assert a | d == Territory(entities=(sud, ))\n",
    "    assert c | d == Territory(entities=(idf, marseille, metropole))\n",
    "\n",
    "\n",
    "def test_intersection():\n",
    "    assert a & b == a\n",
    "    assert a & d == Territory(entities=(marseille, ))\n",
    "\n",
    "\n",
    "def test_substraction():\n",
    "    assert a - b == Territory()\n",
    "    assert b - a == Territory(entities=(metropole, idf))"
   ]
  }
 ],
 "metadata": {
  "kernelspec": {
   "display_name": ".venv",
   "language": "python",
   "name": "python3"
  },
  "language_info": {
   "codemirror_mode": {
    "name": "ipython",
    "version": 3
   },
   "file_extension": ".py",
   "mimetype": "text/x-python",
   "name": "python",
   "nbconvert_exporter": "python",
   "pygments_lexer": "ipython3",
   "version": "3.12.3"
  }
 },
 "nbformat": 4,
 "nbformat_minor": 2
}
