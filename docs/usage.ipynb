{
 "cells": [
  {
   "cell_type": "markdown",
   "metadata": {},
   "source": [
    "Usage of the package\n",
    "========\n",
    "\n",
    "First, some imports"
   ]
  },
  {
   "cell_type": "code",
   "execution_count": 1,
   "metadata": {},
   "outputs": [],
   "source": [
    "import gzip\n",
    "import pickle\n",
    "import random\n",
    "from collections import namedtuple\n",
    "\n",
    "from territories import Territory, MissingTreeCache"
   ]
  },
  {
   "cell_type": "markdown",
   "metadata": {},
   "source": [
    "## Creation of the tree\n",
    "\n",
    "The first step is to create a tree of known entities. This can be a very compute intensive task, depending on the tree size. That is why, by default, once created, the tree is stored on disk.\n",
    "\n",
    "Here we will create a very simple tree out of the **tree.txt** file."
   ]
  },
  {
   "cell_type": "code",
   "execution_count": 2,
   "metadata": {},
   "outputs": [],
   "source": [
    "Node = namedtuple('Node', ('id', 'parent_id', 'label', 'level'))\n",
    "split = lambda x: (arg if arg != 'null' else None for arg in x[:-1].split('; '))\n",
    "\n",
    "try:\n",
    "    Territory.load_tree()\n",
    "except MissingTreeCache:\n",
    "    with open(\"tree.txt\", \"r\") as file:\n",
    "        lines = file.readlines()\n",
    "        stream = ([Node(*split(x) )for x in lines])\n",
    "        Territory.build_tree(data_stream=stream, save_tree=False)"
   ]
  },
  {
   "cell_type": "markdown",
   "metadata": {},
   "source": [
    "Then, you can start to create territories from arbitrary territoiral units."
   ]
  },
  {
   "cell_type": "markdown",
   "metadata": {},
   "source": [
    "Entities associated territories are represented in an efficient way : if all leaves of a parent node are included in the territory, they are simply replaced by their parent node."
   ]
  },
  {
   "cell_type": "code",
   "execution_count": 3,
   "metadata": {},
   "outputs": [
    {
     "name": "stdout",
     "output_type": "stream",
     "text": [
      "Saint-Rambert-en-Bugey | COM\n",
      "Prades | COM\n",
      "Lesges | COM\n",
      "Rochebrune | COM\n",
      "Mandagout | COM\n",
      "Alleyrat | COM\n",
      "Mignaloux-Beauvoir | COM\n",
      "Coincy | COM\n",
      "Hautesvignes | COM\n",
      "Beauregard-de-Terrasson | COM\n",
      "Montcourt-Fromonville | COM\n",
      "Bouvigny-Boyeffles | COM\n"
     ]
    }
   ],
   "source": [
    "# some node of the tree\n",
    "print('\\n'.join([f\"{e.name} | {e.partition_type}\" for e in random.sample(Territory.tree.nodes(), 12)]))"
   ]
  },
  {
   "cell_type": "code",
   "execution_count": 4,
   "metadata": {},
   "outputs": [],
   "source": [
    "with open(\"tree_large.gzip\", \"rb\") as file:\n",
    "    lines = pickle.loads(gzip.decompress(file.read()))\n",
    "\n",
    "stream = ([Node(*split(x) )for x in lines])\n",
    "Territory.build_tree(data_stream=stream)\n",
    "\n",
    "a = Territory.from_names(\"COM:69123\", \"COM:93055\", \"COM:94052\")\n",
    "b = Territory.from_names(\"COM:27429\", \"REG:84\", \"DEP:75\")\n",
    "c = Territory.from_names(\"COM:38185\", \"COM:31555\", \"REG:11\")\n",
    "d = Territory.from_names(\"COM:33063\", \"COM:13055\", \"REG:28\")\n",
    "e = Territory.from_names(\"COM:35238\", \"COM:35047\", \"DEP:27\")\n",
    "f = Territory.from_names(\"COM:59350\", \"COM:38442\", \"REG:53\")"
   ]
  },
  {
   "cell_type": "markdown",
   "metadata": {},
   "source": [
    "You can crate a territory with names of territorial units."
   ]
  },
  {
   "cell_type": "code",
   "execution_count": 5,
   "metadata": {},
   "outputs": [
    {
     "data": {
      "text/plain": [
       "Paris 6e|Lille|Rhône"
      ]
     },
     "execution_count": 5,
     "metadata": {},
     "output_type": "execute_result"
    }
   ],
   "source": [
    "ter = Territory.from_names(\"DEP:69\", \"COM:59350\", \"ARR:75106\")\n",
    "ter"
   ]
  },
  {
   "cell_type": "markdown",
   "metadata": {},
   "source": [
    "If names are invalid, an `NotOnTree` exception will be raised."
   ]
  },
  {
   "cell_type": "code",
   "execution_count": 6,
   "metadata": {},
   "outputs": [
    {
     "name": "stdout",
     "output_type": "stream",
     "text": [
      "do not exist, garbage where not found in the territorial tree\n"
     ]
    }
   ],
   "source": [
    "try:\n",
    "    Territory.from_names(\"DEP:69\", \"do not exist\", \"garbage\")\n",
    "except Exception as e:\n",
    "    print(e)"
   ]
  },
  {
   "cell_type": "markdown",
   "metadata": {},
   "source": [
    "Territories are jsons serializable, you can simply return them from an API endpoint"
   ]
  },
  {
   "cell_type": "code",
   "execution_count": 7,
   "metadata": {},
   "outputs": [
    {
     "name": "stdout",
     "output_type": "stream",
     "text": [
      "[\n",
      "    {\n",
      "        \"name\": \"Lille\",\n",
      "        \"tu_id\": \"COM:59350\",\n",
      "        \"atomic\": true,\n",
      "        \"partition_type\": \"COM\",\n",
      "        \"postal_code\": null\n",
      "    },\n",
      "    {\n",
      "        \"name\": \"Paris 6e\",\n",
      "        \"tu_id\": \"ARR:75106\",\n",
      "        \"atomic\": true,\n",
      "        \"partition_type\": \"ARR\",\n",
      "        \"postal_code\": null\n",
      "    },\n",
      "    {\n",
      "        \"name\": \"Rh\\u00f4ne\",\n",
      "        \"tu_id\": \"DEP:69\",\n",
      "        \"atomic\": false,\n",
      "        \"partition_type\": \"DEP\",\n",
      "        \"postal_code\": null\n",
      "    }\n",
      "]\n"
     ]
    }
   ],
   "source": [
    "import json\n",
    "\n",
    "print(json.dumps(ter, indent=4))"
   ]
  },
  {
   "cell_type": "markdown",
   "metadata": {},
   "source": [
    "## Operations on territories\n",
    "\n",
    "\n",
    "Usual operation on territories works as expected :"
   ]
  },
  {
   "cell_type": "code",
   "execution_count": 8,
   "metadata": {},
   "outputs": [
    {
     "name": "stdout",
     "output_type": "stream",
     "text": [
      "Lyon|Nogent-sur-Marne|Pantin Grenoble|Toulouse|Île-de-France\n",
      "Grenoble|Lyon|Toulouse|Île-de-France\n"
     ]
    }
   ],
   "source": [
    "# addition\n",
    "\n",
    "print(a, c)\n",
    "print(a + c)"
   ]
  },
  {
   "cell_type": "code",
   "execution_count": 9,
   "metadata": {},
   "outputs": [
    {
     "name": "stdout",
     "output_type": "stream",
     "text": [
      "Lyon|Nogent-sur-Marne|Pantin Bordeaux|Marseille|Normandie\n",
      "Lyon|Nogent-sur-Marne|Pantin\n"
     ]
    }
   ],
   "source": [
    "# substraction\n",
    "\n",
    "print(a, d)\n",
    "print(a - d)"
   ]
  },
  {
   "cell_type": "markdown",
   "metadata": {},
   "source": [
    "More importantly, sets operations are also supported :"
   ]
  },
  {
   "cell_type": "code",
   "execution_count": 10,
   "metadata": {},
   "outputs": [
    {
     "name": "stdout",
     "output_type": "stream",
     "text": [
      "Intersection of Lyon|Nogent-sur-Marne|Pantin and Bordeaux|Marseille|Normandie is {}\n",
      "Union of Grenoble|Toulouse|Île-de-France and Lille|Saint-Pierre-de-Chartreuse|Bretagne is Grenoble|Lille|Saint-Pierre-de-Chartreuse|Toulouse|Bretagne|Île-de-France\n"
     ]
    }
   ],
   "source": [
    "# intersection\n",
    "print(f\"Intersection of {a} and {d} is {a & d}\")\n",
    "\n",
    "# union\n",
    "print(f\"Union of {c} and {f} is {f | c}\")"
   ]
  },
  {
   "cell_type": "markdown",
   "metadata": {},
   "source": [
    "Territorial units may have parents or children, but Territory do not. As a territory may be formed of several territorial units, it has a LCA, a Lowest Common Ancestor."
   ]
  },
  {
   "cell_type": "code",
   "execution_count": 11,
   "metadata": {},
   "outputs": [
    {
     "data": {
      "text/plain": [
       "Auvergne-Rhône-Alpes"
      ]
     },
     "execution_count": 11,
     "metadata": {},
     "output_type": "execute_result"
    }
   ],
   "source": [
    "lyon_and_grenoble = Territory.from_names(\"COM:38185\", \"COM:69123\")\n",
    "\n",
    "lyon_and_grenoble.lowest_common_ancestor()"
   ]
  },
  {
   "cell_type": "markdown",
   "metadata": {},
   "source": [
    "You can easily retrieve all ancestors of a territory with the `.ancestors()` method, and respectively all of its descendants with the `.descendants()` method :"
   ]
  },
  {
   "cell_type": "code",
   "execution_count": 12,
   "metadata": {},
   "outputs": [
    {
     "data": {
      "text/plain": [
       "{France,\n",
       " Île-de-France,\n",
       " Auvergne-Rhône-Alpes,\n",
       " Val-de-Marne,\n",
       " Seine-Saint-Denis,\n",
       " Rhône}"
      ]
     },
     "execution_count": 12,
     "metadata": {},
     "output_type": "execute_result"
    }
   ],
   "source": [
    "a.ancestors()"
   ]
  },
  {
   "cell_type": "code",
   "execution_count": 13,
   "metadata": {},
   "outputs": [
    {
     "name": "stdout",
     "output_type": "stream",
     "text": [
      "Lyon|Nogent-sur-Marne|Pantin\n"
     ]
    },
    {
     "data": {
      "text/plain": [
       "{Pantin,\n",
       " Nogent-sur-Marne,\n",
       " Lyon,\n",
       " Lyon 9e,\n",
       " Lyon 8e,\n",
       " Lyon 7e,\n",
       " Lyon 6e,\n",
       " Lyon 5e,\n",
       " Lyon 4e,\n",
       " Lyon 3e,\n",
       " Lyon 2e,\n",
       " Lyon 1er}"
      ]
     },
     "execution_count": 13,
     "metadata": {},
     "output_type": "execute_result"
    }
   ],
   "source": [
    "print(a)\n",
    "a.descendants(include_itself=True)"
   ]
  },
  {
   "cell_type": "markdown",
   "metadata": {},
   "source": [
    "Territories are `True` if they are not empty, but you should probably use the `is_empty()` method for clarity."
   ]
  },
  {
   "cell_type": "code",
   "execution_count": 14,
   "metadata": {},
   "outputs": [
    {
     "name": "stdout",
     "output_type": "stream",
     "text": [
      "not empty\n",
      "empty\n"
     ]
    }
   ],
   "source": [
    "if Territory.from_names(\"DEP:69\"):\n",
    "    print(\"not empty\")\n",
    "\n",
    "if Territory.from_names():\n",
    "    print(\"empty\")\n",
    "\n",
    "if Territory.from_names().is_empty():\n",
    "    print(\"empty\")"
   ]
  },
  {
   "cell_type": "code",
   "execution_count": 15,
   "metadata": {},
   "outputs": [
    {
     "data": {
      "text/plain": [
       "Abainville|Abaucourt-Hautecourt|Abbans-Dessous|Abbans-Dessus|Abbenans|Abbévillers|Abergement-la-Ronce|Abergement-le-Grand|Abergement-le-Petit|Abergement-lès-Thésy|Accolans|Accons|Achenheim|Achun|Achères|Adam-lès-Passavant|Adam-lès-Vercel|Adamswiller|Agen-d'Aveyron|Aghione|Aguessac|Ahéville|Aibre|Aiglepierre|Aigremont|Aigues-Vives|Aigurande|Ailhon|Ailleville|Ainay-le-Vieil|Aincreville|Aingeville|Ainvelle|Airoux|Aisy-sur-Armançon|Aix-Villemaur-Pâlis|Aixe-sur-Vienne|Aizac|Aize|Aizenay|Ajac|Ajain|Ajoux|Alaigne|Alairac|Alba-la-Romaine|Albas|Albières|Albon-d'Ardèche|Alboussière|Albé|Alet-les-Bains|Algajola|Alissas|Alièze|Allarmont|Allenc|Allenjoie|Alleyrat|Allibaudières|Alligny-Cosne|Alligny-en-Morvan|Allineuc|Allogny|Allondans|Allonnes|Allouis|Alluy|Almont-les-Junies|Altenheim|Altiani|Altier|Altorf|Altwiller|Alzonne|Alénya|Aléria|Amagney|Amance|Amancey|Amange|Amanty|Amathay-Vésigneux|Amazy|Ambacourt|Ambazac|Ambeyrac|Ambly-sur-Meuse|Ambrault|Amel-sur-l'Étang|Ameuvelle|Amirat|Amondans|Ampriani|Amélie-les-Bains-Palalda|Ancemont|Ancerville|Ancy-le-Franc|Ancy-le-Libre|Andance|Andel|Andelot-Morval|Andelot-en-Montagne|Andernay|Andlau|Andon|Andryes|Angely|Angers|Anglars-Saint-Félix|Anglemont|Angles|Angoustrine-Villeneuve-des-Escaldes|Angrie|Anjouin|Anlezy|Annay|Annay-la-Côte|Annay-sur-Serein|Annoire|Annoix|Annonay|Annoux|Annéot|Anould|Ansignan|Anteuil|Anthien|Antibes|Antigny|Antisanti|Antoigné|Antrenas|Antugnac|Anzême|Aouze|Appenans|Appoigny|Apremont|Apremont-la-Forêt|Apremont-sur-Allier|Aragon|Arbois|Arbouans|Arbourse|Arboussols|Arc-et-Senans|Arc-sous-Montenot|Arcens|Arces-Dilo|Arcey|Archelange|Arches|Archettes|Arcis-sur-Aube|Arcomps|Arconville|Arcy-sur-Cure|Ardenais|Ardentes|Ardoix|Ardon|Aregno|Aresches|Argançon|Argeliers|Argelès-sur-Mer|Argences en Aubrac|Argens-Minervois|Argent-sur-Sauldre|Argentenay|Argenteuil-sur-Armançon|Argenton-sur-Creuse|Argenvières|Argol|Argy|Arinthod|Arlay|Arlebosc|Arles-sur-Tech|Arleuf|Armaillé|Armeau|Armissan|Arnac-la-Poste|Arnac-sur-Dourdou|Aroffe|Aromas|Arpheuilles|Arpheuilles|Arques|Arques|Arquettes-en-Val|Arquian|Arrancy-sur-Crusnes|Arras-sur-Rhône|Arrelles|Arrembécourt|Arrentières|Arrentès-de-Corcieux|Arrènes|Arsonval|Arsure-Arsurette|Artannes-sur-Thouet|Arthel|Arthon|Arthonnay|Artigues|Artolsheim|Arzano|Arzembouy|Arzenc-de-Randon|Arzens|Arçay|Aschbach|Asnan|Asnans-Beauvoisin|Asnières-sous-Bois|Asnois|Aspremont|Asprières|Asquins|Assenay|Assencières|Assigny|Asswiller|Athie|Attigny|Attignéville|Aubenas|Aubeterre|Aubignas|Aubigny-Les Clouzeaux|Aubigny-sur-Nère|Aubigné-sur-Layon|Aubin|Aubinges|Aubréville|Aubusson|Aucaleuc|Auchay-sur-Vendée|Audelange|Audeux|Audierne|Audincourt|Auge|Augea|Augerans|Augisey|Augne|Augy|Augy-sur-Aubois|Augères|Aulnay|Aulnois|Aulnois-en-Perthois|Aulon|Aumont|Aumur|Aunat|Aunay-en-Bazois|Aureil|Auriac|Auribeau-sur-Siagne|Auroux|Autechaux|Autechaux-Roide|Authiou|Authume|Autigny-la-Tour|Autreville|Autrey|Autrécourt-sur-Aire|Autréville-Saint-Lambert|Auxange|Auxerre|Auxon|Auzainvilliers|Auzits|Avallon|Avanne-Aveney|Avant-lès-Ramerupt|Avapessa|Avignon-lès-Saint-Claude|Avillers|Avillers-Sainte-Croix|Avilley|Avirey-Lingey|Avocourt|Avolsheim|Avord|Avoudrey|Avrainville|Avranville|Avreuil|Avril-sur-Loire|Avrillé|Avrillé|Avrée|Axat|Aydoilles|Ayguatébia-Talau|Ayssènes|Azannes-et-Soumazannes|Azat-Châtenet|Azat-le-Ris|Azay-le-Ferron|Azerables|Azille|Azy|Aïssey|Badaroux|Badecon-le-Pin|Badens|Badevel|Badménil-aux-Bois|Badonvilliers-Gérauvilliers|Baerendorf|Bages|Bages|Bagneaux|Bagneux|Bagneux-la-Fosse|Bagnoles|Baho|Baillestavy|Bailly-le-Franc|Bainville-aux-Saules|Bairols|Baix|Baixas|Balaguier-d'Olt|Balaguier-sur-Rance|Balaiseaux|Balanod|Balazuc|Balbronn|Baldenheim|Balignicourt|Balledent|Balléville|Balnot-la-Grange|Balnot-sur-Laignes|Balsièges|Ban-de-Laveline|Ban-de-Sapt|Ban-sur-Meurthe-Clefcy|Bannalec|Bannans|Bannay|Bannoncourt|Bans|Bantheville|Banyuls-dels-Aspres|Banyuls-sur-Mer|Baon|Bar-le-Duc|Bar-sur-Aube|Bar-sur-Seine|Baracé|Baraigne|Baraize|Baraqueville|Barbaggio|Barbaira|Barberey-Saint-Sulpice|Barbey-Seroux|Barbuise|Barbâtre|Barembach|Barjac|Barlieu|Barnas|Baroville|Barr|Barre-des-Cévennes|Barretaine|Barrettali|Bart|Bartherans|Barville|Barésia-sur-l'Ain|Basse-sur-le-Rupt|Bassemberg|Bassou|Bassurels|Bastia|Battenans-Varin|Battenans-les-Mines|Battexey|Batzendorf|Baudonvilliers|Baudricourt|Baudrémont|Baugy|Baugé-en-Anjou|Baulny|Baume-les-Dames|Baume-les-Messieurs|Bavans|Baverans|Baye|Bayecourt|Bayel|Bazaiges|Bazarnes|Bazegney|Bazelat|Bazien|Bazincourt-sur-Saulx|Bazoches|Bazoges-en-Paillers|Bazoges-en-Pareds|Bazoilles-et-Ménil|Bazoilles-sur-Meuse|Bazolles|Baâlon|Beauchastel|Beauclair|Beaucouzé|Beaufort-Orbagna|Beaufort-en-Anjou|Beaufort-en-Argonne|Beaufou|Beaufremont|Beaulieu|Beaulieu-en-Argonne|Beaulieu-sous-la-Roche|Beaulieu-sur-Layon|Beaulieu-sur-Mer|Beaumont|Beaumont|Beaumont-Sardolles|Beaumont-du-Lac|Beaumont-en-Verdunois|Beaumont-la-Ferrière|Beauménil|Beaupréau-en-Mauges|Beaurepaire|Beausite|Beausoleil|Beaussais-sur-Mer|Beauvilliers|Beauvoir|Beauvoir-sur-Mer|Beauvène|Beddes|Beffes|Beffia|Begnécourt|Behonne|Beine|Beinheim|Beissat|Bel-Air-Val-d'Ance|Belcaire|Belcastel|Belcastel-et-Buc|Belfays|Belflou|Belfort-sur-Rebenty|Belgodère|Bellac|Belle-Isle-en-Terre|Bellechaume|Bellecombe|Bellefontaine|Bellefosse|Bellegarde-du-Razès|Belleherbe|Belleray|Bellevigne-en-Layon|Bellevigne-les-Châteaux|Bellevigny|Belleville-sur-Loire|Belleville-sur-Meuse|Belmont|Belmont|Belmont|Belmont-lès-Darney|Belmont-sur-Buttant|Belmont-sur-Rance|Belmont-sur-Vair|Belpech|Belrain|Belrupt|Belrupt-en-Verdunois|Belsentes|Belval|Belvianes-et-Cavirac|Belvis|Belvoir|Belvèze-du-Razès|Belvédère|Bendejun|Benet|Beney-en-Woëvre|Benfeld|Bengy-sur-Craon|Bercenay-en-Othe|Berche|Berg|Bergbieten|Bergères|Berhet|Bernardswiller|Bernardvillé|Berneuil|Bernolsheim|Bernon|Bernouil|Berre-les-Alpes|Berriac|Berrien|Berry-Bouy|Bersac-sur-Rivalier|Bersaillin|Berstett|Berstheim|Berthelange|Bertholène|Bertignolles|Bertrimoutier|Berzème|Besain|Besançon|Bessais-le-Fromental|Bessas|Bessay|Bessines-sur-Gartempe|Bessuéjouls|Bessy|Bessy-sur-Cure|Bessède-de-Sault|Bethoncourt|Betschdorf|Bettegney-Saint-Brice|Bettoncourt|Bettwiller|Beugnon|Beure|Beurey|Beurey-sur-Saulx|Beutal|Beuvron|Beuzec-Cap-Sizun|Beynac|Bezonvaux|Bians-les-Usiers|Biarne|Biblisheim|Biches|Bidon|Bief|Bief-des-Maisons|Bief-du-Fourg|Biefmorin|Biencourt-sur-Orge|Bierry-les-Belles-Fontaines|Bietlenheim|Biffontaine|Bigorno|Biguglia|Billecul|Billy-Chevannes|Billy-sous-Mangiennes|Bilwisheim|Bindernheim|Binic-Étables-sur-Mer|Biot|Bischheim|Bischholtz|Bischoffsheim|Bischwiller|Bislée|Bissert|Bitry|Bitschhoffen|Bizanet|Bize-Minervois|Biécourt|Blacy|Blaesheim|Blaincourt-sur-Aube|Blaison-Saint-Sulpice|Blamont|Blancafort|Blancherupt|Blannay|Blanzac|Blanzée|Blarians|Blaudeix|Blausasc|Bleigny-le-Carreau|Blessac|Blet|Bletterans|Bleurville|Blevaincourt|Blienschwiller|Blignicourt|Bligny|Blismes|Blois-sur-Seille|Blomac|Blond|Blou|Blussangeaux|Blussans|Blye|Blémerey|Bléneau|Bobital|Bocquegney|Bodilis|Boffres|Bogy|Bohars|Boinville-en-Woëvre|Bois-d'Amont|Bois-d'Arcy|Bois-de-Champ|Bois-de-Céné|Bois-de-Gand|Boisse-Penchot|Boisseuil|Boissia|Bolandoz|Bolazec|Bolquère|Bolsenheim|Bommiers|Bompas|Bon Repos sur Blavet|Bona|Boncourt-sur-Meuse|Bondeval|Bonlieu|Bonnac-la-Côte|Bonnal|Bonnard|Bonnat|Bonnay|Bonnefontaine|Bonnet|Bonnevaux|Bonnétage|Bonson|Bonvillet|Bonzée|Boofzheim|Bootzheim|Boqueho|Bor-et-Bar|Bord-Saint-Georges|Borgo|Bornay|Bosmie-l'Aiguille|Bossancourt|Bosselshausen|Botmeur|Botsorhel|Bouchemaine|Boucieu-le-Roi|Bouclans|Bouconville-sur-Madt|Bouesse|Bouhy|Bouilhonnac|Bouillac|Bouilly|Bouillé-Courdault|Bouillé-Ménard|Bouin|Bouisse|Boujailles|Boulages|Boulaincourt|Boule-d'Amont|Bouleternère|Boulieu-lès-Annonay|Bouligny|Boulleret|Bouquemont|Bouranton|Bourbriac|Boureuilles|Bourg-Blanc|Bourg-Bruche|Bourg-Madame|Bourg-Saint-Andéol|Bourg-de-Sirod|Bourg-l'Évêque|Bourges|Bourgheim|Bourgs sur Colagne|Bourguignon|Bourguignons|Bourigeole|Bouriège|Bournazel|Bourneau|Bournezeau|Bournois|Bourseul|Boussac|Boussac|Boussac-Bourg|Boussières|Boutenac|Bouverans|Bouxières-aux-Bois|Bouxurulles|Bouxwiller|Bouy-Luxembourg|Bouy-sur-Orvin|Bouyon|Bouzais|Bouzemont|Boviolles|Bovée-sur-Barboure|Bozas|Bozouls|Brabant-en-Argonne|Brabant-le-Roi|Brabant-sur-Meuse|Bracon|Bragelogne-Beauvoir|Braillans|Brain-sur-Allonnes|Brainans|Bram|Branches|Brandeville|Brando|Brandonnet|Brannay|Branne|Brans|Brantigny|Braquis|Bras-sur-Meuse|Brasparts|Brassy|Brauvilliers|Braux|Brechainville|Breconchaux|Breil-sur-Roya|Breitenau|Breitenbach|Brem-sur-Mer|Bremondans|Brennilis|Brenoux|Brest|Bretenières|Bretigney|Bretigney-Notre-Dame|Bretignolles-sur-Mer|Bretonvillers|Breuilaufa|Breuschwickersheim|Brevans|Brey-et-Maison-du-Bois|Briantes|Briançonnet|Briec|Briel-sur-Barse|Brienne-la-Vieille|Brienne-le-Château|Brienon-sur-Armançon|Brieulles-sur-Meuse|Brillecourt|Brillon-en-Barrois|Brinay|Brinay|Bringolo|Brinon-sur-Beuvron|Brinon-sur-Sauldre|Briod|Briollay|Brion|Brissac Loire Aubance|Brives|Brixey-aux-Chanoines|Brizeaux|Brocourt-en-Argonne|Brognard|Broissia|Brommat|Broons|Broquiès|Brossainc|Brossay|Brosses|Brouennes|Brouilla|Brousse-le-Château|Brousses-et-Villaret|Broussey-Raulecourt|Broussey-en-Blois|Brouvelieures|Brugairolles|Brumath|Brusque|Brusvily|Bruyères|Bruère-Allichamps|Brères|Brécy|Bréhand|Bréhéville|Brélidy|Brélès|Bréviandes|Brévonnes|Brézilhac|Brû|Bucey-en-Othe|Buchères|Budelière|Buffard|Bugarach|Buhl|Bujaleuf|Bulat-Pestivien|Bulcy|Bulgnéville|Bulle|Bult|Burbach|Bure|Burey-en-Vaux|Burey-la-Côte|Burgille|Burgnac|Burnevillers|Burzet|Bussang|Bussière-Dunoise|Bussière-Galant|Bussière-Saint-Georges|Bussières|Bussy-en-Othe|Bussy-la-Pesle|Bussy-le-Repos|Bust|Buswiller|Busy|Butteaux|Butten|Buvilly|Buxeuil|Buxeuil|Buxières-d'Aillac|Buxières-sous-les-Côtes|Buxières-sur-Arce|Buzançais|Buzy-Darmont|Bué|By|Byans-sur-Doubs|Béard|Bécon-les-Granits|Bédouès-Cocurès|Bégard|Bégrolles-en-Mauges|Béhuard|Bélesta|Bénodet|Bénévent-l'Abbaye|Béon|Béru|Bérulle|Béthelainville|Béthincourt|Bétignicourt|Bétête|Bézaudun-les-Alpes|Bœrsch|Bœsenbiesen|Bœurs-en-Othe|Cabanès|Cabestany|Cabrespine|Cabris|Cademène|Cagnano|Cagnes-sur-Mer|Cahuzac|Cailhau|Cailhavel|Cailla|Caille|Caixas|Calanhel|Calce|Calenzana|Callac|Calmeilles|Calmels-et-le-Viala|Calmont|Calorguen|Calvi|Camaret-sur-Mer|Camarès|Cambieure|Camboulazet|Camjac|Camlez|Campagna-de-Sault|Campagnac|Campagne-sur-Aude|Campana|Campi|Campile|Campitello|Camplong-d'Aude|Campouriez|Campoussy|Camps-sur-l'Agly|Campuac|Campôme|Camurac|Camélas|Canale-di-Verde|Canari|Canaveilles|Candé|Canet|Canet-en-Roussillon|Canihuel|Cannes|Canohès|Cans et Cévennes|Cantaron|Cantenay-Épinard|Cantoin|Caouënnec-Lanvézéac|Cap-d'Ail|Capdenac-Gare|Capendu|Caramany|Carantec|Carbay|Carcassonne|Carcheto-Brustico|Carhaix-Plouguer|Carisey|Carlipa|Carnoët|Carpineto|Carros|Casabianca|Casalta|Casanova|Cascastel-des-Corbières|Casefabre|Cases-de-Pène|Casevecchie|Cassagnas|Cassagnes|Cassagnes-Bégonhès|Cassaignes|Cassuéjouls|Cast|Castagniers|Castanet|Castans|Casteil|Castellar|Castellare-di-Casinca|Castelmary|Castelnau-Pégayrols|Castelnau-d'Aude|Castelnau-de-Mandailles|Castelnaudary|Castelnou|Castelreng|Castillon|Cateri|Catllar|Caudebronde|Caudiès-de-Conflent|Caudiès-de-Fenouillèdes|Caulnes|Caunes-Minervois|Caunette-sur-Lauquet|Caunettes-en-Val|Caurel|Causse-et-Diège|Caussols|Caux-et-Sauzens|Cavan|Cavanac|Caves|Cazalrenoux|Cazilhac|Ceaulmont|Celles-sur-Ource|Celles-sur-Plaine|Celon|Cendrey|Cenne-Monestiés|Censeau|Censy|Centrès|Centuri|Cerbois|Cerbère|Cercy-la-Tour|Cerisiers|Cernans|Cernay-l'Église|Cerniébaud|Cernon|Cernusson|Certilleux|Cervione|Cervon|Cesancey|Cesse|Cessey|Cessy-les-Bois|Ceyroux|Cezais|Chablis|Chabris|Chacenay|Chadenet|Chaffois|Chaillac-sur-Vienne|Chailley|Chaillon|Chaillé-les-Marais|Chalabre|Chalaines|Chalaux|Chalencon|Chalette-sur-Voire|Chalezeule|Challain-la-Potherie|Challans|Challement|Challuy|Chalonnes-sur-Loire|Chalèze|Chamagne|Chambellay|Chamblay|Chambon|Chambon-Sainte-Croix|Chambon-sur-Voueize|Chambonchard|Chamborand|Chamboret|Chambéria|Chamesey|Chamesol|Chamole|Chamoux|Chamoy|Champ-le-Duc|Champ-sur-Barse|Champagnac-la-Rivière|Champagne|Champagne-sur-Loue|Champagney|Champagney|Champagnole|Champagné-les-Marais|Champallement|Champcevrais|Champdivers|Champfleury|Champignelles|Champignol-lez-Mondeville|Champigny|Champigny-sur-Aube|Champillet|Champis|Champlay|Champlemy|Champlin|Champlive|Champlost|Champneuville|Champnétery|Champougny|Champoux|Champrougier|Champs-sur-Yonne|Champsac|Champsanglard|Champtocé-sur-Loire|Champvans|Champvans-les-Moulins|Champvert|Champvoux|Chamvres|Chancia|Chandolas|Channes|Chanteloup-les-Bois|Chanteraine|Chantonnay|Chantraine|Chantrans|Chanverrie|Chanéac|Chaource|Chapelle-Vallon|Chapelle-Voland|Chapelle-d'Huin|Chapelle-des-Bois|Chapois|Chappes|Chaptelat|Charbuy|Charchilla|Charcier|Chardogne|Charency|Charentenay|Charenton-du-Cher|Charentonnay|Charly|Charmauvillers|Charmes|Charmes-sur-Rhône|Charmoille|Charmois-devant-Bruyères|Charmois-l'Orgueilleux|Charmont-sous-Barbuise|Charmoy|Charnas|Charnay|Charnod|Charny Orée de Puisaye|Charny-le-Bachot|Charny-sur-Meuse|Charpentry|Charquemont|Charrin|Charézier|Chaserey|Chasnais|Chasnay|Chassagne-Saint-Denis|Chassal-Molinges|Chasseneuil|Chassey-Beaupré|Chassiers|Chassignelles|Chassignolles|Chassy|Chassy|Chastanier|Chastel-Nouvel|Chastellux-sur-Cure|Chatelay|Chattancourt|Chaucenne|Chauchigny|Chauché|Chaudefonds-sur-Layon|Chaudeyrac|Chaudrey|Chauffecourt|Chauffour-lès-Bailly|Chaulgnes|Chaumard|Chaumergy|Chaumesnil|Chaumont|Chaumont|Chaumont-devant-Damvillers|Chaumont-sur-Aire|Chaumot|Chaumot|Chaumousey|Chaumoux-Marcilly|Chaussenans|Chaussin|Chauvoncourt|Chaux-Champagny|Chaux-Neuve|Chaux-des-Crotenay|Chaux-lès-Passavant|Chauzon|Chavagnes-en-Paillers|Chavagnes-les-Redoux|Chavanges|Chavannes|Chavelot|Chavin|Chavéria|Chay|Chazeaux|Chazelet|Chazeuil|Chazot|Chazé-sur-Argos|Chaînée-des-Coupis|Chef-Haut|Cheffes|Cheffois|Cheissoux|Chemaudin et Vaux|Chemenot|Chemilly-sur-Serein|Chemilly-sur-Yonne|Chemillé-en-Anjou|Chemin|Cheminas|Chenecey-Buillon|Cheney|Chenillé-Champteussé|Cheniménil|Chennegy|Cheny|Cheppy|Chermisey|Chervey|Chesley|Chessy-les-Prés|Chevannes|Chevannes-Changy|Chevenon|Chevigney-lès-Vercel|Chevigney-sur-l'Ognon|Chevigny|Chevreaux|Chevrotaine|Chevroz|Cheylard-l'Évêque|Chezal-Benoît|Chezelles|Chiatra|Chichery|Chichée|Chiddes|Chille|Chilly-le-Vignoble|Chilly-sur-Salins|Chirols|Chisa|Chissey-sur-Loue|Chitray|Chitry|Chitry-les-Mines|Choisey|Cholet|Chomérac|Chonville-Malaumont|Chouday|Chougny|Choux|Chouzelot|Châlus|Chârost|Châtas|Château-Chalon|Château-Chinon (Campagne)|Château-Chinon (Ville)|Château-Guibert|Châteaubourg|Châteaulin|Châteaumeillant|Châteauneuf|Châteauneuf-Grasse|Châteauneuf-Val-de-Bargis|Châteauneuf-Villevieille|Châteauneuf-de-Randon|Châteauneuf-de-Vernoux|Châteauneuf-du-Faou|Châteauneuf-la-Forêt|Châteauneuf-sur-Cher|Châteauponsac|Châteauroux|Châteauvieux-les-Fossés|Châtel-Censoir|Châtel-Gérard|Châtel-de-Joux|Châtel-sur-Moselle|Châtelaudren-Plouagat|Châtelblanc|Châtelneuf|Châtelus-Malvaleix|Châtelus-le-Marcheix|Châtenois|Châtenois|Châtenois|Châtillon|Châtillon-Guyotte|Châtillon-en-Bazois|Châtillon-le-Duc|Châtillon-sous-les-Côtes|Châtillon-sur-Indre|Châtillon-sur-Saône|Châtin|Châtres|Chéniers|Chéronnac|Chéroy|Chéry|Chéu|Chêne-Bernard|Chêne-Sec|Cierges-sous-Montfaucon|Cieux|Ciez|Cipières|Circourt|Circourt-sur-Mouzon|Ciron|Citou|Civray|Cizay-la-Madeleine|Cize|Cizely|Clairavaux|Clairvaux-les-Lacs|Clans|Clara-Villerach|Claudon|Cleebourg|Clermont-en-Argonne|Clermont-sur-Lauquet|Cleurie|Climbach|Clion|Clohars-Carnoët|Clohars-Fouesnant|Clucy|Clugnat|Cluis|Cléden-Cap-Sizun|Cléden-Poher|Cléder|Clémont|Clérey|Clérey-la-Côte|Cléron|Cléry-le-Grand|Cléry-le-Petit|Cléré-du-Bois|Cléré-sur-Layon|Clézentaine|Coadout|Coaraze|Coat-Méal|Coatascorn|Coatréven|Coclois|Codalet|Cogna|Cognac-la-Forêt|Cohiniac|Coinches|Coings|Coiserette|Collan|Collemiers|Collioure|Collongues|Collorec|Colméry|Colomars|Colombier-Fontaine|Colombier-le-Cardinal|Colombier-le-Jeune|Colombier-le-Vieux|Colombiers|Colombiès|Colombé-la-Fosse|Colombé-le-Sec|Colondannes|Colonne|Colroy-la-Roche|Combles-en-Barrois|Combres-sous-les-Côtes|Combret|Combrimont|Combrit|Comigne|Commana|Commenailles|Commequiers|Commercy|Compeyre|Compigny|Compolibat|Compreignac|Comprégnac|Comps-la-Grand-Ville|Comus|Conat|Concarneau|Concremiers|Concressault|Condamine|Condat-sur-Vienne|Condes|Condom-d'Aubrac|Condé|Confort-Meilars|Conilhac-Corbières|Conliège|Conques-sur-Orbiel|Consenvoye|Consolation-Maisonnettes|Conségudes|Conte|Contes|Contrexéville|Contrisson|Corancy|Coray|Corbara|Corbigny|Corbières|Corbère|Corbère-les-Cabanes|Corcelle-Mieslot|Corcelles-Ferrières|Corcieux|Corcondray|Corlay|Cormost|Cornant|Cornas|Corneilla-de-Conflent|Corneilla-del-Vercol|Corneilla-la-Rivière|Cornillé-les-Caves|Cornimont|Cornod|Cornus|Cornusse|Coron|Corpe|Corquoy|Corsavy|Corseul|Corte|Corvol-d'Embernard|Corzé|Cosges|Cosne-Cours-sur-Loire|Cossaye|Cosswiller|Costa|Coteaux du Lizon|Couargues|Coubisou|Coudons|Couffoulens|Couiza|Coulangeron|Coulanges-la-Vineuse|Coulanges-lès-Nevers|Coulours|Couloutre|Counozouls|Coupiac|Cour-Saint-Maurice|Courbette|Courbouzon|Courcelles|Courcelles-en-Barrois|Courcelles-lès-Montbéliard|Courcelles-sous-Châtenois|Courcelles-sur-Aire|Courcelles-sur-Voire|Courceroy|Courchamps|Courchapon|Courgenay|Courgis|Courlans|Courlaoux|Courlon-sur-Yonne|Courléon|Courmes|Cournanel|Courouvre|Cours-les-Barres|Coursan|Coursan-en-Othe|Coursegoules|Courson-les-Carrières|Courtaoult|Courtauly|Courtefontaine|Courtefontaine|Courtenot|Courteranges|Courteron|Courtetain-et-Salans|Courtoin|Courtois-sur-Yonne|Courvières|Cousance|Cousances-les-Forges|Cousances-lès-Triconville|Coussac-Bonneval|Coussegrey|Coussey|Coust|Coustaussa|Coustouge|Coustouges|Coutarnoux|Couvertpuis|Couvignon|Couvonges|Coux|Couy|Couzeix|Coyrière|Coyron|Coëtlogon|Coëtmieux|Coëx|Crainvilliers|Cramans|Crancey|Crans|Cransac|Crastatt|Creissels|Crenans|Creney-près-Troyes|Crespin|Crespy-le-Neuf|Cressat|Cressia|Crevant|Creysseilles|Crissey|Croce|Crocicchia|Croisy|Cromac|Crosey-le-Grand|Crosey-le-Petit|Crosses|Crotenay|Crouzet-Migette|Crozant|Croze|Crozon|Crozon-sur-Vauvre|Cruas|Cruscades|Crux-la-Ville|Cruzy-le-Châtel|Cry|Créhen|Crésantignes|Crézancy-en-Sancerre|Crézançay-sur-Cher|Crœttwiller|Cubières|Cubières-sur-Cinoble|Cubiérettes|Cubrial|Cubry|Cudot|Cuffy|Cugand|Cuisia|Cuisy|Culan|Culey|Cumières-le-Mort-Homme|Cumiès|Cunel|Cunfin|Curières|Curzon|Cusance|Cuse-et-Adrisans|Cussac|Cussangy|Cussey-sur-Lison|Cussey-sur-l'Ognon|Cussy-les-Forges|Cuvier|Cuxac-Cabardès|Cuxac-d'Aude|Cuy|Cuzion|Cépie|Céret|Cérilly|Cézy|Côtebrune|Dachstein|Dagonville|Dahlenheim|Dainville-Bertheléville|Dalhunden|Damas-aux-Bois|Damas-et-Bettegney|Dambach|Dambach-la-Ville|Dambelin|Dambenois|Damblain|Damloup|Dammarie-sur-Saulx|Dammartin-Marpain|Dammartin-les-Templiers|Damparis|Dampierre|Dampierre|Dampierre-en-Crot|Dampierre-en-Graçay|Dampierre-les-Bois|Dampierre-sous-Bouhy|Dampierre-sur-le-Doubs|Dampjoux|Damprichard|Damvillers|Damvix|Dangolsheim|Dannemarie|Dannemarie-sur-Crète|Dannemoine|Dannevoux|Daoulas|Darbonnay|Darbres|Darney|Darney-aux-Chênes|Darnieulles|Dasle|Daubensand|Dauendorf|Davejean|Davrey|Davézieux|Decazeville|Decize|Dehlingen|Deinvillers|Delouze-Rosières|Delut|Deluz|Demange-Baudignécourt|Denezières|Denipaire|Denée|Derbamont|Dernacueillette|Desnes|Destord|Dettwiller|Deux Rivières|Devay|Devecey|Devesset|Deycimont|Deyvillers|Diebolsheim|Diedendorf|Dieffenbach-au-Val|Dieffenbach-lès-Wœrth|Dieffenthal|Diemeringen|Diennes-Aubigny|Dienville|Dieppe-sous-Douaumont|Dierrey-Saint-Pierre|Dieue-sur-Meuse|Diges|Digna|Dignonville|Dimbsthal|Dinan|Dingsheim|Dinozé|Dinsac|Dinsheim-sur-Bruche|Dinéault|Diors|Diou|Dirinon|Dirol|Dissangis|Distré|Dixmont|Docelles|Dogneville|Doix lès Fontaines|Dolaincourt|Dolancourt|Dole|Dollot|Domats|Dombasle-devant-Darney|Dombasle-en-Argonne|Dombasle-en-Xaintois|Domblans|Dombras|Dombrot-le-Sec|Dombrot-sur-Vair|Domecy-sur-Cure|Domecy-sur-le-Vault|Domeyrot|Domfaing|Domfessel|Domjulien|Dommartin|Dommartin|Dommartin-aux-Bois|Dommartin-la-Montagne|Dommartin-le-Coq|Dommartin-lès-Remiremont|Dommartin-lès-Vallois|Dommartin-sur-Vraine|Dommary-Baroncourt|Dompaire|Dompcevrin|Dompierre|Dompierre-aux-Bois|Dompierre-les-Tilleuls|Dompierre-les-Églises|Dompierre-sur-Mont|Dompierre-sur-Nièvre|Dompierre-sur-Yon|Dompnac|Domprel|Domps|Domptail|Domremy-la-Canne|Domrémy-la-Pucelle|Domvallier|Domèvre-sous-Montfort|Domèvre-sur-Avière|Domèvre-sur-Durbion|Donazac|Doncières|Doncourt-aux-Templiers|Donnement|Donnenheim|Donzy|Dorlisheim|Dornas|Dornes|Dorres|Dosches|Dosnon|Dossenheim-Kochersberg|Dossenheim-sur-Zinsel|Douadic|Douarnenez|Douaumont-Vaux|Doubs|Doucier|Doulcon|Dounoux|Dournazac|Dournon|Douzens|Doué-en-Anjou|Doye|Drachenbronn-Birlenbach|Dracy|Dramelay|Drap|Drevant|Droupt-Saint-Basle|Droupt-Sainte-Marie|Droux|Druelle Balsac|Drulhe|Drulingen|Drusenheim|Druy-Parigny|Druyes-les-Belles-Fontaines|Duault|Dugny-sur-Meuse|Dun-le-Palestel|Dun-le-Poëlier|Dun-les-Places|Dun-sur-Grandry|Dun-sur-Meuse|Dung|Dunière-sur-Eyrieux|Duppigheim|Duranus|Durnes|Durningen|Durrenbach|Durstel|Durtal|Duttlenheim|Duzey|Dyé|Dénezé-sous-Doué|Déols|Désaignes|Désandans|Déservillers|Eaux-Puiseaux|Eberbach-Seltz|Ebersheim|Ebersmunster|Eckartswiller|Eckbolsheim|Eckwersheim|Eclassan|Edern|Eichhoffen|Eix|Elliant|Elne|Elsenheim|Empurany|Empury|Engente|Engwiller|Ennordres|Entraygues-sur-Truyère|Entre-deux-Eaux|Entre-deux-Monts|Entzheim|Enveitg|Epfig|Epiry|Erckartswiller|Erdre-en-Anjou|Ergersheim|Ergué-Gabéric|Erneville-aux-Bois|Ernolsheim-Bruche|Ernolsheim-lès-Saverne|Erquy|Err|Ersa|Erstein|Ervy-le-Châtel|Escales|Escamps|Escandolières|Escaro|Eschau|Eschbach|Eschbourg|Eschwiller|Escles|Escolives-Sainte-Camille|Escouloubre|Escragnolles|Escueillens-et-Saint-Just-de-Bélengard|Esley|Esnans|Esnes-en-Argonne|Esnon|Espalion|Espeyrac|Espezel|Espira-de-Conflent|Espira-de-l'Agly|Espéraza|Essarts en Bocage|Essegney|Esserval-Tartre|Essoyes|Estagel|Estaing|Estavar|Estissac|Estoher|Estrennes|Eus|Euville|Exincourt|Eybouleuf|Eyjeaux|Eymoutiers|Eyne|Eysson|Eywiller|Fabras|Fabrezan|Faimbe|Fains-Véel|Fajac-en-Val|Fajac-la-Relenque|Falicon|Fallerans|Falleron|Falletans|Fanjeaux|Farges-Allichamps|Farges-en-Septaine|Farinole|Faucompierre|Fauconcourt|Faugères|Faux-la-Montagne|Faverdines|Fay-en-Montagne|Fayet|Faymoreau|Fays|Fays-la-Chapelle|Fegersheim|Feilluns|Felce|Feliceto|Felletin|Fendeille|Feneu|Fenouillet|Fenouillet-du-Razès|Ferdrupt|Ferrals-les-Corbières|Ferran|Ferreux-Quincey|Ferrières-le-Lac|Ferrières-les-Bois|Fertans|Fertrève|Fesches-le-Châtel|Fessenheim-le-Bas|Fessevillers|Festes-et-Saint-André|Feuges|Feule|Feusines|Feux|Feytiat|Ficaja|Fignévelle|Fillols|Fiménil|Finestret|Firmi|Flacy|Flagey|Flagey-Rigney|Flagnac|Flangebouche|Flaviac|Flavignac|Flavigny|Flavin|Fleurat|Fleurey|Fleury|Fleury-devant-Douaumont|Fleury-la-Vallée|Fleury-sur-Loire|Flexbourg|Fleys|Flez-Cuzy|Flogny-la-Chapelle|Florac Trois Rivières|Florentin-la-Capelle|Florémont|Floure|Fléré-la-Rivière|Fléty|Foameix-Ornel|Foissac|Foissy-lès-Vézelay|Foissy-sur-Vanne|Folles|Fomerey|Foncine-le-Bas|Foncine-le-Haut|Fondamente|Fons|Font-Romeu-Odeillo-Via|Fontain|Fontaine|Fontaine-Mâcon|Fontaine-la-Gaillarde|Fontaine-les-Grès|Fontaine-lès-Clerval|Fontainebrux|Fontaines|Fontaines-Saint-Clair|Fontan|Fontanès-de-Sault|Fontcouverte|Fontenay|Fontenay|Fontenay-de-Bossery|Fontenay-le-Comte|Fontenay-près-Chablis|Fontenay-près-Vézelay|Fontenay-sous-Fouronnes|Fontenelle-Montby|Fontenotte|Fontenoy|Fontenoy-le-Château|Fontenu|Fonters-du-Razès|Fontette|Fontevraud-l'Abbaye|Fontgombault|Fontguenand|Fontiers-Cabardès|Fontiès-d'Aude|Fontpédrouse|Fontrabiouse|Fontvannes|Forges-sur-Meuse|Formiguères|Forstfeld|Forstheim|Fort-Louis|Fort-du-Plasne|Fosse|Foucaucourt-sur-Thabas|Foucherans|Fouchy|Fouchères|Fouchères|Fouchères-aux-Bois|Fouchécourt|Fouday|Fouesnant|Fougerolles|Fougeré|Foulenay|Fourbanne|Fourcatier-et-Maison-Neuve|Fourchambault|Fourg|Fournaudin|Fournes-Cabardès|Fournet-Blancheroche|Fournets-Luisans|Fouronnes|Fourques|Fours|Fourtou|Foussais-Payré|Foëcy|Frain|Fraisans|Fraisse-Cabardès|Fraissinet-de-Fourques|Fraize|Fralignes|Frambouhans|Francheville|Franey|Franois|Frapelle|Fraroz|Frasnay-Reugny|Frasne|Frasne-les-Meulières|Fravaux|Frebécourt|Fremifontaine|Frenelle-la-Grande|Frenelle-la-Petite|Fresnay|Fresnes|Fresnes-au-Mont|Fresnes-en-Woëvre|Fresnoy-le-Château|Fresse-sur-Moselle|Fresselines|Freyssenet|Friedolsheim|Friesenheim|Frizon|Frohmuhl|Froidevaux|Froidfond|Froidos|Fromental|Fromeréville-les-Vallons|Fromezey|Frontenay|Frébuans|Frédille|Fréhel|Frémeréville-sous-les-Côtes|Frénois|Fréville|Frœschwiller|Fuans|Fuilla|Fuligny|Fulvy|Furchhausen|Furdenheim|Furiani|Fursac|Fussy|Futeau|Fâchin|Félines|Félines-Termenès|Féniers|Gabriac|Gabriac|Gabrias|Gaillac-d'Aveyron|Gaja-et-Villedieu|Gaja-la-Selve|Gajoubert|Galgan|Galinagues|Galéria|Gambsheim|Garchizy|Garchy|Gardefort|Gardie|Gargilesse-Dampierre|Garigny|Garlan|Gars|Gartempe|Gatey|Gattières|Gatuzières|Gausson|Gehée|Geispolsheim|Gellin|Gelvécourt-et-Adompt|Gemaingoutte|Gemmelaincourt|Gendreville|Gendrey|Generville|Genestelle|Geneuille|Geney|Gennes|Gennes-Val-de-Loire|Genod|Genouillac|Genouilly|Gentioux-Pigerolles|Geraise|Gerbamont|Gerbépal|Gercourt-et-Drillancourt|Germenay|Germigney|Germigny|Germigny-l'Exempt|Germigny-sur-Loire|Germondans|Germéfontaine|Gerstheim|Gertwiller|Geruge|Gesnes-en-Argonne|Geudertheim|Geville|Gevingey|Gevresin|Gevry|Ghisonaccia|Ghisoni|Gien-sur-Cure|Gigney|Gigny|Gigny|Gignéville|Gilette|Gilhac-et-Bruzac|Gilhoc-sur-Ormèze|Gillois|Gimouille|Gimécourt|Gincla|Gincrey|Ginestas|Ginoles|Giocatojo|Gioux|Girancourt|Girauvoisin|Gircourt-lès-Viéville|Girecourt-sur-Durbion|Girmont-Val-d'Ajol|Girolles|Gironcourt-sur-Vraine|Giroux|Giry|Gissac|Gisy-les-Nobles|Giuncaggio|Givardon|Givrand|Givrauval|Givry|Gizia|Glamondans|Gland|Glandon|Glay|Glomel|Glorianes|Gluiras|Glun|Glux-en-Glenne|Glère|Glénic|Godoncourt|Golbey|Golinhac|Gomené|Gommenec'h|Gondenans-Montby|Gondenans-les-Moulins|Gondrecourt-le-Château|Gonsans|Gorbio|Gorges du Tarn Causses|Gorhey|Gorre|Gottenhouse|Gottesheim|Gouarec|Goudelin|Gouesnach|Gouesnou|Gougenheim|Gouhelans|Goulien|Gouloux|Goulven|Goumois|Gouraincourt|Gourdon|Gourdon|Gourlizon|Gournay|Gourvieille|Goussaincourt|Goutrens|Goux-les-Usiers|Goux-lès-Dambelin|Goux-sous-Landet|Gouzon|Gouézec|Goxwiller|Gramazie|Gramond|Grand|Grand'Combe-Châteleu|Grand'Combe-des-Bois|Grand'Landes|Grand-Charmont|Grande-Rivière Château|Grandfontaine|Grandfontaine|Grandfontaine-sur-Creuse|Grandrieu|Grandrupt|Grandrupt-de-Bains|Grandville|Grandvillers|Grange-de-Vaivre|Granges-Narboz|Granès|Gras|Grasse|Graye-et-Charnay|Graçay|Gredisans|Greffeil|Gremilly|Grendelbruch|Grenois|Gresswiller|Greux|Grez-Neuville|Gries|Griesheim-près-Molsheim|Griesheim-sur-Souffel|Grignoncourt|Grimaucourt-en-Woëvre|Grimaucourt-près-Sampigny|Grimault|Groises|Gron|Gron|Grosbois|Grosbreuil|Grospierres|Grossouvre|Grozon|Grues|Gruey-lès-Surance|Gruissan|Grâce-Uzel|Grâces|Grèzes|Gréolières|Guengat|Guenroc|Guerlesquin|Guerlédan|Guerpont|Gugney-aux-Aulx|Gugnécourt|Guiclan|Guiler-sur-Goyen|Guilers|Guilherand-Granges|Guilligomarc'h|Guillon-Terre-Plaine|Guillon-les-Bains|Guilly|Guilvinec|Guimaëc|Guimiliau|Guingamp|Guipavas|Guipy|Guissény|Guitté|Gumbrechtshoffen|Gumery|Gundershoffen|Gungwiller|Gunstett|Gurgy|Gurunhuel|Gussainville|Guyans-Durnes|Guyans-Vennes|Guéret|Guérigny|Gy-l'Évêque|Gyé-sur-Seine|Gâcogne|Gélannes|Gémonval|Génicourt-sur-Meuse|Géraudot|Géry|Gœrlingen|Gœrsdorf|Hadigny-les-Verrières|Hadol|Haegen|Hagnéville-et-Roncourt|Haguenau|Hagécourt|Haillainville|Haironville|Halles-sous-les-Côtes|Hampigny|Han-sur-Meuse|Handschuheim|Hangenbieten|Hannonville-sous-les-Côtes|Hanvec|Harchéchamp|Hardancourt|Harmonville|Harol|Harskirchen|Harville|Haréville|Hatten|Hattmatt|Haudainville|Haudiomont|Haumont-près-Samogneux|Hautecour|Hauterive|Hauteroche|Hegeney|Heidolsheim|Heiligenberg|Heiligenstein|Heippes|Hengwiller|Hennecourt|Hennemont|Hennezel|Henrichemont|Henvic|Herbeuville|Herbisse|Herbitzheim|Herbsheim|Hergugney|Herméville-en-Woëvre|Herpelmont|Herrlisheim|Herry|Hessenheim|Heudicourt-sous-les-Côtes|Heugnes|Hillion|Hilsenheim|Hindisheim|Hinsbourg|Hinsingen|Hipsheim|Hirschland|Hochstett|Hoffen|Hohengœft|Holtzheim|Homps|Horville-en-Ornois|Houdelaincourt|Hounoux|Housseras|Houtaud|Houécourt|Houéville|Huanne-Montmartin|Huelgoat|Huillé-Lézigné|Humbligny|Hunspach|Huparlac|Hurbache|Hures-la-Parade|Hurtigheim|Huttendorf|Huttenheim|Hymont|Hyèvre-Magny|Hyèvre-Paroisse|Hyémondans|Hémonstoir|Hénanbihen|Hénansal|Hénon|Hérimoncourt|Héry|Héry|Hévilliers|Hôpital-Camfrout|Hœnheim|Hœrdt|Ichtratzheim|Ids-Saint-Roch|Igney|Ignol|Ille-sur-Têt|Illifaut|Illkirch-Graffenstaden|Ilonse|Imphy|Indevillers|Ineuil|Ingolsheim|Ingrandes|Ingwiller|Innenheim|Inor|Ippécourt|Irancy|Irvillac|Isches|Isenay|Island|Isle|Isle-Aubigny|Isle-Aumont|Isola|Isolaccio-di-Fiumorbo|Ispagnac|Issamoulenc|Issans|Issel|Issoudun|Ittenheim|Itterswiller|Ivory|Ivoy-le-Pré|Ivrey|Jabreilles-les-Bordes|Jailly|Jainvillotte|Jalesches|Jallerange|Jalognes|Janailhac|Jard-sur-Mer|Jarménil|Jarnages|Jars|Jarzé Villages|Jasseines|Jaucourt|Jaujac|Jaulges|Jaunac|Javerdat|Javernant|Jeanménil|Jessains|Jetterswiller|Jeu-Maloches|Jeu-les-Bois|Jeugny|Jeurre|Jeuxey|Joannas|Joch|Joigny|Joncreuil|Jonquières|Jonville-en-Woëvre|Jorxey|Jouac|Jouancy|Joucou|Jouet-sur-l'Aubois|Jougne|Jouhe|Jouillat|Jourgnac|Joux-la-Ville|Jouy|Jouy-en-Argonne|Joyeuse|Jubainville|Jugon-les-Lacs - Commune nouvelle|Jujols|Jully|Jully-sur-Sarce|Julvécourt|Junay|Jussarupt|Jussy|Jussy-Champagne|Jussy-le-Chaudrier|Juvaincourt|Juvancourt|Juvanzé|Juvardeil|Juvigny-en-Perthois|Juvinas|Juzanvigny|Jésonville|Kaltenhouse|Kauffenheim|Keffenach|Kerbors|Kerfot|Kergloff|Kergrist-Moëlou|Kerien|Kerlaz|Kerlouan|Kermaria-Sulard|Kermoroc'h|Kernilis|Kernouës|Kerpert|Kersaint-Plabennec|Kertzfeld|Keskastel|Kesseldorf|Kienheim|Kilstett|Kindwiller|Kintzheim|Kirchheim|Kirrberg|Kirrwiller|Kleingœft|Knœrsheim|Kogenheim|Kolbsheim|Krautergersheim|Krautwiller|Kriegsheim|Kurtzenhouse|Kuttolsheim|Kutzenhausen|Kœur-la-Grande|Kœur-la-Petite|L'Aiguillon-la-Presqu'île|L'Aiguillon-sur-Vie|L'Albère|L'Escarène|L'Herbergement|L'Hermenault|L'Hospitalet-du-Larzac|L'Hôpital-Saint-Lieffroy|L'Hôpital-du-Grosbois|L'Isle-en-Rigault|L'Isle-sur-Serein|L'Isle-sur-le-Doubs|L'Orbrie|L'Écouvotte|L'Épine|L'Étoile|L'Île-Rousse|L'Île-d'Elle|L'Île-d'Olonne|La Baffe|La Barre|La Barre-de-Monts|La Bastide|La Bastide-Pradines|La Bastide-Puylaurent|La Bazeuge|La Belliole|La Bernardière|La Berthenoux|La Bezole|La Boissière|La Boissière-de-Montaigu|La Boissière-des-Landes|La Bollène-Vésubie|La Bosse|La Bouillie|La Bourgonce|La Breille-les-Pins|La Bresse|La Bretenière|La Bretenière|La Bretonnière-la-Claye|La Brigue|La Brionne|La Broque|La Bruffière|La Buxerette|La Cabanasse|La Caillère-Saint-Hilaire|La Capelle-Balaguier|La Capelle-Bleys|La Capelle-Bonance|La Cassaigne|La Cavalerie|La Celette|La Celle|La Celle-Condé|La Celle-Dunoise|La Celle-Saint-Cyr|La Celle-sous-Gouzon|La Celle-sur-Loire|La Celle-sur-Nièvre|La Cellette|La Chailleuse|La Chaise|La Chaize-Giraud|La Chaize-le-Vicomte|La Champenoise|La Chapelle-Baloue|La Chapelle-Blanche|La Chapelle-Hermier|La Chapelle-Hugon|La Chapelle-Montbrandeix|La Chapelle-Montlinard|La Chapelle-Neuve|La Chapelle-Orthemale|La Chapelle-Palluau|La Chapelle-Saint-Laud|La Chapelle-Saint-Laurian|La Chapelle-Saint-Luc|La Chapelle-Saint-Ursin|La Chapelle-Taillefert|La Chapelle-Thémer|La Chapelle-Vaupelteigne|La Chapelle-aux-Bois|La Chapelle-d'Angillon|La Chapelle-devant-Bruyères|La Chapelle-sur-Furieuse|La Chapelle-sur-Oreuse|La Chapelotte|La Charité-sur-Loire|La Charme|La Chassagne|La Chaumusse|La Chaux-du-Dombief|La Chaux-en-Bresse|La Chenalotte|La Chevillotte|La Châtaigneraie|La Châtelaine|La Châtre|La Chèze|La Cluse-et-Mijoux|La Collancelle|La Colle-sur-Loup|La Copechagnière|La Courtine|La Courtète|La Couture|La Couvertoirade|La Cresse|La Croisille-sur-Briance|La Croix-aux-Mines|La Croix-sur-Gartempe|La Digne-d'Amont|La Digne-d'Aval|La Fajolle|La Favière|La Fermeté|La Ferrière|La Ferté|La Ferté-Loupière|La Feuillée|La Force|La Forest-Landerneau|La Forge|La Forêt-Fouesnant|La Forêt-du-Temple|La Fouillade|La Frasnée|La Garnache|La Gaubretière|La Gaude|La Geneytouse|La Genétouze|La Grande-Fosse|La Grange|La Groutte|La Guerche-sur-l'Aubois|La Guérinière|La Harmoye|La Haye|La Houssière|La Jaille-Yvon|La Jaudonnière|La Jonchère|La Jonchère-Saint-Maurice|La Lande-Chasles|La Landec|La Latette|La Llagonne|La Loge-Pomblin|La Loge-aux-Chèvres|La Loubière|La Louptière-Thénard|La Louvière-Lauragais|La Loye|La Machine|La Maison-Dieu|La Malhoure|La Malène|La Marche|La Marre|La Martyre|La Meilleraie-Tillay|La Merlatière|La Meyze|La Motte|La Motte-Feuilly|La Motte-Tilly|La Méaugon|La Ménitré|La Neuveville-devant-Lépanges|La Neuveville-sous-Châtenois|La Neuveville-sous-Montfort|La Nocle-Maulaix|La Nouaille|La Palme|La Panouse|La Pellerine|La Perche|La Pesse|La Petite-Fosse|La Petite-Pierre|La Petite-Raon|La Plaine|La Planée|La Pomarède|La Porta|La Possonnière|La Postolle|La Prénessaye|La Prétière|La Pérouille|La Rabatelière|La Redorte|La Rivière-Drugeon|La Rivière-de-Corps|La Rixouse|La Roche-Jaudy|La Roche-Maurice|La Roche-l'Abeille|La Roche-sur-Yon|La Romagne|La Roque-Sainte-Marguerite|La Roque-en-Provence|La Roquette-sur-Siagne|La Roquette-sur-Var|La Rothière|La Rouquette|La Réorthe|La Salle|La Salvetat-Peyralès|La Saulsotte|La Saunière|La Serpent|La Serre|La Sommette|La Souche|La Souterraine|La Séguinière|La Taillée|La Tessoualle|La Tour|La Tour-de-Sçay|La Tour-du-Meix|La Tourette-Cabardès|La Tranche-sur-Mer|La Trinité|La Turbie|La Vacheresse-et-la-Rouillie|La Vancelle|La Vendue-Mignot|La Vernelle|La Vicomté-sur-Rance|La Vieille-Loye|La Ville-aux-Bois|La Villedieu|La Villeneuve-au-Châtelot|La Villeneuve-au-Chêne|La Villetelle|La Voivre|La Voulte-sur-Rhône|La Vèze|La Vôge-les-Bains|La Wantzenau|Labastide-Esparbairenque|Labastide-d'Anjou|Labastide-de-Virac|Labastide-en-Val|Labastide-sur-Bésorgues|Labatie-d'Andaure|Labeaume|Labergement-Sainte-Marie|Labeuville|Lablachère|Laboule|Labécède-Lauragais|Labégude|Lac-des-Rouges-Truites|Lachalade|Lachamp-Ribennes|Lachapelle-sous-Aubenas|Lachapelle-sous-Chanéac|Lachaussée|Lacombe|Lacroix-Barrez|Lacroix-sur-Meuse|Lacs|Ladapeyre|Ladern-sur-Lauquet|Ladignac-le-Long|Ladoye-sur-Seille|Lafage|Lafarre|Lafat|Lagesse|Lagorce|Lagrasse|Laguiole|Lahaymeix|Lahayville|Laheycourt|Lailly|Laimont|Lain|Laines-aux-Bois|Lainsecq|Laire|Lairière|Lairoux|Laissac-Sévérac l'Église|Laissey|Lajoux|Lalande|Lalaye|Lalevade-d'Ardèche|Lama|Lamanère|Lamarche|Lamastre|Lamballe-Armor|Lamenay-sur-Loire|Lamorville|Lamouilly|Lamoura|Lampaul-Guimiliau|Lampaul-Plouarzel|Lampaul-Ploudalmézeau|Lampertheim|Lampertsloch|Lanans|Lanarvily|Lanas|Lancieux|Landaville|Landebaëron|Landeleau|Landerneau|Landeronde|Landersheim|Landevieille|Landivisiau|Landrecourt-Lempire|Landresse|Landreville|Landrévarzec|Landudal|Landudec|Landunvez|Landébia|Landéda|Landéhen|Landévennec|Lanet|Laneuville-au-Rupt|Laneuville-sur-Meuse|Lanfains|Langensoultzbach|Langley|Langoat|Langogne|Langolen|Langrolay-sur-Rance|Languenan|Langueux|Languédias|Langé|Lanhouarneau|Lanhères|Lanildut|Lanleff|Lanloup|Lanmeur|Lanmodez|Lanmérin|Lannebert|Lanneuffret|Lannilis|Lannion|Lannéanou|Lannédern|Lanrelas|Lanrivain|Lanrivoaré|Lanrodec|Lansac|Lantages|Lantenne-Vertière|Lanthenans|Lantic|Lantosque|Lanty|Lanuéjols|Lanuéjouls|Lanvallay|Lanvellec|Lanvollon|Lanvéoc|Lapan|Lapanouse-de-Cernon|Laprade|Largentière|Largillay-Marsonnay|Larnas|Larnaud|Larnod|Laroche-Saint-Cydroine|Larochemillay|Laroque-de-Fa|Laroque-des-Albères|Larrivoire|Lasbordes|Lasserre-de-Prouille|Lassicourt|Lasson|Lassouts|Lastours|Latour-Bas-Elne|Latour-de-Carol|Latour-de-France|Latour-en-Woëvre|Laubach|Laubert|Laubressel|Laurabuc|Laurac|Laurac-en-Vivarais|Lauraguel|Laure-Minervois|Laurenan|Laurière|Lauterbourg|Laval-Roquecezière|Laval-le-Prieuré|Laval-sur-Vologne|Lavalette|Lavallée|Lavancia-Epercy|Lavangeot|Lavans-Quingey|Lavans-Vuillafans|Lavans-lès-Dole|Lavans-lès-Saint-Claude|Lavatoggio|Lavau|Lavau|Lavaufranche|Lavault-de-Frétoy|Laveline-devant-Bruyères|Laveline-du-Houx|Lavernay|Lavignac|Lavigny|Lavilledieu|Lavincourt|Laviolle|Laviron|Lavoye|Laz|Lazenay|Le Bar-sur-Loup|Le Barboux|Le Barcarès|Le Bas Ségala|Le Bernard|Le Beulay|Le Bizot|Le Blanc|Le Bodéo|Le Born|Le Bouchon-sur-Saulx|Le Boulou|Le Boupère|Le Bourg-d'Hem|Le Bousquet|Le Broc|Le Buis|Le Buisson|Le Bélieu|Le Cambout|Le Cannet|Le Cayrol|Le Chalard|Le Chambon|Le Champ-Saint-Père|Le Chateley|Le Chautay|Le Cheylard|Le Châtelet|Le Châtenet-en-Dognon|Le Chêne|Le Claon|Le Clapier|Le Clat|Le Clerjus|Le Cloître-Pleyben|Le Cloître-Saint-Thégonnec|Le Collet-de-Dèze|Le Conquet|Le Coudray-Macouard|Le Crestet|Le Crouzet|Le Deschaux|Le Dorat|Le Drennec|Le Faou|Le Faouët|Le Fel|Le Fenouiller|Le Fied|Le Folgoët|Le Frasnois|Le Fœil|Le Girouard|Le Givre|Le Grand-Bourg|Le Gratteris|Le Gué-de-Velluire|Le Haut-Corlay|Le Hinglé|Le Hohwald|Le Juch|Le Langon|Le Larderet|Le Latet|Le Leslay|Le Lion-d'Angers|Le Louverot|Le Luhier|Le Magny|Le Mas|Le Mas-d'Artige|Le May-sur-Èvre|Le Mazeau|Le Menoux|Le Mené|Le Merzer|Le Monastère|Le Mont|Le Moustoir|Le Moutherot|Le Mémont|Le Ménil|Le Mériot|Le Nayrac|Le Neufour|Le Noyer|Le Palais-sur-Vienne|Le Pasquier|Le Pavillon-Sainte-Julie|Le Perrier|Le Perthus|Le Pin|Le Plessis-Grammoire|Le Poinçonnet|Le Poiré-sur-Vie|Le Pompidou|Le Pont-Chrétien-Chabenet|Le Pouzin|Le Puid|Le Puy|Le Puy-Notre-Dame|Le Pêchereau|Le Quillio|Le Quiou|Le Relecq-Kerhuon|Le Roulier|Le Rouret|Le Rozier|Le Russey|Le Saulcy|Le Soler|Le Subdray|Le Syndicat|Le Tablier|Le Tech|Le Teil|Le Thillot|Le Tignet|Le Tranger|Le Truel|Le Tréhou|Le Trévoux|Le Val|Le Val d'Ocre|Le Val-d'Ajol|Le Vaudioux|Le Vermont|Le Vernois|Le Vernoy|Le Vibal|Le Vieux-Bourg|Le Vieux-Marché|Le Vigen|Le Villey|Le Vivier|Lect|Lembach|Lemmecourt|Lemmes|Lemps|Lemuy|Lennon|Lent|Lentilles|Lentillères|Lento|Lerrain|Les Ableuvenettes|Les Achards|Les Aix-d'Angillon|Les Albres|Les Angles|Les Arsures|Les Auxons|Les Billanges|Les Bois d'Anjou|Les Bondons|Les Bordes|Les Bordes|Les Bordes-Aumont|Les Bouchoux|Les Brouzils|Les Brunels|Les Bréseux|Les Cars|Les Cassés|Les Cerqueux|Les Chalesmes|Les Champs-Géraux|Les Cluses|Les Clérimois|Les Combes|Les Costes-Gozon|Les Crozets|Les Croûtes|Les Deux-Fays|Les Epesses|Les Essards-Taignevaux|Les Ferres|Les Fins|Les Fontenelles|Les Forges|Les Fourgs|Les Garennes sur Loire|Les Grandes-Chapelles|Les Grands-Chézeaux|Les Granges|Les Grangettes|Les Gras|Les Hauts de Forterre|Les Hauts-d'Anjou|Les Hauts-de-Chée|Les Hays|Les Herbiers|Les Hôpitaux-Neufs|Les Hôpitaux-Vieux|Les Ilhes|Les Islettes|Les Landes-Genusson|Les Laubies|Les Loges-Margueron|Les Lucs-sur-Boulogne|Les Magnils-Reigniers|Les Martys|Les Monthairons|Les Monts-Ronds|Les Moussières|Les Mujouls|Les Nans|Les Noës-près-Troyes|Les Ollières-sur-Eyrieux|Les Ormes|Les Paroches|Les Pineaux|Les Plains-et-Grands-Essarts|Les Planches-en-Montagne|Les Planches-près-Arbois|Les Pontets|Les Ponts-de-Cé|Les Poulières|Les Premiers Sapins|Les Rairies|Les Repôts|Les Riceys|Les Roises|Les Rouges-Eaux|Les Rousses|Les Sables-d'Olonne|Les Salles-Lavauguyon|Les Sièges|Les Souhesmes-Rampont|Les Terres-de-Chaux|Les Thons|Les Trois-Châteaux|Les Trois-Domaines|Les Ulmes|Les Vallois|Les Vallées de la Vanne|Les Velluire-sur-Vendée|Les Villedieu|Les Voivres|Les Écorces|Les Éparges|Leschères|Lescouët-Gouarec|Lescure-Jaoul|Lesmont|Lesneven|Lespinassière|Lesquerde|Lesseux|Lestrade-et-Thouels|Leuc|Leucate|Leugny|Leuhan|Leutenheim|Levens|Levet|Levier|Levis|Levoncourt|Leyrat|Lhuître|Lichtenberg|Lichères-près-Aigremont|Lichères-sur-Yonne|Liebvillers|Liesle|Liez|Liffol-le-Grand|Lignairolles|Lignerolles|Lignières|Lignières|Lignières-sur-Aire|Lignol-le-Château|Lignorelles|Ligny-en-Barrois|Ligny-le-Châtel|Lignéville|Limanton|Limersheim|Limeux|Limoges|Limon|Limony|Limousis|Limoux|Linard-Malval|Linards|Lindry|Lingolsheim|Linguizzetta|Lingé|Liniez|Liny-devant-Dun|Lion-devant-Dun|Lipsheim|Lirey|Lironcourt|Lisle-en-Barrois|Lissay-Lochy|Lissey|Littenheim|Livinhac-le-Haut|Lixy|Lizeray|Lizine|Lizières|Llauro|Llo|Llupia|Lobsann|Loc-Brévalaire|Loc-Eguiner|Loc-Envel|Locarn|Loches-sur-Ource|Lochwiller|Locmaria-Plouzané|Locmélar|Locquirec|Locquénolé|Locronan|Loctudy|Locunolé|Lods|Loge-Fougereuse|Logonna-Daoulas|Loguivy-Plougras|Lohr|Lohuec|Loire-Authion|Loiré|Loisey|Loisia|Loison|Lombard|Lombard|Lomont-sur-Crête|Longchamp|Longchamp-sous-Châtenois|Longchamp-sur-Aujon|Longchamps-sur-Aire|Longcochon|Longeaux|Longechaux|Longemaison|Longevelle-lès-Russey|Longevelle-sur-Doubs|Longeville|Longeville-en-Barrois|Longeville-sur-Mer|Longeville-sur-Mogne|Longevilles-Mont-d'Or|Longpré-le-Sec|Longsols|Longuenée-en-Anjou|Longueville-sur-Aube|Longué-Jumelles|Longwy-sur-le-Doubs|Longèves|Lons-le-Saunier|Looze|Loperhet|Lopérec|Loqueffret|Loray|Lorentzen|Loreto-di-Casinca|Lormes|Los Masos|Loscouët-sur-Meu|Lothey|Louannec|Louargat|Loubaresse|Loudéac|Lougres|Loulle|Loupia|Loupmont|Louppy-le-Château|Lourdoueix-Saint-Michel|Lourdoueix-Saint-Pierre|Louresse-Rochemenier|Lourouer-Saint-Laurent|Louvatange|Louvemont-Côte-du-Poivre|Loye-sur-Arnon|Luant|Lubine|Luc|Luc-la-Primaube|Luc-sur-Aude|Luc-sur-Orbieu|Lucciana|Lucenay-lès-Aix|Lucy-le-Bois|Lucy-sur-Cure|Lucéram|Lugan|Lugny-Champagne|Lugo-di-Nazza|Lumio|Lunac|Lunery|Lupstein|Lurais|Lurcy-le-Bourg|Lureuil|Luri|Lury-sur-Arnon|Lusigny-sur-Barse|Lussac-les-Églises|Lussas|Lussat|Lusse|Lutzelhouse|Luvigny|Luxiol|Luyères|Luzeret|Luzy|Luzy-Saint-Martin|Luçay-le-Libre|Luçay-le-Mâle|Luçon|Lyas|Lye|Lys|Lys-Haut-Layon|Lys-Saint-Georges|Légéville-et-Bonfays|Lépanges-sur-Vologne|Lépaud|Lérouville|Léré|Lévigny|Lézardrieux|Lézignan-Corbières|Lézinnes|Macey|Machy|Maché|Mackenheim|Mackwiller|Maconcourt|Macornay|Madecourt|Madegney|Madonne-et-Lamerey|Maennolsheim|Magnac-Laval|Magnant|Magnat-l'Étrange|Magnicourt|Magny|Magny-Châtelard|Magny-Cours|Magny-Fouchard|Magny-Lormes|Magoar|Magrie|Mahalon|Mailhac|Mailhac-sur-Benaize|Maillet|Maillezais|Maillot|Mailly-la-Ville|Mailly-le-Camp|Mailly-le-Château|Maillé|Maisod|Maison-Feyne|Maison-des-Champs|Maisonnais|Maisonnais-sur-Tardoire|Maisons-lès-Chaource|Maisons-lès-Soulaines|Maisonsgoutte|Maizeray|Maizey|Maizières-la-Grande-Paroisse|Maizières-lès-Brienne|Malaincourt|Malancourt|Malange|Malans|Malay-le-Grand|Malay-le-Petit|Malbrans|Malbuisson|Maleville|Malicornay|Maligny|Malleret|Malleret-Boussac|Mallièvre|Malpas|Malras|Malves-en-Minervois|Malviès|Mamirolle|Mancenans|Mancenans-Lizerne|Mandelieu-la-Napoule|Mandeure|Mandray|Mandres-en-Barrois|Mandres-sur-Vair|Mangiennes|Manhac|Manheulles|Manso|Mantallot|Mantet|Mantry|Marainville-sur-Madon|Maraye-en-Othe|Marchaux-Chaudefontaine|Marchéville-en-Woëvre|Marckolsheim|Marcols-les-Eaux|Marcorignan|Marcé|Mareuil-sur-Arnon|Mareuil-sur-Lay-Dissais|Marey|Mariac|Marie|Marigna-sur-Valouse|Marigny|Marigny-l'Église|Marigny-sur-Yonne|Marillet|Marlenheim|Marmagne|Marmeaux|Marmoutier|Marnay-sur-Seine|Marnhagues-et-Latour|Marnoz|Marnézia|Marolles-lès-Bailly|Marolles-sous-Lignières|Maroncourt|Marquein|Marquixanes|Marre|Mars|Mars-sur-Allier|Marsa|Marsac|Marsais-Sainte-Radégonde|Marsangy|Marseilles-lès-Aubigny|Marseillette|Marson-sur-Barboure|Martiel|Martigna|Martigny-les-Bains|Martigny-les-Gerbonvaux|Martincourt-sur-Meuse|Martinet|Martinvelle|Martizay|Martrin|Marval|Marvejols|Marvelise|Marzy|Marçais|Mas-Cabardès|Mas-Saint-Chély|Mas-Saintes-Puelles|Mas-des-Cours|Masléon|Massac|Massangis|Massay|Matemale|Mathaux|Mathay|Mathenay|Matignon|Matra|Mattaincourt|Matzenheim|Maucourt-sur-Orne|Mauges-sur-Loire|Maulan|Maulévrier|Maupas|Maureillas-las-Illas|Maury|Mausoléo|Mauvages|Mauves|Maux|Maxey-sur-Meuse|Maxey-sur-Vaise|Maynal|Mayran|Mayres|Mayreville|Mayronnes|Mazeirat|Mazeley|Mazerolles-du-Razès|Mazerolles-le-Salin|Mazirot|Mazières-en-Mauges|Mazuby|Mazé-Milon|Maël-Carhaix|Maël-Pestivien|Maîche|Mehun-sur-Yèvre|Meilhac|Meillant|Meistratzheim|Melgven|Meljac|Mellac|Mellionnec|Memmelshoffen|Menades|Menaucourt|Menchhoffen|Mende|Menestreau|Menetou-Couture|Menetou-Râtel|Menetou-Salon|Menetou-sur-Nahon|Menomblet|Menotey|Menton|Menétru-le-Vignoble|Menétrux-en-Joux|Mercey-le-Grand|Mercuer|Mercy|Merdrignac|Mergey|Meria|Merkwiller-Pechelbronn|Merles-sur-Loison|Merléac|Merrey-sur-Arce|Merry-Sec|Merry-la-Vallée|Merry-sur-Yonne|Mers-sur-Indre|Mertzwiller|Mervent|Mesgrigny|Meslières|Mesmay|Mesnard-la-Barotière|Mesnay|Mesnil-Lettre|Mesnil-Saint-Père|Mesnil-Sellières|Mesnil-la-Comtesse|Mesnois|Mespaul|Messia-sur-Sorne|Messon|Mesves-sur-Loire|Metz-Robert|Metz-le-Comte|Meunet-Planches|Meunet-sur-Vatan|Meurville|Meussia|Meyras|Meyrueis|Meysse|Mhère|Michery|Midrevaux|Mietesheim|Migennes|Mignovillard|Migny|Migné|Migé|Milizac-Guipronvel|Millas|Millau|Millay|Milly-sur-Bradon|Minihy-Tréguier|Mirabel|Miraval-Cabardès|Mirecourt|Mirepeisset|Mireval-Lauragais|Miré|Miserey-Salines|Missègre|Mittelbergheim|Mittelhausbergen|Mittelschaeffolsheim|Mièges|Miéry|Mogeville|Mognéville|Moirans-en-Montagne|Moirey-Flabas-Crépion|Moiron|Moissac-Vallée-Française|Moissannes|Moissey|Moissy-Moulinot|Molain|Molamboz|Molandier|Molay|Molezon|Molinons|Molins-sur-Aube|Molitg-les-Bains|Molleville|Mollkirch|Molosmes|Molsheim|Mommenheim|Monacia-d'Orezza|Monay|Moncale|Monceaux-le-Comte|Moncel-sur-Vair|Moncey|Moncley|Moncontour|Mondon|Monestier|Monnet-la-Ville|Monnetay|Monnières|Monsireigne|Monswiller|Mont Lozère et Goulet|Mont-Louis|Mont-Saint-Sulpice|Mont-de-Laval|Mont-de-Vougney|Mont-devant-Sassey|Mont-et-Marré|Mont-lès-Lamarche|Mont-lès-Neufchâteau|Mont-sous-Vaudrey|Mont-sur-Monnet|Montacher-Villegardin|Montagna-le-Reconduit|Montagney-Servigney|Montagnol|Montaigu|Montaigu-Vendée|Montaigut-le-Blanc|Montain|Montalba-le-Château|Montambert|Montancy|Montandon|Montapas|Montaron|Montaulin|Montauriol|Montauriol|Montazels|Montbarrey|Montbazens|Montbel|Montblainville|Montbolo|Montbras|Montbrun-des-Corbières|Montbéliard|Montbéliardot|Montceaux-lès-Vaudes|Montchevrier|Montclar|Montcusel|Monte|Montegrosso|Monteils|Montenois|Montenoison|Monteplain|Montescot|Montesquieu-des-Albères|Montfaucon|Montfaucon-d'Argonne|Montferrand|Montferrand-le-Château|Montferrer|Montfey|Montfleur|Montfort-sur-Boulzane|Montfranc|Montgesoye|Montgivray|Montgradail|Montgueux|Monthaut|Montholier|Montholon|Monthureux-le-Sec|Monthureux-sur-Saône|Monticello|Montier-en-l'Isle|Montierchaume|Montiers-sur-Saulx|Montigny|Montigny-aux-Amognes|Montigny-devant-Sassey|Montigny-en-Morvan|Montigny-la-Resle|Montigny-les-Monts|Montigny-lès-Arsures|Montigny-lès-Vaucouleurs|Montigny-sur-Canne|Montigny-sur-l'Ain|Montigné-lès-Rairies|Montilliers|Montillot|Montipouret|Montirat|Montivernage|Montiéramey|Montjardin|Montjaux|Montjoi|Montjoie-le-Château|Montlainsia|Montlaur|Montlebon|Montlevicq|Montlouis|Montmahoux|Montmarlon|Montmartin-le-Haut|Montmaur|Montmirey-la-Ville|Montmirey-le-Château|Montmorency-Beaufort|Montmorot|Montmotier|Montner|Montolieu|Montournais|Montperreux|Montpeyroux|Montpezat-sous-Bauzon|Montplonne|Montpothier|Montredon-des-Corbières|Montreuil|Montreuil-Bellay|Montreuil-Juigné|Montreuil-sur-Barse|Montreuil-sur-Loir|Montreuil-sur-Maine|Montreuillon|Montrevault-sur-Èvre|Montrevel|Montrodat|Montrol-Sénard|Montrond|Montrond-le-Château|Montrozier|Montréal|Montréal|Montréal|Montréverd|Monts-de-Randon|Montsalès|Montsauche-les-Settons|Montsec|Montsoreau|Montsuzain|Montséret|Montussaint|Montzéville|Montécheroux|Montézic|Monze|Monéteau|Moraches|Morannes sur Sarthe-Daumeray|Moranville|Moreilles|Morelmaison|Morembert|Morgemoulin|Moriville|Morizécourt|Morlac|Morlaix|Morley|Morlhon-le-Haut|Mornay-Berry|Mornay-sur-Allier|Morogues|Morre|Morsbronn-les-Bains|Morschwiller|Morsiglia|Mortagne|Mortagne-sur-Sèvre|Morteau|Mortemart|Morthomiers|Mortroux|Morville|Morvilliers|Mosnay|Mosset|Mostuéjouls|Mothern|Motreff|Mouans-Sartoux|Mouchamps|Mouchard|Mouffy|Mougins|Mouhers|Mouilleron-Saint-Germain|Mouilleron-le-Captif|Mouilly|Moulainville|Mouliherne|Moulinet|Moulins-Engilbert|Moulins-Saint-Hubert|Moulins-en-Tonnerrois|Moulins-sur-Ouanne|Moulins-sur-Yèvre|Moulotte|Mounes-Prohencoux|Mourioux-Vieilleville|Mournans-Charbonny|Mouron-sur-Yonne|Moussan|Moussey|Moussey|Moussoulens|Moussy|Moustéru|Mouthe|Mouthier-Haute-Pierre|Mouthoumet|Moutier-Malcard|Moutier-Rozeille|Moutiers-en-Puisaye|Moutiers-les-Mauxfaits|Moutiers-sur-le-Lay|Moutonne|Moutoux|Moux|Moux-en-Morvan|Mouzay|Mouzeuil-Saint-Martin|Moyemont|Moyenmoutier|Moyrazès|Mozé-sur-Louet|Moëlan-sur-Mer|Moïta|Muhlbach-sur-Bruche|Mulhausen|Munchhausen|Mundolsheim|Mur-de-Barrez|Muracciole|Murasson|Murato|Murlin|Muro|Murols|Murs|Murvaux|Mussig|Mussy-sur-Seine|Mutigney|Muttersholtz|Mutzig|Muzeray|Myennes|Myon|Mâron|Méasnes|Mécrin|Médière|Médonville|Mégrit|Mélagues|Méligny-le-Grand|Méligny-le-Petit|Mélisey|Méménil|Ménarmont|Ménil-aux-Bois|Ménil-de-Senones|Ménil-en-Xaintois|Ménil-la-Horgne|Ménil-sur-Belvitte|Ménil-sur-Saulx|Ménétréol-sous-Sancerre|Ménétréol-sur-Sauldre|Ménétréols-sous-Vatan|Méobecq|Méreau|Mérey-Vieilley|Mérial|Mérigny|Mérillac|Mérona|Méry-sur-Cher|Méry-sur-Seine|Méry-ès-Bois|Méré|Mésandans|Métabief|Mézerville|Mézilhac|Mézilles|Mézières-en-Brenne|Môlay|Mûrs-Erigné|Nahuja|Naillat|Nailly|Naisey-les-Granges|Naives-Rosières|Naives-en-Blois|Naix-aux-Forges|Najac|Nalliers|Nance|Nanchez|Nancray|Nancuise|Nannay|Nans|Nans-sous-Sainte-Anne|Nant|Nant-le-Grand|Nant-le-Petit|Nantiat|Nantillois|Nantois|Nançay|Nançois-le-Grand|Nançois-sur-Ornain|Narbief|Narbonne|Narcy|Natzwiller|Naucelle|Naussac|Naussac-Fontanes|Nayemont-les-Fosses|Nedde|Neewiller-près-Lauterbourg|Nepvant|Nesmy|Nessa|Nettancourt|Neublans-Abergement|Neubois|Neuchâtel-Urtière|Neufchâteau|Neuffontaines|Neugartheim-Ittlenheim|Neuhaeusel|Neuillay-les-Bois|Neuilly|Neuilly-en-Dun|Neuilly-en-Sancerre|Neuillé|Neuve-Église|Neuvic-Entier|Neuville-en-Verdunois|Neuville-lès-Vaucouleurs|Neuville-sur-Ornain|Neuville-sur-Seine|Neuville-sur-Vanne|Neuviller-la-Roche|Neuvillers-sur-Fave|Neuvilley|Neuvilly-en-Argonne|Neuvy-Deux-Clochers|Neuvy-Pailloux|Neuvy-Saint-Sépulchre|Neuvy-Sautour|Neuvy-le-Barrois|Neuvy-sur-Barangeon|Neuvy-sur-Loire|Neuwiller-lès-Saverne|Nevers|Nevy-lès-Dole|Nevy-sur-Seille|Nexon|Ney|Nice|Nicey-sur-Aire|Niederbronn-les-Bains|Niederhaslach|Niederhausbergen|Niederlauterbach|Niedermodern|Niedernai|Niederrœdern|Niederschaeffolsheim|Niedersoultzbach|Niedersteinbach|Nieul|Nieul-le-Dolent|Niherne|Niort-de-Sault|Nitry|Nixéville-Blercourt|Nocario|Noceta|Nogent-en-Othe|Nogent-sur-Aube|Nogent-sur-Seine|Nogna|Nohant-Vic|Nohant-en-Goût|Nohant-en-Graçay|Nohèdes|Noirefontaine|Noirmoutier-en-l'Île|Noironte|Nolay|Nomexy|Nommay|Nompatelize|Nonsard-Lamarche|Nonville|Nonza|Nonzeville|Nordheim|Nordhouse|Norroy|Nossoncourt|Noth|Nothalten|Notre-Dame-de-Monts|Notre-Dame-de-Riez|Nouhant|Nouic|Nouillonpont|Nouzerines|Nouzerolles|Nouziers|Novale|Novella|Novillars|Noyal|Noyant-Villages|Noyers|Noyers-Auzécourt|Nozay|Nozeroy|Nozières|Nozières|Noé|Noé-les-Mallets|Noël-Cerneux|Nuaillé|Nuars|Nubécourt|Nuits|Nuret-le-Ferron|Nyer|Nébias|Néfiach|Néons-sur-Creuse|Néoux|Néret|Nérondes|Névez|Névian|Obenheim|Oberbronn|Oberdorf-Spachbach|Oberhaslach|Oberhausbergen|Oberhoffen-lès-Wissembourg|Oberhoffen-sur-Moder|Oberlauterbach|Obermodern-Zutzendorf|Obernai|Oberrœdern|Oberschaeffolsheim|Obersoultzbach|Obersteinbach|Obterre|Occhiatana|Odratzheim|Oermingen|Offendorf|Offlanges|Offroicourt|Offwiller|Ogliastro|Ohlungen|Ohnenheim|Oizon|Olcani|Olemps|Oletta|Olette|Olizy-sur-Chiers|Ollainville|Ollans|Olmeta-di-Capocorso|Olmeta-di-Tuda|Olmi-Cappella|Olmo|Ols-et-Rinhodes|Olwisheim|Ombrée d'Anjou|Oms|Onans|Onet-le-Château|Onglières|Onjon|Onlay|Onoz|Opio|Opoul-Périllos|Oradour-Saint-Genest|Oradour-sur-Glane|Oradour-sur-Vayres|Orcenais|Orchamps|Orchamps-Vennes|Oreilla|Orgeans-Blanchefontaine|Orgelet|Orgnac-l'Aven|Ormes|Ormoy|Ornaisons|Ornans|Ornes|Orsans|Orsans|Orschwiller|Orsennes|Ortaffa|Ortale|Ortillon|Ortiporio|Ortoncourt|Orval|Orve|Orville|Orée d'Anjou|Osches|Osmoy|Osse|Osselle-Routelle|Osséja|Osthoffen|Osthouse|Ostwald|Ottersthal|Otterswiller|Ottrott|Ottwiller|Ouanne|Ougney|Ougney-Douvot|Ougny|Oulches|Oulon|Ounans|Our|Ourches-sur-Meuse|Ourouer-les-Bourdelins|Ouroux-en-Morvan|Oussières|Ouvans|Ouveillan|Oye-et-Pallet|Ozon|Oëlleville|Pabu|Pacy-sur-Armançon|Padoux|Pageas|Pagney|Pagnoz|Pagny-la-Blanche-Côte|Pagny-sur-Meuse|Pailharès|Pailly|Paimpol|Pair-et-Grandrupt|Paisy-Cosdon|Palairac|Palaja|Palantine|Palasca|Palau-de-Cerdagne|Palau-del-Vidre|Palhers|Palise|Pallegney|Palluau|Palluau-sur-Indre|Palmas d'Aveyron|Panazol|Pancheraccia|Pannessières|Parassy|Parata|Paraza|Parcey|Pareid|Parey-sous-Montfort|Parfondrupt|Pargny-sous-Mureau|Pargues|Parigny-les-Vaux|Parly|Parnay|Paron|Paroy|Paroy-en-Othe|Paroy-sur-Tholon|Pars-lès-Chavanges|Pars-lès-Romilly|Parsac-Rimondeix|Pasilly|Passa|Passavant|Passavant-sur-Layon|Passenans|Passonfontaine|Passy|Patornay|Patrimonio|Paudy|Paule|Paulhe|Pauligne|Paulnay|Payns|Payra-sur-l'Hers|Pays-de-Clerval|Payzac|Pazy|Peaugres|Pech-Luna|Peille|Peillon|Peintre|Pel-et-Der|Pellevoisin|Pelouse|Pelousey|Pencran|Penguily|Penmarch|Pennautier|Pensol|Penta-Acquatella|Penta-di-Casinca|Penvénan|Perceneige|Percey|Perelli|Pero-Casevecchie|Perpignan|Perrigny|Perrigny|Perrigny-sur-Armançon|Perros-Guirec|Perroy|Perthes-lès-Brienne|Peseux|Pessans|Petersbach|Petit-Mesnil|Petit-Noir|Petite-Chaux|Petosse|Peumerit|Peumerit-Quintin|Peuvillers|Peux-et-Couffouleux|Pexiora|Peymeinade|Peyrabout|Peyrat-de-Bellac|Peyrat-le-Château|Peyraud|Peyrefitte-du-Razès|Peyrefitte-sur-l'Hers|Peyreleau|Peyrens|Peyrestortes|Peyriac-Minervois|Peyriac-de-Mer|Peyrilhac|Peyrolles|Peyrusse-le-Roc|Pezens|Pfalzweyer|Pfulgriesheim|Pianello|Piano|Piazzali|Piazzole|Picarreau|Pie-d'Orezza|Pied-de-Borne|Piedicorte-di-Gaggio|Piedicroce|Piedipartino|Pierre-Perthuis|Pierrefiche|Pierrefiche|Pierrefitte|Pierrefitte|Pierrefitte-sur-Aire|Pierrefontaine-les-Varans|Pierrefontaine-lès-Blamont|Pierrepont-sur-l'Arentèle|Pietra-di-Verde|Pietracorbara|Pietralba|Pietraserena|Pietricaggio|Pietroso|Pieusse|Piffonds|Pigna|Pigny|Pillemoine|Pillon|Pimelles|Pimorin|Piney|Pino|Pintheville|Piobetta|Pioggiola|Pionnat|Pirey|Pissotte|Pisy|Piève|Plabennec|Placey|Plaigne|Plaimbois-Vennes|Plaimbois-du-Miroir|Plaimpied-Givaudins|Plaine|Plaine-Haute|Plaines-Saint-Lange|Plainfaing|Plainoiseau|Plaintel|Plaisance|Plaisia|Planchez|Plancoët|Plancy-l'Abbaye|Planty|Planzolles|Planès|Planèzes|Plasne|Plats|Plavilla|Plerneuf|Pleslin-Trigavou|Plessis-Barbuise|Plessis-Saint-Jean|Plestan|Plestin-les-Grèves|Pleubian|Pleudaniel|Pleudihen-sur-Rance|Pleumeur-Bodou|Pleumeur-Gautier|Pleure|Pleuven|Pleuvezain|Pleyben|Pleyber-Christ|Plobannalec-Lesconil|Plobsheim|Plogastel-Saint-Germain|Plogoff|Plogonnec|Plombières-les-Bains|Plomelin|Plomeur|Plomodiern|Plonéis|Plonéour-Lanvern|Plonévez-Porzay|Plonévez-du-Faou|Plorec-sur-Arguenon|Plou|Plouaret|Plouarzel|Plouasne|Ploubazlanec|Ploubezre|Ploudalmézeau|Ploudaniel|Ploudiry|Plouescat|Plouezoc'h|Ploufragan|Plougar|Plougasnou|Plougastel-Daoulas|Plougonvelin|Plougonven|Plougonver|Plougoulm|Plougourvest|Plougras|Plougrescant|Plouguenast-Langast|Plouguerneau|Plouguernével|Plouguiel|Plouguin|Plouha|Plouhinec|Plouider|Plouigneau|Plouisy|Ploulec'h|Ploumagoar|Ploumilliau|Ploumoguer|Plounéour-Brignogan-plages|Plounéour-Ménez|Plounérin|Plounéventer|Plounévez-Lochrist|Plounévez-Moëdec|Plounévez-Quintin|Plounévézel|Plourac'h|Plourhan|Plourin|Plourin-lès-Morlaix|Plourivo|Plouvara|Plouvien|Plouvorn|Plouyé|Plouzané|Plouzélambre|Plouzévédé|Plouédern|Plouégat-Guérand|Plouégat-Moysan|Plouénan|Plouézec|Plouëc-du-Trieux|Plouër-sur-Rance|Plovan|Plozévet|Ploéven|Ploëzal|Pludual|Pluduno|Plufur|Pluguffan|Plumaudan|Plumaugat|Plumieux|Plumont|Plurien|Plusquellec|Plussulien|Pluzunet|Pléboulle|Plédran|Plédéliac|Pléguien|Pléhédel|Plélan-le-Petit|Plélauff|Plélo|Plémet|Plémy|Pléneuf-Val-André|Plénise|Plénisette|Plénée-Jugon|Plérin|Plésidy|Pléven|Plévenon|Plévin|Plœuc-L'Hermitage|Poggio-Marinaccio|Poggio-Mezzana|Poggio-d'Oletta|Poggio-di-Nazza|Poggio-di-Venaco|Poids-de-Fiole|Poil|Poilly-sur-Serein|Poilly-sur-Tholon|Pointre|Poiroux|Poiseux|Poisieux|Poivres|Poligny|Poligny|Polisot|Polisy|Pollestres|Polveroso|Pomas|Pomayrols|Pommeret|Pommerit-le-Vicomte|Pommiers|Pompierre|Pompierre-sur-Doubs|Pomy|Pont de Montvert - Sud Mont Lozère|Pont-Aven|Pont-Croix|Pont-Melvez|Pont-Sainte-Marie|Pont-d'Héry|Pont-de-Buis-lès-Quimerch|Pont-de-Labeaume|Pont-de-Poitte|Pont-de-Roide-Vermondans|Pont-de-Salars|Pont-du-Navoy|Pont-l'Abbé|Pont-les-Moulins|Pont-lès-Bonfays|Pont-sur-Madon|Pont-sur-Meuse|Pont-sur-Seine|Pont-sur-Vanne|Pont-sur-Yonne|Pontarlier|Pontaubert|Ponteilla|Pontigny|Pontrieux|Pordic|Porri|Porspoder|Port-Launay|Port-Lesney|Port-Vendres|Port-la-Nouvelle|Porta|Portel-des-Corbières|Portieux|Porté-Puymorens|Pouan-les-Vallées|Pougny|Pougues-les-Eaux|Pougy|Pouilley-Français|Pouilley-les-Vignes|Pouilly-sur-Loire|Pouilly-sur-Meuse|Pouillé|Poulaines|Pouldergat|Pouldreuzic|Pouligney-Lusans|Pouligny-Notre-Dame|Pouligny-Saint-Martin|Pouligny-Saint-Pierre|Poullan-sur-Mer|Poullaouen|Pouques-Lormes|Pourcharesses|Pourchères|Pourrain|Poussanges|Poussay|Pousthomy|Pouxeux|Pouzauges|Pouzols-Minervois|Pradelles-Cabardès|Prades|Prades|Prades-Salars|Prades-d'Aubrac|Pradinas|Pradons|Pranles|Praslin|Prat|Prats-de-Mollo-la-Preste|Prats-de-Sournia|Preixan|Presly|Pretin|Pretz-en-Argonne|Preuilly|Preuilly-la-Ville|Preuschdorf|Prey|Primelin|Primelles|Printzheim|Privas|Privezac|Provenchère|Provenchères-et-Colroy|Provenchères-lès-Darney|Provency|Proverville|Prugnanes|Prugny|Prunelli-di-Casacconi|Prunelli-di-Fiumorbo|Prunet|Prunet-et-Belpuig|Pruniers|Pruno|Prusy|Préaux|Précy|Précy-Notre-Dame|Précy-Saint-Martin|Précy-le-Sec|Précy-sur-Vrin|Prégilbert|Préhy|Prémanon|Prémery|Prémierfait|Préporché|Présentevillers|Présilly|Prévenchères|Préveranges|Prévinquières|Puberg|Publy|Puessans|Pugey|Puginier|Puichéric|Puilaurens|Puits-et-Nuisement|Puivert|Punerot|Pupillin|Puy-de-Serre|Puyravault|Puyvalador|Puzieux|Py|Péault|Pécharic-et-le-Py|Pédernec|Pégomas|Pépieux|Pérassay|Péreyres|Périgny-la-Rose|Péseux|Pézilla-de-Conflent|Pézilla-la-Rivière|Quantilly|Quarré-les-Tombes|Quatzenheim|Quemper-Guézennec|Quemperven|Quenne|Quercitello|Querrien|Quessoy|Quillan|Quimper|Quimperlé|Quincerot|Quincy|Quingey|Quins|Quintenas|Quintenic|Quintigny|Quintillan|Quintin|Quirbajou|Quéménéven|Quévert|Rabouillet|Racines|Racécourt|Radonvilliers|Rahon|Rahon|Railleu|Rainans|Rainville|Raissac-d'Aude|Raissac-sur-Lampy|Raival|Rambervillers|Rambluzin-et-Benoite-Vaux|Rambucourt|Ramecourt|Ramerupt|Ramonchamp|Rancenay|Rances|Ranchot|Rancon|Rancourt|Rancourt-sur-Ornain|Randevillers|Rang|Rangen|Ranrupt|Rans|Ranzières|Raon-aux-Bois|Raon-l'Étape|Raon-sur-Plaine|Rapaggio|Rapale|Rapey|Rarécourt|Rasiguères|Ratzwiller|Rauwiller|Raveau|Raves|Ravilloles|Ravières|Raynans|Razès|Rebeuville|Rebourguil|Reboursin|Recanoz|Recologne|Recoules-de-Fumas|Reculfoz|Reffroy|Regney|Regnévelle|Regnéville-sur-Meuse|Rehaincourt|Reichsfeld|Reichshoffen|Reichstett|Reigny|Reinhardsmunster|Reipertswiller|Reithouse|Relanges|Relans|Rembercourt-Sommaisne|Remennecourt|Remicourt|Remiremont|Remomeix|Remoncourt|Remoray-Boujeons|Removille|Rempnat|Renauvoid|Rennes-le-Château|Rennes-les-Bains|Rennes-sur-Loue|Repel|Resson|Retschwiller|Reugney|Reuilly|Reutenbourg|Revigny|Revigny-sur-Ornain|Rexingen|Reynès|Rezay|Rhinau|Rhèges|Ria-Sirach|Rians|Riaville|Ribaute|Ribeaucourt|Ribes|Ribouisse|Ricaud|Richecourt|Richtolsheim|Riec-sur-Bélon|Riedseltz|Rieupeyroux|Rieux-Minervois|Rieux-en-Val|Rigarda|Rignac|Rigney|Rignosot|Rigny-Saint-Martin|Rigny-la-Salle|Rigny-le-Ferron|Rilhac-Lastours|Rilhac-Rancon|Rillans|Rilly-Sainte-Syre|Rimplas|Rimsdorf|Ringendorf|Rittershoffen|Rivarennes|Rivel|Riventosa|Rives de l'Yon|Rives-d'Autise|Rives-du-Loir-en-Anjou|Rivesaltes|Rivière-sur-Tarn|Rix|Robert-Espagne|Robécourt|Roche-lez-Beaupré|Roche-lès-Clerval|Rochechouart|Rochecolombe|Rochefort-sur-Loire|Rochefort-sur-Nenon|Rochejean|Rochemaure|Rochepaule|Rocher|Roches|Roches-lès-Blamont|Rocheservière|Rochessauve|Rochesson|Rochetrejoux|Rocles|Rocles|Rodelle|Rodez|Rodome|Rodès|Roffey|Rogliano|Rogna|Rognon|Rogny-les-Sept-Écluses|Rohr|Rohrwiller|Roiffieux|Rollainville|Romagne-sous-Montfaucon|Romagne-sous-les-Côtes|Romain|Romain|Romain-aux-Bois|Romange|Romanswiller|Romilly-sur-Seine|Romont|Rompon|Roncenay|Ronchaux|Ronchères|Rondefontaine|Ronvaux|Roppenheim|Roquebillière|Roquebrune-Cap-Martin|Roquecourbe-Minervois|Roquefeuil|Roquefort-de-Sault|Roquefort-des-Corbières|Roquefort-les-Pins|Roquefort-sur-Soulzon|Roquefère|Roquetaillade-et-Conilhac|Rosay|Roscanvel|Roscoff|Rosenwiller|Roset-Fluans|Rosheim|Rosières|Rosières-près-Troyes|Rosières-sur-Barbèche|Rosnay|Rosnay|Rosnay-l'Hôpital|Rosnoën|Rosoy|Rospez|Rospigliani|Rosporden|Rossfeld|Rosteig|Rostrenen|Rosureux|Rotalier|Rothau|Rothbach|Rothonay|Rott|Rottelsheim|Rou-Marson|Roubia|Roubion|Rouffange|Rouffiac-d'Aude|Rougemont|Rougemontot|Rouhe|Rouillac|Rouilly-Sacey|Rouilly-Saint-Loup|Roulans|Roullens|Rountzenheim-Auenheim|Roure|Roussennac|Rousses|Rousson|Routier|Rouvray|Rouvres-en-Woëvre|Rouvres-en-Xaintois|Rouvres-la-Chétive|Rouvres-les-Vignes|Rouvrois-sur-Meuse|Rouvrois-sur-Othain|Rouy|Roville-aux-Chênes|Royères|Rozerotte|Roziers-Saint-Georges|Rozières-sur-Mouzon|Ruages|Ruca|Ruffec|Ruffey-le-Château|Ruffey-sur-Seille|Rugney|Rugny|Rumilly-lès-Vaudes|Rumont|Runan|Ruoms|Ruppes|Rupt-aux-Nonains|Rupt-devant-Saint-Mihiel|Rupt-en-Woëvre|Rupt-sur-Moselle|Rupt-sur-Othain|Rurey|Russ|Rustiques|Rutali|Ruvigny|Rye|Réal|Réaumur|Récicourt|Récourt-le-Creux|Rédené|Rémilly|Rémondans-Vaivre|Réville-aux-Bois|Rœschwoog|Saales|Saasenheim|Sablières|Sacierges-Saint-Martin|Saessolsheim|Saffloz|Sagnat|Sagonne|Sahorre|Saillagouse|Saillat-sur-Vienne|Saincaize-Meauce|Sainpuits|Saint Bonnet-Laval|Saint Geniez d'Olt et d'Aubrac|Saint-Adrien|Saint-Affrique|Saint-Agathon|Saint-Agnan|Saint-Agnan|Saint-Agnant-de-Versillat|Saint-Agrève|Saint-Aignan-des-Noyers|Saint-Aigny|Saint-Alban|Saint-Alban-Auriolles|Saint-Alpinien|Saint-Amand|Saint-Amand-Magnazeix|Saint-Amand-Montrond|Saint-Amand-en-Puisaye|Saint-Amand-le-Petit|Saint-Amand-sur-Ornain|Saint-Amans|Saint-Amans-des-Cots|Saint-Ambroix|Saint-Amour|Saint-Amé|Saint-Andelain|Saint-André|Saint-André-Capcèze|Saint-André-Goule-d'Oie|Saint-André-Lachamp|Saint-André-de-Lancize|Saint-André-de-Najac|Saint-André-de-Roquelongue|Saint-André-de-Vézines|Saint-André-de-la-Roche|Saint-André-des-Eaux|Saint-André-en-Barrois|Saint-André-en-Morvan|Saint-André-en-Terre-Plaine|Saint-André-en-Vivarais|Saint-André-les-Vergers|Saint-Andéol-de-Berg|Saint-Andéol-de-Fourchades|Saint-Andéol-de-Vals|Saint-Antoine|Saint-Aoustrille|Saint-Août|Saint-Apollinaire-de-Rias|Saint-Arnac|Saint-Auban|Saint-Aubin|Saint-Aubin|Saint-Aubin|Saint-Aubin-des-Chaumes|Saint-Aubin-des-Ormeaux|Saint-Aubin-la-Plaine|Saint-Aubin-les-Forges|Saint-Aubin-sur-Aire|Saint-Aubin-sur-Yonne|Saint-Augustin-des-Bois|Saint-Auvent|Saint-Avaugourd-des-Landes|Saint-Avit-de-Tardes|Saint-Baraing|Saint-Barnabé|Saint-Barthélemy-Grozon|Saint-Barthélemy-d'Anjou|Saint-Barthélemy-le-Meil|Saint-Barthélemy-le-Plain|Saint-Basile|Saint-Baslemont|Saint-Baudel|Saint-Bauzile|Saint-Bauzile|Saint-Bazile|Saint-Beaulize|Saint-Beauzély|Saint-Benin-d'Azy|Saint-Benin-des-Bois|Saint-Benoist-sur-Mer|Saint-Benoist-sur-Vanne|Saint-Benoît|Saint-Benoît-la-Chipotte|Saint-Benoît-sur-Seine|Saint-Bihy|Saint-Blaise|Saint-Blaise-la-Roche|Saint-Bonnet-Briance|Saint-Bonnet-de-Bellac|Saint-Bonnet-de-Chirac|Saint-Bonnot|Saint-Bouize|Saint-Brancher|Saint-Brandan|Saint-Brice-sur-Vienne|Saint-Brieuc|Saint-Bris-le-Vineux|Saint-Brisson|Saint-Caprais|Saint-Caradec|Saint-Carné|Saint-Carreuc|Saint-Cast-le-Guildo|Saint-Chartier|Saint-Christol|Saint-Christophe|Saint-Christophe-Dodinicourt|Saint-Christophe-du-Bois|Saint-Christophe-du-Ligneron|Saint-Christophe-en-Bazelle|Saint-Christophe-en-Boucherie|Saint-Christophe-le-Chaudry|Saint-Chély-d'Aubrac|Saint-Cierge-la-Serre|Saint-Cierge-sous-le-Cheylard|Saint-Cirgues-de-Prades|Saint-Civran|Saint-Clair|Saint-Claude|Saint-Clet|Saint-Clément|Saint-Clément|Saint-Clément-de-la-Place|Saint-Clément-des-Levées|Saint-Connan|Saint-Connec|Saint-Couat-d'Aude|Saint-Couat-du-Razès|Saint-Coulitz|Saint-Cyprien|Saint-Cyr|Saint-Cyr|Saint-Cyr-Montmalin|Saint-Cyr-des-Gâts|Saint-Cyr-en-Talmondais|Saint-Cyr-les-Colons|Saint-Cyran-du-Jambot|Saint-Céols|Saint-Cézaire-sur-Siagne|Saint-Côme-d'Olt|Saint-Dalmas-le-Selvage|Saint-Denis|Saint-Denis-de-Jouhet|Saint-Denis-des-Murs|Saint-Denis-du-Payré|Saint-Denis-en-Margeride|Saint-Denis-la-Chevasse|Saint-Denis-lès-Sens|Saint-Denoual|Saint-Derrien|Saint-Didier|Saint-Didier|Saint-Didier-sous-Aubenas|Saint-Divy|Saint-Dizier-les-Domaines|Saint-Dié-des-Vosges|Saint-Donan|Saint-Doulchard|Saint-Désirat|Saint-Eloy|Saint-Estève|Saint-Fargeau|Saint-Ferriol|Saint-Fiacre|Saint-Fiel|Saint-Firmin|Saint-Florent|Saint-Florent-sur-Cher|Saint-Florentin|Saint-Florentin|Saint-Flour-de-Mercoire|Saint-Fortunat-sur-Eyrieux|Saint-Franchy|Saint-Frichoux|Saint-Frion|Saint-Frégant|Saint-Frézal-d'Albuges|Saint-Fulgent|Saint-Félicien|Saint-Féliu-d'Amont|Saint-Féliu-d'Avall|Saint-Félix-de-Sorgues|Saint-Gal|Saint-Gaudéric|Saint-Gaultier|Saint-Gence|Saint-Genest|Saint-Genest-Lachamp|Saint-Genest-de-Beauzon|Saint-Genou|Saint-Georges-Armont|Saint-Georges-de-Luzençon|Saint-Georges-de-Pointindoux|Saint-Georges-de-Poisieux|Saint-Georges-les-Bains|Saint-Georges-les-Landes|Saint-Georges-sur-Arnon|Saint-Georges-sur-Baulche|Saint-Georges-sur-Loire|Saint-Georges-sur-Moulon|Saint-Georges-sur-la-Prée|Saint-Germain|Saint-Germain|Saint-Germain-Beaupré|Saint-Germain-Chassenay|Saint-Germain-de-Calberte|Saint-Germain-de-Prinçay|Saint-Germain-des-Bois|Saint-Germain-des-Champs|Saint-Germain-des-Prés|Saint-Germain-du-Puy|Saint-Germain-en-Montagne|Saint-Germain-sur-Meuse|Saint-Gervais|Saint-Gildas|Saint-Gilles-Croix-de-Vie|Saint-Gilles-Pligeaux|Saint-Gilles-Vieux-Marché|Saint-Gilles-les-Bois|Saint-Gilles-les-Forêts|Saint-Gineys-en-Coiron|Saint-Glen|Saint-Goazec|Saint-Gorgon|Saint-Goussaud|Saint-Gratien-Savigny|Saint-Génis-des-Fontaines|Saint-Hernin|Saint-Hervé|Saint-Hilaire|Saint-Hilaire|Saint-Hilaire-Fontaine|Saint-Hilaire-de-Court|Saint-Hilaire-de-Gondilly|Saint-Hilaire-de-Lavit|Saint-Hilaire-de-Riez|Saint-Hilaire-de-Voust|Saint-Hilaire-des-Loges|Saint-Hilaire-en-Lignières|Saint-Hilaire-en-Morvan|Saint-Hilaire-en-Woëvre|Saint-Hilaire-la-Forêt|Saint-Hilaire-la-Treille|Saint-Hilaire-le-Vouhis|Saint-Hilaire-les-Places|Saint-Hilaire-sous-Romilly|Saint-Hippolyte|Saint-Hippolyte|Saint-Hippolyte|Saint-Honoré-les-Bains|Saint-Hymetière-sur-Valouse|Saint-Hélen|Saint-Igeaux|Saint-Igest|Saint-Izaire|Saint-Jacques-d'Atticieux|Saint-Jacut-de-la-Mer|Saint-Jean-Cap-Ferrat|Saint-Jean-Chambre|Saint-Jean-Kerdaniel|Saint-Jean-Lasseille|Saint-Jean-Ligoure|Saint-Jean-Pla-de-Corts|Saint-Jean-Roure|Saint-Jean-Saverne|Saint-Jean-Trolimon|Saint-Jean-aux-Amognes|Saint-Jean-d'Alcapiès|Saint-Jean-d'Ormont|Saint-Jean-de-Beugné|Saint-Jean-de-Bonneval|Saint-Jean-de-Monts|Saint-Jean-de-Muzols|Saint-Jean-de-Paracol|Saint-Jean-de-la-Croix|Saint-Jean-du-Bruel|Saint-Jean-du-Doigt|Saint-Jean-et-Saint-Paul|Saint-Jean-la-Fouillouse|Saint-Jean-le-Centenier|Saint-Jean-lès-Buzy|Saint-Jeannet|Saint-Jeanvrin|Saint-Jeure-d'Andaure|Saint-Joire|Saint-Joseph-des-Bancs|Saint-Jouan-de-l'Isle|Saint-Jouvent|Saint-Juan|Saint-Judoce|Saint-Juire-Champgillon|Saint-Julia-de-Bec|Saint-Julien|Saint-Julien|Saint-Julien-Vocance|Saint-Julien-d'Intres|Saint-Julien-de-Briola|Saint-Julien-des-Landes|Saint-Julien-des-Points|Saint-Julien-du-Gua|Saint-Julien-du-Sault|Saint-Julien-du-Serre|Saint-Julien-en-Saint-Alban|Saint-Julien-la-Genête|Saint-Julien-le-Châtel|Saint-Julien-le-Petit|Saint-Julien-le-Roux|Saint-Julien-les-Villas|Saint-Julien-lès-Montbéliard|Saint-Julien-lès-Russey|Saint-Julien-sous-les-Côtes|Saint-Junien|Saint-Junien-les-Combes|Saint-Just|Saint-Just-d'Ardèche|Saint-Just-et-le-Bézu|Saint-Just-le-Martel|Saint-Just-sur-Dive|Saint-Just-sur-Viaur|Saint-Juvat|Saint-Juéry|Saint-Lactencin|Saint-Lager-Bressac|Saint-Lamain|Saint-Lambert-la-Potherie|Saint-Launeuc|Saint-Laurent|Saint-Laurent|Saint-Laurent|Saint-Laurent-d'Olt|Saint-Laurent-de-Cerdans|Saint-Laurent-de-Muret|Saint-Laurent-de-la-Cabrerisse|Saint-Laurent-de-la-Salanque|Saint-Laurent-de-la-Salle|Saint-Laurent-du-Pape|Saint-Laurent-du-Var|Saint-Laurent-en-Grandvaux|Saint-Laurent-l'Abbaye|Saint-Laurent-les-Églises|Saint-Laurent-sous-Coiron|Saint-Laurent-sur-Gorre|Saint-Laurent-sur-Othain|Saint-Laurent-sur-Sèvre|Saint-Lormel|Saint-Lothain|Saint-Louis-et-Parahou|Saint-Loup|Saint-Loup|Saint-Loup-d'Ordon|Saint-Loup-des-Bois|Saint-Loup-des-Chaumes|Saint-Lyé|Saint-Léger-Bridereix|Saint-Léger-Magnazeix|Saint-Léger-Vauban|Saint-Léger-de-Fougeret|Saint-Léger-de-Linières|Saint-Léger-de-Peyre|Saint-Léger-des-Vignes|Saint-Léger-la-Montagne|Saint-Léger-le-Guérétois|Saint-Léger-le-Petit|Saint-Léger-près-Troyes|Saint-Léger-sous-Brienne|Saint-Léger-sous-Cholet|Saint-Léger-sous-Margerie|Saint-Léonard|Saint-Léonard-de-Noblat|Saint-Macaire-du-Bois|Saint-Maden|Saint-Maixant|Saint-Maixent-sur-Vie|Saint-Malo-en-Donziois|Saint-Malô-du-Bois|Saint-Marc-à-Frongier|Saint-Marc-à-Loubaud|Saint-Marcel|Saint-Marcel-d'Ardèche|Saint-Marcel-lès-Annonay|Saint-Marcel-sur-Aude|Saint-Mards-en-Othe|Saint-Marien|Saint-Mars-la-Réorthe|Saint-Marsal|Saint-Martial-le-Vieux|Saint-Martial-sur-Isop|Saint-Martin|Saint-Martin-Lalande|Saint-Martin-Lars-en-Sainte-Hermine|Saint-Martin-Lys|Saint-Martin-Terressus|Saint-Martin-Vésubie|Saint-Martin-d'Ardèche|Saint-Martin-d'Auxigny|Saint-Martin-d'Heuille|Saint-Martin-d'Ordon|Saint-Martin-de-Boubaux|Saint-Martin-de-Fenouillet|Saint-Martin-de-Fraigneau|Saint-Martin-de-Jussac|Saint-Martin-de-Lansuscle|Saint-Martin-de-Lenne|Saint-Martin-de-Valamas|Saint-Martin-de-Villereglan|Saint-Martin-des-Champs|Saint-Martin-des-Champs|Saint-Martin-des-Champs|Saint-Martin-des-Fontaines|Saint-Martin-des-Noyers|Saint-Martin-des-Prés|Saint-Martin-des-Puits|Saint-Martin-des-Tilleuls|Saint-Martin-du-Fouilloux|Saint-Martin-du-Puy|Saint-Martin-du-Tertre|Saint-Martin-du-Var|Saint-Martin-le-Mault|Saint-Martin-le-Vieil|Saint-Martin-le-Vieux|Saint-Martin-sur-Armançon|Saint-Martin-sur-Lavezon|Saint-Martin-sur-Nohain|Saint-Mathieu|Saint-Mathurin|Saint-Maudan|Saint-Maudez|Saint-Maur|Saint-Maur|Saint-Maur|Saint-Maurice|Saint-Maurice|Saint-Maurice-Colombier|Saint-Maurice-Crillat|Saint-Maurice-Thizouaille|Saint-Maurice-aux-Riches-Hommes|Saint-Maurice-d'Ardèche|Saint-Maurice-d'Ibie|Saint-Maurice-des-Noues|Saint-Maurice-en-Chalencon|Saint-Maurice-la-Souterraine|Saint-Maurice-le-Girard|Saint-Maurice-le-Vieil|Saint-Maurice-les-Brousses|Saint-Maurice-sous-les-Côtes|Saint-Maurice-sur-Mortagne|Saint-Maurice-sur-Moselle|Saint-Mayeux|Saint-Melaine-sur-Aubance|Saint-Menge|Saint-Merd-la-Breuille|Saint-Mesmin|Saint-Mesmin|Saint-Michel-d'Aurance|Saint-Michel-de-Boulogne|Saint-Michel-de-Chabrillanoux|Saint-Michel-de-Dèze|Saint-Michel-de-Lanès|Saint-Michel-de-Llotes|Saint-Michel-de-Plélan|Saint-Michel-de-Volangis|Saint-Michel-en-Brenne|Saint-Michel-en-Grève|Saint-Michel-en-l'Herm|Saint-Michel-le-Cloucq|Saint-Michel-sur-Meurthe|Saint-Mihiel|Saint-Montan|Saint-Moré|Saint-Méard|Saint-Médard|Saint-Méen|Saint-Mélany|Saint-Méloir-des-Bois|Saint-Nabor|Saint-Nabord|Saint-Nabord-sur-Aube|Saint-Nazaire|Saint-Nazaire-d'Aude|Saint-Nic|Saint-Nicodème|Saint-Nicolas-du-Pélem|Saint-Nicolas-la-Chapelle|Saint-Oradoux-de-Chirouze|Saint-Ouen-lès-Parey|Saint-Ouen-sur-Gartempe|Saint-Ouen-sur-Loire|Saint-Oulph|Saint-Outrille|Saint-Pabu|Saint-Palais|Saint-Papoul|Saint-Pardoux-le-Lac|Saint-Pardoux-le-Neuf|Saint-Parize-en-Viry|Saint-Parize-le-Châtel|Saint-Parres-aux-Tertres|Saint-Parres-lès-Vaudes|Saint-Parthem|Saint-Paul|Saint-Paul|Saint-Paul-Mont-Penit|Saint-Paul-de-Fenouillet|Saint-Paul-de-Vence|Saint-Paul-du-Bois|Saint-Paul-en-Pareds|Saint-Paul-le-Froid|Saint-Paulet|Saint-Phal|Saint-Philbert-de-Bouaine|Saint-Philbert-du-Peuple|Saint-Pierre|Saint-Pierre|Saint-Pierre-Bois|Saint-Pierre-de-Colombier|Saint-Pierre-de-Jards|Saint-Pierre-dels-Forcats|Saint-Pierre-des-Champs|Saint-Pierre-des-Tripiers|Saint-Pierre-du-Chemin|Saint-Pierre-la-Roche|Saint-Pierre-le-Bost|Saint-Pierre-le-Vieux|Saint-Pierre-les-Bois|Saint-Pierre-les-Étieux|Saint-Pierremont|Saint-Pierreville|Saint-Pierrevillers|Saint-Plantaire|Saint-Point-Lac|Saint-Pol-de-Léon|Saint-Polycarpe|Saint-Pons|Saint-Pouange|Saint-Prancher|Saint-Priest|Saint-Priest-Ligoure|Saint-Priest-Taurion|Saint-Priest-la-Feuille|Saint-Priest-la-Marche|Saint-Priest-la-Plaine|Saint-Priest-sous-Aixe|Saint-Privat|Saint-Privat-de-Vallongue|Saint-Privé|Saint-Prix|Saint-Prouant|Saint-Père|Saint-Père|Saint-Péray|Saint-Péreuse|Saint-Péver|Saint-Pôtan|Saint-Quay-Perros|Saint-Quay-Portrieux|Saint-Quentin-la-Chabanne|Saint-Quentin-sur-Nohain|Saint-Remimont|Saint-Remy|Saint-Remy-la-Calonne|Saint-Remy-sous-Barbuise|Saint-Remèze|Saint-Renan|Saint-Rieul|Saint-Rivoal|Saint-Romain-de-Lerps|Saint-Rome-de-Cernon|Saint-Rome-de-Tarn|Saint-Rémy|Saint-Révérend|Saint-Révérien|Saint-Samson-sur-Rance|Saint-Santin|Saint-Satur|Saint-Saturnin|Saint-Saturnin-de-Lenne|Saint-Saulge|Saint-Sauveur|Saint-Sauveur-de-Cruzières|Saint-Sauveur-de-Ginestoux|Saint-Sauveur-de-Montagut|Saint-Sauveur-en-Puisaye|Saint-Sauveur-sur-Tinée|Saint-Seine|Saint-Sernin|Saint-Sernin|Saint-Sernin-sur-Rance|Saint-Servais|Saint-Servais|Saint-Sever-du-Moustier|Saint-Sigismond|Saint-Sigismond|Saint-Silvain-Bas-le-Roc|Saint-Silvain-Montaigut|Saint-Silvain-sous-Toulx|Saint-Sornin-Leulac|Saint-Sornin-la-Marche|Saint-Stail|Saint-Sulpice|Saint-Sulpice-Laurière|Saint-Sulpice-en-Pareds|Saint-Sulpice-le-Dunois|Saint-Sulpice-le-Guérétois|Saint-Sulpice-les-Champs|Saint-Sulpice-les-Feuilles|Saint-Sylvestre|Saint-Sylvestre|Saint-Symphorien|Saint-Symphorien-de-Thénières|Saint-Symphorien-sous-Chomérac|Saint-Sébastien|Saint-Ségal|Saint-Sérotin|Saint-Thibault|Saint-Thiébaud|Saint-Thois|Saint-Thomé|Saint-Thonan|Saint-Thurien|Saint-Thégonnec Loc-Eguiner|Saint-Thélo|Saint-Trimoël|Saint-Urbain|Saint-Urbain|Saint-Usage|Saint-Valentin|Saint-Vallier|Saint-Vallier-de-Thiey|Saint-Valérien|Saint-Valérien|Saint-Vaury|Saint-Victor|Saint-Victor-en-Marche|Saint-Victor-et-Melvieu|Saint-Victurnien|Saint-Vincent-Sterlanges|Saint-Vincent-de-Barrès|Saint-Vincent-de-Durfort|Saint-Vincent-sur-Graon|Saint-Vincent-sur-Jard|Saint-Vit|Saint-Vitte|Saint-Vougay|Saint-Vran|Saint-Vérain|Saint-Yrieix-la-Montagne|Saint-Yrieix-la-Perche|Saint-Yrieix-les-Bois|Saint-Yrieix-sous-Aixe|Saint-Yvi|Saint-Éloi|Saint-Éloi|Saint-Éloy-de-Gy|Saint-Étienne-Vallée-Française|Saint-Étienne-de-Boulogne|Saint-Étienne-de-Brillouet|Saint-Étienne-de-Fontbellon|Saint-Étienne-de-Serre|Saint-Étienne-de-Tinée|Saint-Étienne-de-Valoux|Saint-Étienne-du-Bois|Saint-Étienne-du-Gué-de-l'Isle|Saint-Étienne-du-Valdonnez|Saint-Étienne-lès-Remiremont|Saint-Étienne-sous-Barbuise|Saint-Évarzec|Sainte-Agnès|Sainte-Agnès|Sainte-Anne|Sainte-Anne-Saint-Priest|Sainte-Barbe|Sainte-Camelle|Sainte-Colombe|Sainte-Colombe|Sainte-Colombe-de-la-Commanderie|Sainte-Colombe-des-Bois|Sainte-Colombe-sur-Guette|Sainte-Colombe-sur-l'Hers|Sainte-Croix|Sainte-Croix-Vallée-Française|Sainte-Cécile|Sainte-Eulalie|Sainte-Eulalie-d'Olt|Sainte-Eulalie-de-Cernon|Sainte-Fauste|Sainte-Feyre|Sainte-Feyre-la-Montagne|Sainte-Flaive-des-Loups|Sainte-Foy|Sainte-Gemme|Sainte-Gemme-en-Sancerrois|Sainte-Gemme-la-Plaine|Sainte-Gemmes-sur-Loire|Sainte-Hermine|Sainte-Hélène|Sainte-Hélène|Sainte-Juliette-sur-Viaur|Sainte-Lizaigne|Sainte-Léocadie|Sainte-Magnance|Sainte-Marguerite|Sainte-Marie|Sainte-Marie|Sainte-Marie-de-Vaux|Sainte-Marie-la-Mer|Sainte-Maure|Sainte-Montaine|Sainte-Pallaye|Sainte-Pexine|Sainte-Radegonde|Sainte-Radégonde-des-Noyers|Sainte-Savine|Sainte-Solange|Sainte-Suzanne|Sainte-Sève|Sainte-Sévère-sur-Indre|Sainte-Thorette|Sainte-Tréphine|Sainte-Valière|Sainte-Vertu|Saints-en-Puisaye|Saissac|Saizenay|Saizy|Salans|Salavas|Saleilles|Saligney|Saligny|Salins-les-Bains|Sallertaine|Salles-Courbatiès|Salles-d'Aude|Salles-sur-l'Hers|Sallèles-Cabardès|Sallèles-d'Aude|Salmagne|Salmbach|Salmiech|Salon|Salsigne|Salvagnac-Cajarc|Salvezines|Salza|Sambourg|Samogneux|Sampans|Sampigny|Sampzon|Samson|San-Damiano|San-Gavino-d'Ampugnani|San-Gavino-di-Fiumorbo|San-Gavino-di-Tenda|San-Giovanni-di-Moriani|San-Giuliano|San-Martino-di-Lota|San-Nicolao|Sancergues|Sancerre|Sancey|Sanchey|Sancoins|Sand|Sandaucourt|Sanilhac|Sans-Vallois|Sansa|Sant'Andréa-di-Cotone|Sant'Antonino|Santa-Lucia-di-Moriani|Santa-Maria-Poggio|Santa-Maria-di-Lota|Santa-Reparata-di-Balagna|Santa-Reparata-di-Moriani|Santans|Santec|Santigny|Santo-Pietro-di-Tenda|Santo-Pietro-di-Venaco|Santranges|Sanvensa|Saorge|Sapois|Sapois|Saraz|Sardy-lès-Épiry|Sarrageois|Sarras|Sarre-Union|Sarrewerden|Sarrigné|Sarrogna|Sarry|Sartes|Sarzay|Sassey-sur-Meuse|Sassierges-Saint-Germain|Sauclières|Saudrupt|Saugeot|Saugy|Saujac|Saulcy|Saulcy-sur-Meurthe|Saules|Saulmory-Villefranche|Saulnay|Saulvaux|Saulx-lès-Champlon|Saulxures|Saulxures-lès-Bulgnéville|Saulxures-sur-Moselotte|Saulzais-le-Potier|Saumur|Sauto|Sauvagney|Sauveterre-de-Rouergue|Sauviat-sur-Vige|Sauvigny|Sauvigny-le-Beuréal|Sauvigny-le-Bois|Sauvigny-les-Bois|Sauville|Sauvoy|Sauzelles|Savas|Savennes|Savennières|Saverne|Savignac|Savigny|Savigny-Poil-Fol|Savigny-en-Sancerre|Savigny-en-Septaine|Savigny-en-Terre-Plaine|Savigny-sur-Clairis|Savières|Savonnières-devant-Bar|Savonnières-en-Perthois|Saxi-Bourdon|Sazeray|Saône|Scata|Scaër|Sceautres|Sceaux-d'Anjou|Scey-Maisières|Schaeffersheim|Schaffhouse-près-Seltz|Schalkendorf|Scharrachbergheim-Irmstett|Scheibenhard|Scherwiller|Schillersdorf|Schiltigheim|Schirmeck|Schirrhein|Schirrhoffen|Schleithal|Schnersheim|Schopperten|Schweighouse-sur-Moder|Schwenheim|Schwobsheim|Schœnau|Schœnbourg|Schœnenbourg|Scolca|Scrignac|Seebach|Segré-en-Anjou Bleu|Seiches-sur-le-Loir|Seignalens|Seignelay|Seigneulles|Selles-sur-Nahon|Sellières|Seloncourt|Seltz|Sembleçay|Sementron|Semoine|Semondans|Senaide|Senan|Sennevoy-le-Bas|Sennevoy-le-Haut|Senon|Senoncourt-les-Maujouy|Senones|Senonges|Sens|Sens-Beaujeu|Senven-Léhart|Septfontaines|Septmoncel les Molunes|Septsarges|Sepvigny|Seraumont|Serbonnes|Sercœur|Serdinya|Sergenaux|Sergenon|Sergines|Sermages|Sermaise|Sermange|Sermersheim|Sermizelles|Sermoise-sur-Loire|Serocourt|Serra-di-Fiumorbo|Serralongue|Serre-les-Moulières|Serre-les-Sapins|Serres|Serrigny|Serrières|Serruelles|Servin|Serviès-en-Val|Sery|Serécourt|Sessenheim|Seuil-d'Argonne|Seuzey|Sibiril|Sichamps|Sidiailles|Siegen|Siewiller|Sigean|Sigournais|Silhac|Silley-Amancey|Silley-Bléfond|Silmont|Siltzheim|Silvareccio|Sionne|Sirod|Sisco|Sivry-la-Perche|Sivry-sur-Meuse|Sizun|Sochaux|Socourt|Solaro|Solbach|Solemont|Solignac|Soligny-les-Étangs|Sombacour|Somloire|Sommecaise|Sommedieue|Sommeilles|Sommelonne|Sommerau|Sommeval|Soncourt|Songeson|Sonnac|Sonnac-sur-l'Hers|Sorbey|Sorbo-Ocagnano|Sorcy-Saint-Martin|Sorio|Sormery|Sorède|Sospel|Souanyas|Soucia|Soucy|Souffelweyersheim|Soufflenheim|Sougraigne|Sougy-sur-Loire|Sougères-en-Puisaye|Sougé|Souilhanels|Souilhe|Souilly|Soulages-Bonneval|Soulaines-Dhuys|Soulaines-sur-Aubance|Soulaire-et-Bourg|Soulangis|Soulce-Cernay|Souligny|Soullans|Soulosse-sous-Saint-Élophe|Soultz-les-Bains|Soultz-sous-Forêts|Soumaintrain|Soumans|Soupex|Sourans|Sournia|Souvans|Souzay-Champigny|Soye|Soye-en-Septaine|Soyons|Sparsbach|Speloncato|Spincourt|Spoy|Spéracèdes|Spézet|Squiffiec|Stainville|Stattmatten|Stazzona|Steige|Steinbourg|Steinseltz|Stenay|Stigny|Still|Stotzheim|Strasbourg|Struth|Stundwiller|Stutzheim-Offenheim|Subligny|Subligny|Suilly-la-Tour|Sundhouse|Supt|Surbourg|Surdoux|Suriauville|Surmont|Sury-en-Vaux|Sury-près-Léré|Sury-ès-Bois|Sussac|Syam|Sylvanès|Sèvremoine|Sèvremont|Sébazac-Concourès|Sébrazac|Sécheras|Séchin|Ségry|Sélestat|Séligney|Sémelay|Sépeaux-Saint Romain|Séranon|Séreilhac|Sérigné|Sévignac|Sévry|Sévérac d'Aveyron|Taconnay|Taden|Taglio-Isolaccio|Taillancourt|Taillecourt|Taillet|Taintrux|Talairan|Talasani|Talcy|Talencieux|Tallans|Tallenay|Tallone|Tallud-Sainte-Gemme|Talmont-Saint-Hilaire|Talon|Tamnay-en-Bazois|Tanlay|Tannay|Tannerre-en-Puisaye|Tannois|Tarcenay-Foucherans|Tardes|Tarerach|Targasonne|Tarrano|Tassenières|Taulis|Taulé|Tauriac-de-Camarès|Tauriac-de-Naucelle|Tauriers|Taurinya|Taurize|Taussac|Tautavel|Tavaux|Taxenne|Tayrac|Tazilly|Teigny|Telgruc-sur-Mer|Tende|Tendon|Tendron|Tendu|Tercillat|Termes|Ternant|Terranjou|Terrats|Terroles|Tersannes|Terval|Thaix|Thal-Drulingen|Thal-Marmoutier|Thanvillé|Thaon-les-Vosges|Tharoiseau|Tharot|Thauvenay|Thenay|Thennelières|Thervay|Thevet-Saint-Julien|They-sous-Montfort|Thianges|Thieffrain|Thierville-sur-Meuse|Thil|Thillombois|Thillot|Thiraucourt|Thiré|Thise|Thizay|Thizy|Thiébouhans|Thiéfosse|Thoirette-Coisia|Thoiria|Thoissia|Thoraise|Thorey|Thorigny|Thorigny-sur-Oreuse|Thorigné-d'Anjou|Thorrenc|Thors|Thory|Thou|Thouarsais-Bouildroux|Thouron|Thueyts|Thuillières|Thuir|Thulay|Thurey-le-Mont|Thury|Thuès-Entre-Valls|Thénioux|Théoule-sur-Mer|Thérondels|Thésy|Théza|Thézan-des-Corbières|Tieffenbach|Tiercé|Tiffauges|Tignécourt|Tilleux|Tilly-sur-Meuse|Tintury|Tissey|Tollaincourt|Tomino|Tonnerre|Tonquédec|Torcy-le-Grand|Torcy-le-Petit|Tordères|Torpes|Torreilles|Torteron|Torvilliers|Totainville|Touchay|Toucy|Touillon-et-Loutelet|Toulaud|Toulonjac|Toulouges|Toulouse-le-Château|Toulx-Sainte-Croix|Tourch|Tourmont|Tournans|Tournefort|Tournemire|Tournissan|Tournon-Saint-Martin|Tournon-sur-Rhône|Tourouzelle|Tourreilles|Tourrette-Levens|Tourrettes-sur-Loup|Toury-Lurcy|Toutlemonde|Touët-de-l'Escarène|Tox|Tracy-sur-Loire|Traenheim|Tramain|Trampot|Trannes|Tranqueville-Graux|Tranzault|Trassanel|Trausse|Traînel|Treffiagat|Treffrin|Treigny-Perreuse-Sainte-Colombe|Treilles|Treize-Septiers|Treize-Vents|Trenal|Tressandans|Tresserre|Tressignaux|Triaize|Trichey|Triembach-au-Val|Trilla|Trimbach|Troguéry|Trois-Fonds|Trois-Vèvres|Tronchoy|Tronsanges|Tronville-en-Barrois|Trouans|Trouillas|Troussey|Trouvans|Trouy|Troyes|Troyon|Truchtersheim|Trucy-sur-Yonne|Trèbes|Trébabu|Trébeurden|Trébrivan|Trébry|Trébédan|Trédaniel|Trédarzec|Trédias|Trédrez-Locquémeau|Tréduder|Tréflaouénan|Tréflez|Tréflévénez|Tréfumel|Trégarantec|Trégarvan|Trégastel|Tréglamus|Tréglonou|Trégomeur|Trégonneau|Trégourez|Trégrom|Tréguennec|Trégueux|Tréguidel|Tréguier|Trégunc|Trélazé|Trélivan|Trélévern|Trémaouézan|Trémargat|Trémel|Trémentines|Trémeur|Trémont-sur-Saulx|Trémonzey|Trémorel|Trémouilles|Trémuson|Tréméoc|Tréméreuc|Tréméven|Tréméven|Tréogan|Tréogat|Tréouergat|Trépot|Trésauvaux|Tréveneuc|Tréveray|Trévillach|Tréville|Trévillers|Trévou-Tréguignec|Trévron|Trévé|Trévérec|Tréziers|Trézilidé|Trézény|Tuffalun|Turgy|Turny|Turquant|Ubexy|Ucel|Ugny-sur-Meuse|Uhlwiller|Uhrwiller|Unienville|Ur|Urbanya|Urbeis|Urciers|Uriménil|Urmatt|Urtaca|Urtière|Urville|Urville|Urzy|Utelle|Uttenheim|Uttenhoffen|Uttwiller|Uxegney|Uxelles|Uzay-le-Venon|Uzel|Uzelle|Uzemain|Uzer|Vabres-l'Abbaye|Vacherauville|Vadans|Vadelaincourt|Vadonville|Vagnas|Vagney|Vailhourles|Vailly|Vailly-sur-Sauldre|Vaire|Vairé|Val Suran|Val d'Erdre-Auxence|Val d'Issoire|Val de Lambronne|Val-Fouzon|Val-Sonnette|Val-d'Auzon|Val-d'Oire-et-Gartempe|Val-d'Ornain|Val-d'Épy|Val-de-Dagne|Val-de-Mercy|Val-de-Moder|Val-de-Roulans|Val-du-Faby|Val-du-Layon|Valbois|Valbonne|Valcebollère|Valdahon|Valdeblore|Valderoure|Valempoulières|Valentigney|Valençay|Valff|Valfroicourt|Valgorge|Vallan|Vallant-Saint-Georges|Vallauris|Valle-d'Alesani|Valle-d'Orezza|Valle-di-Campoloro|Vallecalle|Vallenay|Vallentigny|Valleroy|Valleroy-aux-Saules|Valleroy-le-Sec|Vallery|Vallica|Vallière|Vallières|Vallon-Pont-d'Arc|Vallées-d'Antraigues-Asperjoc|Valmanya|Valmigère|Valonne|Valoreille|Valravillon|Vals-les-Bains|Valvignères|Valzergues|Valzin en Petite Montagne|Vandenesse|Vandoncourt|Vanlay|Vannoz|Vanosc|Vareilles|Varennes|Varennes-Vauzelles|Varennes-en-Argonne|Varennes-lès-Narcy|Varennes-sur-Loire|Varmonzey|Varnéville|Varrains|Vasselay|Vassincourt|Vassy-sous-Pisy|Vatan|Vaubecourt|Vaubexy|Vauchassis|Vauchonvilliers|Vauclaix|Vaucluse|Vauclusotte|Vaucogne|Vaucouleurs|Vaudelnay|Vaudes|Vaudeurs|Vaudevant|Vaudeville-le-Haut|Vaudoncourt|Vaudoncourt|Vaudrey|Vaudrivillers|Vaudéville|Vaufrey|Vaulry|Vault-de-Lugny|Vaumort|Vaupoisson|Vauquois|Vaureilles|Vaux d'Amognes|Vaux-et-Chantegrue|Vaux-lès-Palameix|Vaux-lès-Saint-Claude|Vaux-sur-Poligny|Vavincourt|Vaxoncourt|Vayres|Veaugues|Vebron|Vecoux|Velaines|Velesmes-Essarts|Vellerot-lès-Belvoir|Vellerot-lès-Vercel|Velles|Vellevans|Velone-Orneto|Velotte-et-Tatignécourt|Venaco|Venansault|Venanson|Vence|Vendenheim|Vendeuvre-sur-Barse|Vendrennes|Vendœuvres|Venesmes|Venise|Venizy|Vennans|Vennes|Venouse|Venoy|Ventalon en Cévennes|Ventenac-Cabardès|Ventenac-en-Minervois|Ventiseri|Ventron|Venzolasca|Vercel-Villedieu-le-Camp|Verdigny|Verdun|Verdun-en-Lauragais|Verdèse|Vereaux|Verges|Vergigny|Vergranne|Verlin|Vermenton|Vernais|Vernantes|Vernantois|Verne|Verneiges|Vernet-les-Bains|Verneuil|Verneuil-Moustiers|Verneuil-sur-Igneraie|Verneuil-sur-Vienne|Vernierfontaine|Vernoil-le-Fourrier|Vernois-lès-Belvoir|Vernon|Vernonvilliers|Vernosc-lès-Annonay|Vernoux-en-Vivarais|Vernoy|Verpillières-sur-Ource|Verricourt|Verrie|Verrières|Verrières|Verrières-de-Joux|Verrières-en-Anjou|Vers-en-Montagne|Vers-sous-Sellières|Versols-et-Lapeyre|Vertamboz|Vervezelle|Verzeille|Vescles|Vescovato|Vesdun|Vesseaux|Veuil|Vevy|Vexaincourt|Veyrac|Veyras|Veyreau|Vezins|Vezzani|Viala-du-Pas-de-Jaux|Viala-du-Tarn|Vialas|Vicherey|Vicq-Exemplet|Vicq-sur-Nahon|Videix|Vieilley|Vielmanay|Vienville|Viersat|Vierzon|Vieux-Charmont|Vieux-Moulin|Vigeville|Vignale|Vigneulles-lès-Hattonchâtel|Vignevieille|Vignol|Vignot|Vignoux-sous-les-Aix|Vignoux-sur-Barangeon|Vigoulant|Vigoux|Vijon|Vildé-Guingalan|Villabon|Villacerf|Villalier|Villanière|Villapourçon|Villar-Saint-Anselme|Villar-en-Val|Villard|Villard-Saint-Sauveur|Villardebelle|Villardonnel|Villards-d'Héria|Villars-Saint-Georges|Villars-lès-Blamont|Villars-sous-Dampjoux|Villars-sous-Écot|Villarzel-Cabardès|Villarzel-du-Razès|Villasavary|Villautou|Ville-Langy|Ville-devant-Belrain|Ville-devant-Chaumont|Ville-di-Paraso|Ville-di-Pietrabugno|Ville-en-Woëvre|Ville-sous-la-Ferté|Ville-sur-Arce|Ville-sur-Cousances|Ville-sur-Illon|Ville-sur-Saulx|Ville-sur-Terre|Villebazy|Villebernier|Villeblevin|Villebougis|Villecelin|Villechétif|Villechétive|Villecien|Villecomtal|Villedaigne|Villedieu-sur-Indre|Villedubert|Villefargeau|Villefavard|Villefloure|Villefort|Villefort|Villefranche-de-Conflent|Villefranche-de-Rouergue|Villefranche-sur-Mer|Villegailhenc|Villegenon|Villegly|Villegouin|Villelongue-d'Aude|Villelongue-de-la-Salanque|Villelongue-dels-Monts|Villeloup|Villemagne|Villemanoche|Villemereuil|Villemoiron-en-Othe|Villemolaque|Villemorien|Villemoustaussou|Villemoyenne|Villenauxe-la-Grande|Villenavotte|Villeneuve|Villeneuve-Loubet|Villeneuve-Minervois|Villeneuve-Saint-Salves|Villeneuve-au-Chemin|Villeneuve-d'Amont|Villeneuve-d'Aval|Villeneuve-de-Berg|Villeneuve-de-la-Raho|Villeneuve-l'Archevêque|Villeneuve-la-Comptal|Villeneuve-la-Dondagre|Villeneuve-la-Guyard|Villeneuve-la-Rivière|Villeneuve-les-Genêts|Villeneuve-lès-Montréal|Villeneuve-sous-Pymont|Villeneuve-sur-Cher|Villeneuve-sur-Yonne|Villentrois-Faverolles-en-Berry|Villeperrot|Villepinte|Villequiers|Villeret|Villerouge-Termenès|Villeroy|Villeroy-sur-Méholle|Villers|Villers-Buzon|Villers-Chief|Villers-Farlay|Villers-Grélot|Villers-Robert|Villers-Saint-Martin|Villers-aux-Vents|Villers-devant-Dun|Villers-la-Combe|Villers-le-Lac|Villers-le-Sec|Villers-les-Bois|Villers-lès-Mangiennes|Villers-sous-Chalamont|Villers-sous-Pareid|Villers-sur-Meuse|Villerserine|Villery|Villesiscle|Villespy|Villesèquelande|Villethierry|Villetritouls|Villette-lès-Arbois|Villette-lès-Dole|Villette-sur-Aube|Villevallier|Villevieux|Villevocance|Villiers|Villiers-Herbisse|Villiers-Louis|Villiers-Saint-Benoît|Villiers-Vineux|Villiers-le-Bois|Villiers-les-Hauts|Villiers-sous-Praslin|Villon|Villoncourt|Villotte|Villotte-devant-Louppy|Villotte-sur-Aire|Villouxel|Villy|Villy-en-Trodes|Villy-le-Bois|Villy-le-Maréchal|Villé|Vilosnes-Haraumont|Vimenet|Viménil|Vinassan|Vincelles|Vincelottes|Vincent-Froideville|Vincey|Vinets|Vinezac|Vingrau|Vinneuf|Vinon|Vinzieux|Vinça|Viocourt|Vioménil|Vion|Vira|Vireaux|Virey-sous-Bar|Viry|Vitreux|Vitry-Laché|Vitry-le-Croisé|Vittarville|Vittel|Vivario|Viviers|Viviers|Viviers-le-Gras|Viviers-lès-Offroicourt|Viviers-sur-Artaut|Viviez|Vivy|Vivès|Vix|Viâpres-le-Petit|Viéthorey|Vocance|Vogüé|Void-Vacon|Voigny|Voillans|Voires|Voisines|Voiteur|Volksberg|Volpajola|Vomécourt|Vomécourt-sur-Madon|Vorges-les-Pins|Vorly|Vornay|Vosbles-Valfin|Vosnon|Vougrey|Vouillon|Vouillé-les-Marais|Voujeaucourt|Voutenay-sur-Cure|Vouthon-Bas|Vouthon-Haut|Vouvant|Vouxey|Vouzeron|Voué|Vriange|Vroville|Vrécourt|Vuillafans|Vuillecin|Vulaines|Vulvoz|Vyt-lès-Belvoir|Véraza|Véria|Véron|Véry|Vézannes|Vézelay|Vézinnes|Vœllerdingen|Wahlenheim|Walbourg|Waldersbach|Waldhambach|Waldolwisheim|Waly|Wangen|Wangenbourg-Engenthal|Warcq|Wasselonne|Watronville|Wavrille|Weinbourg|Weislingen|Weitbruch|Weiterswiller|Westhoffen|Westhouse|Westhouse-Marmoutier|Weyer|Weyersheim|Wildersbach|Willeroncourt|Willgottheim|Wimmenau|Windstein|Wingen|Wingen-sur-Moder|Wintershouse|Wintzenbach|Wintzenheim-Kochersberg|Wisches|Wisembach|Wiseppe|Wissembourg|Witternheim|Wittersheim|Wittisheim|Wiwersheim|Woimbey|Wolfisheim|Wolfskirchen|Wolschheim|Wolxheim|Woël|Wœrth|Xaffévillers|Xamontarupt|Xanton-Chassenon|Xaronval|Xertigny|Xivray-et-Marvoisin|Yffiniac|Yrouerre|Yvias|Yvignac-la-Tour|Yzernay|Yèvres-le-Petit|Zalana|Zehnacker|Zeinheim|Zellwiller|Zilia|Zincourt|Zinswiller|Zittersheim|Zuani|Èvres|Èze|Échay|Échenans|Échevannes|Éclance|Éclans-Nenon|Écleux|École-Valentin|Écot|Écouflant|Écrille|Écueillé|Écuillé|Écurcey|Écurey-en-Verdunois|Égat|Égleny|Égriselles-le-Bocage|Éguilly-sous-Bois|Éguzon-Chantôme|Éloyes|Émagny|Épagne|Épenouse|Épenoy|Épeugney|Épieds|Épiez-sur-Meuse|Épinal|Épineau-les-Voves|Épineuil|Épineuil-le-Fleuriel|Épinonville|Épothémont|Équevillon|Érize-Saint-Dizier|Érize-la-Brûlée|Érize-la-Petite|Éréac|Étables|Étain|Étais-la-Sauvin|Étalans|Étaule|Éternoz|Étigny|Étival|Étival-Clairefontaine|Étivey|Éton|Étourvy|Étouvans|Étrabonne|Étrappe|Étray|Étraye|Étrechet|Étrelles-sur-Aube|Étrepigney|Étriché|Étréchy|Étupes|Évans|Évaux-et-Ménil|Évaux-les-Bains|Évillers|Évran|Évry|Île-Molène|Île-Tudy|Île-de-Batz|Ain|Allier|Alpes-de-Haute-Provence|Ardennes|Ariège|Bouches-du-Rhône|Cantal|Charente|Charente-Maritime|Corrèze|Corse-du-Sud|Côte-d'Or|Deux-Sèvres|Dordogne|Drôme|Eure-et-Loir|Gard|Gers|Gironde|Haut-Rhin|Haute-Garonne|Haute-Loire|Haute-Marne|Haute-Savoie|Haute-Saône|Hautes-Alpes|Hautes-Pyrénées|Hérault|Ille-et-Vilaine|Indre-et-Loire|Isère|Landes|Loir-et-Cher|Loire|Loire-Atlantique|Loiret|Lot|Lot-et-Garonne|Marne|Mayenne|Meurthe-et-Moselle|Morbihan|Moselle|Puy-de-Dôme|Pyrénées-Atlantiques|Rhône|Sarthe|Savoie|Saône-et-Loire|Tarn|Tarn-et-Garonne|Territoire de Belfort|Var|Vaucluse|Vienne|Hauts-de-France|Normandie|Île-de-France"
      ]
     },
     "execution_count": 15,
     "metadata": {},
     "output_type": "execute_result"
    }
   ],
   "source": [
    "from itertools import chain\n",
    "\n",
    "with open(\"../test.pickle\", \"rb\") as file:\n",
    "    epci_to_comm = pickle.load(file)\n",
    "\n",
    "\n",
    "Territory.from_names(*tuple(chain(*epci_to_comm.values())))"
   ]
  },
  {
   "cell_type": "code",
   "execution_count": 16,
   "metadata": {},
   "outputs": [
    {
     "data": {
      "text/plain": [
       "<Partition.DEP: 2>"
      ]
     },
     "execution_count": 16,
     "metadata": {},
     "output_type": "execute_result"
    }
   ],
   "source": [
    "min(ter).partition_type"
   ]
  },
  {
   "cell_type": "code",
   "execution_count": 17,
   "metadata": {},
   "outputs": [
    {
     "data": {
      "text/plain": [
       "<Partition.DEP: 2>"
      ]
     },
     "execution_count": 17,
     "metadata": {},
     "output_type": "execute_result"
    }
   ],
   "source": [
    "ter.type"
   ]
  },
  {
   "cell_type": "code",
   "execution_count": 28,
   "metadata": {},
   "outputs": [
    {
     "data": {
      "text/plain": [
       "1155"
      ]
     },
     "execution_count": 28,
     "metadata": {},
     "output_type": "execute_result"
    }
   ],
   "source": [
    "from territories import Partition\n",
    "\n",
    "s = random.sample(Territory.tree.nodes(), 1000)\n",
    "ter = Territory.from_names(*(ter.tu_id for ter in s))\n",
    "\n",
    "len([tu.tu_id for tu in ter.descendants(include_itself=True) if tu.partition_type == Partition.COM])"
   ]
  },
  {
   "cell_type": "code",
   "execution_count": 31,
   "metadata": {},
   "outputs": [
    {
     "data": {
      "text/plain": [
       "[{'name': 'Rhône',\n",
       "  'tu_id': 'DEP:69',\n",
       "  'atomic': False,\n",
       "  'partition_type': 'DEP',\n",
       "  'postal_code': None}]"
      ]
     },
     "execution_count": 31,
     "metadata": {},
     "output_type": "execute_result"
    }
   ],
   "source": [
    "import gzip\n",
    "import json\n",
    "\n",
    "# from territories import Territory\n",
    "\n",
    "\n",
    "\n",
    "\n",
    "t = Territory.from_names(\"DEP:69\")\n",
    "s = json.dumps(t)\n",
    "\n",
    "json.loads(s)"
   ]
  },
  {
   "cell_type": "code",
   "execution_count": 1,
   "metadata": {},
   "outputs": [
    {
     "data": {
      "text/plain": [
       "['6734a5a0ff9f2ae7ce1b359c', 'article-document-press-v3']"
      ]
     },
     "execution_count": 1,
     "metadata": {},
     "output_type": "execute_result"
    }
   ],
   "source": [
    "import base64\n",
    "\n",
    "enc = lambda s : \"https://platform.datapolitics.fr/territoires/\" + base64.b64encode(s.encode('utf-8')).decode('utf-8')\n",
    "dec = lambda x: base64.b64decode(x.encode()).decode('utf-8').split(':')\n",
    "\n",
    "hid = 'NjczNGE1YTBmZjlmMmFlN2NlMWIzNTljOmFydGljbGUtZG9jdW1lbnQtcHJlc3MtdjM='\n",
    "\n",
    "dec(hid)"
   ]
  },
  {
   "cell_type": "code",
   "execution_count": 8,
   "metadata": {},
   "outputs": [
    {
     "name": "stdout",
     "output_type": "stream",
     "text": [
      "e, with len 19\n",
      "k, with len 19\n",
      "i, with len 19\n",
      "u, with len 19\n",
      "d, with len 19\n",
      "z, with len 19\n",
      "o, with len 19\n",
      "g, with len 19\n",
      "s, with len 19\n",
      "f, with len 19\n",
      "r, with len 19\n"
     ]
    },
    {
     "ename": "RuntimeError",
     "evalue": "Set changed size during iteration",
     "output_type": "error",
     "traceback": [
      "\u001b[0;31m---------------------------------------------------------------------------\u001b[0m",
      "\u001b[0;31mRuntimeError\u001b[0m                              Traceback (most recent call last)",
      "Cell \u001b[0;32mIn[8], line 5\u001b[0m\n\u001b[1;32m      3\u001b[0m \u001b[38;5;28;01mwhile\u001b[39;00m \u001b[38;5;28;01mTrue\u001b[39;00m:\n\u001b[1;32m      4\u001b[0m     \u001b[38;5;28;01mtry\u001b[39;00m:\n\u001b[0;32m----> 5\u001b[0m         k \u001b[38;5;241m=\u001b[39m \u001b[38;5;28;43mnext\u001b[39;49m\u001b[43m(\u001b[49m\u001b[43mh\u001b[49m\u001b[43m)\u001b[49m\n\u001b[1;32m      6\u001b[0m     \u001b[38;5;28;01mexcept\u001b[39;00m \u001b[38;5;167;01mStopIteration\u001b[39;00m:\n\u001b[1;32m      7\u001b[0m         \u001b[38;5;28;01mbreak\u001b[39;00m\n",
      "\u001b[0;31mRuntimeError\u001b[0m: Set changed size during iteration"
     ]
    }
   ],
   "source": [
    "s = {i for i in 'azertyyuiopqsdfghjkl'}\n",
    "h = iter(s)\n",
    "while True:\n",
    "    try:\n",
    "        k = next(h)\n",
    "    except StopIteration:\n",
    "        break\n",
    "    print(f\"{k}, with len {len(s)}\")\n",
    "    if k == 'r':\n",
    "        s.remove('p')\n",
    "        s.remove('q')\n",
    "        s.remove('s')\n",
    "        s.remove('d')"
   ]
  }
 ],
 "metadata": {
  "kernelspec": {
   "display_name": ".venv",
   "language": "python",
   "name": "python3"
  },
  "language_info": {
   "codemirror_mode": {
    "name": "ipython",
    "version": 3
   },
   "file_extension": ".py",
   "mimetype": "text/x-python",
   "name": "python",
   "nbconvert_exporter": "python",
   "pygments_lexer": "ipython3",
   "version": "3.12.3"
  }
 },
 "nbformat": 4,
 "nbformat_minor": 2
}
