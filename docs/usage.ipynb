{
 "cells": [
  {
   "cell_type": "markdown",
   "metadata": {},
   "source": [
    "Usage of the package\n",
    "========\n",
    "\n",
    "First, some imports"
   ]
  },
  {
   "cell_type": "code",
   "execution_count": 1,
   "metadata": {},
   "outputs": [],
   "source": [
    "import gzip\n",
    "import pickle\n",
    "import random\n",
    "from collections import namedtuple\n",
    "\n",
    "from territories import Territory, MissingTreeCache"
   ]
  },
  {
   "cell_type": "markdown",
   "metadata": {},
   "source": [
    "## Creation of the tree\n",
    "\n",
    "The first step is to create a tree of known entities. This can be a very compute intensive task, depending on the tree size. That is why, by default, once created, the tree is stored on disk.\n",
    "\n",
    "Here we will create a very simple tree out of the **tree.txt** file."
   ]
  },
  {
   "cell_type": "code",
   "execution_count": 2,
   "metadata": {},
   "outputs": [],
   "source": [
    "Node = namedtuple('Node', ('id', 'parent_id', 'label', 'level'))\n",
    "split = lambda x: (arg if arg != 'null' else None for arg in x[:-1].split('; '))\n",
    "\n",
    "try:\n",
    "    Territory.load_tree()\n",
    "except MissingTreeCache:\n",
    "    with open(\"tree.txt\", \"r\") as file:\n",
    "        lines = file.readlines()\n",
    "        stream = ([Node(*split(x) )for x in lines])\n",
    "        Territory.build_tree(data_stream=stream, save_tree=False)"
   ]
  },
  {
   "cell_type": "markdown",
   "metadata": {},
   "source": [
    "Then, you can start to create territories from arbitrary territoiral units."
   ]
  },
  {
   "cell_type": "markdown",
   "metadata": {},
   "source": [
    "Entities associated territories are represented in an efficient way : if all leaves of a parent node are included in the territory, they are simply replaced by their parent node."
   ]
  },
  {
   "cell_type": "code",
   "execution_count": 3,
   "metadata": {},
   "outputs": [
    {
     "name": "stdout",
     "output_type": "stream",
     "text": [
      "Montamisé | COM\n",
      "Bénesse-lès-Dax | COM\n",
      "Morogues | COM\n",
      "Saint-Jean-de-Maurienne | COM\n",
      "Margon | COM\n",
      "Rancourt | COM\n",
      "Soucia | COM\n",
      "Crèvecœur-le-Grand | COM\n",
      "Fos | COM\n",
      "Champfrémont | COM\n",
      "Champcerie | COM\n",
      "Saint-Simon | COM\n"
     ]
    }
   ],
   "source": [
    "# some node of the tree\n",
    "print('\\n'.join([f\"{e.name} | {e.partition_type}\" for e in random.sample(Territory.tree.nodes(), 12)]))"
   ]
  },
  {
   "cell_type": "code",
   "execution_count": 4,
   "metadata": {},
   "outputs": [],
   "source": [
    "with open(\"tree_large.gzip\", \"rb\") as file:\n",
    "    lines = pickle.loads(gzip.decompress(file.read()))\n",
    "\n",
    "stream = ([Node(*split(x) )for x in lines])\n",
    "Territory.build_tree(data_stream=stream, save_tree=False)\n",
    "\n",
    "a = Territory.from_name(\"COM:69123\", \"COM:93055\", \"COM:94052\")\n",
    "b = Territory.from_name(\"COM:27429\", \"REG:84\", \"DEP:75\")\n",
    "c = Territory.from_name(\"COM:38185\", \"COM:31555\", \"REG:11\")\n",
    "d = Territory.from_name(\"COM:33063\", \"COM:13055\", \"REG:28\")\n",
    "e = Territory.from_name(\"COM:35238\", \"COM:35047\", \"DEP:27\")\n",
    "f = Territory.from_name(\"COM:59350\", \"COM:38442\", \"REG:53\")"
   ]
  },
  {
   "cell_type": "markdown",
   "metadata": {},
   "source": [
    "## Operations on entities\n",
    "\n",
    "Usual operation on territories works as expected :"
   ]
  },
  {
   "cell_type": "code",
   "execution_count": 5,
   "metadata": {},
   "outputs": [
    {
     "name": "stdout",
     "output_type": "stream",
     "text": [
      "Pantin|Lyon|Nogent-sur-Marne Toulouse|Grenoble|Île-de-France\n",
      "Toulouse|Grenoble|Lyon|Île-de-France\n"
     ]
    }
   ],
   "source": [
    "# addition\n",
    "\n",
    "print(a, c)\n",
    "print(a + c) # This simplify to France"
   ]
  },
  {
   "cell_type": "code",
   "execution_count": 6,
   "metadata": {},
   "outputs": [
    {
     "name": "stdout",
     "output_type": "stream",
     "text": [
      "Pantin|Lyon|Nogent-sur-Marne Normandie|Bordeaux|Marseille\n",
      "Pantin|Lyon|Nogent-sur-Marne\n"
     ]
    }
   ],
   "source": [
    "# substraction\n",
    "\n",
    "print(a, d)\n",
    "print(a - d) # only Saint Etienne remains"
   ]
  },
  {
   "cell_type": "markdown",
   "metadata": {},
   "source": [
    "More importantly, sets operations are also supported"
   ]
  },
  {
   "cell_type": "code",
   "execution_count": 7,
   "metadata": {},
   "outputs": [
    {
     "name": "stdout",
     "output_type": "stream",
     "text": [
      "Intersection of Pantin|Lyon|Nogent-sur-Marne and Normandie|Bordeaux|Marseille is {}\n",
      "Union of Toulouse|Grenoble|Île-de-France and Bretagne|Lille|Saint-Pierre-de-Chartreuse is Île-de-France|Saint-Pierre-de-Chartreuse|Toulouse|Bretagne|Grenoble|Lille\n"
     ]
    }
   ],
   "source": [
    "# intersection\n",
    "print(f\"Intersection of {a} and {d} is {a & d}\")\n",
    "\n",
    "# union\n",
    "print(f\"Union of {c} and {f} is {f | c}\")"
   ]
  },
  {
   "cell_type": "markdown",
   "metadata": {},
   "source": [
    "Territorial units may have parents or children, but Territory do not. As a territory may be formed of several territorial units, it has a LCA, a Lowest Common Ancestor."
   ]
  },
  {
   "cell_type": "code",
   "execution_count": 15,
   "metadata": {},
   "outputs": [
    {
     "data": {
      "text/plain": [
       "France"
      ]
     },
     "execution_count": 15,
     "metadata": {},
     "output_type": "execute_result"
    }
   ],
   "source": [
    "f.lowest_common_ancestor()"
   ]
  },
  {
   "cell_type": "markdown",
   "metadata": {},
   "source": [
    "You can easily retrieve all ancestors of a territory with the `.ancestors()` method :"
   ]
  },
  {
   "cell_type": "code",
   "execution_count": 16,
   "metadata": {},
   "outputs": [
    {
     "data": {
      "text/plain": [
       "{Auvergne-Rhône-Alpes,\n",
       " France,\n",
       " Rhône,\n",
       " Seine-Saint-Denis,\n",
       " Val-de-Marne,\n",
       " Île-de-France}"
      ]
     },
     "execution_count": 16,
     "metadata": {},
     "output_type": "execute_result"
    }
   ],
   "source": [
    "a.ancestors()"
   ]
  }
 ],
 "metadata": {
  "kernelspec": {
   "display_name": ".venv",
   "language": "python",
   "name": "python3"
  },
  "language_info": {
   "codemirror_mode": {
    "name": "ipython",
    "version": 3
   },
   "file_extension": ".py",
   "mimetype": "text/x-python",
   "name": "python",
   "nbconvert_exporter": "python",
   "pygments_lexer": "ipython3",
   "version": "3.12.3"
  }
 },
 "nbformat": 4,
 "nbformat_minor": 2
}
