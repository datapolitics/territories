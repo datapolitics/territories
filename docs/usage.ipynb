{
 "cells": [
  {
   "cell_type": "markdown",
   "metadata": {},
   "source": [
    "Usage of the package\n",
    "========\n",
    "\n",
    "First, some imports"
   ]
  },
  {
   "cell_type": "code",
   "execution_count": 1,
   "metadata": {},
   "outputs": [],
   "source": [
    "import gzip\n",
    "import pickle\n",
    "import random\n",
    "from collections import namedtuple\n",
    "\n",
    "from territories import Territory, MissingTreeCache"
   ]
  },
  {
   "cell_type": "markdown",
   "metadata": {},
   "source": [
    "## Creation of the tree\n",
    "\n",
    "The first step is to create a tree of known entities. This can be a very compute intensive task, depending on the tree size. That is why, by default, once created, the tree is stored on disk.\n",
    "\n",
    "Here we will create a very simple tree out of the **tree.txt** file."
   ]
  },
  {
   "cell_type": "code",
   "execution_count": 2,
   "metadata": {},
   "outputs": [],
   "source": [
    "Node = namedtuple('Node', ('id', 'parent_id', 'label', 'level'))\n",
    "split = lambda x: (arg if arg != 'null' else None for arg in x[:-1].split('; '))\n",
    "\n",
    "try:\n",
    "    Territory.load_tree()\n",
    "except MissingTreeCache:\n",
    "    with open(\"tree.txt\", \"r\") as file:\n",
    "        lines = file.readlines()\n",
    "        stream = ([Node(*split(x) )for x in lines])\n",
    "        Territory.build_tree(data_stream=stream, save_tree=False)"
   ]
  },
  {
   "cell_type": "markdown",
   "metadata": {},
   "source": [
    "Then, you can start to create territories from arbitrary territoiral units."
   ]
  },
  {
   "cell_type": "markdown",
   "metadata": {},
   "source": [
    "Entities associated territories are represented in an efficient way : if all leaves of a parent node are included in the territory, they are simply replaced by their parent node."
   ]
  },
  {
   "cell_type": "code",
   "execution_count": 3,
   "metadata": {},
   "outputs": [
    {
     "name": "stdout",
     "output_type": "stream",
     "text": [
      "Brissay-Choigny | COM\n",
      "Berméricourt | COM\n",
      "Saint-Bonnet-de-Salers | COM\n",
      "Magny-Jobert | COM\n",
      "Cassaignes | COM\n",
      "Bassoncourt | COM\n",
      "Artigue | COM\n",
      "Marsonnas | COM\n",
      "Hodenc-l'Évêque | COM\n",
      "Mantes-la-Jolie | COM\n",
      "Illartein | COM\n",
      "Le Dorat | COM\n"
     ]
    }
   ],
   "source": [
    "# some node of the tree\n",
    "print('\\n'.join([f\"{e.name} | {e.partition_type}\" for e in random.sample(Territory.tree.nodes(), 12)]))"
   ]
  },
  {
   "cell_type": "code",
   "execution_count": 4,
   "metadata": {},
   "outputs": [],
   "source": [
    "with open(\"tree_large.gzip\", \"rb\") as file:\n",
    "    lines = pickle.loads(gzip.decompress(file.read()))\n",
    "\n",
    "stream = ([Node(*split(x) )for x in lines])\n",
    "Territory.build_tree(data_stream=stream)\n",
    "\n",
    "a = Territory.from_names(\"COM:69123\", \"COM:93055\", \"COM:94052\")\n",
    "b = Territory.from_names(\"COM:27429\", \"REG:84\", \"DEP:75\")\n",
    "c = Territory.from_names(\"COM:38185\", \"COM:31555\", \"REG:11\")\n",
    "d = Territory.from_names(\"COM:33063\", \"COM:13055\", \"REG:28\")\n",
    "e = Territory.from_names(\"COM:35238\", \"COM:35047\", \"DEP:27\")\n",
    "f = Territory.from_names(\"COM:59350\", \"COM:38442\", \"REG:53\")"
   ]
  },
  {
   "cell_type": "code",
   "execution_count": 5,
   "metadata": {},
   "outputs": [
    {
     "data": {
      "text/plain": [
       "[Colombier-Saugnieu,\n",
       " Toussieu,\n",
       " Ternay,\n",
       " Solaize,\n",
       " Simandres,\n",
       " Sérézin-du-Rhône,\n",
       " Sathonay-Village,\n",
       " Sathonay-Camp,\n",
       " Saint-Symphorien-d'Ozon,\n",
       " Saint-Priest,\n",
       " Saint-Pierre-de-Chandieu,\n",
       " Saint-Laurent-de-Mure,\n",
       " Saint-Bonnet-de-Mure,\n",
       " Rillieux-la-Pape,\n",
       " Pusignan,\n",
       " Montanay,\n",
       " Mions,\n",
       " Meyzieu,\n",
       " Marennes,\n",
       " Jons,\n",
       " Jonage,\n",
       " Genay,\n",
       " Genas,\n",
       " Feyzin,\n",
       " Décines-Charpieu,\n",
       " Corbas,\n",
       " Communay,\n",
       " Chassieu,\n",
       " Chaponnay,\n",
       " Yzeron,\n",
       " Vourles,\n",
       " Villié-Morgon,\n",
       " Villeurbanne,\n",
       " Ville-sur-Jarnioux,\n",
       " Villefranche-sur-Saône,\n",
       " Villechenève,\n",
       " Vernay,\n",
       " Vernaison,\n",
       " Vénissieux,\n",
       " Vauxrenard,\n",
       " Vaux-en-Beaujolais,\n",
       " Vaulx-en-Velin,\n",
       " Vaugneray,\n",
       " Valsonne,\n",
       " Tupin-et-Semons,\n",
       " Trèves,\n",
       " La Tour-de-Salvagny,\n",
       " Thurins,\n",
       " Thizy-les-Bourgs,\n",
       " Theizé,\n",
       " Ternand,\n",
       " Tassin-la-Demi-Lune,\n",
       " Tarare,\n",
       " Taponas,\n",
       " Taluyers,\n",
       " Saint-Vincent-de-Reins,\n",
       " Saint-Vérand,\n",
       " Saint-Symphorien-sur-Coise,\n",
       " Saint-Romain-en-Gier,\n",
       " Saint-Romain-en-Gal,\n",
       " Saint-Romain-de-Popey,\n",
       " Saint-Romain-au-Mont-d'Or,\n",
       " Saint-Pierre-la-Palud,\n",
       " Sainte-Paule,\n",
       " Saint-Nizier-d'Azergues,\n",
       " Chabanière,\n",
       " Saint-Martin-en-Haut,\n",
       " Saint-Marcel-l'Éclairé,\n",
       " Saint-Laurent-de-Chamousset,\n",
       " Saint-Laurent-d'Agny,\n",
       " Saint-Lager,\n",
       " Saint-Just-d'Avray,\n",
       " Saint-Julien-sur-Bibost,\n",
       " Saint-Julien,\n",
       " Saint-Jean-la-Bussière,\n",
       " Saint-Jean-des-Vignes,\n",
       " Saint-Igny-de-Vers,\n",
       " Saint-Germain-Nuelles,\n",
       " Saint-Germain-au-Mont-d'Or,\n",
       " Saint-Georges-de-Reneins,\n",
       " Saint-Genis-les-Ollières,\n",
       " Saint-Genis-Laval,\n",
       " Saint-Genis-l'Argentière,\n",
       " Sainte-Foy-lès-Lyon,\n",
       " Sainte-Foy-l'Argentière,\n",
       " Saint-Forgeux,\n",
       " Saint-Fons,\n",
       " Saint-Étienne-la-Varenne,\n",
       " Saint-Étienne-des-Oullières,\n",
       " Saint-Didier-sur-Beaujeu,\n",
       " Saint-Didier-au-Mont-d'Or,\n",
       " Saint-Cyr-sur-le-Rhône,\n",
       " Saint-Cyr-le-Chatoux,\n",
       " Saint-Cyr-au-Mont-d'Or,\n",
       " Sainte-Consorce,\n",
       " Sainte-Colombe,\n",
       " Saint-Clément-sur-Valsonne,\n",
       " Saint-Clément-les-Places,\n",
       " Saint-Clément-de-Vers,\n",
       " Sainte-Catherine,\n",
       " Saint-Bonnet-le-Troncy,\n",
       " Saint-Bonnet-des-Bruyères,\n",
       " Saint-Appolinaire,\n",
       " Saint-André-la-Côte,\n",
       " Beauvallon,\n",
       " Souzy,\n",
       " Sourcieux-les-Mines,\n",
       " Soucieu-en-Jarrest,\n",
       " Savigny,\n",
       " Les Sauvages,\n",
       " Sarcey,\n",
       " Salles-Arbuissonnas-en-Beaujolais,\n",
       " Sain-Bel,\n",
       " Rontalon,\n",
       " Ronno,\n",
       " Rochetaillée-sur-Saône,\n",
       " Rivolet,\n",
       " Riverie,\n",
       " Régnié-Durette,\n",
       " Ranchal,\n",
       " Quincieux,\n",
       " Quincié-en-Beaujolais,\n",
       " Propières,\n",
       " Poule-les-Écharmeaux,\n",
       " Porte des Pierres Dorées,\n",
       " Vindry-sur-Turdine,\n",
       " Pommiers,\n",
       " Pomeys,\n",
       " Pollionnay,\n",
       " Poleymieux-au-Mont-d'Or,\n",
       " Pierre-Bénite,\n",
       " Le Perréon,\n",
       " Oullins,\n",
       " Orliénas,\n",
       " Odenas,\n",
       " Neuville-sur-Saône,\n",
       " La Mulatière,\n",
       " Mornant,\n",
       " Morancé,\n",
       " Montrottier,\n",
       " Montromant,\n",
       " Montmelas-Saint-Sorlin,\n",
       " Montagny,\n",
       " Deux-Grosnes,\n",
       " Moiré,\n",
       " Millery,\n",
       " Meys,\n",
       " Messimy,\n",
       " Meaux-la-Montagne,\n",
       " Marcy-l'Étoile,\n",
       " Marcy,\n",
       " Marcilly-d'Azergues,\n",
       " Marchampt,\n",
       " Lyon,\n",
       " Lucenay,\n",
       " Lozanne,\n",
       " Longessaigne,\n",
       " Longes,\n",
       " Loire-sur-Rhône,\n",
       " Lissieu,\n",
       " Limonest,\n",
       " Limas,\n",
       " Létra,\n",
       " Lentilly,\n",
       " Légny,\n",
       " Larajasse,\n",
       " Lantignié,\n",
       " Lancié,\n",
       " Lamure-sur-Azergues,\n",
       " Lachassagne,\n",
       " Lacenas,\n",
       " Jullié,\n",
       " Juliénas,\n",
       " Joux,\n",
       " Irigny,\n",
       " Haute-Rivoire,\n",
       " Les Halles,\n",
       " Les Haies,\n",
       " Grigny,\n",
       " Grézieu-le-Marché,\n",
       " Grézieu-la-Varenne,\n",
       " Grandris,\n",
       " Gleizé,\n",
       " Givors,\n",
       " Frontenas,\n",
       " Francheville,\n",
       " Fontaines-sur-Saône,\n",
       " Fontaines-Saint-Martin,\n",
       " Fleurieux-sur-l'Arbresle,\n",
       " Fleurieu-sur-Saône,\n",
       " Fleurie,\n",
       " Éveux,\n",
       " Émeringes,\n",
       " Écully,\n",
       " Échalas,\n",
       " Duerne,\n",
       " Dracé,\n",
       " Dommartin,\n",
       " Dième,\n",
       " Denicé,\n",
       " Dardilly,\n",
       " Curis-au-Mont-d'Or,\n",
       " Cublize,\n",
       " Craponne,\n",
       " Couzon-au-Mont-d'Or,\n",
       " Courzieu,\n",
       " Cours,\n",
       " Corcelles-en-Beaujolais,\n",
       " Condrieu,\n",
       " Collonges-au-Mont-d'Or,\n",
       " Coise,\n",
       " Cogny,\n",
       " Claveisolles,\n",
       " Civrieux-d'Azergues,\n",
       " Chiroubles,\n",
       " Chevinay,\n",
       " Chessy,\n",
       " Les Chères,\n",
       " Chénelette,\n",
       " Chénas,\n",
       " Chazay-d'Azergues,\n",
       " Chaussan,\n",
       " Châtillon,\n",
       " Chasselay,\n",
       " Charnay,\n",
       " Charly,\n",
       " Charentay,\n",
       " Charbonnières-les-Bains,\n",
       " Chaponost,\n",
       " La Chapelle-sur-Coise,\n",
       " Champagne-au-Mont-d'Or,\n",
       " Chamelet,\n",
       " Chambost-Longessaigne,\n",
       " Chambost-Allières,\n",
       " Cercié,\n",
       " Cenves,\n",
       " Caluire-et-Cuire,\n",
       " Cailloux-sur-Fontaines,\n",
       " Bully,\n",
       " Brussieu,\n",
       " Brullioles,\n",
       " Bron,\n",
       " Brindas,\n",
       " Brignais,\n",
       " Le Breuil,\n",
       " Val d'Oingt,\n",
       " Blacé,\n",
       " Bibost,\n",
       " Bessenay,\n",
       " Belmont-d'Azergues,\n",
       " Belleville-en-Beaujolais,\n",
       " Beaujeu,\n",
       " Bagnols,\n",
       " Azolette,\n",
       " Aveize,\n",
       " Arnas,\n",
       " Les Ardillats,\n",
       " L'Arbresle,\n",
       " Anse,\n",
       " Ancy,\n",
       " Ampuis,\n",
       " Amplepuis,\n",
       " Ambérieux,\n",
       " Alix,\n",
       " Albigny-sur-Saône,\n",
       " Aigueperse,\n",
       " Affoux]"
      ]
     },
     "execution_count": 5,
     "metadata": {},
     "output_type": "execute_result"
    }
   ],
   "source": [
    "Territory.successors(\"DEP:69\")"
   ]
  },
  {
   "cell_type": "markdown",
   "metadata": {},
   "source": [
    "## Operations on entities\n",
    "\n",
    "Usual operation on territories works as expected :"
   ]
  },
  {
   "cell_type": "code",
   "execution_count": 6,
   "metadata": {},
   "outputs": [
    {
     "name": "stdout",
     "output_type": "stream",
     "text": [
      "Nogent-sur-Marne|Pantin|Lyon Toulouse|Île-de-France|Grenoble\n",
      "Toulouse|Île-de-France|Grenoble|Lyon\n"
     ]
    }
   ],
   "source": [
    "# addition\n",
    "\n",
    "print(a, c)\n",
    "print(a + c) # This simplify to France"
   ]
  },
  {
   "cell_type": "code",
   "execution_count": 7,
   "metadata": {},
   "outputs": [
    {
     "name": "stdout",
     "output_type": "stream",
     "text": [
      "Nogent-sur-Marne|Pantin|Lyon Normandie|Marseille|Bordeaux\n",
      "Nogent-sur-Marne|Pantin|Lyon\n"
     ]
    }
   ],
   "source": [
    "# substraction\n",
    "\n",
    "print(a, d)\n",
    "print(a - d) # only Saint Etienne remains"
   ]
  },
  {
   "cell_type": "markdown",
   "metadata": {},
   "source": [
    "More importantly, sets operations are also supported"
   ]
  },
  {
   "cell_type": "code",
   "execution_count": 8,
   "metadata": {},
   "outputs": [
    {
     "name": "stdout",
     "output_type": "stream",
     "text": [
      "Intersection of Nogent-sur-Marne|Pantin|Lyon and Normandie|Marseille|Bordeaux is {}\n",
      "Union of Toulouse|Île-de-France|Grenoble and Bretagne|Lille|Saint-Pierre-de-Chartreuse is Saint-Pierre-de-Chartreuse|Bretagne|Île-de-France|Lille|Grenoble|Toulouse\n"
     ]
    }
   ],
   "source": [
    "# intersection\n",
    "print(f\"Intersection of {a} and {d} is {a & d}\")\n",
    "\n",
    "# union\n",
    "print(f\"Union of {c} and {f} is {f | c}\")"
   ]
  },
  {
   "cell_type": "markdown",
   "metadata": {},
   "source": [
    "Territorial units may have parents or children, but Territory do not. As a territory may be formed of several territorial units, it has a LCA, a Lowest Common Ancestor."
   ]
  },
  {
   "cell_type": "code",
   "execution_count": 9,
   "metadata": {},
   "outputs": [
    {
     "data": {
      "text/plain": [
       "France"
      ]
     },
     "execution_count": 9,
     "metadata": {},
     "output_type": "execute_result"
    }
   ],
   "source": [
    "f.lowest_common_ancestor()"
   ]
  },
  {
   "cell_type": "markdown",
   "metadata": {},
   "source": [
    "You can easily retrieve all ancestors of a territory with the `.ancestors()` method :"
   ]
  },
  {
   "cell_type": "code",
   "execution_count": 10,
   "metadata": {},
   "outputs": [
    {
     "data": {
      "text/plain": [
       "{Auvergne-Rhône-Alpes,\n",
       " France,\n",
       " Rhône,\n",
       " Seine-Saint-Denis,\n",
       " Val-de-Marne,\n",
       " Île-de-France}"
      ]
     },
     "execution_count": 10,
     "metadata": {},
     "output_type": "execute_result"
    }
   ],
   "source": [
    "a.ancestors()"
   ]
  }
 ],
 "metadata": {
  "kernelspec": {
   "display_name": ".venv",
   "language": "python",
   "name": "python3"
  },
  "language_info": {
   "codemirror_mode": {
    "name": "ipython",
    "version": 3
   },
   "file_extension": ".py",
   "mimetype": "text/x-python",
   "name": "python",
   "nbconvert_exporter": "python",
   "pygments_lexer": "ipython3",
   "version": "3.12.3"
  }
 },
 "nbformat": 4,
 "nbformat_minor": 2
}
