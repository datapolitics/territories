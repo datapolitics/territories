{
 "cells": [
  {
   "cell_type": "markdown",
   "metadata": {},
   "source": [
    "Usage\n",
    "========\n",
    "\n",
    "First, some imports"
   ]
  },
  {
   "cell_type": "code",
   "execution_count": 15,
   "metadata": {},
   "outputs": [],
   "source": [
    "import networkx as nx\n",
    "\n",
    "from territories import Part, Territory, Partition"
   ]
  },
  {
   "cell_type": "markdown",
   "metadata": {},
   "source": [
    "## Creation of the tree\n",
    "\n",
    "The first step is to create a tree of known entities. This can be a very compute intensive task, depending on the tree size.\n",
    "\n",
    "Here we'll create a very simple tree."
   ]
  },
  {
   "cell_type": "code",
   "execution_count": 16,
   "metadata": {},
   "outputs": [],
   "source": [
    "\n",
    "lyon = Territory(\"Lyon\")\n",
    "marseille = Territory(\"Marseille\", es_code=\"COM:2909\") # you can specify an ElasticSearch code\n",
    "paris = Territory(\"Paris\")\n",
    "nogent = Territory(\"Nogent\")\n",
    "pantin = Territory(\"Pantin\")\n",
    "villeurbane = Territory(\"Villeurbane\")\n",
    "sté = Territory(\"Saint Etienne\")\n",
    "\n",
    "metropole = Territory(\"Grand Lyon\", False, Type.EPCI)\n",
    "\n",
    "sud = Territory(\"Sud\", False, Type.REGION)\n",
    "idf = Territory(\"Île-de-France\", False, Type.REGION)\n",
    "rhone = Territory(\"Rhône\", False, Type.DEP)\n",
    "\n",
    "france = Territory(\"France\", False, Type.PAYS)\n",
    "\n",
    "\n",
    "# buiding the reference territory tree\n",
    "tree = nx.DiGraph([\n",
    "    (france, sud),\n",
    "    (france, idf),\n",
    "\n",
    "    (idf, nogent),\n",
    "    (idf, pantin),\n",
    "    (idf, paris),\n",
    "\n",
    "    (sud, marseille),\n",
    "    (sud, rhone),\n",
    "\n",
    "    (rhone, metropole),\n",
    "    (rhone, sté),\n",
    "\n",
    "    (metropole, villeurbane),\n",
    "    (metropole, lyon),\n",
    "])"
   ]
  },
  {
   "cell_type": "markdown",
   "metadata": {},
   "source": [
    "Once the tree is created, you need to assign it."
   ]
  },
  {
   "cell_type": "code",
   "execution_count": 17,
   "metadata": {},
   "outputs": [],
   "source": [
    "Entity.assign_tree(tree)"
   ]
  },
  {
   "cell_type": "markdown",
   "metadata": {},
   "source": [
    "Then, you can start to create territories from arbitrary entities."
   ]
  },
  {
   "cell_type": "code",
   "execution_count": 18,
   "metadata": {},
   "outputs": [],
   "source": [
    "a = Entity(sté, marseille)\n",
    "b = Entity(lyon, france)\n",
    "c = Entity(paris, nogent, pantin, lyon, lyon, metropole)\n",
    "d = Entity(lyon, villeurbane, marseille)\n",
    "e = Entity(rhone, idf)\n",
    "f = Entity(idf, marseille, metropole)"
   ]
  },
  {
   "cell_type": "markdown",
   "metadata": {},
   "source": [
    "Entities associated territories are represented in an efficient way : if all leaves of a parent node are included in the territory, they are simply replaced by their parent node."
   ]
  },
  {
   "cell_type": "code",
   "execution_count": 19,
   "metadata": {},
   "outputs": [
    {
     "data": {
      "text/plain": [
       "France"
      ]
     },
     "execution_count": 19,
     "metadata": {},
     "output_type": "execute_result"
    }
   ],
   "source": [
    "b # since Lyon is included in France, only France remains"
   ]
  },
  {
   "cell_type": "markdown",
   "metadata": {},
   "source": [
    "## Operations on entities\n",
    "\n",
    "Usual operation on territories works as expected :"
   ]
  },
  {
   "cell_type": "code",
   "execution_count": 20,
   "metadata": {},
   "outputs": [
    {
     "name": "stdout",
     "output_type": "stream",
     "text": [
      "Marseille|Saint Etienne Grand Lyon|Île-de-France\n",
      "France\n"
     ]
    }
   ],
   "source": [
    "# addition\n",
    "\n",
    "print(a, c)\n",
    "print(a + c) # This simplify to France"
   ]
  },
  {
   "cell_type": "code",
   "execution_count": 21,
   "metadata": {},
   "outputs": [
    {
     "name": "stdout",
     "output_type": "stream",
     "text": [
      "Marseille|Saint Etienne Grand Lyon|Marseille\n",
      "Saint Etienne\n"
     ]
    }
   ],
   "source": [
    "# substraction\n",
    "\n",
    "print(a, d)\n",
    "print(a - d) # only Saint Etienne remains"
   ]
  },
  {
   "cell_type": "markdown",
   "metadata": {},
   "source": [
    "More importantly, sets operations are also supported"
   ]
  },
  {
   "cell_type": "code",
   "execution_count": 36,
   "metadata": {},
   "outputs": [
    {
     "name": "stdout",
     "output_type": "stream",
     "text": [
      "Intersection of Marseille|Saint Etienne and Grand Lyon|Marseille is Marseille\n",
      "Union of Grand Lyon|Île-de-France and Grand Lyon|Marseille|Île-de-France is Grand Lyon|Marseille|Île-de-France\n"
     ]
    }
   ],
   "source": [
    "# intersection\n",
    "print(f\"Intersection of {a} and {d} is {a & d}\")\n",
    "\n",
    "# union\n",
    "print(f\"Union of {c} and {f} is {f | c}\")"
   ]
  }
 ],
 "metadata": {
  "kernelspec": {
   "display_name": ".venv",
   "language": "python",
   "name": "python3"
  },
  "language_info": {
   "codemirror_mode": {
    "name": "ipython",
    "version": 3
   },
   "file_extension": ".py",
   "mimetype": "text/x-python",
   "name": "python",
   "nbconvert_exporter": "python",
   "pygments_lexer": "ipython3",
   "version": "3.12.3"
  }
 },
 "nbformat": 4,
 "nbformat_minor": 2
}
